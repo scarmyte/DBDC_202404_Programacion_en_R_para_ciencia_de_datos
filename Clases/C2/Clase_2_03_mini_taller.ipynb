{
  "nbformat": 4,
  "nbformat_minor": 0,
  "metadata": {
    "colab": {
      "provenance": [],
      "include_colab_link": true
    },
    "kernelspec": {
      "name": "ir",
      "display_name": "R"
    }
  },
  "cells": [
    {
      "cell_type": "markdown",
      "metadata": {
        "id": "view-in-github",
        "colab_type": "text"
      },
      "source": [
        "<a href=\"https://colab.research.google.com/github/scarmyte/DBDC_202404_Programacion_en_R_para_ciencia_de_datos/blob/main/Clases/C2/Clase_2_03_mini_taller.ipynb\" target=\"_parent\"><img src=\"https://colab.research.google.com/assets/colab-badge.svg\" alt=\"Open In Colab\"/></a>"
      ]
    },
    {
      "cell_type": "markdown",
      "metadata": {
        "id": "x-GJ_euMr-qr"
      },
      "source": [
        "#**Mini taller 1**\n",
        "**Autor:** Miguel Jorquera Viguera <br>\n",
        "**E-mail:** majorquev@gmail.com<br>\n",
        "**Ayudante:** Rodrigo Morales<br>\n",
        "**E-mail ayudante:**  rumorale1@gmail.com<br>"
      ]
    },
    {
      "cell_type": "code",
      "source": [],
      "metadata": {
        "id": "QLHYdMp1RJtM"
      },
      "execution_count": null,
      "outputs": []
    },
    {
      "cell_type": "markdown",
      "metadata": {
        "collapsed": true,
        "id": "EZ0yOlnfm5Zb"
      },
      "source": [
        "\n",
        "Los dataframes corresponden a uno de los objetos más utilizados en R para analizar datos tabulares,\n",
        "por lo que se hace necesario en muchos casos realizar consultas a los datos que contiene un dataframe,\n",
        "(filtros, cruces de tablas, creación de columnas, etc). Por ahora veremos una de las formas más \"primitivas\" para la manipulación de un data.frame.\n",
        "\n",
        "Para ello consideremos el siguiente ejercicio.\n",
        "\n",
        "**Paso 1**\n",
        "Mediante la función rnorm(), genere una muestra aleatoria de 100 datos , con media 21 y desviación estándar 8 (más adelante veremos esto con un poco más de detalle), y guárdela en una variable llamada temp.\n",
        "\n"
      ]
    },
    {
      "cell_type": "code",
      "metadata": {
        "trusted": true,
        "id": "9f6cXmN3m5Zc",
        "outputId": "4f199979-4bca-4d07-f3d2-b0583c69f7f3",
        "colab": {
          "base_uri": "https://localhost:8080/",
          "height": 451
        }
      },
      "source": [
        "# 5.3 Mini taller --------\n",
        "# Paso 1\n",
        "temp <- rnorm(n = 100, mean = 21, sd = 8)\n",
        "temp\n"
      ],
      "execution_count": 1,
      "outputs": [
        {
          "output_type": "display_data",
          "data": {
            "text/html": [
              "<style>\n",
              ".list-inline {list-style: none; margin:0; padding: 0}\n",
              ".list-inline>li {display: inline-block}\n",
              ".list-inline>li:not(:last-child)::after {content: \"\\00b7\"; padding: 0 .5ex}\n",
              "</style>\n",
              "<ol class=list-inline><li>17.2320785275409</li><li>24.0521105011069</li><li>21.3815474413961</li><li>17.5907724949243</li><li>30.8926820870898</li><li>29.4388709689323</li><li>13.9077575123946</li><li>28.7386401623485</li><li>27.011796148698</li><li>23.796641339468</li><li>14.0126828850149</li><li>9.15514433756918</li><li>30.5710526051899</li><li>24.8728563009769</li><li>25.2701845692783</li><li>32.3501775052924</li><li>30.0678485911292</li><li>30.7930552298668</li><li>20.436614350931</li><li>34.7327316711101</li><li>8.40242814935749</li><li>33.8628273659332</li><li>17.1880000096434</li><li>3.30074266583366</li><li>18.5331412706531</li><li>1.22940310510206</li><li>9.45645309054173</li><li>30.4687837849163</li><li>29.7654490025053</li><li>26.2217700199306</li><li>20.0056831688067</li><li>25.7181868179987</li><li>24.2090526328944</li><li>32.3133416215011</li><li>26.7147956878095</li><li>20.9630401751077</li><li>14.7719378800305</li><li>18.6835221056945</li><li>21.3630980392824</li><li>21.931722839269</li><li>14.2791678350074</li><li>27.7388995785248</li><li>23.8677321708842</li><li>25.0392283209722</li><li>5.55001863023063</li><li>22.0438375328006</li><li>7.89702221052895</li><li>20.3336155327828</li><li>27.6377892344935</li><li>15.6604128119413</li><li>14.2891268000665</li><li>29.6571116419369</li><li>18.6502905048311</li><li>22.9764615665868</li><li>30.959676361573</li><li>16.0852371175322</li><li>1.23194841685964</li><li>10.8784469569648</li><li>25.6667957155463</li><li>20.1525577164304</li><li>23.4221652253963</li><li>9.34963166932094</li><li>24.4671222491915</li><li>20.3776687910716</li><li>9.02870900256088</li><li>17.4817565079985</li><li>1.32415747110416</li><li>12.1677673806342</li><li>20.7620680726913</li><li>23.3957980449675</li><li>17.0149046222471</li><li>16.2823076791711</li><li>24.5727587544389</li><li>19.6209096891154</li><li>32.7129195699946</li><li>17.8377944157778</li><li>30.1493202296247</li><li>17.2559040686438</li><li>20.8093549371708</li><li>36.7174615883409</li><li>10.5964573705279</li><li>19.428753431351</li><li>10.4902546345028</li><li>14.8485677200732</li><li>25.4511149617042</li><li>32.6778045523308</li><li>32.132999195797</li><li>16.8742623966282</li><li>29.3442115697007</li><li>23.6454999017324</li><li>20.0372729218811</li><li>24.5671505931195</li><li>25.7736092406374</li><li>21.143983328723</li><li>51.1951351334585</li><li>18.9749014922939</li><li>36.260331492086</li><li>22.8229389689871</li><li>22.7123415008625</li><li>25.1373885493354</li></ol>\n"
            ],
            "text/markdown": "1. 17.2320785275409\n2. 24.0521105011069\n3. 21.3815474413961\n4. 17.5907724949243\n5. 30.8926820870898\n6. 29.4388709689323\n7. 13.9077575123946\n8. 28.7386401623485\n9. 27.011796148698\n10. 23.796641339468\n11. 14.0126828850149\n12. 9.15514433756918\n13. 30.5710526051899\n14. 24.8728563009769\n15. 25.2701845692783\n16. 32.3501775052924\n17. 30.0678485911292\n18. 30.7930552298668\n19. 20.436614350931\n20. 34.7327316711101\n21. 8.40242814935749\n22. 33.8628273659332\n23. 17.1880000096434\n24. 3.30074266583366\n25. 18.5331412706531\n26. 1.22940310510206\n27. 9.45645309054173\n28. 30.4687837849163\n29. 29.7654490025053\n30. 26.2217700199306\n31. 20.0056831688067\n32. 25.7181868179987\n33. 24.2090526328944\n34. 32.3133416215011\n35. 26.7147956878095\n36. 20.9630401751077\n37. 14.7719378800305\n38. 18.6835221056945\n39. 21.3630980392824\n40. 21.931722839269\n41. 14.2791678350074\n42. 27.7388995785248\n43. 23.8677321708842\n44. 25.0392283209722\n45. 5.55001863023063\n46. 22.0438375328006\n47. 7.89702221052895\n48. 20.3336155327828\n49. 27.6377892344935\n50. 15.6604128119413\n51. 14.2891268000665\n52. 29.6571116419369\n53. 18.6502905048311\n54. 22.9764615665868\n55. 30.959676361573\n56. 16.0852371175322\n57. 1.23194841685964\n58. 10.8784469569648\n59. 25.6667957155463\n60. 20.1525577164304\n61. 23.4221652253963\n62. 9.34963166932094\n63. 24.4671222491915\n64. 20.3776687910716\n65. 9.02870900256088\n66. 17.4817565079985\n67. 1.32415747110416\n68. 12.1677673806342\n69. 20.7620680726913\n70. 23.3957980449675\n71. 17.0149046222471\n72. 16.2823076791711\n73. 24.5727587544389\n74. 19.6209096891154\n75. 32.7129195699946\n76. 17.8377944157778\n77. 30.1493202296247\n78. 17.2559040686438\n79. 20.8093549371708\n80. 36.7174615883409\n81. 10.5964573705279\n82. 19.428753431351\n83. 10.4902546345028\n84. 14.8485677200732\n85. 25.4511149617042\n86. 32.6778045523308\n87. 32.132999195797\n88. 16.8742623966282\n89. 29.3442115697007\n90. 23.6454999017324\n91. 20.0372729218811\n92. 24.5671505931195\n93. 25.7736092406374\n94. 21.143983328723\n95. 51.1951351334585\n96. 18.9749014922939\n97. 36.260331492086\n98. 22.8229389689871\n99. 22.7123415008625\n100. 25.1373885493354\n\n\n",
            "text/latex": "\\begin{enumerate*}\n\\item 17.2320785275409\n\\item 24.0521105011069\n\\item 21.3815474413961\n\\item 17.5907724949243\n\\item 30.8926820870898\n\\item 29.4388709689323\n\\item 13.9077575123946\n\\item 28.7386401623485\n\\item 27.011796148698\n\\item 23.796641339468\n\\item 14.0126828850149\n\\item 9.15514433756918\n\\item 30.5710526051899\n\\item 24.8728563009769\n\\item 25.2701845692783\n\\item 32.3501775052924\n\\item 30.0678485911292\n\\item 30.7930552298668\n\\item 20.436614350931\n\\item 34.7327316711101\n\\item 8.40242814935749\n\\item 33.8628273659332\n\\item 17.1880000096434\n\\item 3.30074266583366\n\\item 18.5331412706531\n\\item 1.22940310510206\n\\item 9.45645309054173\n\\item 30.4687837849163\n\\item 29.7654490025053\n\\item 26.2217700199306\n\\item 20.0056831688067\n\\item 25.7181868179987\n\\item 24.2090526328944\n\\item 32.3133416215011\n\\item 26.7147956878095\n\\item 20.9630401751077\n\\item 14.7719378800305\n\\item 18.6835221056945\n\\item 21.3630980392824\n\\item 21.931722839269\n\\item 14.2791678350074\n\\item 27.7388995785248\n\\item 23.8677321708842\n\\item 25.0392283209722\n\\item 5.55001863023063\n\\item 22.0438375328006\n\\item 7.89702221052895\n\\item 20.3336155327828\n\\item 27.6377892344935\n\\item 15.6604128119413\n\\item 14.2891268000665\n\\item 29.6571116419369\n\\item 18.6502905048311\n\\item 22.9764615665868\n\\item 30.959676361573\n\\item 16.0852371175322\n\\item 1.23194841685964\n\\item 10.8784469569648\n\\item 25.6667957155463\n\\item 20.1525577164304\n\\item 23.4221652253963\n\\item 9.34963166932094\n\\item 24.4671222491915\n\\item 20.3776687910716\n\\item 9.02870900256088\n\\item 17.4817565079985\n\\item 1.32415747110416\n\\item 12.1677673806342\n\\item 20.7620680726913\n\\item 23.3957980449675\n\\item 17.0149046222471\n\\item 16.2823076791711\n\\item 24.5727587544389\n\\item 19.6209096891154\n\\item 32.7129195699946\n\\item 17.8377944157778\n\\item 30.1493202296247\n\\item 17.2559040686438\n\\item 20.8093549371708\n\\item 36.7174615883409\n\\item 10.5964573705279\n\\item 19.428753431351\n\\item 10.4902546345028\n\\item 14.8485677200732\n\\item 25.4511149617042\n\\item 32.6778045523308\n\\item 32.132999195797\n\\item 16.8742623966282\n\\item 29.3442115697007\n\\item 23.6454999017324\n\\item 20.0372729218811\n\\item 24.5671505931195\n\\item 25.7736092406374\n\\item 21.143983328723\n\\item 51.1951351334585\n\\item 18.9749014922939\n\\item 36.260331492086\n\\item 22.8229389689871\n\\item 22.7123415008625\n\\item 25.1373885493354\n\\end{enumerate*}\n",
            "text/plain": [
              "  [1] 17.232079 24.052111 21.381547 17.590772 30.892682 29.438871 13.907758\n",
              "  [8] 28.738640 27.011796 23.796641 14.012683  9.155144 30.571053 24.872856\n",
              " [15] 25.270185 32.350178 30.067849 30.793055 20.436614 34.732732  8.402428\n",
              " [22] 33.862827 17.188000  3.300743 18.533141  1.229403  9.456453 30.468784\n",
              " [29] 29.765449 26.221770 20.005683 25.718187 24.209053 32.313342 26.714796\n",
              " [36] 20.963040 14.771938 18.683522 21.363098 21.931723 14.279168 27.738900\n",
              " [43] 23.867732 25.039228  5.550019 22.043838  7.897022 20.333616 27.637789\n",
              " [50] 15.660413 14.289127 29.657112 18.650291 22.976462 30.959676 16.085237\n",
              " [57]  1.231948 10.878447 25.666796 20.152558 23.422165  9.349632 24.467122\n",
              " [64] 20.377669  9.028709 17.481757  1.324157 12.167767 20.762068 23.395798\n",
              " [71] 17.014905 16.282308 24.572759 19.620910 32.712920 17.837794 30.149320\n",
              " [78] 17.255904 20.809355 36.717462 10.596457 19.428753 10.490255 14.848568\n",
              " [85] 25.451115 32.677805 32.132999 16.874262 29.344212 23.645500 20.037273\n",
              " [92] 24.567151 25.773609 21.143983 51.195135 18.974901 36.260331 22.822939\n",
              " [99] 22.712342 25.137389"
            ]
          },
          "metadata": {}
        }
      ]
    },
    {
      "cell_type": "code",
      "source": [],
      "metadata": {
        "id": "k9dgHQvbjiva"
      },
      "execution_count": null,
      "outputs": []
    },
    {
      "cell_type": "code",
      "metadata": {
        "trusted": true,
        "id": "Y6ILF-Szm5Zg"
      },
      "source": [
        "# Dejar como parámetro el largo del vector temp\n",
        "Length <- length(temp)"
      ],
      "execution_count": 3,
      "outputs": []
    },
    {
      "cell_type": "markdown",
      "metadata": {
        "id": "C4MEJWjBm5Zi"
      },
      "source": [
        "**Paso 2**\n",
        "\n",
        "Genere un vector llamado _dia_ del mismo largo que que *temp*, que contenga los días consecutivos de la semana, partiendo del lunes. (utilice la función _rep()_ )"
      ]
    },
    {
      "cell_type": "code",
      "metadata": {
        "trusted": true,
        "id": "1PWK1DPXm5Zj"
      },
      "source": [
        "# Paso 2\n",
        "#dia <- rep(c(\"L\",\"M\",\"W\",\"J\",\"V\",\"S\",\"D\"), 100 ) repite el vector de largo7, 100 veces. Genera un vector resultante de largo 700\n",
        "dia <- rep(c(\"L\",\"M\",\"W\",\"J\",\"V\",\"S\",\"D\"), length.out = Length )"
      ],
      "execution_count": 4,
      "outputs": []
    },
    {
      "cell_type": "markdown",
      "metadata": {
        "id": "n1n3ptOIm5Zm"
      },
      "source": [
        "**Paso 3**\n",
        "\n",
        "Genere un vector llamado _est_, del mismo largo que _temp_, que en el primer tercio contenga el valor \"E1\", en el segundo tercio \"E2\", y en el tercer tercio \"E3\". Por ejemplo, si _temp_ tuviese 10 datos, el vector _est_ se vería como\n",
        "\n",
        "\n",
        "<center> _est_ = (E1,E1,E1,E2,E2,E2,E3,E3,E3,E3) </center>"
      ]
    },
    {
      "cell_type": "code",
      "metadata": {
        "trusted": true,
        "id": "eobMVmXxm5Zn",
        "outputId": "519119dd-e51d-4848-a095-7da45443daa4",
        "colab": {
          "base_uri": "https://localhost:8080/",
          "height": 121
        }
      },
      "source": [
        "# Paso 3\n",
        "est <- rep(c(\"E1\", \"E2\", \"E3\"), c(33,33,34))\n",
        "est"
      ],
      "execution_count": 7,
      "outputs": [
        {
          "output_type": "display_data",
          "data": {
            "text/html": [
              "<style>\n",
              ".list-inline {list-style: none; margin:0; padding: 0}\n",
              ".list-inline>li {display: inline-block}\n",
              ".list-inline>li:not(:last-child)::after {content: \"\\00b7\"; padding: 0 .5ex}\n",
              "</style>\n",
              "<ol class=list-inline><li>'E1'</li><li>'E1'</li><li>'E1'</li><li>'E1'</li><li>'E1'</li><li>'E1'</li><li>'E1'</li><li>'E1'</li><li>'E1'</li><li>'E1'</li><li>'E1'</li><li>'E1'</li><li>'E1'</li><li>'E1'</li><li>'E1'</li><li>'E1'</li><li>'E1'</li><li>'E1'</li><li>'E1'</li><li>'E1'</li><li>'E1'</li><li>'E1'</li><li>'E1'</li><li>'E1'</li><li>'E1'</li><li>'E1'</li><li>'E1'</li><li>'E1'</li><li>'E1'</li><li>'E1'</li><li>'E1'</li><li>'E1'</li><li>'E1'</li><li>'E2'</li><li>'E2'</li><li>'E2'</li><li>'E2'</li><li>'E2'</li><li>'E2'</li><li>'E2'</li><li>'E2'</li><li>'E2'</li><li>'E2'</li><li>'E2'</li><li>'E2'</li><li>'E2'</li><li>'E2'</li><li>'E2'</li><li>'E2'</li><li>'E2'</li><li>'E2'</li><li>'E2'</li><li>'E2'</li><li>'E2'</li><li>'E2'</li><li>'E2'</li><li>'E2'</li><li>'E2'</li><li>'E2'</li><li>'E2'</li><li>'E2'</li><li>'E2'</li><li>'E2'</li><li>'E2'</li><li>'E2'</li><li>'E2'</li><li>'E3'</li><li>'E3'</li><li>'E3'</li><li>'E3'</li><li>'E3'</li><li>'E3'</li><li>'E3'</li><li>'E3'</li><li>'E3'</li><li>'E3'</li><li>'E3'</li><li>'E3'</li><li>'E3'</li><li>'E3'</li><li>'E3'</li><li>'E3'</li><li>'E3'</li><li>'E3'</li><li>'E3'</li><li>'E3'</li><li>'E3'</li><li>'E3'</li><li>'E3'</li><li>'E3'</li><li>'E3'</li><li>'E3'</li><li>'E3'</li><li>'E3'</li><li>'E3'</li><li>'E3'</li><li>'E3'</li><li>'E3'</li><li>'E3'</li><li>'E3'</li></ol>\n"
            ],
            "text/markdown": "1. 'E1'\n2. 'E1'\n3. 'E1'\n4. 'E1'\n5. 'E1'\n6. 'E1'\n7. 'E1'\n8. 'E1'\n9. 'E1'\n10. 'E1'\n11. 'E1'\n12. 'E1'\n13. 'E1'\n14. 'E1'\n15. 'E1'\n16. 'E1'\n17. 'E1'\n18. 'E1'\n19. 'E1'\n20. 'E1'\n21. 'E1'\n22. 'E1'\n23. 'E1'\n24. 'E1'\n25. 'E1'\n26. 'E1'\n27. 'E1'\n28. 'E1'\n29. 'E1'\n30. 'E1'\n31. 'E1'\n32. 'E1'\n33. 'E1'\n34. 'E2'\n35. 'E2'\n36. 'E2'\n37. 'E2'\n38. 'E2'\n39. 'E2'\n40. 'E2'\n41. 'E2'\n42. 'E2'\n43. 'E2'\n44. 'E2'\n45. 'E2'\n46. 'E2'\n47. 'E2'\n48. 'E2'\n49. 'E2'\n50. 'E2'\n51. 'E2'\n52. 'E2'\n53. 'E2'\n54. 'E2'\n55. 'E2'\n56. 'E2'\n57. 'E2'\n58. 'E2'\n59. 'E2'\n60. 'E2'\n61. 'E2'\n62. 'E2'\n63. 'E2'\n64. 'E2'\n65. 'E2'\n66. 'E2'\n67. 'E3'\n68. 'E3'\n69. 'E3'\n70. 'E3'\n71. 'E3'\n72. 'E3'\n73. 'E3'\n74. 'E3'\n75. 'E3'\n76. 'E3'\n77. 'E3'\n78. 'E3'\n79. 'E3'\n80. 'E3'\n81. 'E3'\n82. 'E3'\n83. 'E3'\n84. 'E3'\n85. 'E3'\n86. 'E3'\n87. 'E3'\n88. 'E3'\n89. 'E3'\n90. 'E3'\n91. 'E3'\n92. 'E3'\n93. 'E3'\n94. 'E3'\n95. 'E3'\n96. 'E3'\n97. 'E3'\n98. 'E3'\n99. 'E3'\n100. 'E3'\n\n\n",
            "text/latex": "\\begin{enumerate*}\n\\item 'E1'\n\\item 'E1'\n\\item 'E1'\n\\item 'E1'\n\\item 'E1'\n\\item 'E1'\n\\item 'E1'\n\\item 'E1'\n\\item 'E1'\n\\item 'E1'\n\\item 'E1'\n\\item 'E1'\n\\item 'E1'\n\\item 'E1'\n\\item 'E1'\n\\item 'E1'\n\\item 'E1'\n\\item 'E1'\n\\item 'E1'\n\\item 'E1'\n\\item 'E1'\n\\item 'E1'\n\\item 'E1'\n\\item 'E1'\n\\item 'E1'\n\\item 'E1'\n\\item 'E1'\n\\item 'E1'\n\\item 'E1'\n\\item 'E1'\n\\item 'E1'\n\\item 'E1'\n\\item 'E1'\n\\item 'E2'\n\\item 'E2'\n\\item 'E2'\n\\item 'E2'\n\\item 'E2'\n\\item 'E2'\n\\item 'E2'\n\\item 'E2'\n\\item 'E2'\n\\item 'E2'\n\\item 'E2'\n\\item 'E2'\n\\item 'E2'\n\\item 'E2'\n\\item 'E2'\n\\item 'E2'\n\\item 'E2'\n\\item 'E2'\n\\item 'E2'\n\\item 'E2'\n\\item 'E2'\n\\item 'E2'\n\\item 'E2'\n\\item 'E2'\n\\item 'E2'\n\\item 'E2'\n\\item 'E2'\n\\item 'E2'\n\\item 'E2'\n\\item 'E2'\n\\item 'E2'\n\\item 'E2'\n\\item 'E2'\n\\item 'E3'\n\\item 'E3'\n\\item 'E3'\n\\item 'E3'\n\\item 'E3'\n\\item 'E3'\n\\item 'E3'\n\\item 'E3'\n\\item 'E3'\n\\item 'E3'\n\\item 'E3'\n\\item 'E3'\n\\item 'E3'\n\\item 'E3'\n\\item 'E3'\n\\item 'E3'\n\\item 'E3'\n\\item 'E3'\n\\item 'E3'\n\\item 'E3'\n\\item 'E3'\n\\item 'E3'\n\\item 'E3'\n\\item 'E3'\n\\item 'E3'\n\\item 'E3'\n\\item 'E3'\n\\item 'E3'\n\\item 'E3'\n\\item 'E3'\n\\item 'E3'\n\\item 'E3'\n\\item 'E3'\n\\item 'E3'\n\\end{enumerate*}\n",
            "text/plain": [
              "  [1] \"E1\" \"E1\" \"E1\" \"E1\" \"E1\" \"E1\" \"E1\" \"E1\" \"E1\" \"E1\" \"E1\" \"E1\" \"E1\" \"E1\" \"E1\"\n",
              " [16] \"E1\" \"E1\" \"E1\" \"E1\" \"E1\" \"E1\" \"E1\" \"E1\" \"E1\" \"E1\" \"E1\" \"E1\" \"E1\" \"E1\" \"E1\"\n",
              " [31] \"E1\" \"E1\" \"E1\" \"E2\" \"E2\" \"E2\" \"E2\" \"E2\" \"E2\" \"E2\" \"E2\" \"E2\" \"E2\" \"E2\" \"E2\"\n",
              " [46] \"E2\" \"E2\" \"E2\" \"E2\" \"E2\" \"E2\" \"E2\" \"E2\" \"E2\" \"E2\" \"E2\" \"E2\" \"E2\" \"E2\" \"E2\"\n",
              " [61] \"E2\" \"E2\" \"E2\" \"E2\" \"E2\" \"E2\" \"E3\" \"E3\" \"E3\" \"E3\" \"E3\" \"E3\" \"E3\" \"E3\" \"E3\"\n",
              " [76] \"E3\" \"E3\" \"E3\" \"E3\" \"E3\" \"E3\" \"E3\" \"E3\" \"E3\" \"E3\" \"E3\" \"E3\" \"E3\" \"E3\" \"E3\"\n",
              " [91] \"E3\" \"E3\" \"E3\" \"E3\" \"E3\" \"E3\" \"E3\" \"E3\" \"E3\" \"E3\""
            ]
          },
          "metadata": {}
        }
      ]
    },
    {
      "cell_type": "code",
      "source": [],
      "metadata": {
        "id": "-01idq4HkCxu"
      },
      "execution_count": null,
      "outputs": []
    },
    {
      "cell_type": "markdown",
      "metadata": {
        "id": "bZZScNwUm5Zp"
      },
      "source": [
        "**Paso 4**\n",
        "\n",
        "Genere un vector llamado _lluvia_ del mismo largo que _temp_, que sea TRUE en las posiciones en que _temp_ sea menor que 20, y FALSE en caso contrario."
      ]
    },
    {
      "cell_type": "code",
      "metadata": {
        "trusted": true,
        "id": "AbtOs123m5Zq"
      },
      "source": [
        "# Paso 4\n",
        "lluvia <- temp < 20"
      ],
      "execution_count": 8,
      "outputs": []
    },
    {
      "cell_type": "code",
      "source": [],
      "metadata": {
        "id": "tcnJ_42_kHHm"
      },
      "execution_count": null,
      "outputs": []
    },
    {
      "cell_type": "markdown",
      "metadata": {
        "id": "i7p8FIdtm5Zs"
      },
      "source": [
        "**Paso 5**\n",
        "\n",
        "Finalmente cree un data frame llamado _precipitaciones_ con las siguientes columnas:<br>\n",
        "\n",
        "*Dia_semana* (con los valores del vector _dia_)<br>\n",
        "*Temperatura* (con los valores del vector _temp_)<br>\n",
        "*Llueve* (con los valores del vector _lluvia_)<br>\n",
        "*Estacion* (con los valores del vector _est_)<br>"
      ]
    },
    {
      "cell_type": "code",
      "metadata": {
        "trusted": true,
        "id": "o-TVm7uum5Zs"
      },
      "source": [
        "# Paso 5\n",
        "precipitaciones <- data.frame(\n",
        "  Dia_semana = dia,\n",
        "  Temperatura = temp,\n",
        "  Llueve = lluvia,\n",
        "  Estacion = est\n",
        ")"
      ],
      "execution_count": 9,
      "outputs": []
    },
    {
      "cell_type": "markdown",
      "metadata": {
        "id": "kIjelA5sm5Zx"
      },
      "source": [
        "#### Strings como factores\n",
        "Cuando en R se declara una variable como factor, internamente se codifican sus categorías con valores 0 o 1. Por ejemplo, para las variables _Dia_ y _Estacion_ podemos generar sus matriz de diseño, indicando un 1 si el día (o estación) corresponde a la nueva columna generada, 0 si  no:\n",
        "\n",
        " |Dia |Temperatura    |Llueve| Estacion| | Dia.L|Dia.M|Dia.W|Dia.J|Dia.V|Dia.S|Dia.D|Est.1|Est.2|Est.3|\n",
        " |----|------------   |------|---------| |---   |---  |---  |---  |---  |---  |---  |---  |---  |---  |\n",
        " |L\t  |16.300201      |TRUE  |\tE1     | |1     |0    |0    |0    |0    |0    |0    |1    |0    |0    |\n",
        " |M   |21.042854      |FALSE |\tE1     | |0     |1    |0    |0    |0    |0    |0    |1    |0    |0    |\n",
        " |J\t  |31.256043      |FALSE |\tE3     | |0     |0    |0    |1    |0    |0    |0    |0    |0    |1    |\n",
        " |S\t  |40.083514      |FALSE |\tE3     | |0     |0    |0    |0    |0    |1    |0    |0    |0    |1    |\n",
        "\n",
        " Cuando se quiere generar un resumen de una variable categórica, o cuando se quiere incluir una variable de este tipo en el entrenamiento de un modelo será necesario declarar dicha variable como factor."
      ]
    },
    {
      "cell_type": "code",
      "metadata": {
        "trusted": true,
        "id": "UQN71LvGm5Z-"
      },
      "source": [
        "#podemos volver a coercionar las columnas a clase factor,  con la función as.factor\n",
        "precipitaciones$Dia_semana <- as.factor(precipitaciones$Dia_semana)\n",
        "precipitaciones$Estacion <- as.factor(precipitaciones$Estacion)"
      ],
      "execution_count": 10,
      "outputs": []
    },
    {
      "cell_type": "code",
      "metadata": {
        "trusted": true,
        "id": "5kjmwaOUm5aA"
      },
      "source": [
        "# Un poco de exploración --------------------------------\n",
        "# ¿Cuál es la temperatura promedio cuando llovió?\n",
        "\n",
        "mean(precipitaciones[precipitaciones$Llueve == TRUE, \"Temperatura\"])\n",
        "\n",
        "# ¿Cuál es la temperatura promedio cuando NO llovió?\n",
        "\n",
        "mean(precipitaciones[!precipitaciones$Llueve == TRUE, \"Temperatura\"])\n",
        "\n",
        "#Lo mismo pero sólo de los registros de E1\n",
        "\n",
        "mean(precipitaciones[!precipitaciones$Estacion == \"E1\", \"Estaciones\"])\n",
        "\n"
      ],
      "execution_count": null,
      "outputs": []
    },
    {
      "cell_type": "code",
      "metadata": {
        "trusted": true,
        "id": "TJuAlpPxm5aC"
      },
      "source": [
        "# ¿Qué día era cuando se alcanzó la mínima temperatura?¿y la ,máxima?\n",
        "#La función which.min #o .max . retorna la posición donde se alcanza el min/max de un vector.\n",
        "\n",
        "# opcion 1, min\n",
        "\n",
        "minTemp <- which.min(precipitaciones$Temperatura)\n",
        "\n",
        "# opcion 2\n",
        "\n",
        "maxTemp <- which.max(precipitaciones$Temperatura)\n"
      ],
      "execution_count": null,
      "outputs": []
    },
    {
      "cell_type": "code",
      "metadata": {
        "trusted": true,
        "id": "WHf5YnPWm5aF"
      },
      "source": [
        "# Una forma de eliminar registros en vector\n",
        "ej[-c(1,2,3)] #Elimina los registros 1,2,3\n",
        "\n"
      ],
      "execution_count": null,
      "outputs": []
    },
    {
      "cell_type": "code",
      "metadata": {
        "trusted": true,
        "id": "6Vx1ojnAm5aH",
        "outputId": "df8a67c5-b2f1-4e23-a3c2-de5df785633d",
        "colab": {
          "base_uri": "https://localhost:8080/",
          "height": 1000
        }
      },
      "source": [
        "# POdemos eliminar los registros de posición 3 y 4\n",
        "\n",
        "precipitaciones[-c(3,4)]"
      ],
      "execution_count": 14,
      "outputs": [
        {
          "output_type": "display_data",
          "data": {
            "text/html": [
              "<table class=\"dataframe\">\n",
              "<caption>A data.frame: 100 × 2</caption>\n",
              "<thead>\n",
              "\t<tr><th scope=col>Dia_semana</th><th scope=col>Temperatura</th></tr>\n",
              "\t<tr><th scope=col>&lt;fct&gt;</th><th scope=col>&lt;dbl&gt;</th></tr>\n",
              "</thead>\n",
              "<tbody>\n",
              "\t<tr><td>L</td><td>17.232079</td></tr>\n",
              "\t<tr><td>M</td><td>24.052111</td></tr>\n",
              "\t<tr><td>W</td><td>21.381547</td></tr>\n",
              "\t<tr><td>J</td><td>17.590772</td></tr>\n",
              "\t<tr><td>V</td><td>30.892682</td></tr>\n",
              "\t<tr><td>S</td><td>29.438871</td></tr>\n",
              "\t<tr><td>D</td><td>13.907758</td></tr>\n",
              "\t<tr><td>L</td><td>28.738640</td></tr>\n",
              "\t<tr><td>M</td><td>27.011796</td></tr>\n",
              "\t<tr><td>W</td><td>23.796641</td></tr>\n",
              "\t<tr><td>J</td><td>14.012683</td></tr>\n",
              "\t<tr><td>V</td><td> 9.155144</td></tr>\n",
              "\t<tr><td>S</td><td>30.571053</td></tr>\n",
              "\t<tr><td>D</td><td>24.872856</td></tr>\n",
              "\t<tr><td>L</td><td>25.270185</td></tr>\n",
              "\t<tr><td>M</td><td>32.350178</td></tr>\n",
              "\t<tr><td>W</td><td>30.067849</td></tr>\n",
              "\t<tr><td>J</td><td>30.793055</td></tr>\n",
              "\t<tr><td>V</td><td>20.436614</td></tr>\n",
              "\t<tr><td>S</td><td>34.732732</td></tr>\n",
              "\t<tr><td>D</td><td> 8.402428</td></tr>\n",
              "\t<tr><td>L</td><td>33.862827</td></tr>\n",
              "\t<tr><td>M</td><td>17.188000</td></tr>\n",
              "\t<tr><td>W</td><td> 3.300743</td></tr>\n",
              "\t<tr><td>J</td><td>18.533141</td></tr>\n",
              "\t<tr><td>V</td><td> 1.229403</td></tr>\n",
              "\t<tr><td>S</td><td> 9.456453</td></tr>\n",
              "\t<tr><td>D</td><td>30.468784</td></tr>\n",
              "\t<tr><td>L</td><td>29.765449</td></tr>\n",
              "\t<tr><td>M</td><td>26.221770</td></tr>\n",
              "\t<tr><td>⋮</td><td>⋮</td></tr>\n",
              "\t<tr><td>L</td><td>17.01490</td></tr>\n",
              "\t<tr><td>M</td><td>16.28231</td></tr>\n",
              "\t<tr><td>W</td><td>24.57276</td></tr>\n",
              "\t<tr><td>J</td><td>19.62091</td></tr>\n",
              "\t<tr><td>V</td><td>32.71292</td></tr>\n",
              "\t<tr><td>S</td><td>17.83779</td></tr>\n",
              "\t<tr><td>D</td><td>30.14932</td></tr>\n",
              "\t<tr><td>L</td><td>17.25590</td></tr>\n",
              "\t<tr><td>M</td><td>20.80935</td></tr>\n",
              "\t<tr><td>W</td><td>36.71746</td></tr>\n",
              "\t<tr><td>J</td><td>10.59646</td></tr>\n",
              "\t<tr><td>V</td><td>19.42875</td></tr>\n",
              "\t<tr><td>S</td><td>10.49025</td></tr>\n",
              "\t<tr><td>D</td><td>14.84857</td></tr>\n",
              "\t<tr><td>L</td><td>25.45111</td></tr>\n",
              "\t<tr><td>M</td><td>32.67780</td></tr>\n",
              "\t<tr><td>W</td><td>32.13300</td></tr>\n",
              "\t<tr><td>J</td><td>16.87426</td></tr>\n",
              "\t<tr><td>V</td><td>29.34421</td></tr>\n",
              "\t<tr><td>S</td><td>23.64550</td></tr>\n",
              "\t<tr><td>D</td><td>20.03727</td></tr>\n",
              "\t<tr><td>L</td><td>24.56715</td></tr>\n",
              "\t<tr><td>M</td><td>25.77361</td></tr>\n",
              "\t<tr><td>W</td><td>21.14398</td></tr>\n",
              "\t<tr><td>J</td><td>51.19514</td></tr>\n",
              "\t<tr><td>V</td><td>18.97490</td></tr>\n",
              "\t<tr><td>S</td><td>36.26033</td></tr>\n",
              "\t<tr><td>D</td><td>22.82294</td></tr>\n",
              "\t<tr><td>L</td><td>22.71234</td></tr>\n",
              "\t<tr><td>M</td><td>25.13739</td></tr>\n",
              "</tbody>\n",
              "</table>\n"
            ],
            "text/markdown": "\nA data.frame: 100 × 2\n\n| Dia_semana &lt;fct&gt; | Temperatura &lt;dbl&gt; |\n|---|---|\n| L | 17.232079 |\n| M | 24.052111 |\n| W | 21.381547 |\n| J | 17.590772 |\n| V | 30.892682 |\n| S | 29.438871 |\n| D | 13.907758 |\n| L | 28.738640 |\n| M | 27.011796 |\n| W | 23.796641 |\n| J | 14.012683 |\n| V |  9.155144 |\n| S | 30.571053 |\n| D | 24.872856 |\n| L | 25.270185 |\n| M | 32.350178 |\n| W | 30.067849 |\n| J | 30.793055 |\n| V | 20.436614 |\n| S | 34.732732 |\n| D |  8.402428 |\n| L | 33.862827 |\n| M | 17.188000 |\n| W |  3.300743 |\n| J | 18.533141 |\n| V |  1.229403 |\n| S |  9.456453 |\n| D | 30.468784 |\n| L | 29.765449 |\n| M | 26.221770 |\n| ⋮ | ⋮ |\n| L | 17.01490 |\n| M | 16.28231 |\n| W | 24.57276 |\n| J | 19.62091 |\n| V | 32.71292 |\n| S | 17.83779 |\n| D | 30.14932 |\n| L | 17.25590 |\n| M | 20.80935 |\n| W | 36.71746 |\n| J | 10.59646 |\n| V | 19.42875 |\n| S | 10.49025 |\n| D | 14.84857 |\n| L | 25.45111 |\n| M | 32.67780 |\n| W | 32.13300 |\n| J | 16.87426 |\n| V | 29.34421 |\n| S | 23.64550 |\n| D | 20.03727 |\n| L | 24.56715 |\n| M | 25.77361 |\n| W | 21.14398 |\n| J | 51.19514 |\n| V | 18.97490 |\n| S | 36.26033 |\n| D | 22.82294 |\n| L | 22.71234 |\n| M | 25.13739 |\n\n",
            "text/latex": "A data.frame: 100 × 2\n\\begin{tabular}{ll}\n Dia\\_semana & Temperatura\\\\\n <fct> & <dbl>\\\\\n\\hline\n\t L & 17.232079\\\\\n\t M & 24.052111\\\\\n\t W & 21.381547\\\\\n\t J & 17.590772\\\\\n\t V & 30.892682\\\\\n\t S & 29.438871\\\\\n\t D & 13.907758\\\\\n\t L & 28.738640\\\\\n\t M & 27.011796\\\\\n\t W & 23.796641\\\\\n\t J & 14.012683\\\\\n\t V &  9.155144\\\\\n\t S & 30.571053\\\\\n\t D & 24.872856\\\\\n\t L & 25.270185\\\\\n\t M & 32.350178\\\\\n\t W & 30.067849\\\\\n\t J & 30.793055\\\\\n\t V & 20.436614\\\\\n\t S & 34.732732\\\\\n\t D &  8.402428\\\\\n\t L & 33.862827\\\\\n\t M & 17.188000\\\\\n\t W &  3.300743\\\\\n\t J & 18.533141\\\\\n\t V &  1.229403\\\\\n\t S &  9.456453\\\\\n\t D & 30.468784\\\\\n\t L & 29.765449\\\\\n\t M & 26.221770\\\\\n\t ⋮ & ⋮\\\\\n\t L & 17.01490\\\\\n\t M & 16.28231\\\\\n\t W & 24.57276\\\\\n\t J & 19.62091\\\\\n\t V & 32.71292\\\\\n\t S & 17.83779\\\\\n\t D & 30.14932\\\\\n\t L & 17.25590\\\\\n\t M & 20.80935\\\\\n\t W & 36.71746\\\\\n\t J & 10.59646\\\\\n\t V & 19.42875\\\\\n\t S & 10.49025\\\\\n\t D & 14.84857\\\\\n\t L & 25.45111\\\\\n\t M & 32.67780\\\\\n\t W & 32.13300\\\\\n\t J & 16.87426\\\\\n\t V & 29.34421\\\\\n\t S & 23.64550\\\\\n\t D & 20.03727\\\\\n\t L & 24.56715\\\\\n\t M & 25.77361\\\\\n\t W & 21.14398\\\\\n\t J & 51.19514\\\\\n\t V & 18.97490\\\\\n\t S & 36.26033\\\\\n\t D & 22.82294\\\\\n\t L & 22.71234\\\\\n\t M & 25.13739\\\\\n\\end{tabular}\n",
            "text/plain": [
              "    Dia_semana Temperatura\n",
              "1   L          17.232079  \n",
              "2   M          24.052111  \n",
              "3   W          21.381547  \n",
              "4   J          17.590772  \n",
              "5   V          30.892682  \n",
              "6   S          29.438871  \n",
              "7   D          13.907758  \n",
              "8   L          28.738640  \n",
              "9   M          27.011796  \n",
              "10  W          23.796641  \n",
              "11  J          14.012683  \n",
              "12  V           9.155144  \n",
              "13  S          30.571053  \n",
              "14  D          24.872856  \n",
              "15  L          25.270185  \n",
              "16  M          32.350178  \n",
              "17  W          30.067849  \n",
              "18  J          30.793055  \n",
              "19  V          20.436614  \n",
              "20  S          34.732732  \n",
              "21  D           8.402428  \n",
              "22  L          33.862827  \n",
              "23  M          17.188000  \n",
              "24  W           3.300743  \n",
              "25  J          18.533141  \n",
              "26  V           1.229403  \n",
              "27  S           9.456453  \n",
              "28  D          30.468784  \n",
              "29  L          29.765449  \n",
              "30  M          26.221770  \n",
              "⋮   ⋮          ⋮          \n",
              "71  L          17.01490   \n",
              "72  M          16.28231   \n",
              "73  W          24.57276   \n",
              "74  J          19.62091   \n",
              "75  V          32.71292   \n",
              "76  S          17.83779   \n",
              "77  D          30.14932   \n",
              "78  L          17.25590   \n",
              "79  M          20.80935   \n",
              "80  W          36.71746   \n",
              "81  J          10.59646   \n",
              "82  V          19.42875   \n",
              "83  S          10.49025   \n",
              "84  D          14.84857   \n",
              "85  L          25.45111   \n",
              "86  M          32.67780   \n",
              "87  W          32.13300   \n",
              "88  J          16.87426   \n",
              "89  V          29.34421   \n",
              "90  S          23.64550   \n",
              "91  D          20.03727   \n",
              "92  L          24.56715   \n",
              "93  M          25.77361   \n",
              "94  W          21.14398   \n",
              "95  J          51.19514   \n",
              "96  V          18.97490   \n",
              "97  S          36.26033   \n",
              "98  D          22.82294   \n",
              "99  L          22.71234   \n",
              "100 M          25.13739   "
            ]
          },
          "metadata": {}
        }
      ]
    },
    {
      "cell_type": "code",
      "metadata": {
        "trusted": true,
        "id": "K9Qv9n_nm5aJ",
        "outputId": "47ae81ac-96ec-41a4-c248-8f99c0343588",
        "colab": {
          "base_uri": "https://localhost:8080/",
          "height": 1000
        }
      },
      "source": [
        "# Si queremos ver esa misma fila de la tabla precipitaciones.\n",
        "\n",
        "\n",
        "# Se sabe que la Estación E3 falla todos los días domingo, por lo que se quiere eliminar tales registros de la tabla. Elimínelos!\n",
        "\n",
        "posiciones_eliminar<-which(precipitaciones[,\"Estacion\"]==\"E3\"& precipitaciones[,\"Dia_semana\"]==\"D\")\n",
        "\n",
        "precipitaciones[-posiciones_eliminar]"
      ],
      "execution_count": 18,
      "outputs": [
        {
          "output_type": "display_data",
          "data": {
            "text/html": [
              "<table class=\"dataframe\">\n",
              "<caption>A data.frame: 100 × 4</caption>\n",
              "<thead>\n",
              "\t<tr><th scope=col>Dia_semana</th><th scope=col>Temperatura</th><th scope=col>Llueve</th><th scope=col>Estacion</th></tr>\n",
              "\t<tr><th scope=col>&lt;fct&gt;</th><th scope=col>&lt;dbl&gt;</th><th scope=col>&lt;lgl&gt;</th><th scope=col>&lt;fct&gt;</th></tr>\n",
              "</thead>\n",
              "<tbody>\n",
              "\t<tr><td>L</td><td>17.232079</td><td> TRUE</td><td>E1</td></tr>\n",
              "\t<tr><td>M</td><td>24.052111</td><td>FALSE</td><td>E1</td></tr>\n",
              "\t<tr><td>W</td><td>21.381547</td><td>FALSE</td><td>E1</td></tr>\n",
              "\t<tr><td>J</td><td>17.590772</td><td> TRUE</td><td>E1</td></tr>\n",
              "\t<tr><td>V</td><td>30.892682</td><td>FALSE</td><td>E1</td></tr>\n",
              "\t<tr><td>S</td><td>29.438871</td><td>FALSE</td><td>E1</td></tr>\n",
              "\t<tr><td>D</td><td>13.907758</td><td> TRUE</td><td>E1</td></tr>\n",
              "\t<tr><td>L</td><td>28.738640</td><td>FALSE</td><td>E1</td></tr>\n",
              "\t<tr><td>M</td><td>27.011796</td><td>FALSE</td><td>E1</td></tr>\n",
              "\t<tr><td>W</td><td>23.796641</td><td>FALSE</td><td>E1</td></tr>\n",
              "\t<tr><td>J</td><td>14.012683</td><td> TRUE</td><td>E1</td></tr>\n",
              "\t<tr><td>V</td><td> 9.155144</td><td> TRUE</td><td>E1</td></tr>\n",
              "\t<tr><td>S</td><td>30.571053</td><td>FALSE</td><td>E1</td></tr>\n",
              "\t<tr><td>D</td><td>24.872856</td><td>FALSE</td><td>E1</td></tr>\n",
              "\t<tr><td>L</td><td>25.270185</td><td>FALSE</td><td>E1</td></tr>\n",
              "\t<tr><td>M</td><td>32.350178</td><td>FALSE</td><td>E1</td></tr>\n",
              "\t<tr><td>W</td><td>30.067849</td><td>FALSE</td><td>E1</td></tr>\n",
              "\t<tr><td>J</td><td>30.793055</td><td>FALSE</td><td>E1</td></tr>\n",
              "\t<tr><td>V</td><td>20.436614</td><td>FALSE</td><td>E1</td></tr>\n",
              "\t<tr><td>S</td><td>34.732732</td><td>FALSE</td><td>E1</td></tr>\n",
              "\t<tr><td>D</td><td> 8.402428</td><td> TRUE</td><td>E1</td></tr>\n",
              "\t<tr><td>L</td><td>33.862827</td><td>FALSE</td><td>E1</td></tr>\n",
              "\t<tr><td>M</td><td>17.188000</td><td> TRUE</td><td>E1</td></tr>\n",
              "\t<tr><td>W</td><td> 3.300743</td><td> TRUE</td><td>E1</td></tr>\n",
              "\t<tr><td>J</td><td>18.533141</td><td> TRUE</td><td>E1</td></tr>\n",
              "\t<tr><td>V</td><td> 1.229403</td><td> TRUE</td><td>E1</td></tr>\n",
              "\t<tr><td>S</td><td> 9.456453</td><td> TRUE</td><td>E1</td></tr>\n",
              "\t<tr><td>D</td><td>30.468784</td><td>FALSE</td><td>E1</td></tr>\n",
              "\t<tr><td>L</td><td>29.765449</td><td>FALSE</td><td>E1</td></tr>\n",
              "\t<tr><td>M</td><td>26.221770</td><td>FALSE</td><td>E1</td></tr>\n",
              "\t<tr><td>⋮</td><td>⋮</td><td>⋮</td><td>⋮</td></tr>\n",
              "\t<tr><td>L</td><td>17.01490</td><td> TRUE</td><td>E3</td></tr>\n",
              "\t<tr><td>M</td><td>16.28231</td><td> TRUE</td><td>E3</td></tr>\n",
              "\t<tr><td>W</td><td>24.57276</td><td>FALSE</td><td>E3</td></tr>\n",
              "\t<tr><td>J</td><td>19.62091</td><td> TRUE</td><td>E3</td></tr>\n",
              "\t<tr><td>V</td><td>32.71292</td><td>FALSE</td><td>E3</td></tr>\n",
              "\t<tr><td>S</td><td>17.83779</td><td> TRUE</td><td>E3</td></tr>\n",
              "\t<tr><td>D</td><td>30.14932</td><td>FALSE</td><td>E3</td></tr>\n",
              "\t<tr><td>L</td><td>17.25590</td><td> TRUE</td><td>E3</td></tr>\n",
              "\t<tr><td>M</td><td>20.80935</td><td>FALSE</td><td>E3</td></tr>\n",
              "\t<tr><td>W</td><td>36.71746</td><td>FALSE</td><td>E3</td></tr>\n",
              "\t<tr><td>J</td><td>10.59646</td><td> TRUE</td><td>E3</td></tr>\n",
              "\t<tr><td>V</td><td>19.42875</td><td> TRUE</td><td>E3</td></tr>\n",
              "\t<tr><td>S</td><td>10.49025</td><td> TRUE</td><td>E3</td></tr>\n",
              "\t<tr><td>D</td><td>14.84857</td><td> TRUE</td><td>E3</td></tr>\n",
              "\t<tr><td>L</td><td>25.45111</td><td>FALSE</td><td>E3</td></tr>\n",
              "\t<tr><td>M</td><td>32.67780</td><td>FALSE</td><td>E3</td></tr>\n",
              "\t<tr><td>W</td><td>32.13300</td><td>FALSE</td><td>E3</td></tr>\n",
              "\t<tr><td>J</td><td>16.87426</td><td> TRUE</td><td>E3</td></tr>\n",
              "\t<tr><td>V</td><td>29.34421</td><td>FALSE</td><td>E3</td></tr>\n",
              "\t<tr><td>S</td><td>23.64550</td><td>FALSE</td><td>E3</td></tr>\n",
              "\t<tr><td>D</td><td>20.03727</td><td>FALSE</td><td>E3</td></tr>\n",
              "\t<tr><td>L</td><td>24.56715</td><td>FALSE</td><td>E3</td></tr>\n",
              "\t<tr><td>M</td><td>25.77361</td><td>FALSE</td><td>E3</td></tr>\n",
              "\t<tr><td>W</td><td>21.14398</td><td>FALSE</td><td>E3</td></tr>\n",
              "\t<tr><td>J</td><td>51.19514</td><td>FALSE</td><td>E3</td></tr>\n",
              "\t<tr><td>V</td><td>18.97490</td><td> TRUE</td><td>E3</td></tr>\n",
              "\t<tr><td>S</td><td>36.26033</td><td>FALSE</td><td>E3</td></tr>\n",
              "\t<tr><td>D</td><td>22.82294</td><td>FALSE</td><td>E3</td></tr>\n",
              "\t<tr><td>L</td><td>22.71234</td><td>FALSE</td><td>E3</td></tr>\n",
              "\t<tr><td>M</td><td>25.13739</td><td>FALSE</td><td>E3</td></tr>\n",
              "</tbody>\n",
              "</table>\n"
            ],
            "text/markdown": "\nA data.frame: 100 × 4\n\n| Dia_semana &lt;fct&gt; | Temperatura &lt;dbl&gt; | Llueve &lt;lgl&gt; | Estacion &lt;fct&gt; |\n|---|---|---|---|\n| L | 17.232079 |  TRUE | E1 |\n| M | 24.052111 | FALSE | E1 |\n| W | 21.381547 | FALSE | E1 |\n| J | 17.590772 |  TRUE | E1 |\n| V | 30.892682 | FALSE | E1 |\n| S | 29.438871 | FALSE | E1 |\n| D | 13.907758 |  TRUE | E1 |\n| L | 28.738640 | FALSE | E1 |\n| M | 27.011796 | FALSE | E1 |\n| W | 23.796641 | FALSE | E1 |\n| J | 14.012683 |  TRUE | E1 |\n| V |  9.155144 |  TRUE | E1 |\n| S | 30.571053 | FALSE | E1 |\n| D | 24.872856 | FALSE | E1 |\n| L | 25.270185 | FALSE | E1 |\n| M | 32.350178 | FALSE | E1 |\n| W | 30.067849 | FALSE | E1 |\n| J | 30.793055 | FALSE | E1 |\n| V | 20.436614 | FALSE | E1 |\n| S | 34.732732 | FALSE | E1 |\n| D |  8.402428 |  TRUE | E1 |\n| L | 33.862827 | FALSE | E1 |\n| M | 17.188000 |  TRUE | E1 |\n| W |  3.300743 |  TRUE | E1 |\n| J | 18.533141 |  TRUE | E1 |\n| V |  1.229403 |  TRUE | E1 |\n| S |  9.456453 |  TRUE | E1 |\n| D | 30.468784 | FALSE | E1 |\n| L | 29.765449 | FALSE | E1 |\n| M | 26.221770 | FALSE | E1 |\n| ⋮ | ⋮ | ⋮ | ⋮ |\n| L | 17.01490 |  TRUE | E3 |\n| M | 16.28231 |  TRUE | E3 |\n| W | 24.57276 | FALSE | E3 |\n| J | 19.62091 |  TRUE | E3 |\n| V | 32.71292 | FALSE | E3 |\n| S | 17.83779 |  TRUE | E3 |\n| D | 30.14932 | FALSE | E3 |\n| L | 17.25590 |  TRUE | E3 |\n| M | 20.80935 | FALSE | E3 |\n| W | 36.71746 | FALSE | E3 |\n| J | 10.59646 |  TRUE | E3 |\n| V | 19.42875 |  TRUE | E3 |\n| S | 10.49025 |  TRUE | E3 |\n| D | 14.84857 |  TRUE | E3 |\n| L | 25.45111 | FALSE | E3 |\n| M | 32.67780 | FALSE | E3 |\n| W | 32.13300 | FALSE | E3 |\n| J | 16.87426 |  TRUE | E3 |\n| V | 29.34421 | FALSE | E3 |\n| S | 23.64550 | FALSE | E3 |\n| D | 20.03727 | FALSE | E3 |\n| L | 24.56715 | FALSE | E3 |\n| M | 25.77361 | FALSE | E3 |\n| W | 21.14398 | FALSE | E3 |\n| J | 51.19514 | FALSE | E3 |\n| V | 18.97490 |  TRUE | E3 |\n| S | 36.26033 | FALSE | E3 |\n| D | 22.82294 | FALSE | E3 |\n| L | 22.71234 | FALSE | E3 |\n| M | 25.13739 | FALSE | E3 |\n\n",
            "text/latex": "A data.frame: 100 × 4\n\\begin{tabular}{llll}\n Dia\\_semana & Temperatura & Llueve & Estacion\\\\\n <fct> & <dbl> & <lgl> & <fct>\\\\\n\\hline\n\t L & 17.232079 &  TRUE & E1\\\\\n\t M & 24.052111 & FALSE & E1\\\\\n\t W & 21.381547 & FALSE & E1\\\\\n\t J & 17.590772 &  TRUE & E1\\\\\n\t V & 30.892682 & FALSE & E1\\\\\n\t S & 29.438871 & FALSE & E1\\\\\n\t D & 13.907758 &  TRUE & E1\\\\\n\t L & 28.738640 & FALSE & E1\\\\\n\t M & 27.011796 & FALSE & E1\\\\\n\t W & 23.796641 & FALSE & E1\\\\\n\t J & 14.012683 &  TRUE & E1\\\\\n\t V &  9.155144 &  TRUE & E1\\\\\n\t S & 30.571053 & FALSE & E1\\\\\n\t D & 24.872856 & FALSE & E1\\\\\n\t L & 25.270185 & FALSE & E1\\\\\n\t M & 32.350178 & FALSE & E1\\\\\n\t W & 30.067849 & FALSE & E1\\\\\n\t J & 30.793055 & FALSE & E1\\\\\n\t V & 20.436614 & FALSE & E1\\\\\n\t S & 34.732732 & FALSE & E1\\\\\n\t D &  8.402428 &  TRUE & E1\\\\\n\t L & 33.862827 & FALSE & E1\\\\\n\t M & 17.188000 &  TRUE & E1\\\\\n\t W &  3.300743 &  TRUE & E1\\\\\n\t J & 18.533141 &  TRUE & E1\\\\\n\t V &  1.229403 &  TRUE & E1\\\\\n\t S &  9.456453 &  TRUE & E1\\\\\n\t D & 30.468784 & FALSE & E1\\\\\n\t L & 29.765449 & FALSE & E1\\\\\n\t M & 26.221770 & FALSE & E1\\\\\n\t ⋮ & ⋮ & ⋮ & ⋮\\\\\n\t L & 17.01490 &  TRUE & E3\\\\\n\t M & 16.28231 &  TRUE & E3\\\\\n\t W & 24.57276 & FALSE & E3\\\\\n\t J & 19.62091 &  TRUE & E3\\\\\n\t V & 32.71292 & FALSE & E3\\\\\n\t S & 17.83779 &  TRUE & E3\\\\\n\t D & 30.14932 & FALSE & E3\\\\\n\t L & 17.25590 &  TRUE & E3\\\\\n\t M & 20.80935 & FALSE & E3\\\\\n\t W & 36.71746 & FALSE & E3\\\\\n\t J & 10.59646 &  TRUE & E3\\\\\n\t V & 19.42875 &  TRUE & E3\\\\\n\t S & 10.49025 &  TRUE & E3\\\\\n\t D & 14.84857 &  TRUE & E3\\\\\n\t L & 25.45111 & FALSE & E3\\\\\n\t M & 32.67780 & FALSE & E3\\\\\n\t W & 32.13300 & FALSE & E3\\\\\n\t J & 16.87426 &  TRUE & E3\\\\\n\t V & 29.34421 & FALSE & E3\\\\\n\t S & 23.64550 & FALSE & E3\\\\\n\t D & 20.03727 & FALSE & E3\\\\\n\t L & 24.56715 & FALSE & E3\\\\\n\t M & 25.77361 & FALSE & E3\\\\\n\t W & 21.14398 & FALSE & E3\\\\\n\t J & 51.19514 & FALSE & E3\\\\\n\t V & 18.97490 &  TRUE & E3\\\\\n\t S & 36.26033 & FALSE & E3\\\\\n\t D & 22.82294 & FALSE & E3\\\\\n\t L & 22.71234 & FALSE & E3\\\\\n\t M & 25.13739 & FALSE & E3\\\\\n\\end{tabular}\n",
            "text/plain": [
              "    Dia_semana Temperatura Llueve Estacion\n",
              "1   L          17.232079    TRUE  E1      \n",
              "2   M          24.052111   FALSE  E1      \n",
              "3   W          21.381547   FALSE  E1      \n",
              "4   J          17.590772    TRUE  E1      \n",
              "5   V          30.892682   FALSE  E1      \n",
              "6   S          29.438871   FALSE  E1      \n",
              "7   D          13.907758    TRUE  E1      \n",
              "8   L          28.738640   FALSE  E1      \n",
              "9   M          27.011796   FALSE  E1      \n",
              "10  W          23.796641   FALSE  E1      \n",
              "11  J          14.012683    TRUE  E1      \n",
              "12  V           9.155144    TRUE  E1      \n",
              "13  S          30.571053   FALSE  E1      \n",
              "14  D          24.872856   FALSE  E1      \n",
              "15  L          25.270185   FALSE  E1      \n",
              "16  M          32.350178   FALSE  E1      \n",
              "17  W          30.067849   FALSE  E1      \n",
              "18  J          30.793055   FALSE  E1      \n",
              "19  V          20.436614   FALSE  E1      \n",
              "20  S          34.732732   FALSE  E1      \n",
              "21  D           8.402428    TRUE  E1      \n",
              "22  L          33.862827   FALSE  E1      \n",
              "23  M          17.188000    TRUE  E1      \n",
              "24  W           3.300743    TRUE  E1      \n",
              "25  J          18.533141    TRUE  E1      \n",
              "26  V           1.229403    TRUE  E1      \n",
              "27  S           9.456453    TRUE  E1      \n",
              "28  D          30.468784   FALSE  E1      \n",
              "29  L          29.765449   FALSE  E1      \n",
              "30  M          26.221770   FALSE  E1      \n",
              "⋮   ⋮          ⋮           ⋮      ⋮       \n",
              "71  L          17.01490     TRUE  E3      \n",
              "72  M          16.28231     TRUE  E3      \n",
              "73  W          24.57276    FALSE  E3      \n",
              "74  J          19.62091     TRUE  E3      \n",
              "75  V          32.71292    FALSE  E3      \n",
              "76  S          17.83779     TRUE  E3      \n",
              "77  D          30.14932    FALSE  E3      \n",
              "78  L          17.25590     TRUE  E3      \n",
              "79  M          20.80935    FALSE  E3      \n",
              "80  W          36.71746    FALSE  E3      \n",
              "81  J          10.59646     TRUE  E3      \n",
              "82  V          19.42875     TRUE  E3      \n",
              "83  S          10.49025     TRUE  E3      \n",
              "84  D          14.84857     TRUE  E3      \n",
              "85  L          25.45111    FALSE  E3      \n",
              "86  M          32.67780    FALSE  E3      \n",
              "87  W          32.13300    FALSE  E3      \n",
              "88  J          16.87426     TRUE  E3      \n",
              "89  V          29.34421    FALSE  E3      \n",
              "90  S          23.64550    FALSE  E3      \n",
              "91  D          20.03727    FALSE  E3      \n",
              "92  L          24.56715    FALSE  E3      \n",
              "93  M          25.77361    FALSE  E3      \n",
              "94  W          21.14398    FALSE  E3      \n",
              "95  J          51.19514    FALSE  E3      \n",
              "96  V          18.97490     TRUE  E3      \n",
              "97  S          36.26033    FALSE  E3      \n",
              "98  D          22.82294    FALSE  E3      \n",
              "99  L          22.71234    FALSE  E3      \n",
              "100 M          25.13739    FALSE  E3      "
            ]
          },
          "metadata": {}
        }
      ]
    },
    {
      "cell_type": "code",
      "metadata": {
        "trusted": true,
        "id": "nuW7ux65m5aL",
        "outputId": "f2b8a4d6-03c7-4036-8d99-4c59cb9577bc",
        "colab": {
          "base_uri": "https://localhost:8080/",
          "height": 34
        }
      },
      "source": [
        "dim(precipitaciones)"
      ],
      "execution_count": 19,
      "outputs": [
        {
          "output_type": "display_data",
          "data": {
            "text/html": [
              "<style>\n",
              ".list-inline {list-style: none; margin:0; padding: 0}\n",
              ".list-inline>li {display: inline-block}\n",
              ".list-inline>li:not(:last-child)::after {content: \"\\00b7\"; padding: 0 .5ex}\n",
              "</style>\n",
              "<ol class=list-inline><li>100</li><li>4</li></ol>\n"
            ],
            "text/markdown": "1. 100\n2. 4\n\n\n",
            "text/latex": "\\begin{enumerate*}\n\\item 100\n\\item 4\n\\end{enumerate*}\n",
            "text/plain": [
              "[1] 100   4"
            ]
          },
          "metadata": {}
        }
      ]
    },
    {
      "cell_type": "markdown",
      "metadata": {
        "id": "5fmGF0Qam5aN"
      },
      "source": [
        "## 5.4 Cómo guardar ambiente de trabajo o variables definidas en el\n",
        "\n",
        "### Directorio de trabajo\n",
        "\n",
        "El directorio de trabajo corresponde a la ubicación en el sistema de archivos, desde donde la sesión de R podrá acceder directamente para guardar o cargar datos.\n"
      ]
    },
    {
      "cell_type": "code",
      "metadata": {
        "trusted": true,
        "id": "OfyO5MKOm5aO",
        "outputId": "e1b0364b-b6d4-40a9-bdc1-ef8d1e3686d7",
        "colab": {
          "base_uri": "https://localhost:8080/",
          "height": 34
        }
      },
      "source": [
        "# para saber en qué directorio se está trabajando\n",
        "getwd()"
      ],
      "execution_count": 20,
      "outputs": [
        {
          "output_type": "display_data",
          "data": {
            "text/html": [
              "'/content'"
            ],
            "text/markdown": "'/content'",
            "text/latex": "'/content'",
            "text/plain": [
              "[1] \"/content\""
            ]
          },
          "metadata": {}
        }
      ]
    },
    {
      "cell_type": "code",
      "metadata": {
        "trusted": true,
        "id": "fHZIjYhRm5aQ"
      },
      "source": [
        "# para cambiar el directorio de trabajo\n",
        "setwd(\"./sample_data\")\n"
      ],
      "execution_count": 22,
      "outputs": []
    },
    {
      "cell_type": "markdown",
      "metadata": {
        "id": "_M-D6sgRm5aU"
      },
      "source": [
        "### Formato rds\n",
        "\n",
        "Una manera de guardar variables creadas en el ambiente de la sessión de R, es mediante la utilización del formato *.rds. Este formato permite guardar los objetos declarados y leerlos rápidamente en cualquier otra sesión que se inicie posteriormente. Es últil por ejemplo para guardar en disco modelos entrenados para ser utilizados para predicciones futuras.\n"
      ]
    },
    {
      "cell_type": "code",
      "metadata": {
        "trusted": true,
        "id": "11jJ5B50m5aV"
      },
      "source": [
        "# Función saveRDS() # Guardar\n",
        "# guarde en el directorio actual el dataframe _precipitaciones_\n",
        "saveRDS(precipitaciones, \"prep_data.rds\")\n",
        "saveRDS(temp, \"../prep_data2.rds\")"
      ],
      "execution_count": 25,
      "outputs": []
    },
    {
      "cell_type": "code",
      "metadata": {
        "trusted": true,
        "id": "DixES_Kjm5ah",
        "outputId": "ad186da2-78a6-4a51-9503-4ecce2d1b20b",
        "colab": {
          "base_uri": "https://localhost:8080/",
          "height": 451
        }
      },
      "source": [
        "# readRDS()  Leer, pero ojo que es necesario asignar  a una variable\n",
        "prep2 <- readRDS(\"../prep_data2.rds\")\n",
        "prep2"
      ],
      "execution_count": 27,
      "outputs": [
        {
          "output_type": "display_data",
          "data": {
            "text/html": [
              "<style>\n",
              ".list-inline {list-style: none; margin:0; padding: 0}\n",
              ".list-inline>li {display: inline-block}\n",
              ".list-inline>li:not(:last-child)::after {content: \"\\00b7\"; padding: 0 .5ex}\n",
              "</style>\n",
              "<ol class=list-inline><li>17.2320785275409</li><li>24.0521105011069</li><li>21.3815474413961</li><li>17.5907724949243</li><li>30.8926820870898</li><li>29.4388709689323</li><li>13.9077575123946</li><li>28.7386401623485</li><li>27.011796148698</li><li>23.796641339468</li><li>14.0126828850149</li><li>9.15514433756918</li><li>30.5710526051899</li><li>24.8728563009769</li><li>25.2701845692783</li><li>32.3501775052924</li><li>30.0678485911292</li><li>30.7930552298668</li><li>20.436614350931</li><li>34.7327316711101</li><li>8.40242814935749</li><li>33.8628273659332</li><li>17.1880000096434</li><li>3.30074266583366</li><li>18.5331412706531</li><li>1.22940310510206</li><li>9.45645309054173</li><li>30.4687837849163</li><li>29.7654490025053</li><li>26.2217700199306</li><li>20.0056831688067</li><li>25.7181868179987</li><li>24.2090526328944</li><li>32.3133416215011</li><li>26.7147956878095</li><li>20.9630401751077</li><li>14.7719378800305</li><li>18.6835221056945</li><li>21.3630980392824</li><li>21.931722839269</li><li>14.2791678350074</li><li>27.7388995785248</li><li>23.8677321708842</li><li>25.0392283209722</li><li>5.55001863023063</li><li>22.0438375328006</li><li>7.89702221052895</li><li>20.3336155327828</li><li>27.6377892344935</li><li>15.6604128119413</li><li>14.2891268000665</li><li>29.6571116419369</li><li>18.6502905048311</li><li>22.9764615665868</li><li>30.959676361573</li><li>16.0852371175322</li><li>1.23194841685964</li><li>10.8784469569648</li><li>25.6667957155463</li><li>20.1525577164304</li><li>23.4221652253963</li><li>9.34963166932094</li><li>24.4671222491915</li><li>20.3776687910716</li><li>9.02870900256088</li><li>17.4817565079985</li><li>1.32415747110416</li><li>12.1677673806342</li><li>20.7620680726913</li><li>23.3957980449675</li><li>17.0149046222471</li><li>16.2823076791711</li><li>24.5727587544389</li><li>19.6209096891154</li><li>32.7129195699946</li><li>17.8377944157778</li><li>30.1493202296247</li><li>17.2559040686438</li><li>20.8093549371708</li><li>36.7174615883409</li><li>10.5964573705279</li><li>19.428753431351</li><li>10.4902546345028</li><li>14.8485677200732</li><li>25.4511149617042</li><li>32.6778045523308</li><li>32.132999195797</li><li>16.8742623966282</li><li>29.3442115697007</li><li>23.6454999017324</li><li>20.0372729218811</li><li>24.5671505931195</li><li>25.7736092406374</li><li>21.143983328723</li><li>51.1951351334585</li><li>18.9749014922939</li><li>36.260331492086</li><li>22.8229389689871</li><li>22.7123415008625</li><li>25.1373885493354</li></ol>\n"
            ],
            "text/markdown": "1. 17.2320785275409\n2. 24.0521105011069\n3. 21.3815474413961\n4. 17.5907724949243\n5. 30.8926820870898\n6. 29.4388709689323\n7. 13.9077575123946\n8. 28.7386401623485\n9. 27.011796148698\n10. 23.796641339468\n11. 14.0126828850149\n12. 9.15514433756918\n13. 30.5710526051899\n14. 24.8728563009769\n15. 25.2701845692783\n16. 32.3501775052924\n17. 30.0678485911292\n18. 30.7930552298668\n19. 20.436614350931\n20. 34.7327316711101\n21. 8.40242814935749\n22. 33.8628273659332\n23. 17.1880000096434\n24. 3.30074266583366\n25. 18.5331412706531\n26. 1.22940310510206\n27. 9.45645309054173\n28. 30.4687837849163\n29. 29.7654490025053\n30. 26.2217700199306\n31. 20.0056831688067\n32. 25.7181868179987\n33. 24.2090526328944\n34. 32.3133416215011\n35. 26.7147956878095\n36. 20.9630401751077\n37. 14.7719378800305\n38. 18.6835221056945\n39. 21.3630980392824\n40. 21.931722839269\n41. 14.2791678350074\n42. 27.7388995785248\n43. 23.8677321708842\n44. 25.0392283209722\n45. 5.55001863023063\n46. 22.0438375328006\n47. 7.89702221052895\n48. 20.3336155327828\n49. 27.6377892344935\n50. 15.6604128119413\n51. 14.2891268000665\n52. 29.6571116419369\n53. 18.6502905048311\n54. 22.9764615665868\n55. 30.959676361573\n56. 16.0852371175322\n57. 1.23194841685964\n58. 10.8784469569648\n59. 25.6667957155463\n60. 20.1525577164304\n61. 23.4221652253963\n62. 9.34963166932094\n63. 24.4671222491915\n64. 20.3776687910716\n65. 9.02870900256088\n66. 17.4817565079985\n67. 1.32415747110416\n68. 12.1677673806342\n69. 20.7620680726913\n70. 23.3957980449675\n71. 17.0149046222471\n72. 16.2823076791711\n73. 24.5727587544389\n74. 19.6209096891154\n75. 32.7129195699946\n76. 17.8377944157778\n77. 30.1493202296247\n78. 17.2559040686438\n79. 20.8093549371708\n80. 36.7174615883409\n81. 10.5964573705279\n82. 19.428753431351\n83. 10.4902546345028\n84. 14.8485677200732\n85. 25.4511149617042\n86. 32.6778045523308\n87. 32.132999195797\n88. 16.8742623966282\n89. 29.3442115697007\n90. 23.6454999017324\n91. 20.0372729218811\n92. 24.5671505931195\n93. 25.7736092406374\n94. 21.143983328723\n95. 51.1951351334585\n96. 18.9749014922939\n97. 36.260331492086\n98. 22.8229389689871\n99. 22.7123415008625\n100. 25.1373885493354\n\n\n",
            "text/latex": "\\begin{enumerate*}\n\\item 17.2320785275409\n\\item 24.0521105011069\n\\item 21.3815474413961\n\\item 17.5907724949243\n\\item 30.8926820870898\n\\item 29.4388709689323\n\\item 13.9077575123946\n\\item 28.7386401623485\n\\item 27.011796148698\n\\item 23.796641339468\n\\item 14.0126828850149\n\\item 9.15514433756918\n\\item 30.5710526051899\n\\item 24.8728563009769\n\\item 25.2701845692783\n\\item 32.3501775052924\n\\item 30.0678485911292\n\\item 30.7930552298668\n\\item 20.436614350931\n\\item 34.7327316711101\n\\item 8.40242814935749\n\\item 33.8628273659332\n\\item 17.1880000096434\n\\item 3.30074266583366\n\\item 18.5331412706531\n\\item 1.22940310510206\n\\item 9.45645309054173\n\\item 30.4687837849163\n\\item 29.7654490025053\n\\item 26.2217700199306\n\\item 20.0056831688067\n\\item 25.7181868179987\n\\item 24.2090526328944\n\\item 32.3133416215011\n\\item 26.7147956878095\n\\item 20.9630401751077\n\\item 14.7719378800305\n\\item 18.6835221056945\n\\item 21.3630980392824\n\\item 21.931722839269\n\\item 14.2791678350074\n\\item 27.7388995785248\n\\item 23.8677321708842\n\\item 25.0392283209722\n\\item 5.55001863023063\n\\item 22.0438375328006\n\\item 7.89702221052895\n\\item 20.3336155327828\n\\item 27.6377892344935\n\\item 15.6604128119413\n\\item 14.2891268000665\n\\item 29.6571116419369\n\\item 18.6502905048311\n\\item 22.9764615665868\n\\item 30.959676361573\n\\item 16.0852371175322\n\\item 1.23194841685964\n\\item 10.8784469569648\n\\item 25.6667957155463\n\\item 20.1525577164304\n\\item 23.4221652253963\n\\item 9.34963166932094\n\\item 24.4671222491915\n\\item 20.3776687910716\n\\item 9.02870900256088\n\\item 17.4817565079985\n\\item 1.32415747110416\n\\item 12.1677673806342\n\\item 20.7620680726913\n\\item 23.3957980449675\n\\item 17.0149046222471\n\\item 16.2823076791711\n\\item 24.5727587544389\n\\item 19.6209096891154\n\\item 32.7129195699946\n\\item 17.8377944157778\n\\item 30.1493202296247\n\\item 17.2559040686438\n\\item 20.8093549371708\n\\item 36.7174615883409\n\\item 10.5964573705279\n\\item 19.428753431351\n\\item 10.4902546345028\n\\item 14.8485677200732\n\\item 25.4511149617042\n\\item 32.6778045523308\n\\item 32.132999195797\n\\item 16.8742623966282\n\\item 29.3442115697007\n\\item 23.6454999017324\n\\item 20.0372729218811\n\\item 24.5671505931195\n\\item 25.7736092406374\n\\item 21.143983328723\n\\item 51.1951351334585\n\\item 18.9749014922939\n\\item 36.260331492086\n\\item 22.8229389689871\n\\item 22.7123415008625\n\\item 25.1373885493354\n\\end{enumerate*}\n",
            "text/plain": [
              "  [1] 17.232079 24.052111 21.381547 17.590772 30.892682 29.438871 13.907758\n",
              "  [8] 28.738640 27.011796 23.796641 14.012683  9.155144 30.571053 24.872856\n",
              " [15] 25.270185 32.350178 30.067849 30.793055 20.436614 34.732732  8.402428\n",
              " [22] 33.862827 17.188000  3.300743 18.533141  1.229403  9.456453 30.468784\n",
              " [29] 29.765449 26.221770 20.005683 25.718187 24.209053 32.313342 26.714796\n",
              " [36] 20.963040 14.771938 18.683522 21.363098 21.931723 14.279168 27.738900\n",
              " [43] 23.867732 25.039228  5.550019 22.043838  7.897022 20.333616 27.637789\n",
              " [50] 15.660413 14.289127 29.657112 18.650291 22.976462 30.959676 16.085237\n",
              " [57]  1.231948 10.878447 25.666796 20.152558 23.422165  9.349632 24.467122\n",
              " [64] 20.377669  9.028709 17.481757  1.324157 12.167767 20.762068 23.395798\n",
              " [71] 17.014905 16.282308 24.572759 19.620910 32.712920 17.837794 30.149320\n",
              " [78] 17.255904 20.809355 36.717462 10.596457 19.428753 10.490255 14.848568\n",
              " [85] 25.451115 32.677805 32.132999 16.874262 29.344212 23.645500 20.037273\n",
              " [92] 24.567151 25.773609 21.143983 51.195135 18.974901 36.260331 22.822939\n",
              " [99] 22.712342 25.137389"
            ]
          },
          "metadata": {}
        }
      ]
    },
    {
      "cell_type": "markdown",
      "metadata": {
        "id": "_4pmC4cBm5as"
      },
      "source": [
        "### Formato RData\n",
        "\n",
        "Cuando se quiere guardar el ambiente de trabajo completo, o bien un mayor número de objetos ya creados, se puede utilizar la función _save_\n"
      ]
    },
    {
      "cell_type": "code",
      "metadata": {
        "trusted": true,
        "id": "M5yFyJ27m5at"
      },
      "source": [
        "# Función save para guardar uno o más objetos del ambiente.\n",
        "save(temp,precipitaciones,dia, file = \"../ambiente1.RData\" )\n"
      ],
      "execution_count": 28,
      "outputs": []
    },
    {
      "cell_type": "code",
      "metadata": {
        "trusted": true,
        "id": "YDmd1Npmm5ay"
      },
      "source": [
        "# Eventualmente podemos \"cargar \" a sesión, con la función load()\n",
        "load(\"../ambiente1.RData\")"
      ],
      "execution_count": 29,
      "outputs": []
    },
    {
      "cell_type": "code",
      "source": [
        "ls()"
      ],
      "metadata": {
        "id": "yT2MOZjZoWPv",
        "outputId": "e2f095eb-9433-47e2-ffa3-03bda8ef613e",
        "colab": {
          "base_uri": "https://localhost:8080/",
          "height": 34
        }
      },
      "execution_count": 30,
      "outputs": [
        {
          "output_type": "display_data",
          "data": {
            "text/html": [
              "<style>\n",
              ".list-inline {list-style: none; margin:0; padding: 0}\n",
              ".list-inline>li {display: inline-block}\n",
              ".list-inline>li:not(:last-child)::after {content: \"\\00b7\"; padding: 0 .5ex}\n",
              "</style>\n",
              "<ol class=list-inline><li>'dia'</li><li>'est'</li><li>'Length'</li><li>'lluvia'</li><li>'posiciones_eliminar'</li><li>'precipitaciones'</li><li>'prep2'</li><li>'temp'</li></ol>\n"
            ],
            "text/markdown": "1. 'dia'\n2. 'est'\n3. 'Length'\n4. 'lluvia'\n5. 'posiciones_eliminar'\n6. 'precipitaciones'\n7. 'prep2'\n8. 'temp'\n\n\n",
            "text/latex": "\\begin{enumerate*}\n\\item 'dia'\n\\item 'est'\n\\item 'Length'\n\\item 'lluvia'\n\\item 'posiciones\\_eliminar'\n\\item 'precipitaciones'\n\\item 'prep2'\n\\item 'temp'\n\\end{enumerate*}\n",
            "text/plain": [
              "[1] \"dia\"                 \"est\"                 \"Length\"             \n",
              "[4] \"lluvia\"              \"posiciones_eliminar\" \"precipitaciones\"    \n",
              "[7] \"prep2\"               \"temp\"               "
            ]
          },
          "metadata": {}
        }
      ]
    }
  ]
}