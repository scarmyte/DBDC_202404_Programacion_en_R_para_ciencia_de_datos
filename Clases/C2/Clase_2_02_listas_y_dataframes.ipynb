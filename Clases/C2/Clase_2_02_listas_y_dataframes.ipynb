{
  "nbformat": 4,
  "nbformat_minor": 0,
  "metadata": {
    "colab": {
      "provenance": [],
      "include_colab_link": true
    },
    "kernelspec": {
      "name": "ir",
      "display_name": "R"
    }
  },
  "cells": [
    {
      "cell_type": "markdown",
      "metadata": {
        "id": "view-in-github",
        "colab_type": "text"
      },
      "source": [
        "<a href=\"https://colab.research.google.com/github/majorquev/DBDC_202404_Programacion_en_R_para_ciencia_de_datos/blob/main/Clases/C2/Clase_2_02_listas_y_dataframes.ipynb\" target=\"_parent\"><img src=\"https://colab.research.google.com/assets/colab-badge.svg\" alt=\"Open In Colab\"/></a>"
      ]
    },
    {
      "cell_type": "markdown",
      "metadata": {
        "collapsed": true,
        "id": "fgQ2azLwTpRn"
      },
      "source": [
        "# Parte 1: Introducción a R (continuación)\n",
        "\n",
        "**Autor:** Miguel Jorquera Viguera<br>\n",
        "**E-mail:** majorquev@gmail.com<br>\n",
        "**Ayudante:** Rodrigo Morales <br>\n",
        "**E-mail ayudante:** rumorale1@gmail.com\n",
        "\n",
        "\n",
        "## 5. Listas y Dataframes\n",
        "\n",
        "### 5.1 Listas\n",
        "\n",
        "Hasta aquí contamos con dos tipos de objetos para almacenar datos; vectores y matrices. Sin embargo, en ambos casos se tiene la limitante de que no es posible combinar distintos tipos de datos en diferentes entradas. Un objeto que permite una mayor flexibilidad son las listas. En R, una lista es básicamente un arreglo unidimensional, donde en cada entrada es posible almacenar distintos **objetos** (los cuales a su vez pueden almacenar distintos tipos de datos (u otros objetos).\n",
        "En resumen,\n",
        "\n",
        "   * ¿Qué son?<br>\n",
        "    Arreglos unidimensionales que guardan distintos tipos de datos u objetos.<br>\n",
        "\n",
        "   * ¿Cómo se declaran?<br>\n",
        "    Se pueden declarar mediante el comando list() o combinando listas existentes. <br>\n",
        "    \n",
        "   * ¿Cómo se accede a sus elementos?<br>\n",
        "    Usando [ ] (retorna lista), o bien usando [ [ ] ] (retorna el objeto).\n",
        "    En cada caso se puede indicar la posición o nombre del objeto que se quiere rescatar.<br>\n",
        "    Otra manera es mediante el símbolo $ seguido del nombre del objeto.\n",
        "\n"
      ]
    },
    {
      "cell_type": "code",
      "metadata": {
        "trusted": true,
        "id": "zZHpLzzRTpRp"
      },
      "source": [
        "# 5. Listas y dataframes ------------\n",
        "# 5.1 Listas  ------------\n",
        "# Cómo declarar una lista (comando list() )\n",
        "#num,letra, pl, mat, lista\n",
        "l1 <- list(num = c(1,1,2,3),\n",
        "           letras = c(\"X\",\"Y\",\"Z\"),\n",
        "           pl = \"Miguel jorquera\",\n",
        "           mat = diag(1:3),\n",
        "           sub_l = list(a = Sys.Date(),\n",
        "                        v = c(T,T,F)))"
      ],
      "execution_count": 6,
      "outputs": []
    },
    {
      "cell_type": "code",
      "source": [
        "length(l1)\n",
        "class(l1)"
      ],
      "metadata": {
        "id": "B24a1hs27se4",
        "outputId": "762af07a-18be-442d-8b49-619a26825ef3",
        "colab": {
          "base_uri": "https://localhost:8080/",
          "height": 52
        }
      },
      "execution_count": 19,
      "outputs": [
        {
          "output_type": "display_data",
          "data": {
            "text/html": [
              "5"
            ],
            "text/markdown": "5",
            "text/latex": "5",
            "text/plain": [
              "[1] 5"
            ]
          },
          "metadata": {}
        },
        {
          "output_type": "display_data",
          "data": {
            "text/html": [
              "'list'"
            ],
            "text/markdown": "'list'",
            "text/latex": "'list'",
            "text/plain": [
              "[1] \"list\""
            ]
          },
          "metadata": {}
        }
      ]
    },
    {
      "cell_type": "code",
      "source": [
        "l1"
      ],
      "metadata": {
        "id": "N1fLkvDB70Vn",
        "outputId": "3bfe0363-35c1-45bf-a6fd-f6c95afb1fa6",
        "colab": {
          "base_uri": "https://localhost:8080/",
          "height": 413
        }
      },
      "execution_count": 10,
      "outputs": [
        {
          "output_type": "display_data",
          "data": {
            "text/html": [
              "<dl>\n",
              "\t<dt>$num</dt>\n",
              "\t\t<dd><style>\n",
              ".list-inline {list-style: none; margin:0; padding: 0}\n",
              ".list-inline>li {display: inline-block}\n",
              ".list-inline>li:not(:last-child)::after {content: \"\\00b7\"; padding: 0 .5ex}\n",
              "</style>\n",
              "<ol class=list-inline><li>1</li><li>1</li><li>2</li><li>3</li></ol>\n",
              "</dd>\n",
              "\t<dt>$letras</dt>\n",
              "\t\t<dd><style>\n",
              ".list-inline {list-style: none; margin:0; padding: 0}\n",
              ".list-inline>li {display: inline-block}\n",
              ".list-inline>li:not(:last-child)::after {content: \"\\00b7\"; padding: 0 .5ex}\n",
              "</style>\n",
              "<ol class=list-inline><li>'X'</li><li>'Y'</li><li>'Z'</li></ol>\n",
              "</dd>\n",
              "\t<dt>$pl</dt>\n",
              "\t\t<dd>'Miguel jorquera'</dd>\n",
              "\t<dt>$mat</dt>\n",
              "\t\t<dd><table class=\"dataframe\">\n",
              "<caption>A matrix: 3 × 3 of type int</caption>\n",
              "<tbody>\n",
              "\t<tr><td>1</td><td>0</td><td>0</td></tr>\n",
              "\t<tr><td>0</td><td>2</td><td>0</td></tr>\n",
              "\t<tr><td>0</td><td>0</td><td>3</td></tr>\n",
              "</tbody>\n",
              "</table>\n",
              "</dd>\n",
              "\t<dt>$sub_l</dt>\n",
              "\t\t<dd><dl>\n",
              "\t<dt>$a</dt>\n",
              "\t\t<dd><time datetime=\"2024-04-19\">2024-04-19</time></dd>\n",
              "\t<dt>$v</dt>\n",
              "\t\t<dd><style>\n",
              ".list-inline {list-style: none; margin:0; padding: 0}\n",
              ".list-inline>li {display: inline-block}\n",
              ".list-inline>li:not(:last-child)::after {content: \"\\00b7\"; padding: 0 .5ex}\n",
              "</style>\n",
              "<ol class=list-inline><li>TRUE</li><li>TRUE</li><li>FALSE</li></ol>\n",
              "</dd>\n",
              "</dl>\n",
              "</dd>\n",
              "</dl>\n"
            ],
            "text/markdown": "$num\n:   1. 1\n2. 1\n3. 2\n4. 3\n\n\n\n$letras\n:   1. 'X'\n2. 'Y'\n3. 'Z'\n\n\n\n$pl\n:   'Miguel jorquera'\n$mat\n:   \nA matrix: 3 × 3 of type int\n\n| 1 | 0 | 0 |\n| 0 | 2 | 0 |\n| 0 | 0 | 3 |\n\n\n$sub_l\n:   $a\n:   2024-04-19\n$v\n:   1. TRUE\n2. TRUE\n3. FALSE\n\n\n\n\n\n\n\n\n",
            "text/latex": "\\begin{description}\n\\item[\\$num] \\begin{enumerate*}\n\\item 1\n\\item 1\n\\item 2\n\\item 3\n\\end{enumerate*}\n\n\\item[\\$letras] \\begin{enumerate*}\n\\item 'X'\n\\item 'Y'\n\\item 'Z'\n\\end{enumerate*}\n\n\\item[\\$pl] 'Miguel jorquera'\n\\item[\\$mat] A matrix: 3 × 3 of type int\n\\begin{tabular}{lll}\n\t 1 & 0 & 0\\\\\n\t 0 & 2 & 0\\\\\n\t 0 & 0 & 3\\\\\n\\end{tabular}\n\n\\item[\\$sub\\_l] \\begin{description}\n\\item[\\$a] 2024-04-19\n\\item[\\$v] \\begin{enumerate*}\n\\item TRUE\n\\item TRUE\n\\item FALSE\n\\end{enumerate*}\n\n\\end{description}\n\n\\end{description}\n",
            "text/plain": [
              "$num\n",
              "[1] 1 1 2 3\n",
              "\n",
              "$letras\n",
              "[1] \"X\" \"Y\" \"Z\"\n",
              "\n",
              "$pl\n",
              "[1] \"Miguel jorquera\"\n",
              "\n",
              "$mat\n",
              "     [,1] [,2] [,3]\n",
              "[1,]    1    0    0\n",
              "[2,]    0    2    0\n",
              "[3,]    0    0    3\n",
              "\n",
              "$sub_l\n",
              "$sub_l$a\n",
              "[1] \"2024-04-19\"\n",
              "\n",
              "$sub_l$v\n",
              "[1]  TRUE  TRUE FALSE\n",
              "\n"
            ]
          },
          "metadata": {}
        }
      ]
    },
    {
      "cell_type": "code",
      "metadata": {
        "id": "_iwOQA-xTzww",
        "outputId": "b0415be2-ffd7-4061-80ce-a3c2f487bd69",
        "colab": {
          "base_uri": "https://localhost:8080/"
        }
      },
      "source": [
        "# estructura\n",
        "str(l1)"
      ],
      "execution_count": 11,
      "outputs": [
        {
          "output_type": "stream",
          "name": "stdout",
          "text": [
            "List of 5\n",
            " $ num   : num [1:4] 1 1 2 3\n",
            " $ letras: chr [1:3] \"X\" \"Y\" \"Z\"\n",
            " $ pl    : chr \"Miguel jorquera\"\n",
            " $ mat   : int [1:3, 1:3] 1 0 0 0 2 0 0 0 3\n",
            " $ sub_l :List of 2\n",
            "  ..$ a: Date[1:1], format: \"2024-04-19\"\n",
            "  ..$ v: logi [1:3] TRUE TRUE FALSE\n"
          ]
        }
      ]
    },
    {
      "cell_type": "code",
      "metadata": {
        "trusted": true,
        "id": "Ao1wFCByTpRx",
        "outputId": "e51a461f-1d55-4874-bfe6-95811a7f2d32",
        "colab": {
          "base_uri": "https://localhost:8080/",
          "height": 97
        }
      },
      "source": [
        "# Podemos guardar los objetos en slots con nombres\n",
        "l0 <- list(1,\"B\",1:4)\n",
        "l0"
      ],
      "execution_count": 14,
      "outputs": [
        {
          "output_type": "display_data",
          "data": {
            "text/html": [
              "<ol>\n",
              "\t<li>1</li>\n",
              "\t<li>'B'</li>\n",
              "\t<li><style>\n",
              ".list-inline {list-style: none; margin:0; padding: 0}\n",
              ".list-inline>li {display: inline-block}\n",
              ".list-inline>li:not(:last-child)::after {content: \"\\00b7\"; padding: 0 .5ex}\n",
              "</style>\n",
              "<ol class=list-inline><li>1</li><li>2</li><li>3</li><li>4</li></ol>\n",
              "</li>\n",
              "</ol>\n"
            ],
            "text/markdown": "1. 1\n2. 'B'\n3. 1. 1\n2. 2\n3. 3\n4. 4\n\n\n\n\n\n",
            "text/latex": "\\begin{enumerate}\n\\item 1\n\\item 'B'\n\\item \\begin{enumerate*}\n\\item 1\n\\item 2\n\\item 3\n\\item 4\n\\end{enumerate*}\n\n\\end{enumerate}\n",
            "text/plain": [
              "[[1]]\n",
              "[1] 1\n",
              "\n",
              "[[2]]\n",
              "[1] \"B\"\n",
              "\n",
              "[[3]]\n",
              "[1] 1 2 3 4\n"
            ]
          },
          "metadata": {}
        }
      ]
    },
    {
      "cell_type": "code",
      "source": [
        "str(l0)"
      ],
      "metadata": {
        "id": "__Kv4tHh8SbA",
        "outputId": "57c9a9e4-f973-4c99-a103-c4f5fc0628a6",
        "colab": {
          "base_uri": "https://localhost:8080/"
        }
      },
      "execution_count": 15,
      "outputs": [
        {
          "output_type": "stream",
          "name": "stdout",
          "text": [
            "List of 3\n",
            " $ : num 1\n",
            " $ : chr \"B\"\n",
            " $ : int [1:4] 1 2 3 4\n"
          ]
        }
      ]
    },
    {
      "cell_type": "code",
      "metadata": {
        "trusted": true,
        "id": "GBuxGL4cTpR0",
        "outputId": "2b67856f-774e-4acc-852e-bf79e8ad042e",
        "colab": {
          "base_uri": "https://localhost:8080/"
        }
      },
      "source": [
        "# Podemos combinar listas\n",
        "l2 <- c(l1,l0)\n",
        "str(l2)"
      ],
      "execution_count": 17,
      "outputs": [
        {
          "output_type": "stream",
          "name": "stdout",
          "text": [
            "List of 8\n",
            " $ num   : num [1:4] 1 1 2 3\n",
            " $ letras: chr [1:3] \"X\" \"Y\" \"Z\"\n",
            " $ pl    : chr \"Miguel jorquera\"\n",
            " $ mat   : int [1:3, 1:3] 1 0 0 0 2 0 0 0 3\n",
            " $ sub_l :List of 2\n",
            "  ..$ a: Date[1:1], format: \"2024-04-19\"\n",
            "  ..$ v: logi [1:3] TRUE TRUE FALSE\n",
            " $       : num 1\n",
            " $       : chr \"B\"\n",
            " $       : int [1:4] 1 2 3 4\n"
          ]
        }
      ]
    },
    {
      "cell_type": "code",
      "metadata": {
        "trusted": true,
        "id": "uUv7BQfnTpR3",
        "outputId": "4adc0802-b442-444d-d24e-c26965db8bf5",
        "colab": {
          "base_uri": "https://localhost:8080/",
          "height": 52
        }
      },
      "source": [
        "# Acceso mediante posición\n",
        "l1[2]"
      ],
      "execution_count": 18,
      "outputs": [
        {
          "output_type": "display_data",
          "data": {
            "text/html": [
              "<strong>$letras</strong> = <style>\n",
              ".list-inline {list-style: none; margin:0; padding: 0}\n",
              ".list-inline>li {display: inline-block}\n",
              ".list-inline>li:not(:last-child)::after {content: \"\\00b7\"; padding: 0 .5ex}\n",
              "</style>\n",
              "<ol class=list-inline><li>'X'</li><li>'Y'</li><li>'Z'</li></ol>\n"
            ],
            "text/markdown": "**$letras** = 1. 'X'\n2. 'Y'\n3. 'Z'\n\n\n",
            "text/latex": "\\textbf{\\$letras} = \\begin{enumerate*}\n\\item 'X'\n\\item 'Y'\n\\item 'Z'\n\\end{enumerate*}\n",
            "text/plain": [
              "$letras\n",
              "[1] \"X\" \"Y\" \"Z\"\n"
            ]
          },
          "metadata": {}
        }
      ]
    },
    {
      "cell_type": "code",
      "source": [
        "class(l1[2])"
      ],
      "metadata": {
        "id": "kcI42ZeZ9HI1",
        "outputId": "f76354da-dfca-46f5-9554-91ba2005b29d",
        "colab": {
          "base_uri": "https://localhost:8080/",
          "height": 34
        }
      },
      "execution_count": 20,
      "outputs": [
        {
          "output_type": "display_data",
          "data": {
            "text/html": [
              "'list'"
            ],
            "text/markdown": "'list'",
            "text/latex": "'list'",
            "text/plain": [
              "[1] \"list\""
            ]
          },
          "metadata": {}
        }
      ]
    },
    {
      "cell_type": "code",
      "metadata": {
        "trusted": true,
        "id": "L3RDKUqOTpR5",
        "outputId": "fd70c55f-bcae-4b12-a27d-800b71409b19",
        "colab": {
          "base_uri": "https://localhost:8080/",
          "height": 379
        }
      },
      "source": [
        "l1[2:5]"
      ],
      "execution_count": 21,
      "outputs": [
        {
          "output_type": "display_data",
          "data": {
            "text/html": [
              "<dl>\n",
              "\t<dt>$letras</dt>\n",
              "\t\t<dd><style>\n",
              ".list-inline {list-style: none; margin:0; padding: 0}\n",
              ".list-inline>li {display: inline-block}\n",
              ".list-inline>li:not(:last-child)::after {content: \"\\00b7\"; padding: 0 .5ex}\n",
              "</style>\n",
              "<ol class=list-inline><li>'X'</li><li>'Y'</li><li>'Z'</li></ol>\n",
              "</dd>\n",
              "\t<dt>$pl</dt>\n",
              "\t\t<dd>'Miguel jorquera'</dd>\n",
              "\t<dt>$mat</dt>\n",
              "\t\t<dd><table class=\"dataframe\">\n",
              "<caption>A matrix: 3 × 3 of type int</caption>\n",
              "<tbody>\n",
              "\t<tr><td>1</td><td>0</td><td>0</td></tr>\n",
              "\t<tr><td>0</td><td>2</td><td>0</td></tr>\n",
              "\t<tr><td>0</td><td>0</td><td>3</td></tr>\n",
              "</tbody>\n",
              "</table>\n",
              "</dd>\n",
              "\t<dt>$sub_l</dt>\n",
              "\t\t<dd><dl>\n",
              "\t<dt>$a</dt>\n",
              "\t\t<dd><time datetime=\"2024-04-19\">2024-04-19</time></dd>\n",
              "\t<dt>$v</dt>\n",
              "\t\t<dd><style>\n",
              ".list-inline {list-style: none; margin:0; padding: 0}\n",
              ".list-inline>li {display: inline-block}\n",
              ".list-inline>li:not(:last-child)::after {content: \"\\00b7\"; padding: 0 .5ex}\n",
              "</style>\n",
              "<ol class=list-inline><li>TRUE</li><li>TRUE</li><li>FALSE</li></ol>\n",
              "</dd>\n",
              "</dl>\n",
              "</dd>\n",
              "</dl>\n"
            ],
            "text/markdown": "$letras\n:   1. 'X'\n2. 'Y'\n3. 'Z'\n\n\n\n$pl\n:   'Miguel jorquera'\n$mat\n:   \nA matrix: 3 × 3 of type int\n\n| 1 | 0 | 0 |\n| 0 | 2 | 0 |\n| 0 | 0 | 3 |\n\n\n$sub_l\n:   $a\n:   2024-04-19\n$v\n:   1. TRUE\n2. TRUE\n3. FALSE\n\n\n\n\n\n\n\n\n",
            "text/latex": "\\begin{description}\n\\item[\\$letras] \\begin{enumerate*}\n\\item 'X'\n\\item 'Y'\n\\item 'Z'\n\\end{enumerate*}\n\n\\item[\\$pl] 'Miguel jorquera'\n\\item[\\$mat] A matrix: 3 × 3 of type int\n\\begin{tabular}{lll}\n\t 1 & 0 & 0\\\\\n\t 0 & 2 & 0\\\\\n\t 0 & 0 & 3\\\\\n\\end{tabular}\n\n\\item[\\$sub\\_l] \\begin{description}\n\\item[\\$a] 2024-04-19\n\\item[\\$v] \\begin{enumerate*}\n\\item TRUE\n\\item TRUE\n\\item FALSE\n\\end{enumerate*}\n\n\\end{description}\n\n\\end{description}\n",
            "text/plain": [
              "$letras\n",
              "[1] \"X\" \"Y\" \"Z\"\n",
              "\n",
              "$pl\n",
              "[1] \"Miguel jorquera\"\n",
              "\n",
              "$mat\n",
              "     [,1] [,2] [,3]\n",
              "[1,]    1    0    0\n",
              "[2,]    0    2    0\n",
              "[3,]    0    0    3\n",
              "\n",
              "$sub_l\n",
              "$sub_l$a\n",
              "[1] \"2024-04-19\"\n",
              "\n",
              "$sub_l$v\n",
              "[1]  TRUE  TRUE FALSE\n",
              "\n"
            ]
          },
          "metadata": {}
        }
      ]
    },
    {
      "cell_type": "code",
      "source": [
        "l1[4][2,] # R no lo entiende pues es una lista con la matriz"
      ],
      "metadata": {
        "id": "uLZ112929ev5",
        "outputId": "b798f9ae-5e6d-401e-fae7-62e986ee8e2f",
        "colab": {
          "base_uri": "https://localhost:8080/",
          "height": 72
        }
      },
      "execution_count": 24,
      "outputs": [
        {
          "output_type": "error",
          "ename": "ERROR",
          "evalue": "Error in l1[4][2, ]: incorrect number of dimensions\n",
          "traceback": [
            "Error in l1[4][2, ]: incorrect number of dimensions\nTraceback:\n"
          ]
        }
      ]
    },
    {
      "cell_type": "code",
      "metadata": {
        "trusted": true,
        "id": "QbQ8QHARTpR7",
        "outputId": "1b604aa8-3196-45d1-c02c-b3e0f924c5f4",
        "colab": {
          "base_uri": "https://localhost:8080/",
          "height": 361
        }
      },
      "source": [
        "# NOTA lista[.] retorna un lista con un elemento,\n",
        "# lista[[.]] retorna el elmento de la lista lista[.]\n",
        "l1[4]\n",
        "l1[[4]]\n",
        "\n",
        "class(l1[4])\n",
        "class(l1[[4]])"
      ],
      "execution_count": 27,
      "outputs": [
        {
          "output_type": "display_data",
          "data": {
            "text/html": [
              "<strong>$mat</strong> = <table class=\"dataframe\">\n",
              "<caption>A matrix: 3 × 3 of type int</caption>\n",
              "<tbody>\n",
              "\t<tr><td>1</td><td>0</td><td>0</td></tr>\n",
              "\t<tr><td>0</td><td>2</td><td>0</td></tr>\n",
              "\t<tr><td>0</td><td>0</td><td>3</td></tr>\n",
              "</tbody>\n",
              "</table>\n"
            ],
            "text/markdown": "**$mat** = \nA matrix: 3 × 3 of type int\n\n| 1 | 0 | 0 |\n| 0 | 2 | 0 |\n| 0 | 0 | 3 |\n\n",
            "text/latex": "\\textbf{\\$mat} = A matrix: 3 × 3 of type int\n\\begin{tabular}{lll}\n\t 1 & 0 & 0\\\\\n\t 0 & 2 & 0\\\\\n\t 0 & 0 & 3\\\\\n\\end{tabular}\n",
            "text/plain": [
              "$mat\n",
              "     [,1] [,2] [,3]\n",
              "[1,]    1    0    0\n",
              "[2,]    0    2    0\n",
              "[3,]    0    0    3\n"
            ]
          },
          "metadata": {}
        },
        {
          "output_type": "display_data",
          "data": {
            "text/html": [
              "<table class=\"dataframe\">\n",
              "<caption>A matrix: 3 × 3 of type int</caption>\n",
              "<tbody>\n",
              "\t<tr><td>1</td><td>0</td><td>0</td></tr>\n",
              "\t<tr><td>0</td><td>2</td><td>0</td></tr>\n",
              "\t<tr><td>0</td><td>0</td><td>3</td></tr>\n",
              "</tbody>\n",
              "</table>\n"
            ],
            "text/markdown": "\nA matrix: 3 × 3 of type int\n\n| 1 | 0 | 0 |\n| 0 | 2 | 0 |\n| 0 | 0 | 3 |\n\n",
            "text/latex": "A matrix: 3 × 3 of type int\n\\begin{tabular}{lll}\n\t 1 & 0 & 0\\\\\n\t 0 & 2 & 0\\\\\n\t 0 & 0 & 3\\\\\n\\end{tabular}\n",
            "text/plain": [
              "     [,1] [,2] [,3]\n",
              "[1,] 1    0    0   \n",
              "[2,] 0    2    0   \n",
              "[3,] 0    0    3   "
            ]
          },
          "metadata": {}
        },
        {
          "output_type": "display_data",
          "data": {
            "text/html": [
              "'list'"
            ],
            "text/markdown": "'list'",
            "text/latex": "'list'",
            "text/plain": [
              "[1] \"list\""
            ]
          },
          "metadata": {}
        },
        {
          "output_type": "display_data",
          "data": {
            "text/html": [
              "<style>\n",
              ".list-inline {list-style: none; margin:0; padding: 0}\n",
              ".list-inline>li {display: inline-block}\n",
              ".list-inline>li:not(:last-child)::after {content: \"\\00b7\"; padding: 0 .5ex}\n",
              "</style>\n",
              "<ol class=list-inline><li>'matrix'</li><li>'array'</li></ol>\n"
            ],
            "text/markdown": "1. 'matrix'\n2. 'array'\n\n\n",
            "text/latex": "\\begin{enumerate*}\n\\item 'matrix'\n\\item 'array'\n\\end{enumerate*}\n",
            "text/plain": [
              "[1] \"matrix\" \"array\" "
            ]
          },
          "metadata": {}
        }
      ]
    },
    {
      "cell_type": "code",
      "source": [
        "# Queremos rescatar la fila 2 de la matriz que està en la pos 4 de la lista l1\n",
        "\n",
        "l1[[4]][2,]"
      ],
      "metadata": {
        "id": "ripVfO3u99FJ",
        "outputId": "883a3e35-346a-49db-c548-31020561d4a1",
        "colab": {
          "base_uri": "https://localhost:8080/",
          "height": 34
        }
      },
      "execution_count": 28,
      "outputs": [
        {
          "output_type": "display_data",
          "data": {
            "text/html": [
              "<style>\n",
              ".list-inline {list-style: none; margin:0; padding: 0}\n",
              ".list-inline>li {display: inline-block}\n",
              ".list-inline>li:not(:last-child)::after {content: \"\\00b7\"; padding: 0 .5ex}\n",
              "</style>\n",
              "<ol class=list-inline><li>0</li><li>2</li><li>0</li></ol>\n"
            ],
            "text/markdown": "1. 0\n2. 2\n3. 0\n\n\n",
            "text/latex": "\\begin{enumerate*}\n\\item 0\n\\item 2\n\\item 0\n\\end{enumerate*}\n",
            "text/plain": [
              "[1] 0 2 0"
            ]
          },
          "metadata": {}
        }
      ]
    },
    {
      "cell_type": "code",
      "source": [
        "str(l1)"
      ],
      "metadata": {
        "id": "H1E5X6Xj-Hwg",
        "outputId": "202693f7-b2a3-48f0-cc03-50f59deca426",
        "colab": {
          "base_uri": "https://localhost:8080/"
        }
      },
      "execution_count": 29,
      "outputs": [
        {
          "output_type": "stream",
          "name": "stdout",
          "text": [
            "List of 5\n",
            " $ num   : num [1:4] 1 1 2 3\n",
            " $ letras: chr [1:3] \"X\" \"Y\" \"Z\"\n",
            " $ pl    : chr \"Miguel jorquera\"\n",
            " $ mat   : int [1:3, 1:3] 1 0 0 0 2 0 0 0 3\n",
            " $ sub_l :List of 2\n",
            "  ..$ a: Date[1:1], format: \"2024-04-19\"\n",
            "  ..$ v: logi [1:3] TRUE TRUE FALSE\n"
          ]
        }
      ]
    },
    {
      "cell_type": "code",
      "metadata": {
        "trusted": true,
        "id": "kaOJqYJETpSC",
        "outputId": "24409286-d2b7-49bc-db9f-a38e8531f111",
        "colab": {
          "base_uri": "https://localhost:8080/",
          "height": 114
        }
      },
      "source": [
        "# de la lista l1[[5]], quieo el vector que está en el slot llamado \"v\" (segundo elemento)\n",
        "l1[[5]] # Esto es el objeto que está enb la posición 5 (es la lista llamada sub_l)\n"
      ],
      "execution_count": 40,
      "outputs": [
        {
          "output_type": "display_data",
          "data": {
            "text/html": [
              "<dl>\n",
              "\t<dt>$a</dt>\n",
              "\t\t<dd><time datetime=\"2024-04-19\">2024-04-19</time></dd>\n",
              "\t<dt>$v</dt>\n",
              "\t\t<dd><style>\n",
              ".list-inline {list-style: none; margin:0; padding: 0}\n",
              ".list-inline>li {display: inline-block}\n",
              ".list-inline>li:not(:last-child)::after {content: \"\\00b7\"; padding: 0 .5ex}\n",
              "</style>\n",
              "<ol class=list-inline><li>TRUE</li><li>TRUE</li><li>FALSE</li></ol>\n",
              "</dd>\n",
              "</dl>\n"
            ],
            "text/markdown": "$a\n:   2024-04-19\n$v\n:   1. TRUE\n2. TRUE\n3. FALSE\n\n\n\n\n\n",
            "text/latex": "\\begin{description}\n\\item[\\$a] 2024-04-19\n\\item[\\$v] \\begin{enumerate*}\n\\item TRUE\n\\item TRUE\n\\item FALSE\n\\end{enumerate*}\n\n\\end{description}\n",
            "text/plain": [
              "$a\n",
              "[1] \"2024-04-19\"\n",
              "\n",
              "$v\n",
              "[1]  TRUE  TRUE FALSE\n"
            ]
          },
          "metadata": {}
        }
      ]
    },
    {
      "cell_type": "code",
      "source": [
        "l1[[5]][[2]] # es el vector de la lista l1[[5]]\n"
      ],
      "metadata": {
        "id": "sIE73YxE-4nD",
        "outputId": "98ab3c57-49c4-447e-cf2f-2dec53c148ec",
        "colab": {
          "base_uri": "https://localhost:8080/",
          "height": 34
        }
      },
      "execution_count": 39,
      "outputs": [
        {
          "output_type": "display_data",
          "data": {
            "text/html": [
              "<style>\n",
              ".list-inline {list-style: none; margin:0; padding: 0}\n",
              ".list-inline>li {display: inline-block}\n",
              ".list-inline>li:not(:last-child)::after {content: \"\\00b7\"; padding: 0 .5ex}\n",
              "</style>\n",
              "<ol class=list-inline><li>TRUE</li><li>TRUE</li><li>FALSE</li></ol>\n"
            ],
            "text/markdown": "1. TRUE\n2. TRUE\n3. FALSE\n\n\n",
            "text/latex": "\\begin{enumerate*}\n\\item TRUE\n\\item TRUE\n\\item FALSE\n\\end{enumerate*}\n",
            "text/plain": [
              "[1]  TRUE  TRUE FALSE"
            ]
          },
          "metadata": {}
        }
      ]
    },
    {
      "cell_type": "code",
      "source": [
        "l1[[5]][2] # Es la lista con el vector."
      ],
      "metadata": {
        "id": "tO-QBXQu-9_i",
        "outputId": "0bd88277-19f0-4cf4-fab0-29b86d39604f",
        "colab": {
          "base_uri": "https://localhost:8080/",
          "height": 52
        }
      },
      "execution_count": 41,
      "outputs": [
        {
          "output_type": "display_data",
          "data": {
            "text/html": [
              "<strong>$v</strong> = <style>\n",
              ".list-inline {list-style: none; margin:0; padding: 0}\n",
              ".list-inline>li {display: inline-block}\n",
              ".list-inline>li:not(:last-child)::after {content: \"\\00b7\"; padding: 0 .5ex}\n",
              "</style>\n",
              "<ol class=list-inline><li>TRUE</li><li>TRUE</li><li>FALSE</li></ol>\n"
            ],
            "text/markdown": "**$v** = 1. TRUE\n2. TRUE\n3. FALSE\n\n\n",
            "text/latex": "\\textbf{\\$v} = \\begin{enumerate*}\n\\item TRUE\n\\item TRUE\n\\item FALSE\n\\end{enumerate*}\n",
            "text/plain": [
              "$v\n",
              "[1]  TRUE  TRUE FALSE\n"
            ]
          },
          "metadata": {}
        }
      ]
    },
    {
      "cell_type": "code",
      "source": [
        "l1[5] # Esto es la lista con el objeto que está enb la posición 5 (es la lista llamada sub_l)"
      ],
      "metadata": {
        "id": "nGCqpXUW-pkv",
        "outputId": "55617c41-edc8-46a1-e9a6-8a76f6ed5c55",
        "colab": {
          "base_uri": "https://localhost:8080/",
          "height": 132
        }
      },
      "execution_count": 36,
      "outputs": [
        {
          "output_type": "display_data",
          "data": {
            "text/html": [
              "<strong>$sub_l</strong> = <dl>\n",
              "\t<dt>$a</dt>\n",
              "\t\t<dd><time datetime=\"2024-04-19\">2024-04-19</time></dd>\n",
              "\t<dt>$v</dt>\n",
              "\t\t<dd><style>\n",
              ".list-inline {list-style: none; margin:0; padding: 0}\n",
              ".list-inline>li {display: inline-block}\n",
              ".list-inline>li:not(:last-child)::after {content: \"\\00b7\"; padding: 0 .5ex}\n",
              "</style>\n",
              "<ol class=list-inline><li>TRUE</li><li>TRUE</li><li>FALSE</li></ol>\n",
              "</dd>\n",
              "</dl>\n"
            ],
            "text/markdown": "**$sub_l** = $a\n:   2024-04-19\n$v\n:   1. TRUE\n2. TRUE\n3. FALSE\n\n\n\n\n\n",
            "text/latex": "\\textbf{\\$sub\\_l} = \\begin{description}\n\\item[\\$a] 2024-04-19\n\\item[\\$v] \\begin{enumerate*}\n\\item TRUE\n\\item TRUE\n\\item FALSE\n\\end{enumerate*}\n\n\\end{description}\n",
            "text/plain": [
              "$sub_l\n",
              "$sub_l$a\n",
              "[1] \"2024-04-19\"\n",
              "\n",
              "$sub_l$v\n",
              "[1]  TRUE  TRUE FALSE\n",
              "\n"
            ]
          },
          "metadata": {}
        }
      ]
    },
    {
      "cell_type": "code",
      "metadata": {
        "trusted": true,
        "id": "jYFKb27-TpSG",
        "outputId": "94c7feac-44d6-4b51-fc68-4121813e38c0",
        "colab": {
          "base_uri": "https://localhost:8080/",
          "height": 180
        }
      },
      "source": [
        "# Acceso mediante nombre\n",
        "# si queremos acceder a la matriz mat\n",
        "l1[\"mat\"] # retorna la lista con la matriz\n"
      ],
      "execution_count": 42,
      "outputs": [
        {
          "output_type": "display_data",
          "data": {
            "text/html": [
              "<strong>$mat</strong> = <table class=\"dataframe\">\n",
              "<caption>A matrix: 3 × 3 of type int</caption>\n",
              "<tbody>\n",
              "\t<tr><td>1</td><td>0</td><td>0</td></tr>\n",
              "\t<tr><td>0</td><td>2</td><td>0</td></tr>\n",
              "\t<tr><td>0</td><td>0</td><td>3</td></tr>\n",
              "</tbody>\n",
              "</table>\n"
            ],
            "text/markdown": "**$mat** = \nA matrix: 3 × 3 of type int\n\n| 1 | 0 | 0 |\n| 0 | 2 | 0 |\n| 0 | 0 | 3 |\n\n",
            "text/latex": "\\textbf{\\$mat} = A matrix: 3 × 3 of type int\n\\begin{tabular}{lll}\n\t 1 & 0 & 0\\\\\n\t 0 & 2 & 0\\\\\n\t 0 & 0 & 3\\\\\n\\end{tabular}\n",
            "text/plain": [
              "$mat\n",
              "     [,1] [,2] [,3]\n",
              "[1,]    1    0    0\n",
              "[2,]    0    2    0\n",
              "[3,]    0    0    3\n"
            ]
          },
          "metadata": {}
        }
      ]
    },
    {
      "cell_type": "code",
      "source": [
        "l1[[\"mat\"]] # retorna la matriz"
      ],
      "metadata": {
        "id": "lPuRzBDT_TxE",
        "outputId": "7a30237e-7870-497f-c68f-bc137d1ec730",
        "colab": {
          "base_uri": "https://localhost:8080/",
          "height": 163
        }
      },
      "execution_count": 43,
      "outputs": [
        {
          "output_type": "display_data",
          "data": {
            "text/html": [
              "<table class=\"dataframe\">\n",
              "<caption>A matrix: 3 × 3 of type int</caption>\n",
              "<tbody>\n",
              "\t<tr><td>1</td><td>0</td><td>0</td></tr>\n",
              "\t<tr><td>0</td><td>2</td><td>0</td></tr>\n",
              "\t<tr><td>0</td><td>0</td><td>3</td></tr>\n",
              "</tbody>\n",
              "</table>\n"
            ],
            "text/markdown": "\nA matrix: 3 × 3 of type int\n\n| 1 | 0 | 0 |\n| 0 | 2 | 0 |\n| 0 | 0 | 3 |\n\n",
            "text/latex": "A matrix: 3 × 3 of type int\n\\begin{tabular}{lll}\n\t 1 & 0 & 0\\\\\n\t 0 & 2 & 0\\\\\n\t 0 & 0 & 3\\\\\n\\end{tabular}\n",
            "text/plain": [
              "     [,1] [,2] [,3]\n",
              "[1,] 1    0    0   \n",
              "[2,] 0    2    0   \n",
              "[3,] 0    0    3   "
            ]
          },
          "metadata": {}
        }
      ]
    },
    {
      "cell_type": "code",
      "source": [
        "# de la lista sub_l, quieo el vector que está en el slot llamado \"v\"\n",
        "l1[[\"sub_l\"]][\"v\"] # Retorna la lista con el vector"
      ],
      "metadata": {
        "id": "dGocscxA_Xki",
        "outputId": "0f0cd570-10f6-4672-8b86-e2b6a4f6958e",
        "colab": {
          "base_uri": "https://localhost:8080/",
          "height": 52
        }
      },
      "execution_count": 45,
      "outputs": [
        {
          "output_type": "display_data",
          "data": {
            "text/html": [
              "<strong>$v</strong> = <style>\n",
              ".list-inline {list-style: none; margin:0; padding: 0}\n",
              ".list-inline>li {display: inline-block}\n",
              ".list-inline>li:not(:last-child)::after {content: \"\\00b7\"; padding: 0 .5ex}\n",
              "</style>\n",
              "<ol class=list-inline><li>TRUE</li><li>TRUE</li><li>FALSE</li></ol>\n"
            ],
            "text/markdown": "**$v** = 1. TRUE\n2. TRUE\n3. FALSE\n\n\n",
            "text/latex": "\\textbf{\\$v} = \\begin{enumerate*}\n\\item TRUE\n\\item TRUE\n\\item FALSE\n\\end{enumerate*}\n",
            "text/plain": [
              "$v\n",
              "[1]  TRUE  TRUE FALSE\n"
            ]
          },
          "metadata": {}
        }
      ]
    },
    {
      "cell_type": "code",
      "source": [
        "# de la lista sub_l, quieo el vector que está en el slot llamado \"v\"  # Retorna el vector"
      ],
      "metadata": {
        "id": "uB57X7Xx_k5s",
        "outputId": "60c50e77-1c87-44e6-df2a-4973901e3d2c",
        "colab": {
          "base_uri": "https://localhost:8080/",
          "height": 34
        }
      },
      "execution_count": 46,
      "outputs": [
        {
          "output_type": "display_data",
          "data": {
            "text/html": [
              "<style>\n",
              ".list-inline {list-style: none; margin:0; padding: 0}\n",
              ".list-inline>li {display: inline-block}\n",
              ".list-inline>li:not(:last-child)::after {content: \"\\00b7\"; padding: 0 .5ex}\n",
              "</style>\n",
              "<ol class=list-inline><li>TRUE</li><li>TRUE</li><li>FALSE</li></ol>\n"
            ],
            "text/markdown": "1. TRUE\n2. TRUE\n3. FALSE\n\n\n",
            "text/latex": "\\begin{enumerate*}\n\\item TRUE\n\\item TRUE\n\\item FALSE\n\\end{enumerate*}\n",
            "text/plain": [
              "[1]  TRUE  TRUE FALSE"
            ]
          },
          "metadata": {}
        }
      ]
    },
    {
      "cell_type": "code",
      "metadata": {
        "trusted": true,
        "id": "a9UBaNOuTpSI",
        "outputId": "2702236c-e59a-4157-b199-17ec416daba1",
        "colab": {
          "base_uri": "https://localhost:8080/",
          "height": 163
        }
      },
      "source": [
        "# acceso vía \"$\"\n",
        "l1$mat # Es un atajo para l1[[\"mat\"]], retorna directamente el objeto del slot\n",
        "\n",
        "\n",
        "\n"
      ],
      "execution_count": 51,
      "outputs": [
        {
          "output_type": "display_data",
          "data": {
            "text/html": [
              "<table class=\"dataframe\">\n",
              "<caption>A matrix: 3 × 3 of type int</caption>\n",
              "<tbody>\n",
              "\t<tr><td>1</td><td>0</td><td>0</td></tr>\n",
              "\t<tr><td>0</td><td>2</td><td>0</td></tr>\n",
              "\t<tr><td>0</td><td>0</td><td>3</td></tr>\n",
              "</tbody>\n",
              "</table>\n"
            ],
            "text/markdown": "\nA matrix: 3 × 3 of type int\n\n| 1 | 0 | 0 |\n| 0 | 2 | 0 |\n| 0 | 0 | 3 |\n\n",
            "text/latex": "A matrix: 3 × 3 of type int\n\\begin{tabular}{lll}\n\t 1 & 0 & 0\\\\\n\t 0 & 2 & 0\\\\\n\t 0 & 0 & 3\\\\\n\\end{tabular}\n",
            "text/plain": [
              "     [,1] [,2] [,3]\n",
              "[1,] 1    0    0   \n",
              "[2,] 0    2    0   \n",
              "[3,] 0    0    3   "
            ]
          },
          "metadata": {}
        }
      ]
    },
    {
      "cell_type": "code",
      "source": [
        "# de la lista sub_l, quieo el vector que está en el slot llamado \"v\"\n",
        "l1$sub_l$v\n",
        "l1[[\"sub_l\"]][[\"v\"]]\n",
        "l1[[5]][[2]]"
      ],
      "metadata": {
        "id": "Q_u27hB6ATj3",
        "outputId": "f1adbc0e-f53e-4100-80bc-8301a5b45b24",
        "colab": {
          "base_uri": "https://localhost:8080/",
          "height": 69
        }
      },
      "execution_count": 55,
      "outputs": [
        {
          "output_type": "display_data",
          "data": {
            "text/html": [
              "<style>\n",
              ".list-inline {list-style: none; margin:0; padding: 0}\n",
              ".list-inline>li {display: inline-block}\n",
              ".list-inline>li:not(:last-child)::after {content: \"\\00b7\"; padding: 0 .5ex}\n",
              "</style>\n",
              "<ol class=list-inline><li>TRUE</li><li>TRUE</li><li>FALSE</li></ol>\n"
            ],
            "text/markdown": "1. TRUE\n2. TRUE\n3. FALSE\n\n\n",
            "text/latex": "\\begin{enumerate*}\n\\item TRUE\n\\item TRUE\n\\item FALSE\n\\end{enumerate*}\n",
            "text/plain": [
              "[1]  TRUE  TRUE FALSE"
            ]
          },
          "metadata": {}
        },
        {
          "output_type": "display_data",
          "data": {
            "text/html": [
              "<style>\n",
              ".list-inline {list-style: none; margin:0; padding: 0}\n",
              ".list-inline>li {display: inline-block}\n",
              ".list-inline>li:not(:last-child)::after {content: \"\\00b7\"; padding: 0 .5ex}\n",
              "</style>\n",
              "<ol class=list-inline><li>TRUE</li><li>TRUE</li><li>FALSE</li></ol>\n"
            ],
            "text/markdown": "1. TRUE\n2. TRUE\n3. FALSE\n\n\n",
            "text/latex": "\\begin{enumerate*}\n\\item TRUE\n\\item TRUE\n\\item FALSE\n\\end{enumerate*}\n",
            "text/plain": [
              "[1]  TRUE  TRUE FALSE"
            ]
          },
          "metadata": {}
        },
        {
          "output_type": "display_data",
          "data": {
            "text/html": [
              "<style>\n",
              ".list-inline {list-style: none; margin:0; padding: 0}\n",
              ".list-inline>li {display: inline-block}\n",
              ".list-inline>li:not(:last-child)::after {content: \"\\00b7\"; padding: 0 .5ex}\n",
              "</style>\n",
              "<ol class=list-inline><li>TRUE</li><li>TRUE</li><li>FALSE</li></ol>\n"
            ],
            "text/markdown": "1. TRUE\n2. TRUE\n3. FALSE\n\n\n",
            "text/latex": "\\begin{enumerate*}\n\\item TRUE\n\\item TRUE\n\\item FALSE\n\\end{enumerate*}\n",
            "text/plain": [
              "[1]  TRUE  TRUE FALSE"
            ]
          },
          "metadata": {}
        }
      ]
    },
    {
      "cell_type": "code",
      "source": [
        "l2$"
      ],
      "metadata": {
        "id": "5ekiQs6XADss",
        "outputId": "d9aadd3a-7ca7-4b29-8e34-c68d8f1d0503",
        "colab": {
          "base_uri": "https://localhost:8080/",
          "height": 34
        }
      },
      "execution_count": 50,
      "outputs": [
        {
          "output_type": "display_data",
          "data": {
            "text/plain": [
              "NULL"
            ]
          },
          "metadata": {}
        }
      ]
    },
    {
      "cell_type": "code",
      "metadata": {
        "trusted": true,
        "id": "Dumeo0-NTpSM",
        "outputId": "75235a23-f563-42a6-8b74-c6f91d61fc16",
        "colab": {
          "base_uri": "https://localhost:8080/",
          "height": 52
        }
      },
      "source": [
        "# para saber el largo de la lista/vector\n",
        "length(l1)\n",
        "# Para obtener los nombres de la lista\n",
        "names(l1)\n",
        "# si quisiéramos renombrar los slots:\n",
        "names(l1)[5] <- \"sub_LISTA\""
      ],
      "execution_count": 59,
      "outputs": [
        {
          "output_type": "display_data",
          "data": {
            "text/html": [
              "5"
            ],
            "text/markdown": "5",
            "text/latex": "5",
            "text/plain": [
              "[1] 5"
            ]
          },
          "metadata": {}
        },
        {
          "output_type": "display_data",
          "data": {
            "text/html": [
              "<style>\n",
              ".list-inline {list-style: none; margin:0; padding: 0}\n",
              ".list-inline>li {display: inline-block}\n",
              ".list-inline>li:not(:last-child)::after {content: \"\\00b7\"; padding: 0 .5ex}\n",
              "</style>\n",
              "<ol class=list-inline><li>'num'</li><li>'letras'</li><li>'pl'</li><li>'mat'</li><li>'sub_l'</li></ol>\n"
            ],
            "text/markdown": "1. 'num'\n2. 'letras'\n3. 'pl'\n4. 'mat'\n5. 'sub_l'\n\n\n",
            "text/latex": "\\begin{enumerate*}\n\\item 'num'\n\\item 'letras'\n\\item 'pl'\n\\item 'mat'\n\\item 'sub\\_l'\n\\end{enumerate*}\n",
            "text/plain": [
              "[1] \"num\"    \"letras\" \"pl\"     \"mat\"    \"sub_l\" "
            ]
          },
          "metadata": {}
        }
      ]
    },
    {
      "cell_type": "code",
      "source": [
        "str(l1)"
      ],
      "metadata": {
        "id": "U_rIiMOwA9e9",
        "outputId": "49623d24-7df9-4888-c120-19afc1d1256b",
        "colab": {
          "base_uri": "https://localhost:8080/"
        }
      },
      "execution_count": 60,
      "outputs": [
        {
          "output_type": "stream",
          "name": "stdout",
          "text": [
            "List of 5\n",
            " $ num      : num [1:4] 1 1 2 3\n",
            " $ letras   : chr [1:3] \"X\" \"Y\" \"Z\"\n",
            " $ pl       : chr \"Miguel jorquera\"\n",
            " $ mat      : int [1:3, 1:3] 1 0 0 0 2 0 0 0 3\n",
            " $ sub_LISTA:List of 2\n",
            "  ..$ a: Date[1:1], format: \"2024-04-19\"\n",
            "  ..$ v: logi [1:3] TRUE TRUE FALSE\n"
          ]
        }
      ]
    },
    {
      "cell_type": "code",
      "metadata": {
        "trusted": true,
        "id": "Uij1PdVrTpSO"
      },
      "source": [
        "# También podemos crear nuevos \"slots\"\n",
        "## Indicando nombre en [[]] y luego asignando\n",
        "l1[[\"nuevo\"]] <- c(\"w\",\"h\")"
      ],
      "execution_count": 62,
      "outputs": []
    },
    {
      "cell_type": "code",
      "source": [
        "str(l1)"
      ],
      "metadata": {
        "id": "4iRKAmhVBJCH",
        "outputId": "a6dd1074-3e0f-41a2-8796-2daf3d608b07",
        "colab": {
          "base_uri": "https://localhost:8080/"
        }
      },
      "execution_count": 63,
      "outputs": [
        {
          "output_type": "stream",
          "name": "stdout",
          "text": [
            "List of 6\n",
            " $ num      : num [1:4] 1 1 2 3\n",
            " $ letras   : chr [1:3] \"X\" \"Y\" \"Z\"\n",
            " $ pl       : chr \"Miguel jorquera\"\n",
            " $ mat      : int [1:3, 1:3] 1 0 0 0 2 0 0 0 3\n",
            " $ sub_LISTA:List of 2\n",
            "  ..$ a: Date[1:1], format: \"2024-04-19\"\n",
            "  ..$ v: logi [1:3] TRUE TRUE FALSE\n",
            " $ nuevo    : chr [1:2] \"w\" \"h\"\n"
          ]
        }
      ]
    },
    {
      "cell_type": "code",
      "source": [
        "l1$otro <- \"NUEVO TEXTO\""
      ],
      "metadata": {
        "id": "6mPGMHT9BLl_"
      },
      "execution_count": 65,
      "outputs": []
    },
    {
      "cell_type": "code",
      "source": [
        "str(l1)"
      ],
      "metadata": {
        "id": "ReMD2s41BQ9k",
        "outputId": "82c89b5d-c01f-423a-fb63-3944274a7831",
        "colab": {
          "base_uri": "https://localhost:8080/"
        }
      },
      "execution_count": 66,
      "outputs": [
        {
          "output_type": "stream",
          "name": "stdout",
          "text": [
            "List of 7\n",
            " $ num      : num [1:4] 1 1 2 3\n",
            " $ letras   : chr [1:3] \"X\" \"Y\" \"Z\"\n",
            " $ pl       : chr \"Miguel jorquera\"\n",
            " $ mat      : int [1:3, 1:3] 1 0 0 0 2 0 0 0 3\n",
            " $ sub_LISTA:List of 2\n",
            "  ..$ a: Date[1:1], format: \"2024-04-19\"\n",
            "  ..$ v: logi [1:3] TRUE TRUE FALSE\n",
            " $ nuevo    : chr [1:2] \"w\" \"h\"\n",
            " $ otro     : chr \"NUEVO TEXTO\"\n"
          ]
        }
      ]
    },
    {
      "cell_type": "code",
      "metadata": {
        "trusted": true,
        "id": "rBB4hT9RTpSQ"
      },
      "source": [
        "# podemos modificar elementos dentro de un slot\n",
        "l1$mat[3,3] <- 99\n"
      ],
      "execution_count": 67,
      "outputs": []
    },
    {
      "cell_type": "code",
      "source": [
        "l1$mat"
      ],
      "metadata": {
        "id": "UKxkWCFLBbrd",
        "outputId": "d31af518-eb2e-4d2f-ccf1-93da2713ec78",
        "colab": {
          "base_uri": "https://localhost:8080/",
          "height": 163
        }
      },
      "execution_count": 68,
      "outputs": [
        {
          "output_type": "display_data",
          "data": {
            "text/html": [
              "<table class=\"dataframe\">\n",
              "<caption>A matrix: 3 × 3 of type dbl</caption>\n",
              "<tbody>\n",
              "\t<tr><td>1</td><td>0</td><td> 0</td></tr>\n",
              "\t<tr><td>0</td><td>2</td><td> 0</td></tr>\n",
              "\t<tr><td>0</td><td>0</td><td>99</td></tr>\n",
              "</tbody>\n",
              "</table>\n"
            ],
            "text/markdown": "\nA matrix: 3 × 3 of type dbl\n\n| 1 | 0 |  0 |\n| 0 | 2 |  0 |\n| 0 | 0 | 99 |\n\n",
            "text/latex": "A matrix: 3 × 3 of type dbl\n\\begin{tabular}{lll}\n\t 1 & 0 &  0\\\\\n\t 0 & 2 &  0\\\\\n\t 0 & 0 & 99\\\\\n\\end{tabular}\n",
            "text/plain": [
              "     [,1] [,2] [,3]\n",
              "[1,] 1    0     0  \n",
              "[2,] 0    2     0  \n",
              "[3,] 0    0    99  "
            ]
          },
          "metadata": {}
        }
      ]
    },
    {
      "cell_type": "markdown",
      "metadata": {
        "id": "128wI4ZoTpSS"
      },
      "source": [
        "### 5.2 Dataframes\n",
        "\n",
        "Un dataframe es un caso particular de una lista, donde los objetos de cada entrada corresponden a vectores de datos del mismo largo. E este caso cada vector corresponde a una columna del data.frame, mientras que la cantidad de filas corresponde al largo común de los vectores de cada entrada. El objeto resultante es una *tabla*, de ahora en adelante *data.frame*, cuyas columnas poseen distintos tipos de datos entre sí.\n",
        "\n",
        " * ¿Cómo se declara un dataframe?<br>\n",
        "     Mediante la función data.frame(), indicando los vectores que conformarán las columnas.\n",
        "\n",
        " * ¿Cómo se accede a los datos de un data.frame?<br>\n",
        "    Al ser una lista, se puede acceder de la misma manera. Sin embargo también es posible acceder del modo en que se accede a los elementos de una matriz."
      ]
    },
    {
      "cell_type": "code",
      "metadata": {
        "trusted": true,
        "id": "qJ-2zVWVTpST"
      },
      "source": [
        "# 5.2 Dataframes ----------\n",
        "# Ejemplo sencillo de definición de un data.frame\n",
        "# recordar que 1:3 es lo mismo que c(1,2,3)\n",
        "\n"
      ],
      "execution_count": null,
      "outputs": []
    },
    {
      "cell_type": "code",
      "metadata": {
        "trusted": true,
        "id": "nv7stC8ITpSY"
      },
      "source": [
        "# Acceso a columnas de un data.frame\n",
        "## Igual que en una lista\n",
        "\n"
      ],
      "execution_count": null,
      "outputs": []
    },
    {
      "cell_type": "code",
      "metadata": {
        "trusted": true,
        "id": "3t6_J3BHTpSb"
      },
      "source": [],
      "execution_count": null,
      "outputs": []
    },
    {
      "cell_type": "code",
      "metadata": {
        "trusted": true,
        "id": "CojdmEs9TpSd"
      },
      "source": [
        "##  Ganamos acceso como matriz\n",
        "# segundafila de df\n",
        "\n",
        "\n",
        "# segunda columna y segunda fila\n",
        "\n",
        "\n"
      ],
      "execution_count": null,
      "outputs": []
    },
    {
      "cell_type": "code",
      "metadata": {
        "trusted": true,
        "id": "FgD5Q8hFTpSf"
      },
      "source": [
        "#Podemos crear nuevas columnas , del mismmo modo que creamos \"slots\" en una lista\n"
      ],
      "execution_count": null,
      "outputs": []
    },
    {
      "cell_type": "code",
      "metadata": {
        "trusted": true,
        "id": "LcNQ5JHVTpSh"
      },
      "source": [
        "# podemos seleccionar más de una columna a la vez. Ej: seleccionar col1y col3\n",
        "\n",
        "# Referenciando el nombre de las columnas\n"
      ],
      "execution_count": null,
      "outputs": []
    },
    {
      "cell_type": "code",
      "metadata": {
        "trusted": true,
        "id": "NHtO3MHwTpSj"
      },
      "source": [
        "# Referenciando las posiciones de las columnas\n"
      ],
      "execution_count": null,
      "outputs": []
    },
    {
      "cell_type": "code",
      "metadata": {
        "trusted": true,
        "id": "RmsAhhsWTpSm"
      },
      "source": [
        "# Se mantiene la lógica de acceso a los sots de una lista.\n"
      ],
      "execution_count": null,
      "outputs": []
    }
  ]
}