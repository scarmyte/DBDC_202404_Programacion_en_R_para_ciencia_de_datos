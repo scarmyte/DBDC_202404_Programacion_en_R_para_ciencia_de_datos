{
  "nbformat": 4,
  "nbformat_minor": 0,
  "metadata": {
    "colab": {
      "provenance": [],
      "include_colab_link": true
    },
    "kernelspec": {
      "name": "ir",
      "display_name": "R"
    }
  },
  "cells": [
    {
      "cell_type": "markdown",
      "metadata": {
        "id": "view-in-github",
        "colab_type": "text"
      },
      "source": [
        "<a href=\"https://colab.research.google.com/github/majorquev/DBDC_202404_Programacion_en_R_para_ciencia_de_datos/blob/main/Clases/C1/Clase_1_02_vectores.ipynb\" target=\"_parent\"><img src=\"https://colab.research.google.com/assets/colab-badge.svg\" alt=\"Open In Colab\"/></a>"
      ]
    },
    {
      "cell_type": "markdown",
      "metadata": {
        "collapsed": true,
        "id": "Yb2RXjL2Igun"
      },
      "source": [
        "# Parte 1: Introducción a R (continuación)\n",
        "\n",
        "**Autor:** Miguel Jorquera Viguera<br>\n",
        "**E-mail:** majorquev@gmail.com<br>\n",
        "**Ayudante:** Rodrigo Morales <br>\n",
        "**E-mail ayudante:** rumorale1@gmail.com\n",
        "\n"
      ]
    },
    {
      "cell_type": "markdown",
      "metadata": {
        "id": "d_bHZs66Iguo"
      },
      "source": [
        "## 3. Vectores y matrices\n",
        "\n",
        "### 3.1 Vectores\n",
        "\n",
        "En R, así como en la mayoría de los lenguajes de programación, uno de los objetos más usuales para almacenar información son los vectores, los que corresponden a arreglos unidimensionales que almacenan un mismo tipo de dato en cada una de sus entradas.\n",
        "\n",
        "Todo vector en R se puede declarar con la letra \"c\" seguido de los elementos que lo componen entre paréntesis y separados por comas."
      ]
    },
    {
      "cell_type": "code",
      "metadata": {
        "id": "ljQ0JcsTIgup"
      },
      "source": [
        "# Declaración de dos vectores\n",
        "v1 <- c(1,1,2,3,5,8)\n",
        "v2 <- c(10,11,12,13,14,15)\n",
        "p1 <- c(\"hola\", \"soy\", \"miguel\")\n",
        "p2 <- c(\"x\",\"y\",\"z\")"
      ],
      "execution_count": 2,
      "outputs": []
    },
    {
      "cell_type": "code",
      "source": [
        "v1\n",
        "v2\n",
        "p1\n",
        "p2"
      ],
      "metadata": {
        "id": "IO1ESjZb292k",
        "outputId": "8eb90a6b-17a5-4a4b-834e-036aad459b53",
        "colab": {
          "base_uri": "https://localhost:8080/",
          "height": 86
        }
      },
      "execution_count": 7,
      "outputs": [
        {
          "output_type": "display_data",
          "data": {
            "text/html": [
              "<style>\n",
              ".list-inline {list-style: none; margin:0; padding: 0}\n",
              ".list-inline>li {display: inline-block}\n",
              ".list-inline>li:not(:last-child)::after {content: \"\\00b7\"; padding: 0 .5ex}\n",
              "</style>\n",
              "<ol class=list-inline><li>1</li><li>1</li><li>2</li><li>3</li><li>5</li><li>8</li></ol>\n"
            ],
            "text/markdown": "1. 1\n2. 1\n3. 2\n4. 3\n5. 5\n6. 8\n\n\n",
            "text/latex": "\\begin{enumerate*}\n\\item 1\n\\item 1\n\\item 2\n\\item 3\n\\item 5\n\\item 8\n\\end{enumerate*}\n",
            "text/plain": [
              "[1] 1 1 2 3 5 8"
            ]
          },
          "metadata": {}
        },
        {
          "output_type": "display_data",
          "data": {
            "text/html": [
              "<style>\n",
              ".list-inline {list-style: none; margin:0; padding: 0}\n",
              ".list-inline>li {display: inline-block}\n",
              ".list-inline>li:not(:last-child)::after {content: \"\\00b7\"; padding: 0 .5ex}\n",
              "</style>\n",
              "<ol class=list-inline><li>10</li><li>11</li><li>12</li><li>13</li><li>14</li><li>15</li></ol>\n"
            ],
            "text/markdown": "1. 10\n2. 11\n3. 12\n4. 13\n5. 14\n6. 15\n\n\n",
            "text/latex": "\\begin{enumerate*}\n\\item 10\n\\item 11\n\\item 12\n\\item 13\n\\item 14\n\\item 15\n\\end{enumerate*}\n",
            "text/plain": [
              "[1] 10 11 12 13 14 15"
            ]
          },
          "metadata": {}
        },
        {
          "output_type": "display_data",
          "data": {
            "text/html": [
              "<style>\n",
              ".list-inline {list-style: none; margin:0; padding: 0}\n",
              ".list-inline>li {display: inline-block}\n",
              ".list-inline>li:not(:last-child)::after {content: \"\\00b7\"; padding: 0 .5ex}\n",
              "</style>\n",
              "<ol class=list-inline><li>'hola'</li><li>'soy'</li><li>'miguel'</li></ol>\n"
            ],
            "text/markdown": "1. 'hola'\n2. 'soy'\n3. 'miguel'\n\n\n",
            "text/latex": "\\begin{enumerate*}\n\\item 'hola'\n\\item 'soy'\n\\item 'miguel'\n\\end{enumerate*}\n",
            "text/plain": [
              "[1] \"hola\"   \"soy\"    \"miguel\""
            ]
          },
          "metadata": {}
        },
        {
          "output_type": "display_data",
          "data": {
            "text/html": [
              "<style>\n",
              ".list-inline {list-style: none; margin:0; padding: 0}\n",
              ".list-inline>li {display: inline-block}\n",
              ".list-inline>li:not(:last-child)::after {content: \"\\00b7\"; padding: 0 .5ex}\n",
              "</style>\n",
              "<ol class=list-inline><li>'x'</li><li>'y'</li><li>'z'</li></ol>\n"
            ],
            "text/markdown": "1. 'x'\n2. 'y'\n3. 'z'\n\n\n",
            "text/latex": "\\begin{enumerate*}\n\\item 'x'\n\\item 'y'\n\\item 'z'\n\\end{enumerate*}\n",
            "text/plain": [
              "[1] \"x\" \"y\" \"z\""
            ]
          },
          "metadata": {}
        }
      ]
    },
    {
      "cell_type": "code",
      "metadata": {
        "id": "GxHhDdS4Iguy",
        "outputId": "abdaeb40-3220-467a-c3b4-337d0434c5e3",
        "colab": {
          "base_uri": "https://localhost:8080/",
          "height": 69
        }
      },
      "source": [
        "# clase y tipo de dato\n",
        "class(v1)\n",
        "class(v2)\n",
        "class(p1)"
      ],
      "execution_count": 5,
      "outputs": [
        {
          "output_type": "display_data",
          "data": {
            "text/html": [
              "'numeric'"
            ],
            "text/markdown": "'numeric'",
            "text/latex": "'numeric'",
            "text/plain": [
              "[1] \"numeric\""
            ]
          },
          "metadata": {}
        },
        {
          "output_type": "display_data",
          "data": {
            "text/html": [
              "'numeric'"
            ],
            "text/markdown": "'numeric'",
            "text/latex": "'numeric'",
            "text/plain": [
              "[1] \"numeric\""
            ]
          },
          "metadata": {}
        },
        {
          "output_type": "display_data",
          "data": {
            "text/html": [
              "'character'"
            ],
            "text/markdown": "'character'",
            "text/latex": "'character'",
            "text/plain": [
              "[1] \"character\""
            ]
          },
          "metadata": {}
        }
      ]
    },
    {
      "cell_type": "code",
      "metadata": {
        "id": "FUBvbIN9Igu4"
      },
      "source": [
        "# vectores lógicos\n",
        "l1 <- c(T,F,T)\n"
      ],
      "execution_count": 6,
      "outputs": []
    },
    {
      "cell_type": "code",
      "metadata": {
        "id": "R88mjniaIgu_",
        "outputId": "5df535e2-1d8d-46cd-8024-2e346fc1405a",
        "colab": {
          "base_uri": "https://localhost:8080/",
          "height": 34
        }
      },
      "source": [
        "# Nombres de las entradas de un vector\n",
        "v3 <- c(n1 = 50, n2 = 60, n3 = 70)\n",
        "v3"
      ],
      "execution_count": 9,
      "outputs": [
        {
          "output_type": "display_data",
          "data": {
            "text/html": [
              "<style>\n",
              ".dl-inline {width: auto; margin:0; padding: 0}\n",
              ".dl-inline>dt, .dl-inline>dd {float: none; width: auto; display: inline-block}\n",
              ".dl-inline>dt::after {content: \":\\0020\"; padding-right: .5ex}\n",
              ".dl-inline>dt:not(:first-of-type) {padding-left: .5ex}\n",
              "</style><dl class=dl-inline><dt>n1</dt><dd>50</dd><dt>n2</dt><dd>60</dd><dt>n3</dt><dd>70</dd></dl>\n"
            ],
            "text/markdown": "n1\n:   50n2\n:   60n3\n:   70\n\n",
            "text/latex": "\\begin{description*}\n\\item[n1] 50\n\\item[n2] 60\n\\item[n3] 70\n\\end{description*}\n",
            "text/plain": [
              "n1 n2 n3 \n",
              "50 60 70 "
            ]
          },
          "metadata": {}
        }
      ]
    },
    {
      "cell_type": "code",
      "metadata": {
        "id": "E6dxkyP5IgvF",
        "outputId": "e405255d-e0db-43e8-f1fc-23959b039c88",
        "colab": {
          "base_uri": "https://localhost:8080/",
          "height": 52
        }
      },
      "source": [
        "# nombres de las entradas con la función, names()\n",
        "names(v3)\n",
        "names(p1)"
      ],
      "execution_count": 11,
      "outputs": [
        {
          "output_type": "display_data",
          "data": {
            "text/html": [
              "<style>\n",
              ".list-inline {list-style: none; margin:0; padding: 0}\n",
              ".list-inline>li {display: inline-block}\n",
              ".list-inline>li:not(:last-child)::after {content: \"\\00b7\"; padding: 0 .5ex}\n",
              "</style>\n",
              "<ol class=list-inline><li>'n1'</li><li>'n2'</li><li>'n3'</li></ol>\n"
            ],
            "text/markdown": "1. 'n1'\n2. 'n2'\n3. 'n3'\n\n\n",
            "text/latex": "\\begin{enumerate*}\n\\item 'n1'\n\\item 'n2'\n\\item 'n3'\n\\end{enumerate*}\n",
            "text/plain": [
              "[1] \"n1\" \"n2\" \"n3\""
            ]
          },
          "metadata": {}
        },
        {
          "output_type": "display_data",
          "data": {
            "text/plain": [
              "NULL"
            ]
          },
          "metadata": {}
        }
      ]
    },
    {
      "cell_type": "code",
      "metadata": {
        "id": "OAhPpN3vIgvB"
      },
      "source": [
        "# podemos asignar los nombres a vector 1\n",
        "names(p1) <- c(\"pal1\", \"pal2\", \"pal3\")"
      ],
      "execution_count": 12,
      "outputs": []
    },
    {
      "cell_type": "code",
      "source": [
        "p1"
      ],
      "metadata": {
        "id": "oBne2NTd4obR",
        "outputId": "ee5ccca5-c557-407c-847c-1b47820156f4",
        "colab": {
          "base_uri": "https://localhost:8080/",
          "height": 34
        }
      },
      "execution_count": 13,
      "outputs": [
        {
          "output_type": "display_data",
          "data": {
            "text/html": [
              "<style>\n",
              ".dl-inline {width: auto; margin:0; padding: 0}\n",
              ".dl-inline>dt, .dl-inline>dd {float: none; width: auto; display: inline-block}\n",
              ".dl-inline>dt::after {content: \":\\0020\"; padding-right: .5ex}\n",
              ".dl-inline>dt:not(:first-of-type) {padding-left: .5ex}\n",
              "</style><dl class=dl-inline><dt>pal1</dt><dd>'hola'</dd><dt>pal2</dt><dd>'soy'</dd><dt>pal3</dt><dd>'miguel'</dd></dl>\n"
            ],
            "text/markdown": "pal1\n:   'hola'pal2\n:   'soy'pal3\n:   'miguel'\n\n",
            "text/latex": "\\begin{description*}\n\\item[pal1] 'hola'\n\\item[pal2] 'soy'\n\\item[pal3] 'miguel'\n\\end{description*}\n",
            "text/plain": [
              "    pal1     pal2     pal3 \n",
              "  \"hola\"    \"soy\" \"miguel\" "
            ]
          },
          "metadata": {}
        }
      ]
    },
    {
      "cell_type": "code",
      "metadata": {
        "id": "7Ayre5BlIgvH"
      },
      "source": [
        "#NOTA: R coerciona los elementos a la menor jerarquia posible de tipo de dato\n",
        "x <- c(1,2,\"A\")"
      ],
      "execution_count": 14,
      "outputs": []
    },
    {
      "cell_type": "code",
      "source": [
        "x"
      ],
      "metadata": {
        "id": "TxFPPzFA5Gsl",
        "outputId": "e55907d1-f743-4760-aa8b-6731c5af0438",
        "colab": {
          "base_uri": "https://localhost:8080/",
          "height": 34
        }
      },
      "execution_count": 15,
      "outputs": [
        {
          "output_type": "display_data",
          "data": {
            "text/html": [
              "<style>\n",
              ".list-inline {list-style: none; margin:0; padding: 0}\n",
              ".list-inline>li {display: inline-block}\n",
              ".list-inline>li:not(:last-child)::after {content: \"\\00b7\"; padding: 0 .5ex}\n",
              "</style>\n",
              "<ol class=list-inline><li>'1'</li><li>'2'</li><li>'A'</li></ol>\n"
            ],
            "text/markdown": "1. '1'\n2. '2'\n3. 'A'\n\n\n",
            "text/latex": "\\begin{enumerate*}\n\\item '1'\n\\item '2'\n\\item 'A'\n\\end{enumerate*}\n",
            "text/plain": [
              "[1] \"1\" \"2\" \"A\""
            ]
          },
          "metadata": {}
        }
      ]
    },
    {
      "cell_type": "code",
      "source": [
        "c(v1, v2)"
      ],
      "metadata": {
        "id": "AL3kZyn45aen",
        "outputId": "77014e1c-4fe7-434e-89c4-5fe096bbf016",
        "colab": {
          "base_uri": "https://localhost:8080/",
          "height": 34
        }
      },
      "execution_count": 16,
      "outputs": [
        {
          "output_type": "display_data",
          "data": {
            "text/html": [
              "<style>\n",
              ".list-inline {list-style: none; margin:0; padding: 0}\n",
              ".list-inline>li {display: inline-block}\n",
              ".list-inline>li:not(:last-child)::after {content: \"\\00b7\"; padding: 0 .5ex}\n",
              "</style>\n",
              "<ol class=list-inline><li>1</li><li>1</li><li>2</li><li>3</li><li>5</li><li>8</li><li>10</li><li>11</li><li>12</li><li>13</li><li>14</li><li>15</li></ol>\n"
            ],
            "text/markdown": "1. 1\n2. 1\n3. 2\n4. 3\n5. 5\n6. 8\n7. 10\n8. 11\n9. 12\n10. 13\n11. 14\n12. 15\n\n\n",
            "text/latex": "\\begin{enumerate*}\n\\item 1\n\\item 1\n\\item 2\n\\item 3\n\\item 5\n\\item 8\n\\item 10\n\\item 11\n\\item 12\n\\item 13\n\\item 14\n\\item 15\n\\end{enumerate*}\n",
            "text/plain": [
              " [1]  1  1  2  3  5  8 10 11 12 13 14 15"
            ]
          },
          "metadata": {}
        }
      ]
    },
    {
      "cell_type": "code",
      "metadata": {
        "id": "QETBghXxIgvI"
      },
      "source": [
        "# c : es una abreviación de \"combine\"\n"
      ],
      "execution_count": null,
      "outputs": []
    },
    {
      "cell_type": "markdown",
      "metadata": {
        "id": "MX35j24_IgvN"
      },
      "source": [
        "#### 3.1.1 Acceso a los elementos de un vector\n",
        "\n",
        "El acceso a los elementos de un vector se puede llevar acabo indicando la posición del elemento (los naturales parten en 1!), el nombre de la casilla que lo contiene, o bien mediante sentencias lógicas que retornen \"TRUE\" en la posición deseada.\n",
        "\n"
      ]
    },
    {
      "cell_type": "code",
      "source": [
        "v1"
      ],
      "metadata": {
        "id": "f7VS3UtV5usE",
        "outputId": "3258336a-8f7c-4715-955b-aa2e48c37c50",
        "colab": {
          "base_uri": "https://localhost:8080/",
          "height": 34
        }
      },
      "execution_count": 18,
      "outputs": [
        {
          "output_type": "display_data",
          "data": {
            "text/html": [
              "<style>\n",
              ".list-inline {list-style: none; margin:0; padding: 0}\n",
              ".list-inline>li {display: inline-block}\n",
              ".list-inline>li:not(:last-child)::after {content: \"\\00b7\"; padding: 0 .5ex}\n",
              "</style>\n",
              "<ol class=list-inline><li>1</li><li>1</li><li>2</li><li>3</li><li>5</li><li>8</li></ol>\n"
            ],
            "text/markdown": "1. 1\n2. 1\n3. 2\n4. 3\n5. 5\n6. 8\n\n\n",
            "text/latex": "\\begin{enumerate*}\n\\item 1\n\\item 1\n\\item 2\n\\item 3\n\\item 5\n\\item 8\n\\end{enumerate*}\n",
            "text/plain": [
              "[1] 1 1 2 3 5 8"
            ]
          },
          "metadata": {}
        }
      ]
    },
    {
      "cell_type": "code",
      "metadata": {
        "id": "zW2_TzKxIgvN",
        "outputId": "a8d8c0d8-84c5-4e49-dfe8-f2e0008a2515",
        "colab": {
          "base_uri": "https://localhost:8080/",
          "height": 34
        }
      },
      "source": [
        "# Mediante posición\n",
        "v1[3]"
      ],
      "execution_count": 17,
      "outputs": [
        {
          "output_type": "display_data",
          "data": {
            "text/html": [
              "2"
            ],
            "text/markdown": "2",
            "text/latex": "2",
            "text/plain": [
              "[1] 2"
            ]
          },
          "metadata": {}
        }
      ]
    },
    {
      "cell_type": "code",
      "metadata": {
        "id": "XWL1ZIyMIgvR",
        "outputId": "07705eec-ef60-4043-dece-672d41225976",
        "colab": {
          "base_uri": "https://localhost:8080/",
          "height": 34
        }
      },
      "source": [
        "# retorna los elementos de las casillas 1  y 4 de v1\n",
        "v1[c(1,4)] #se debe ingresar un vector de posiciones"
      ],
      "execution_count": 19,
      "outputs": [
        {
          "output_type": "display_data",
          "data": {
            "text/html": [
              "<style>\n",
              ".list-inline {list-style: none; margin:0; padding: 0}\n",
              ".list-inline>li {display: inline-block}\n",
              ".list-inline>li:not(:last-child)::after {content: \"\\00b7\"; padding: 0 .5ex}\n",
              "</style>\n",
              "<ol class=list-inline><li>1</li><li>3</li></ol>\n"
            ],
            "text/markdown": "1. 1\n2. 3\n\n\n",
            "text/latex": "\\begin{enumerate*}\n\\item 1\n\\item 3\n\\end{enumerate*}\n",
            "text/plain": [
              "[1] 1 3"
            ]
          },
          "metadata": {}
        }
      ]
    },
    {
      "cell_type": "code",
      "source": [
        "# NO ES LO MISMO\n",
        "v1[1,4]"
      ],
      "metadata": {
        "id": "cdQ4TXGk6COv",
        "outputId": "dbdc564e-8259-4b35-a18e-3d6486767992",
        "colab": {
          "base_uri": "https://localhost:8080/",
          "height": 72
        }
      },
      "execution_count": 20,
      "outputs": [
        {
          "output_type": "error",
          "ename": "ERROR",
          "evalue": "Error in v1[1, 4]: incorrect number of dimensions\n",
          "traceback": [
            "Error in v1[1, 4]: incorrect number of dimensions\nTraceback:\n"
          ]
        }
      ]
    },
    {
      "cell_type": "code",
      "source": [
        "3:5"
      ],
      "metadata": {
        "id": "Bf6KiS1C6pz5",
        "outputId": "7f329064-e309-493a-b1f9-f97acf645acf",
        "colab": {
          "base_uri": "https://localhost:8080/",
          "height": 34
        }
      },
      "execution_count": 22,
      "outputs": [
        {
          "output_type": "display_data",
          "data": {
            "text/html": [
              "<style>\n",
              ".list-inline {list-style: none; margin:0; padding: 0}\n",
              ".list-inline>li {display: inline-block}\n",
              ".list-inline>li:not(:last-child)::after {content: \"\\00b7\"; padding: 0 .5ex}\n",
              "</style>\n",
              "<ol class=list-inline><li>3</li><li>4</li><li>5</li></ol>\n"
            ],
            "text/markdown": "1. 3\n2. 4\n3. 5\n\n\n",
            "text/latex": "\\begin{enumerate*}\n\\item 3\n\\item 4\n\\item 5\n\\end{enumerate*}\n",
            "text/plain": [
              "[1] 3 4 5"
            ]
          },
          "metadata": {}
        }
      ]
    },
    {
      "cell_type": "code",
      "source": [
        "-3:6"
      ],
      "metadata": {
        "id": "_ZXVd8_u6rr1",
        "outputId": "10cb4ea9-3556-4200-81b5-9af6e5692bed",
        "colab": {
          "base_uri": "https://localhost:8080/",
          "height": 34
        }
      },
      "execution_count": 23,
      "outputs": [
        {
          "output_type": "display_data",
          "data": {
            "text/html": [
              "<style>\n",
              ".list-inline {list-style: none; margin:0; padding: 0}\n",
              ".list-inline>li {display: inline-block}\n",
              ".list-inline>li:not(:last-child)::after {content: \"\\00b7\"; padding: 0 .5ex}\n",
              "</style>\n",
              "<ol class=list-inline><li>-3</li><li>-2</li><li>-1</li><li>0</li><li>1</li><li>2</li><li>3</li><li>4</li><li>5</li><li>6</li></ol>\n"
            ],
            "text/markdown": "1. -3\n2. -2\n3. -1\n4. 0\n5. 1\n6. 2\n7. 3\n8. 4\n9. 5\n10. 6\n\n\n",
            "text/latex": "\\begin{enumerate*}\n\\item -3\n\\item -2\n\\item -1\n\\item 0\n\\item 1\n\\item 2\n\\item 3\n\\item 4\n\\item 5\n\\item 6\n\\end{enumerate*}\n",
            "text/plain": [
              " [1] -3 -2 -1  0  1  2  3  4  5  6"
            ]
          },
          "metadata": {}
        }
      ]
    },
    {
      "cell_type": "code",
      "metadata": {
        "id": "uBqEKq1aIgvT",
        "outputId": "4927292a-cc48-4ba9-b72f-f693ea1ceda5",
        "colab": {
          "base_uri": "https://localhost:8080/",
          "height": 52
        }
      },
      "source": [
        "#NOTA 3:5, R lo interpreta como c(3,4,5)\n",
        "v1[c(3,4,5)]\n",
        "v1[3:5]"
      ],
      "execution_count": 25,
      "outputs": [
        {
          "output_type": "display_data",
          "data": {
            "text/html": [
              "<style>\n",
              ".list-inline {list-style: none; margin:0; padding: 0}\n",
              ".list-inline>li {display: inline-block}\n",
              ".list-inline>li:not(:last-child)::after {content: \"\\00b7\"; padding: 0 .5ex}\n",
              "</style>\n",
              "<ol class=list-inline><li>2</li><li>3</li><li>5</li></ol>\n"
            ],
            "text/markdown": "1. 2\n2. 3\n3. 5\n\n\n",
            "text/latex": "\\begin{enumerate*}\n\\item 2\n\\item 3\n\\item 5\n\\end{enumerate*}\n",
            "text/plain": [
              "[1] 2 3 5"
            ]
          },
          "metadata": {}
        },
        {
          "output_type": "display_data",
          "data": {
            "text/html": [
              "<style>\n",
              ".list-inline {list-style: none; margin:0; padding: 0}\n",
              ".list-inline>li {display: inline-block}\n",
              ".list-inline>li:not(:last-child)::after {content: \"\\00b7\"; padding: 0 .5ex}\n",
              "</style>\n",
              "<ol class=list-inline><li>2</li><li>3</li><li>5</li></ol>\n"
            ],
            "text/markdown": "1. 2\n2. 3\n3. 5\n\n\n",
            "text/latex": "\\begin{enumerate*}\n\\item 2\n\\item 3\n\\item 5\n\\end{enumerate*}\n",
            "text/plain": [
              "[1] 2 3 5"
            ]
          },
          "metadata": {}
        }
      ]
    },
    {
      "cell_type": "code",
      "metadata": {
        "id": "XIuQSfvKIgvV",
        "outputId": "7bbcc011-ca48-44a1-a49c-d9cf0719132c",
        "colab": {
          "base_uri": "https://localhost:8080/",
          "height": 52
        }
      },
      "source": [
        "# podemos acceder a los elmentos mediante el nombre\n",
        "p1[\"pal2\"]# le damos el nombre de la casilla\n",
        "p1[c(\"pal2\", \"pal1\")] # le damos el vector con los nombres de las casillas a consultar"
      ],
      "execution_count": 27,
      "outputs": [
        {
          "output_type": "display_data",
          "data": {
            "text/html": [
              "<strong>pal2:</strong> 'soy'"
            ],
            "text/markdown": "**pal2:** 'soy'",
            "text/latex": "\\textbf{pal2:} 'soy'",
            "text/plain": [
              " pal2 \n",
              "\"soy\" "
            ]
          },
          "metadata": {}
        },
        {
          "output_type": "display_data",
          "data": {
            "text/html": [
              "<style>\n",
              ".dl-inline {width: auto; margin:0; padding: 0}\n",
              ".dl-inline>dt, .dl-inline>dd {float: none; width: auto; display: inline-block}\n",
              ".dl-inline>dt::after {content: \":\\0020\"; padding-right: .5ex}\n",
              ".dl-inline>dt:not(:first-of-type) {padding-left: .5ex}\n",
              "</style><dl class=dl-inline><dt>pal2</dt><dd>'soy'</dd><dt>pal1</dt><dd>'hola'</dd></dl>\n"
            ],
            "text/markdown": "pal2\n:   'soy'pal1\n:   'hola'\n\n",
            "text/latex": "\\begin{description*}\n\\item[pal2] 'soy'\n\\item[pal1] 'hola'\n\\end{description*}\n",
            "text/plain": [
              "  pal2   pal1 \n",
              " \"soy\" \"hola\" "
            ]
          },
          "metadata": {}
        }
      ]
    },
    {
      "cell_type": "code",
      "metadata": {
        "id": "IHjnaSSyIgvX",
        "outputId": "70357e5f-6ceb-4e23-b5ca-75a71104dc7f",
        "colab": {
          "base_uri": "https://localhost:8080/",
          "height": 34
        }
      },
      "source": [
        "# cambiar una entrada de un vector o cambiar un nombre\n",
        "v1"
      ],
      "execution_count": 28,
      "outputs": [
        {
          "output_type": "display_data",
          "data": {
            "text/html": [
              "<style>\n",
              ".list-inline {list-style: none; margin:0; padding: 0}\n",
              ".list-inline>li {display: inline-block}\n",
              ".list-inline>li:not(:last-child)::after {content: \"\\00b7\"; padding: 0 .5ex}\n",
              "</style>\n",
              "<ol class=list-inline><li>1</li><li>1</li><li>2</li><li>3</li><li>5</li><li>8</li></ol>\n"
            ],
            "text/markdown": "1. 1\n2. 1\n3. 2\n4. 3\n5. 5\n6. 8\n\n\n",
            "text/latex": "\\begin{enumerate*}\n\\item 1\n\\item 1\n\\item 2\n\\item 3\n\\item 5\n\\item 8\n\\end{enumerate*}\n",
            "text/plain": [
              "[1] 1 1 2 3 5 8"
            ]
          },
          "metadata": {}
        }
      ]
    },
    {
      "cell_type": "code",
      "source": [
        "# Quiero cambiar el elmento de pos 4 de v1 por un 99"
      ],
      "metadata": {
        "id": "qiH44pVK7af-"
      },
      "execution_count": null,
      "outputs": []
    },
    {
      "cell_type": "code",
      "metadata": {
        "id": "KCKDbYtRIgvZ"
      },
      "source": [
        "v1[4] <- 99"
      ],
      "execution_count": 29,
      "outputs": []
    },
    {
      "cell_type": "code",
      "source": [
        "v1"
      ],
      "metadata": {
        "id": "9EQO82A27nKe",
        "outputId": "7cb95530-72b7-4475-8979-6bd54ec6f660",
        "colab": {
          "base_uri": "https://localhost:8080/",
          "height": 34
        }
      },
      "execution_count": 30,
      "outputs": [
        {
          "output_type": "display_data",
          "data": {
            "text/html": [
              "<style>\n",
              ".list-inline {list-style: none; margin:0; padding: 0}\n",
              ".list-inline>li {display: inline-block}\n",
              ".list-inline>li:not(:last-child)::after {content: \"\\00b7\"; padding: 0 .5ex}\n",
              "</style>\n",
              "<ol class=list-inline><li>1</li><li>1</li><li>2</li><li>99</li><li>5</li><li>8</li></ol>\n"
            ],
            "text/markdown": "1. 1\n2. 1\n3. 2\n4. 99\n5. 5\n6. 8\n\n\n",
            "text/latex": "\\begin{enumerate*}\n\\item 1\n\\item 1\n\\item 2\n\\item 99\n\\item 5\n\\item 8\n\\end{enumerate*}\n",
            "text/plain": [
              "[1]  1  1  2 99  5  8"
            ]
          },
          "metadata": {}
        }
      ]
    },
    {
      "cell_type": "code",
      "source": [
        "names(p1)"
      ],
      "metadata": {
        "id": "2EVp5y8v8bAx",
        "outputId": "87456789-ec9f-4fb0-d21f-f9815098e6d2",
        "colab": {
          "base_uri": "https://localhost:8080/",
          "height": 34
        }
      },
      "execution_count": 36,
      "outputs": [
        {
          "output_type": "display_data",
          "data": {
            "text/html": [
              "<style>\n",
              ".list-inline {list-style: none; margin:0; padding: 0}\n",
              ".list-inline>li {display: inline-block}\n",
              ".list-inline>li:not(:last-child)::after {content: \"\\00b7\"; padding: 0 .5ex}\n",
              "</style>\n",
              "<ol class=list-inline><li>'pal1'</li><li>'pal2'</li><li>'pal3'</li></ol>\n"
            ],
            "text/markdown": "1. 'pal1'\n2. 'pal2'\n3. 'pal3'\n\n\n",
            "text/latex": "\\begin{enumerate*}\n\\item 'pal1'\n\\item 'pal2'\n\\item 'pal3'\n\\end{enumerate*}\n",
            "text/plain": [
              "[1] \"pal1\" \"pal2\" \"pal3\""
            ]
          },
          "metadata": {}
        }
      ]
    },
    {
      "cell_type": "code",
      "metadata": {
        "id": "cVzhj4ASIgvb"
      },
      "source": [
        "# podemos cambiar uno de los nombres (ej, queremos cambiar el tercer nombre de p1, por \"palabra_3\")\n",
        "names(p1)[3] <- \"palabra_3\""
      ],
      "execution_count": 38,
      "outputs": []
    },
    {
      "cell_type": "code",
      "source": [
        "#Es lo mismo?\n",
        "names(p1[2]) <- \"palabra_2\""
      ],
      "metadata": {
        "id": "MwjkSVBL8s_g"
      },
      "execution_count": 44,
      "outputs": []
    },
    {
      "cell_type": "code",
      "source": [
        "p1[2]"
      ],
      "metadata": {
        "id": "xIh7HFQK9DXF",
        "outputId": "c26d771f-740c-4a2a-f2e0-3d46177ef66c",
        "colab": {
          "base_uri": "https://localhost:8080/",
          "height": 34
        }
      },
      "execution_count": 45,
      "outputs": [
        {
          "output_type": "display_data",
          "data": {
            "text/html": [
              "<strong>pal2:</strong> 'soy'"
            ],
            "text/markdown": "**pal2:** 'soy'",
            "text/latex": "\\textbf{pal2:} 'soy'",
            "text/plain": [
              " pal2 \n",
              "\"soy\" "
            ]
          },
          "metadata": {}
        }
      ]
    },
    {
      "cell_type": "code",
      "source": [
        "p1[2]"
      ],
      "metadata": {
        "id": "3G9PHQMl9OQ1",
        "outputId": "d025ec67-7e4b-476b-bce7-a403568550ee",
        "colab": {
          "base_uri": "https://localhost:8080/",
          "height": 34
        }
      },
      "execution_count": 42,
      "outputs": [
        {
          "output_type": "display_data",
          "data": {
            "text/html": [
              "<strong>pal2:</strong> 'soy'"
            ],
            "text/markdown": "**pal2:** 'soy'",
            "text/latex": "\\textbf{pal2:} 'soy'",
            "text/plain": [
              " pal2 \n",
              "\"soy\" "
            ]
          },
          "metadata": {}
        }
      ]
    },
    {
      "cell_type": "code",
      "metadata": {
        "id": "b6oqx_D4Igvd"
      },
      "source": [
        "# podemos modificar varias posiciones a la vez\n",
        "# queremos re-asignar los valores \"XX\" y \"ZZ\" en las posiciones 3 y 7 respecivamente\n"
      ],
      "execution_count": null,
      "outputs": []
    },
    {
      "cell_type": "markdown",
      "metadata": {
        "id": "XzyIBLZxIgvg"
      },
      "source": [
        "**Algunas sentencias de utilidad**\n",
        "\n",
        "También es posible acceder a los alementos de un vector mediante sentencias lógicas que retornen \"TRUE\" en la posición deseada. Para ello algunas funciones que son de utilidad son las siguientes.\n",
        "\n",
        "   **Conectores lógicos**\n",
        "\n",
        "    &, && |                  : conector y\n",
        "    |,||                     : conector o\n",
        "    ==                       : igual\n",
        "    !                        : negación\n",
        "    !=                       : distinto\n",
        "    >, >=                    : mayor que, mayor o igual que\n",
        "    <,<=                     : menor que, menor o igual que\n",
        "    is.na()                  : es NA?\n",
        "    which()                  : en qué posición es verdadera la expresión evaluada?\n",
        "    which.min(), which.max() : en qué posición se alcanza el mínimi/máximo\n",
        "    %in%                     : los elementos están en?\n",
        "    \n",
        "    "
      ]
    },
    {
      "cell_type": "code",
      "metadata": {
        "id": "NhZPJo56Igvh",
        "outputId": "224d6589-1dcf-4bc7-b5f8-ad6a31073931",
        "colab": {
          "base_uri": "https://localhost:8080/",
          "height": 34
        }
      },
      "source": [
        "# para acceder a elementos de un vector tenemos:\n",
        "# 1. por posicion\n",
        "# 2. por nombre\n",
        "# 3. por indicatrices lógicas (un vector con TRUE (T) o FALSE (F) del mismo largo del que quiero consultar y con TRUEs en las casillas que quiero rescatar)\n",
        "\n",
        "# Ej si queremos los  elementos 1 y 3\n",
        "\n",
        "p2[c(T,F,T)]\n",
        "\n",
        "\n",
        "\n",
        "\n",
        "\n"
      ],
      "execution_count": 47,
      "outputs": [
        {
          "output_type": "display_data",
          "data": {
            "text/html": [
              "<style>\n",
              ".list-inline {list-style: none; margin:0; padding: 0}\n",
              ".list-inline>li {display: inline-block}\n",
              ".list-inline>li:not(:last-child)::after {content: \"\\00b7\"; padding: 0 .5ex}\n",
              "</style>\n",
              "<ol class=list-inline><li>'x'</li><li>'z'</li></ol>\n"
            ],
            "text/markdown": "1. 'x'\n2. 'z'\n\n\n",
            "text/latex": "\\begin{enumerate*}\n\\item 'x'\n\\item 'z'\n\\end{enumerate*}\n",
            "text/plain": [
              "[1] \"x\" \"z\""
            ]
          },
          "metadata": {}
        }
      ]
    },
    {
      "cell_type": "code",
      "metadata": {
        "id": "5C4hDsvSIgvj"
      },
      "source": [
        "# Esto facilita la búsqueda dentro de un un vector. Ej: retornar los elementos mayores aun valor dado\n",
        "set.seed(2020)\n",
        "valores <- rnorm(1000)"
      ],
      "execution_count": 49,
      "outputs": []
    },
    {
      "cell_type": "code",
      "source": [
        "head(valores)"
      ],
      "metadata": {
        "id": "BTprvih0-Xp7",
        "outputId": "57b748aa-b01b-4f2d-a5fa-715b37e5caa6",
        "colab": {
          "base_uri": "https://localhost:8080/",
          "height": 34
        }
      },
      "execution_count": 50,
      "outputs": [
        {
          "output_type": "display_data",
          "data": {
            "text/html": [
              "<style>\n",
              ".list-inline {list-style: none; margin:0; padding: 0}\n",
              ".list-inline>li {display: inline-block}\n",
              ".list-inline>li:not(:last-child)::after {content: \"\\00b7\"; padding: 0 .5ex}\n",
              "</style>\n",
              "<ol class=list-inline><li>0.376972124936433</li><li>0.301548373935665</li><li>-1.0980231706536</li><li>-1.13040590360378</li><li>-2.79653431987176</li><li>0.720573498411587</li></ol>\n"
            ],
            "text/markdown": "1. 0.376972124936433\n2. 0.301548373935665\n3. -1.0980231706536\n4. -1.13040590360378\n5. -2.79653431987176\n6. 0.720573498411587\n\n\n",
            "text/latex": "\\begin{enumerate*}\n\\item 0.376972124936433\n\\item 0.301548373935665\n\\item -1.0980231706536\n\\item -1.13040590360378\n\\item -2.79653431987176\n\\item 0.720573498411587\n\\end{enumerate*}\n",
            "text/plain": [
              "[1]  0.3769721  0.3015484 -1.0980232 -1.1304059 -2.7965343  0.7205735"
            ]
          },
          "metadata": {}
        }
      ]
    },
    {
      "cell_type": "code",
      "source": [
        "valores"
      ],
      "metadata": {
        "id": "iDXrpnHA-eBk",
        "outputId": "de033432-8b77-4a35-cb7e-0bd876bbdc65",
        "colab": {
          "base_uri": "https://localhost:8080/",
          "height": 555
        }
      },
      "execution_count": 51,
      "outputs": [
        {
          "output_type": "display_data",
          "data": {
            "text/html": [
              "<style>\n",
              ".list-inline {list-style: none; margin:0; padding: 0}\n",
              ".list-inline>li {display: inline-block}\n",
              ".list-inline>li:not(:last-child)::after {content: \"\\00b7\"; padding: 0 .5ex}\n",
              "</style>\n",
              "<ol class=list-inline><li>0.376972124936433</li><li>0.301548373935665</li><li>-1.0980231706536</li><li>-1.13040590360378</li><li>-2.79653431987176</li><li>0.720573498411587</li><li>0.93912102300901</li><li>-0.229377746707471</li><li>1.75913134696347</li><li>0.117366786802848</li><li>-0.853122822287008</li><li>0.909259181618213</li><li>1.19637295955276</li><li>-0.371583903741348</li><li>-0.123260233287436</li><li>1.80004311672545</li><li>1.70399587729432</li><li>-3.03876460529759</li><li>-2.28897494991878</li><li>0.0583034949929225</li><li>2.17436525195634</li><li>1.09818265352131</li><li>0.318220322390854</li><li>-0.0731475581637693</li><li>0.834268741278827</li><li>0.198750636733429</li><li>1.29784138432631</li><li>0.936718306241348</li><li>-0.147433193833294</li><li>0.110431994640128</li><li>-0.812504663900505</li><li>-0.743702167768748</li><li>1.09534507180741</li><li>2.43537370755095</li><li>0.38811846676708</li><li>0.290627670295127</li><li>-0.285598287083935</li><li>0.0760147178373681</li><li>-0.560298603759627</li><li>0.447188372143361</li><li>0.908501134499943</li><li>-0.505059597708343</li><li>-0.301004012157305</li><li>-0.726035976548133</li><li>-1.18007702699501</li><li>0.253074712637114</li><li>-0.370711296884049</li><li>0.0221795637601637</li><li>0.660044122429767</li><li>0.48879363533552</li><li>-0.188789916535184</li><li>0.601359521079468</li><li>-0.673760052798442</li><li>0.476050240589567</li><li>0.11875322760149</li><li>0.121226282897226</li><li>-0.186046794338354</li><li>-1.32827118862704</li><li>-0.566922950886732</li><li>0.578833932915478</li><li>1.90903723141847</li><li>0.250757042672234</li><li>-1.59831505850908</li><li>3.20163174713348</li><li>0.955235375464122</li><li>0.368644616042278</li><li>0.922919067503503</li><li>-0.205521345710334</li><li>0.092966700547165</li><li>0.168262180233182</li><li>0.795839125287755</li><li>1.64600560721094</li><li>-1.71692431635025</li><li>-0.318343105944291</li><li>-0.904139971986906</li><li>-0.703992796667782</li><li>-1.77809946183924</li><li>-0.722255162624973</li><li>0.046154209553832</li><li>0.243658020687582</li><li>0.628331305782283</li><li>-0.0246385822796227</li><li>2.31415330907848</li><li>0.177210257260106</li><li>-1.02441476674678</li><li>2.27468130126709</li><li>-1.88905666491974</li><li>1.09395160103067</li><li>1.84616702732198</li><li>0.521032673520017</li><li>-1.53296210764592</li><li>-1.93936496927842</li><li>0.486916538104755</li><li>1.24523669065827</li><li>-0.217273426334712</li><li>-0.779593114501295</li><li>0.348874499707459</li><li>0.681724250015865</li><li>-0.531461387381673</li><li>-0.677393421473375</li><li>-1.72878394060979</li><li>-0.991260991589561</li><li>-0.585505561701735</li><li>0.38352174799264</li><li>0.746664919683157</li><li>-0.928420911757998</li><li>-0.338176296656827</li><li>1.54511401517901</li><li>0.266508877832155</li><li>0.299533932427615</li><li>-0.322802019550316</li><li>1.43534743310469</li><li>1.00652720383307</li><li>-1.71941363621868</li><li>0.298920461719989</li><li>-0.82472563598933</li><li>-1.19958983276379</li><li>-1.27638711730102</li><li>-0.123178066690284</li><li>2.165942198712</li><li>-0.312282974901684</li><li>0.367439225093845</li><li>1.26943926051528</li><li>-2.26485383914805</li><li>-1.28984990955812</li><li>0.187885938135046</li><li>0.751642855208785</li><li>1.78468133578688</li><li>1.50827173622253</li><li>-0.953161708543949</li><li>0.103422740369036</li><li>-0.605560497823519</li><li>-0.0976006255037022</li><li>-0.123448106810115</li><li>-1.04467951686894</li><li>-0.0748703402582222</li><li>1.76013533299962</li><li>-1.43211958660216</li><li>2.66220102826044</li><li>-1.2911915324806</li><li>0.0151017743611424</li><li>-0.0396805717025272</li><li>2.19144032262333</li><li>-1.97643754960617</li><li>0.463665664991729</li><li>-0.262212156963516</li><li>-1.1357145060917</li><li>0.211299481262918</li><li>0.099427927814971</li><li>-3.05668365235951</li><li>-0.347136653568049</li><li>-1.94662615826816</li><li>-0.216076646275867</li><li>-1.44919647850568</li><li>0.34543406073839</li><li>0.18820239366655</li><li>-1.12785278296396</li><li>0.0504503430104355</li><li>-0.682699091648469</li><li>0.648053817001419</li><li>0.610364486575726</li><li>-0.512656933375823</li><li>0.754405890685482</li><li>0.188104972368124</li><li>-1.92828563104951</li><li>1.23582136018889</li><li>0.328277313420236</li><li>-0.854914489250545</li><li>-1.89568821641824</li><li>0.846692414981603</li><li>1.2440251070401</li><li>0.236259956958241</li><li>-0.760693539302844</li><li>0.772220957293784</li><li>0.661556753620863</li><li>-1.59373336735277</li><li>-2.19034691482371</li><li>-1.17675395596723</li><li>1.05000512774126</li><li>-0.00570307873571396</li><li>-0.27601232711464</li><li>0.848521292386336</li><li>-1.04893465799499</li><li>-1.733586337092</li><li>2.4141390868032</li><li>-0.195641766782138</li><li>0.926786956027277</li><li>-0.713463632284985</li><li>-1.2997417149422</li><li>0.884296403693231</li><li>1.20064152073226</li><li>-1.17033977647403</li><li>0.761471885477129</li><li>0.870090238099867</li><li>-0.727242710372547</li><li>0.626620728897496</li><li>-1.09144272809162</li><li>-0.516094526339504</li><li>0.0169339634064014</li><li>0.660990688881105</li><li>⋯</li><li>0.425669715058102</li><li>1.19899575713223</li><li>-0.0134581601508863</li><li>0.805779466120444</li><li>0.70718075721415</li><li>0.169702583950107</li><li>-1.22412677258123</li><li>-2.13934668954574</li><li>0.428906720707015</li><li>-1.47690089590572</li><li>-1.4282203827002</li><li>1.42166028063166</li><li>-0.420094088998626</li><li>-0.365233265422307</li><li>-1.46412616611978</li><li>0.00967320309713926</li><li>-1.26188419718869</li><li>2.61557546892638</li><li>0.60585066398594</li><li>0.237413247909264</li><li>1.25979105975697</li><li>0.15616997476928</li><li>0.144639317821713</li><li>-2.13589249188865</li><li>1.38000225971493</li><li>-1.64571500944935</li><li>-0.350625215261919</li><li>-0.298120023863699</li><li>-0.408351732627366</li><li>0.341265568348934</li><li>-1.1586657498936</li><li>1.60464806652853</li><li>0.176826582607288</li><li>0.904245450641328</li><li>-0.644184192498819</li><li>0.408392381545024</li><li>-0.561916640844269</li><li>-0.676296868216586</li><li>0.144429172737175</li><li>0.624872559402806</li><li>-1.02663105206912</li><li>0.717504571224808</li><li>-0.715600696806326</li><li>-0.249892253698099</li><li>0.968193608180057</li><li>2.0483772484952</li><li>-0.549223525202248</li><li>0.125096728971635</li><li>-0.236164512029828</li><li>-0.0432283965075839</li><li>0.841018025205719</li><li>0.935485777451835</li><li>-0.0673417797681394</li><li>1.34058337929368</li><li>-0.94987894204516</li><li>-0.311649425723984</li><li>-0.132976768735049</li><li>0.720067403439722</li><li>-0.11535310353148</li><li>0.524883441103795</li><li>0.615910265946243</li><li>0.899236284314325</li><li>0.463824311198001</li><li>0.886643465852954</li><li>-0.757821124492292</li><li>-0.291296665601701</li><li>0.399461136802808</li><li>-0.441316639226426</li><li>2.06996054100344</li><li>0.505812829455352</li><li>-0.248003648105123</li><li>-0.946948768811056</li><li>-0.361160727704715</li><li>-0.764284008746748</li><li>-0.41206018803097</li><li>0.288360600652346</li><li>-0.750810442494489</li><li>-0.254468078625007</li><li>-1.50218980337831</li><li>-0.163310355804175</li><li>0.588561693982085</li><li>0.369177593353017</li><li>-0.180806184607647</li><li>0.767318435144036</li><li>0.232436910416811</li><li>-0.305392395934866</li><li>1.36042817575474</li><li>-0.779406864876399</li><li>-1.19543603834664</li><li>0.601954683792871</li><li>1.61332483402266</li><li>2.10445156017071</li><li>-0.911457798650316</li><li>-0.0108538511024813</li><li>1.00322362061648</li><li>-1.66776722055578</li><li>0.926708156500203</li><li>0.316613833342232</li><li>0.36307344151907</li><li>-0.848985258412963</li><li>-0.045900355842822</li><li>0.699807029512603</li><li>0.670930704753396</li><li>0.747717263174528</li><li>-1.26558617362577</li><li>1.45773102292554</li><li>0.0856797543498194</li><li>0.587607751881637</li><li>-0.346292985382676</li><li>-0.795267760817528</li><li>-1.00109717028655</li><li>-0.293160438053027</li><li>0.810199667823475</li><li>1.84456726671247</li><li>-1.6598301758156</li><li>-0.319559173249119</li><li>-1.23417265828795</li><li>-1.06928397871608</li><li>0.254688022152829</li><li>-0.964443546111326</li><li>-0.744870576523281</li><li>1.31356428426846</li><li>0.109292689355613</li><li>0.15632657002152</li><li>-0.560934022698006</li><li>1.37753061898822</li><li>-0.739087510321392</li><li>0.431338215502984</li><li>0.925959665373708</li><li>-0.985049371764452</li><li>-0.807983402832432</li><li>-0.321637419546169</li><li>0.246342343571332</li><li>0.188852804271405</li><li>-0.526752545531557</li><li>1.26560944024245</li><li>-0.848701210304458</li><li>-0.231175627100421</li><li>0.205595434657498</li><li>-1.52967092781758</li><li>1.88796616886602</li><li>-0.674089159318319</li><li>-0.720920925437182</li><li>-1.37476439941088</li><li>-0.673948779656739</li><li>0.413498837678694</li><li>2.74606957538124</li><li>-0.953356933502289</li><li>-0.712878737321251</li><li>-0.645625584334318</li><li>0.65698335661185</li><li>0.332823424411556</li><li>0.824499501208224</li><li>-2.47818303865282</li><li>-0.0565099824563386</li><li>-0.277729484830605</li><li>1.04196365476518</li><li>-1.49907523359584</li><li>-0.106446804648631</li><li>0.603565944716699</li><li>-1.20082613745065</li><li>0.34761533800723</li><li>0.839751406498873</li><li>-0.921265783300224</li><li>0.0667592141036352</li><li>-0.129448406344101</li><li>0.438027962436474</li><li>-0.948026816598753</li><li>0.391051397679863</li><li>-0.107764375125618</li><li>0.262360887064151</li><li>0.20494528883771</li><li>0.881384477382213</li><li>-0.398500991665301</li><li>-0.262975250216534</li><li>1.0685807899044</li><li>-0.637842594157145</li><li>-1.48385184843436</li><li>-0.175861148749322</li><li>1.02731755699761</li><li>-1.72180063897249</li><li>-0.82286970007884</li><li>-0.883477628966077</li><li>1.28704209816118</li><li>-1.31228165062984</li><li>-0.571620267494027</li><li>1.18402131287979</li><li>-1.68620242384711</li><li>-1.38760499972523</li><li>-0.714399954172373</li><li>2.47686636050139</li><li>-0.606808915790383</li><li>-0.258497817084373</li><li>-1.25470960231148</li><li>0.397663022286196</li><li>-0.159737146630274</li><li>1.6871331127624</li><li>-0.369313718840147</li><li>0.787083819815713</li><li>-0.925153238507452</li></ol>\n"
            ],
            "text/markdown": "1. 0.376972124936433\n2. 0.301548373935665\n3. -1.0980231706536\n4. -1.13040590360378\n5. -2.79653431987176\n6. 0.720573498411587\n7. 0.93912102300901\n8. -0.229377746707471\n9. 1.75913134696347\n10. 0.117366786802848\n11. -0.853122822287008\n12. 0.909259181618213\n13. 1.19637295955276\n14. -0.371583903741348\n15. -0.123260233287436\n16. 1.80004311672545\n17. 1.70399587729432\n18. -3.03876460529759\n19. -2.28897494991878\n20. 0.0583034949929225\n21. 2.17436525195634\n22. 1.09818265352131\n23. 0.318220322390854\n24. -0.0731475581637693\n25. 0.834268741278827\n26. 0.198750636733429\n27. 1.29784138432631\n28. 0.936718306241348\n29. -0.147433193833294\n30. 0.110431994640128\n31. -0.812504663900505\n32. -0.743702167768748\n33. 1.09534507180741\n34. 2.43537370755095\n35. 0.38811846676708\n36. 0.290627670295127\n37. -0.285598287083935\n38. 0.0760147178373681\n39. -0.560298603759627\n40. 0.447188372143361\n41. 0.908501134499943\n42. -0.505059597708343\n43. -0.301004012157305\n44. -0.726035976548133\n45. -1.18007702699501\n46. 0.253074712637114\n47. -0.370711296884049\n48. 0.0221795637601637\n49. 0.660044122429767\n50. 0.48879363533552\n51. -0.188789916535184\n52. 0.601359521079468\n53. -0.673760052798442\n54. 0.476050240589567\n55. 0.11875322760149\n56. 0.121226282897226\n57. -0.186046794338354\n58. -1.32827118862704\n59. -0.566922950886732\n60. 0.578833932915478\n61. 1.90903723141847\n62. 0.250757042672234\n63. -1.59831505850908\n64. 3.20163174713348\n65. 0.955235375464122\n66. 0.368644616042278\n67. 0.922919067503503\n68. -0.205521345710334\n69. 0.092966700547165\n70. 0.168262180233182\n71. 0.795839125287755\n72. 1.64600560721094\n73. -1.71692431635025\n74. -0.318343105944291\n75. -0.904139971986906\n76. -0.703992796667782\n77. -1.77809946183924\n78. -0.722255162624973\n79. 0.046154209553832\n80. 0.243658020687582\n81. 0.628331305782283\n82. -0.0246385822796227\n83. 2.31415330907848\n84. 0.177210257260106\n85. -1.02441476674678\n86. 2.27468130126709\n87. -1.88905666491974\n88. 1.09395160103067\n89. 1.84616702732198\n90. 0.521032673520017\n91. -1.53296210764592\n92. -1.93936496927842\n93. 0.486916538104755\n94. 1.24523669065827\n95. -0.217273426334712\n96. -0.779593114501295\n97. 0.348874499707459\n98. 0.681724250015865\n99. -0.531461387381673\n100. -0.677393421473375\n101. -1.72878394060979\n102. -0.991260991589561\n103. -0.585505561701735\n104. 0.38352174799264\n105. 0.746664919683157\n106. -0.928420911757998\n107. -0.338176296656827\n108. 1.54511401517901\n109. 0.266508877832155\n110. 0.299533932427615\n111. -0.322802019550316\n112. 1.43534743310469\n113. 1.00652720383307\n114. -1.71941363621868\n115. 0.298920461719989\n116. -0.82472563598933\n117. -1.19958983276379\n118. -1.27638711730102\n119. -0.123178066690284\n120. 2.165942198712\n121. -0.312282974901684\n122. 0.367439225093845\n123. 1.26943926051528\n124. -2.26485383914805\n125. -1.28984990955812\n126. 0.187885938135046\n127. 0.751642855208785\n128. 1.78468133578688\n129. 1.50827173622253\n130. -0.953161708543949\n131. 0.103422740369036\n132. -0.605560497823519\n133. -0.0976006255037022\n134. -0.123448106810115\n135. -1.04467951686894\n136. -0.0748703402582222\n137. 1.76013533299962\n138. -1.43211958660216\n139. 2.66220102826044\n140. -1.2911915324806\n141. 0.0151017743611424\n142. -0.0396805717025272\n143. 2.19144032262333\n144. -1.97643754960617\n145. 0.463665664991729\n146. -0.262212156963516\n147. -1.1357145060917\n148. 0.211299481262918\n149. 0.099427927814971\n150. -3.05668365235951\n151. -0.347136653568049\n152. -1.94662615826816\n153. -0.216076646275867\n154. -1.44919647850568\n155. 0.34543406073839\n156. 0.18820239366655\n157. -1.12785278296396\n158. 0.0504503430104355\n159. -0.682699091648469\n160. 0.648053817001419\n161. 0.610364486575726\n162. -0.512656933375823\n163. 0.754405890685482\n164. 0.188104972368124\n165. -1.92828563104951\n166. 1.23582136018889\n167. 0.328277313420236\n168. -0.854914489250545\n169. -1.89568821641824\n170. 0.846692414981603\n171. 1.2440251070401\n172. 0.236259956958241\n173. -0.760693539302844\n174. 0.772220957293784\n175. 0.661556753620863\n176. -1.59373336735277\n177. -2.19034691482371\n178. -1.17675395596723\n179. 1.05000512774126\n180. -0.00570307873571396\n181. -0.27601232711464\n182. 0.848521292386336\n183. -1.04893465799499\n184. -1.733586337092\n185. 2.4141390868032\n186. -0.195641766782138\n187. 0.926786956027277\n188. -0.713463632284985\n189. -1.2997417149422\n190. 0.884296403693231\n191. 1.20064152073226\n192. -1.17033977647403\n193. 0.761471885477129\n194. 0.870090238099867\n195. -0.727242710372547\n196. 0.626620728897496\n197. -1.09144272809162\n198. -0.516094526339504\n199. 0.0169339634064014\n200. 0.660990688881105\n201. ⋯\n202. 0.425669715058102\n203. 1.19899575713223\n204. -0.0134581601508863\n205. 0.805779466120444\n206. 0.70718075721415\n207. 0.169702583950107\n208. -1.22412677258123\n209. -2.13934668954574\n210. 0.428906720707015\n211. -1.47690089590572\n212. -1.4282203827002\n213. 1.42166028063166\n214. -0.420094088998626\n215. -0.365233265422307\n216. -1.46412616611978\n217. 0.00967320309713926\n218. -1.26188419718869\n219. 2.61557546892638\n220. 0.60585066398594\n221. 0.237413247909264\n222. 1.25979105975697\n223. 0.15616997476928\n224. 0.144639317821713\n225. -2.13589249188865\n226. 1.38000225971493\n227. -1.64571500944935\n228. -0.350625215261919\n229. -0.298120023863699\n230. -0.408351732627366\n231. 0.341265568348934\n232. -1.1586657498936\n233. 1.60464806652853\n234. 0.176826582607288\n235. 0.904245450641328\n236. -0.644184192498819\n237. 0.408392381545024\n238. -0.561916640844269\n239. -0.676296868216586\n240. 0.144429172737175\n241. 0.624872559402806\n242. -1.02663105206912\n243. 0.717504571224808\n244. -0.715600696806326\n245. -0.249892253698099\n246. 0.968193608180057\n247. 2.0483772484952\n248. -0.549223525202248\n249. 0.125096728971635\n250. -0.236164512029828\n251. -0.0432283965075839\n252. 0.841018025205719\n253. 0.935485777451835\n254. -0.0673417797681394\n255. 1.34058337929368\n256. -0.94987894204516\n257. -0.311649425723984\n258. -0.132976768735049\n259. 0.720067403439722\n260. -0.11535310353148\n261. 0.524883441103795\n262. 0.615910265946243\n263. 0.899236284314325\n264. 0.463824311198001\n265. 0.886643465852954\n266. -0.757821124492292\n267. -0.291296665601701\n268. 0.399461136802808\n269. -0.441316639226426\n270. 2.06996054100344\n271. 0.505812829455352\n272. -0.248003648105123\n273. -0.946948768811056\n274. -0.361160727704715\n275. -0.764284008746748\n276. -0.41206018803097\n277. 0.288360600652346\n278. -0.750810442494489\n279. -0.254468078625007\n280. -1.50218980337831\n281. -0.163310355804175\n282. 0.588561693982085\n283. 0.369177593353017\n284. -0.180806184607647\n285. 0.767318435144036\n286. 0.232436910416811\n287. -0.305392395934866\n288. 1.36042817575474\n289. -0.779406864876399\n290. -1.19543603834664\n291. 0.601954683792871\n292. 1.61332483402266\n293. 2.10445156017071\n294. -0.911457798650316\n295. -0.0108538511024813\n296. 1.00322362061648\n297. -1.66776722055578\n298. 0.926708156500203\n299. 0.316613833342232\n300. 0.36307344151907\n301. -0.848985258412963\n302. -0.045900355842822\n303. 0.699807029512603\n304. 0.670930704753396\n305. 0.747717263174528\n306. -1.26558617362577\n307. 1.45773102292554\n308. 0.0856797543498194\n309. 0.587607751881637\n310. -0.346292985382676\n311. -0.795267760817528\n312. -1.00109717028655\n313. -0.293160438053027\n314. 0.810199667823475\n315. 1.84456726671247\n316. -1.6598301758156\n317. -0.319559173249119\n318. -1.23417265828795\n319. -1.06928397871608\n320. 0.254688022152829\n321. -0.964443546111326\n322. -0.744870576523281\n323. 1.31356428426846\n324. 0.109292689355613\n325. 0.15632657002152\n326. -0.560934022698006\n327. 1.37753061898822\n328. -0.739087510321392\n329. 0.431338215502984\n330. 0.925959665373708\n331. -0.985049371764452\n332. -0.807983402832432\n333. -0.321637419546169\n334. 0.246342343571332\n335. 0.188852804271405\n336. -0.526752545531557\n337. 1.26560944024245\n338. -0.848701210304458\n339. -0.231175627100421\n340. 0.205595434657498\n341. -1.52967092781758\n342. 1.88796616886602\n343. -0.674089159318319\n344. -0.720920925437182\n345. -1.37476439941088\n346. -0.673948779656739\n347. 0.413498837678694\n348. 2.74606957538124\n349. -0.953356933502289\n350. -0.712878737321251\n351. -0.645625584334318\n352. 0.65698335661185\n353. 0.332823424411556\n354. 0.824499501208224\n355. -2.47818303865282\n356. -0.0565099824563386\n357. -0.277729484830605\n358. 1.04196365476518\n359. -1.49907523359584\n360. -0.106446804648631\n361. 0.603565944716699\n362. -1.20082613745065\n363. 0.34761533800723\n364. 0.839751406498873\n365. -0.921265783300224\n366. 0.0667592141036352\n367. -0.129448406344101\n368. 0.438027962436474\n369. -0.948026816598753\n370. 0.391051397679863\n371. -0.107764375125618\n372. 0.262360887064151\n373. 0.20494528883771\n374. 0.881384477382213\n375. -0.398500991665301\n376. -0.262975250216534\n377. 1.0685807899044\n378. -0.637842594157145\n379. -1.48385184843436\n380. -0.175861148749322\n381. 1.02731755699761\n382. -1.72180063897249\n383. -0.82286970007884\n384. -0.883477628966077\n385. 1.28704209816118\n386. -1.31228165062984\n387. -0.571620267494027\n388. 1.18402131287979\n389. -1.68620242384711\n390. -1.38760499972523\n391. -0.714399954172373\n392. 2.47686636050139\n393. -0.606808915790383\n394. -0.258497817084373\n395. -1.25470960231148\n396. 0.397663022286196\n397. -0.159737146630274\n398. 1.6871331127624\n399. -0.369313718840147\n400. 0.787083819815713\n401. -0.925153238507452\n\n\n",
            "text/latex": "\\begin{enumerate*}\n\\item 0.376972124936433\n\\item 0.301548373935665\n\\item -1.0980231706536\n\\item -1.13040590360378\n\\item -2.79653431987176\n\\item 0.720573498411587\n\\item 0.93912102300901\n\\item -0.229377746707471\n\\item 1.75913134696347\n\\item 0.117366786802848\n\\item -0.853122822287008\n\\item 0.909259181618213\n\\item 1.19637295955276\n\\item -0.371583903741348\n\\item -0.123260233287436\n\\item 1.80004311672545\n\\item 1.70399587729432\n\\item -3.03876460529759\n\\item -2.28897494991878\n\\item 0.0583034949929225\n\\item 2.17436525195634\n\\item 1.09818265352131\n\\item 0.318220322390854\n\\item -0.0731475581637693\n\\item 0.834268741278827\n\\item 0.198750636733429\n\\item 1.29784138432631\n\\item 0.936718306241348\n\\item -0.147433193833294\n\\item 0.110431994640128\n\\item -0.812504663900505\n\\item -0.743702167768748\n\\item 1.09534507180741\n\\item 2.43537370755095\n\\item 0.38811846676708\n\\item 0.290627670295127\n\\item -0.285598287083935\n\\item 0.0760147178373681\n\\item -0.560298603759627\n\\item 0.447188372143361\n\\item 0.908501134499943\n\\item -0.505059597708343\n\\item -0.301004012157305\n\\item -0.726035976548133\n\\item -1.18007702699501\n\\item 0.253074712637114\n\\item -0.370711296884049\n\\item 0.0221795637601637\n\\item 0.660044122429767\n\\item 0.48879363533552\n\\item -0.188789916535184\n\\item 0.601359521079468\n\\item -0.673760052798442\n\\item 0.476050240589567\n\\item 0.11875322760149\n\\item 0.121226282897226\n\\item -0.186046794338354\n\\item -1.32827118862704\n\\item -0.566922950886732\n\\item 0.578833932915478\n\\item 1.90903723141847\n\\item 0.250757042672234\n\\item -1.59831505850908\n\\item 3.20163174713348\n\\item 0.955235375464122\n\\item 0.368644616042278\n\\item 0.922919067503503\n\\item -0.205521345710334\n\\item 0.092966700547165\n\\item 0.168262180233182\n\\item 0.795839125287755\n\\item 1.64600560721094\n\\item -1.71692431635025\n\\item -0.318343105944291\n\\item -0.904139971986906\n\\item -0.703992796667782\n\\item -1.77809946183924\n\\item -0.722255162624973\n\\item 0.046154209553832\n\\item 0.243658020687582\n\\item 0.628331305782283\n\\item -0.0246385822796227\n\\item 2.31415330907848\n\\item 0.177210257260106\n\\item -1.02441476674678\n\\item 2.27468130126709\n\\item -1.88905666491974\n\\item 1.09395160103067\n\\item 1.84616702732198\n\\item 0.521032673520017\n\\item -1.53296210764592\n\\item -1.93936496927842\n\\item 0.486916538104755\n\\item 1.24523669065827\n\\item -0.217273426334712\n\\item -0.779593114501295\n\\item 0.348874499707459\n\\item 0.681724250015865\n\\item -0.531461387381673\n\\item -0.677393421473375\n\\item -1.72878394060979\n\\item -0.991260991589561\n\\item -0.585505561701735\n\\item 0.38352174799264\n\\item 0.746664919683157\n\\item -0.928420911757998\n\\item -0.338176296656827\n\\item 1.54511401517901\n\\item 0.266508877832155\n\\item 0.299533932427615\n\\item -0.322802019550316\n\\item 1.43534743310469\n\\item 1.00652720383307\n\\item -1.71941363621868\n\\item 0.298920461719989\n\\item -0.82472563598933\n\\item -1.19958983276379\n\\item -1.27638711730102\n\\item -0.123178066690284\n\\item 2.165942198712\n\\item -0.312282974901684\n\\item 0.367439225093845\n\\item 1.26943926051528\n\\item -2.26485383914805\n\\item -1.28984990955812\n\\item 0.187885938135046\n\\item 0.751642855208785\n\\item 1.78468133578688\n\\item 1.50827173622253\n\\item -0.953161708543949\n\\item 0.103422740369036\n\\item -0.605560497823519\n\\item -0.0976006255037022\n\\item -0.123448106810115\n\\item -1.04467951686894\n\\item -0.0748703402582222\n\\item 1.76013533299962\n\\item -1.43211958660216\n\\item 2.66220102826044\n\\item -1.2911915324806\n\\item 0.0151017743611424\n\\item -0.0396805717025272\n\\item 2.19144032262333\n\\item -1.97643754960617\n\\item 0.463665664991729\n\\item -0.262212156963516\n\\item -1.1357145060917\n\\item 0.211299481262918\n\\item 0.099427927814971\n\\item -3.05668365235951\n\\item -0.347136653568049\n\\item -1.94662615826816\n\\item -0.216076646275867\n\\item -1.44919647850568\n\\item 0.34543406073839\n\\item 0.18820239366655\n\\item -1.12785278296396\n\\item 0.0504503430104355\n\\item -0.682699091648469\n\\item 0.648053817001419\n\\item 0.610364486575726\n\\item -0.512656933375823\n\\item 0.754405890685482\n\\item 0.188104972368124\n\\item -1.92828563104951\n\\item 1.23582136018889\n\\item 0.328277313420236\n\\item -0.854914489250545\n\\item -1.89568821641824\n\\item 0.846692414981603\n\\item 1.2440251070401\n\\item 0.236259956958241\n\\item -0.760693539302844\n\\item 0.772220957293784\n\\item 0.661556753620863\n\\item -1.59373336735277\n\\item -2.19034691482371\n\\item -1.17675395596723\n\\item 1.05000512774126\n\\item -0.00570307873571396\n\\item -0.27601232711464\n\\item 0.848521292386336\n\\item -1.04893465799499\n\\item -1.733586337092\n\\item 2.4141390868032\n\\item -0.195641766782138\n\\item 0.926786956027277\n\\item -0.713463632284985\n\\item -1.2997417149422\n\\item 0.884296403693231\n\\item 1.20064152073226\n\\item -1.17033977647403\n\\item 0.761471885477129\n\\item 0.870090238099867\n\\item -0.727242710372547\n\\item 0.626620728897496\n\\item -1.09144272809162\n\\item -0.516094526339504\n\\item 0.0169339634064014\n\\item 0.660990688881105\n\\item ⋯\n\\item 0.425669715058102\n\\item 1.19899575713223\n\\item -0.0134581601508863\n\\item 0.805779466120444\n\\item 0.70718075721415\n\\item 0.169702583950107\n\\item -1.22412677258123\n\\item -2.13934668954574\n\\item 0.428906720707015\n\\item -1.47690089590572\n\\item -1.4282203827002\n\\item 1.42166028063166\n\\item -0.420094088998626\n\\item -0.365233265422307\n\\item -1.46412616611978\n\\item 0.00967320309713926\n\\item -1.26188419718869\n\\item 2.61557546892638\n\\item 0.60585066398594\n\\item 0.237413247909264\n\\item 1.25979105975697\n\\item 0.15616997476928\n\\item 0.144639317821713\n\\item -2.13589249188865\n\\item 1.38000225971493\n\\item -1.64571500944935\n\\item -0.350625215261919\n\\item -0.298120023863699\n\\item -0.408351732627366\n\\item 0.341265568348934\n\\item -1.1586657498936\n\\item 1.60464806652853\n\\item 0.176826582607288\n\\item 0.904245450641328\n\\item -0.644184192498819\n\\item 0.408392381545024\n\\item -0.561916640844269\n\\item -0.676296868216586\n\\item 0.144429172737175\n\\item 0.624872559402806\n\\item -1.02663105206912\n\\item 0.717504571224808\n\\item -0.715600696806326\n\\item -0.249892253698099\n\\item 0.968193608180057\n\\item 2.0483772484952\n\\item -0.549223525202248\n\\item 0.125096728971635\n\\item -0.236164512029828\n\\item -0.0432283965075839\n\\item 0.841018025205719\n\\item 0.935485777451835\n\\item -0.0673417797681394\n\\item 1.34058337929368\n\\item -0.94987894204516\n\\item -0.311649425723984\n\\item -0.132976768735049\n\\item 0.720067403439722\n\\item -0.11535310353148\n\\item 0.524883441103795\n\\item 0.615910265946243\n\\item 0.899236284314325\n\\item 0.463824311198001\n\\item 0.886643465852954\n\\item -0.757821124492292\n\\item -0.291296665601701\n\\item 0.399461136802808\n\\item -0.441316639226426\n\\item 2.06996054100344\n\\item 0.505812829455352\n\\item -0.248003648105123\n\\item -0.946948768811056\n\\item -0.361160727704715\n\\item -0.764284008746748\n\\item -0.41206018803097\n\\item 0.288360600652346\n\\item -0.750810442494489\n\\item -0.254468078625007\n\\item -1.50218980337831\n\\item -0.163310355804175\n\\item 0.588561693982085\n\\item 0.369177593353017\n\\item -0.180806184607647\n\\item 0.767318435144036\n\\item 0.232436910416811\n\\item -0.305392395934866\n\\item 1.36042817575474\n\\item -0.779406864876399\n\\item -1.19543603834664\n\\item 0.601954683792871\n\\item 1.61332483402266\n\\item 2.10445156017071\n\\item -0.911457798650316\n\\item -0.0108538511024813\n\\item 1.00322362061648\n\\item -1.66776722055578\n\\item 0.926708156500203\n\\item 0.316613833342232\n\\item 0.36307344151907\n\\item -0.848985258412963\n\\item -0.045900355842822\n\\item 0.699807029512603\n\\item 0.670930704753396\n\\item 0.747717263174528\n\\item -1.26558617362577\n\\item 1.45773102292554\n\\item 0.0856797543498194\n\\item 0.587607751881637\n\\item -0.346292985382676\n\\item -0.795267760817528\n\\item -1.00109717028655\n\\item -0.293160438053027\n\\item 0.810199667823475\n\\item 1.84456726671247\n\\item -1.6598301758156\n\\item -0.319559173249119\n\\item -1.23417265828795\n\\item -1.06928397871608\n\\item 0.254688022152829\n\\item -0.964443546111326\n\\item -0.744870576523281\n\\item 1.31356428426846\n\\item 0.109292689355613\n\\item 0.15632657002152\n\\item -0.560934022698006\n\\item 1.37753061898822\n\\item -0.739087510321392\n\\item 0.431338215502984\n\\item 0.925959665373708\n\\item -0.985049371764452\n\\item -0.807983402832432\n\\item -0.321637419546169\n\\item 0.246342343571332\n\\item 0.188852804271405\n\\item -0.526752545531557\n\\item 1.26560944024245\n\\item -0.848701210304458\n\\item -0.231175627100421\n\\item 0.205595434657498\n\\item -1.52967092781758\n\\item 1.88796616886602\n\\item -0.674089159318319\n\\item -0.720920925437182\n\\item -1.37476439941088\n\\item -0.673948779656739\n\\item 0.413498837678694\n\\item 2.74606957538124\n\\item -0.953356933502289\n\\item -0.712878737321251\n\\item -0.645625584334318\n\\item 0.65698335661185\n\\item 0.332823424411556\n\\item 0.824499501208224\n\\item -2.47818303865282\n\\item -0.0565099824563386\n\\item -0.277729484830605\n\\item 1.04196365476518\n\\item -1.49907523359584\n\\item -0.106446804648631\n\\item 0.603565944716699\n\\item -1.20082613745065\n\\item 0.34761533800723\n\\item 0.839751406498873\n\\item -0.921265783300224\n\\item 0.0667592141036352\n\\item -0.129448406344101\n\\item 0.438027962436474\n\\item -0.948026816598753\n\\item 0.391051397679863\n\\item -0.107764375125618\n\\item 0.262360887064151\n\\item 0.20494528883771\n\\item 0.881384477382213\n\\item -0.398500991665301\n\\item -0.262975250216534\n\\item 1.0685807899044\n\\item -0.637842594157145\n\\item -1.48385184843436\n\\item -0.175861148749322\n\\item 1.02731755699761\n\\item -1.72180063897249\n\\item -0.82286970007884\n\\item -0.883477628966077\n\\item 1.28704209816118\n\\item -1.31228165062984\n\\item -0.571620267494027\n\\item 1.18402131287979\n\\item -1.68620242384711\n\\item -1.38760499972523\n\\item -0.714399954172373\n\\item 2.47686636050139\n\\item -0.606808915790383\n\\item -0.258497817084373\n\\item -1.25470960231148\n\\item 0.397663022286196\n\\item -0.159737146630274\n\\item 1.6871331127624\n\\item -0.369313718840147\n\\item 0.787083819815713\n\\item -0.925153238507452\n\\end{enumerate*}\n",
            "text/plain": [
              "   [1]  0.376972125  0.301548374 -1.098023171 -1.130405904 -2.796534320\n",
              "   [6]  0.720573498  0.939121023 -0.229377747  1.759131347  0.117366787\n",
              "  [11] -0.853122822  0.909259182  1.196372960 -0.371583904 -0.123260233\n",
              "  [16]  1.800043117  1.703995877 -3.038764605 -2.288974950  0.058303495\n",
              "  [21]  2.174365252  1.098182654  0.318220322 -0.073147558  0.834268741\n",
              "  [26]  0.198750637  1.297841384  0.936718306 -0.147433194  0.110431995\n",
              "  [31] -0.812504664 -0.743702168  1.095345072  2.435373708  0.388118467\n",
              "  [36]  0.290627670 -0.285598287  0.076014718 -0.560298604  0.447188372\n",
              "  [41]  0.908501134 -0.505059598 -0.301004012 -0.726035977 -1.180077027\n",
              "  [46]  0.253074713 -0.370711297  0.022179564  0.660044122  0.488793635\n",
              "  [51] -0.188789917  0.601359521 -0.673760053  0.476050241  0.118753228\n",
              "  [56]  0.121226283 -0.186046794 -1.328271189 -0.566922951  0.578833933\n",
              "  [61]  1.909037231  0.250757043 -1.598315059  3.201631747  0.955235375\n",
              "  [66]  0.368644616  0.922919068 -0.205521346  0.092966701  0.168262180\n",
              "  [71]  0.795839125  1.646005607 -1.716924316 -0.318343106 -0.904139972\n",
              "  [76] -0.703992797 -1.778099462 -0.722255163  0.046154210  0.243658021\n",
              "  [81]  0.628331306 -0.024638582  2.314153309  0.177210257 -1.024414767\n",
              "  [86]  2.274681301 -1.889056665  1.093951601  1.846167027  0.521032674\n",
              "  [91] -1.532962108 -1.939364969  0.486916538  1.245236691 -0.217273426\n",
              "  [96] -0.779593115  0.348874500  0.681724250 -0.531461387 -0.677393421\n",
              " [101] -1.728783941 -0.991260992 -0.585505562  0.383521748  0.746664920\n",
              " [106] -0.928420912 -0.338176297  1.545114015  0.266508878  0.299533932\n",
              " [111] -0.322802020  1.435347433  1.006527204 -1.719413636  0.298920462\n",
              " [116] -0.824725636 -1.199589833 -1.276387117 -0.123178067  2.165942199\n",
              " [121] -0.312282975  0.367439225  1.269439261 -2.264853839 -1.289849910\n",
              " [126]  0.187885938  0.751642855  1.784681336  1.508271736 -0.953161709\n",
              " [131]  0.103422740 -0.605560498 -0.097600626 -0.123448107 -1.044679517\n",
              " [136] -0.074870340  1.760135333 -1.432119587  2.662201028 -1.291191532\n",
              " [141]  0.015101774 -0.039680572  2.191440323 -1.976437550  0.463665665\n",
              " [146] -0.262212157 -1.135714506  0.211299481  0.099427928 -3.056683652\n",
              " [151] -0.347136654 -1.946626158 -0.216076646 -1.449196479  0.345434061\n",
              " [156]  0.188202394 -1.127852783  0.050450343 -0.682699092  0.648053817\n",
              " [161]  0.610364487 -0.512656933  0.754405891  0.188104972 -1.928285631\n",
              " [166]  1.235821360  0.328277313 -0.854914489 -1.895688216  0.846692415\n",
              " [171]  1.244025107  0.236259957 -0.760693539  0.772220957  0.661556754\n",
              " [176] -1.593733367 -2.190346915 -1.176753956  1.050005128 -0.005703079\n",
              " [181] -0.276012327  0.848521292 -1.048934658 -1.733586337  2.414139087\n",
              " [186] -0.195641767  0.926786956 -0.713463632 -1.299741715  0.884296404\n",
              " [191]  1.200641521 -1.170339776  0.761471885  0.870090238 -0.727242710\n",
              " [196]  0.626620729 -1.091442728 -0.516094526  0.016933963  0.660990689\n",
              " [201] -0.729533119  0.851377390 -0.396491586  0.406678577 -1.038553441\n",
              " [206] -1.255881298  1.157021721  1.038676501 -0.095238350 -1.098293567\n",
              " [211]  0.560354247 -0.253028826  2.207099949 -0.743042912  0.446359483\n",
              " [216]  0.105695458 -1.020131230  0.923959483 -1.105849220 -0.543743767\n",
              " [221]  0.564328438 -1.400062336 -0.140257227 -0.144279321 -0.768024961\n",
              " [226]  0.638247893  1.118718603  0.445859167 -1.908159180 -0.013976084\n",
              " [231]  0.506316456  0.450355908 -1.662524109  1.669814349 -2.606412017\n",
              " [236]  0.797569744  0.486691425  0.679352270  0.138366622  1.694979940\n",
              " [241]  0.044443447  0.031860780  2.536444302  1.595981634  0.132513470\n",
              " [246] -0.250488099 -2.007869054  1.467110509 -0.328111968 -0.794531843\n",
              " [251] -0.001966592 -0.605914074  1.543317408 -1.130233169 -1.268981349\n",
              " [256] -0.714985307  1.243998073  0.152626608  0.478865156  0.786200597\n",
              " [261] -1.014418320 -1.659458742 -0.195951493  0.560557340 -0.159776422\n",
              " [266] -1.358666297 -1.503450015 -0.097277754  0.967261272 -0.301355047\n",
              " [271] -2.415218005 -1.225755542 -0.624915696 -0.975643477 -2.386713167\n",
              " [276]  2.233588613  0.891844519  0.219182143 -0.844743359 -1.361339387\n",
              " [281]  0.147861385 -2.776647590  0.757798512 -0.815071122  1.050232012\n",
              " [286] -0.392532410  0.010553532  0.982542661  0.882051994 -2.130501218\n",
              " [291] -3.111715349 -0.616748946  1.258498886 -0.227339885  0.324269816\n",
              " [296] -0.691110540 -0.521513270  1.821983512 -0.950082234 -0.573950579\n",
              " [301]  0.916675941 -0.226899176  1.182202984  1.521487102  1.437977258\n",
              " [306]  2.327301509  2.217880653  0.848202895  0.103037738 -0.179709305\n",
              " [311]  0.065454492  0.031464085  0.232599884  0.420827386 -0.064089820\n",
              " [316] -0.444804485 -0.227451429 -1.211833044 -0.504110465  0.506541941\n",
              " [321]  0.129626070 -0.508744274 -0.290440967  0.804996380  0.698234567\n",
              " [326]  0.043861983 -2.009618331  0.108587604  0.902152644  1.722595903\n",
              " [331] -0.326744869  0.809744232 -0.475962999 -1.462078780 -2.069704197\n",
              " [336]  1.841708057  0.042215598 -0.975208953 -0.422612098 -0.505261901\n",
              " [341] -1.328623352 -0.753124525 -1.033269914  0.105942840  0.723089401\n",
              " [346] -1.106627105  0.226105956 -0.157706694  0.143077844 -0.645308878\n",
              " [351] -0.873452175 -0.154068616  0.566110733 -0.430547955 -0.314809756\n",
              " [356] -0.108190265 -0.677640442 -2.045264123  1.651501313 -0.650823483\n",
              " [361]  1.106209791 -2.555831741 -1.228208156 -0.121742901  0.680122253\n",
              " [366] -0.069918542  2.601945411 -0.147343096  0.508787012 -1.918744724\n",
              " [371]  1.006248248 -0.408413407  0.192344493  0.383532239 -0.027867225\n",
              " [376]  0.468777641  2.067538398 -0.643277974 -0.969874305 -1.089046033\n",
              " [381]  1.896568357 -0.133319791 -0.637464793  1.141888484 -1.115848398\n",
              " [386]  0.572237412 -1.591799923 -1.232320439  1.185887111 -0.621531924\n",
              " [391]  0.635521893  0.445156479  0.018197540 -0.243847008 -0.256180253\n",
              " [396]  0.958500230  1.778931862 -0.726831528 -0.213022096 -1.110106522\n",
              " [401] -1.944935016  0.325472703  1.046399024 -0.371799115 -0.254347232\n",
              " [406] -0.278631132  0.185173447 -2.268001789 -0.705729917 -0.202690846\n",
              " [411] -0.377431359  0.292362544 -0.340095897  0.312682337 -0.183150276\n",
              " [416] -0.118694793  1.083713626 -0.649629043 -1.361665914 -0.278021567\n",
              " [421]  0.917852353 -1.881316030  0.084320041  0.042132064  0.369371694\n",
              " [426] -0.282545961 -1.185350617  0.001909278 -0.290922731 -0.554976530\n",
              " [431]  0.538722441 -0.607530998  0.829538861 -1.028604737  1.009804889\n",
              " [436]  0.327657462 -0.167261000  0.161301347 -0.870196091 -0.338636164\n",
              " [441] -0.698575816  0.043314098 -1.651102082  1.553717512  0.627448277\n",
              " [446] -0.288202465 -0.619231383 -1.049460707  1.460968822 -0.526045018\n",
              " [451] -0.603763753  0.953438236 -0.326810666 -0.174928244 -0.060338938\n",
              " [456] -0.299170389  0.066282874 -0.788424377 -0.035497276 -0.010709157\n",
              " [461]  1.336372495  0.210465399  0.309150922  1.261489004 -0.540177198\n",
              " [466]  1.230357261  0.546255793 -1.633071600 -0.557525492 -0.359032028\n",
              " [471] -0.130804245 -1.824719458 -0.262764860 -0.501875208  0.328787925\n",
              " [476] -0.814541464 -0.113439825 -1.907963880  1.566451145  0.208683040\n",
              " [481] -0.944613519  0.688053076 -0.172389243 -0.179589408 -0.227420717\n",
              " [486]  0.661717577  1.410056634 -0.050247439 -1.467969062 -0.120351518\n",
              " [491] -0.938451949  1.541218088 -0.454929494  0.386983449 -1.560503363\n",
              " [496] -0.012303664 -0.360577138 -0.799755985 -0.003243808  2.295382312\n",
              " [501]  1.206787614 -0.022097775  1.190601241  0.106871912  1.541057471\n",
              " [506] -0.878105446 -0.420724718 -2.662457600 -1.632304555  1.006986180\n",
              " [511] -1.961584450  1.445417795  0.048237555  0.578647033 -0.697163462\n",
              " [516] -0.240305539 -0.124634445  0.089483366  0.027681691 -0.054766005\n",
              " [521]  0.100055030  0.514809803 -0.489176533 -0.133608326 -0.876563738\n",
              " [526] -1.325115161 -1.474085141  0.410566715  0.803360025  0.265624111\n",
              " [531]  1.631329717  1.220605678  0.713247402  0.535507226 -0.314506725\n",
              " [536] -1.701614481 -0.057899842 -0.428421790 -0.577490344 -0.268533392\n",
              " [541] -0.616670710 -0.804567453  0.323049566 -0.149036460  2.215252655\n",
              " [546] -0.843722235 -0.413386938 -0.118708399  0.908833037 -0.057160218\n",
              " [551]  0.675410709 -0.676768707 -0.287115499 -1.255707337  0.589825743\n",
              " [556] -0.433548330  1.662003962  1.006885349 -0.198081925  0.179037076\n",
              " [561] -1.425486440 -1.220038055 -0.608706967  0.100821553  0.529973930\n",
              " [566]  1.549298504 -0.123452639  0.593737063  2.440092238 -0.806541636\n",
              " [571] -0.494402414  0.609676385  0.395423370  0.915498573 -1.303242505\n",
              " [576] -1.632699011  2.450926996  0.458212668 -1.287830658 -1.520063080\n",
              " [581] -0.665383524  1.922990036 -0.027104596 -0.254295233  0.521770910\n",
              " [586] -1.063023298  0.412290332  0.516387696 -0.375216801 -0.326616717\n",
              " [591] -2.034221846 -0.352522180  1.212660942  0.347439185  0.214392395\n",
              " [596] -0.022007836 -0.486282205 -1.566658155  0.934461578  1.315122393\n",
              " [601]  0.238163850  2.204851152  0.239252579 -1.355661200  0.342297568\n",
              " [606]  0.986316201 -0.542898587  0.664734764 -0.169545432  0.026842613\n",
              " [611]  0.487848396  0.330506258 -1.085710774  1.922843824 -0.843683865\n",
              " [616]  0.840079601  0.448690088  1.547980400 -0.151137503  0.445747966\n",
              " [621]  1.807243652 -0.847986859  0.122269307  0.875578568 -1.112293003\n",
              " [626]  0.801385694  0.068025883 -1.786047033  0.467907382 -0.074956663\n",
              " [631]  0.259759862 -0.496885388 -1.691526648  1.071047055 -0.259077952\n",
              " [636] -0.346504483 -2.116574300 -1.123154644  0.261696922 -1.170288109\n",
              " [641]  0.522876516  1.117782757 -0.215173639 -0.548985826  0.380165403\n",
              " [646] -0.337116969  1.292908482  2.497742104  0.818192174 -0.019107938\n",
              " [651] -1.529474469 -0.340003358 -1.380967228  1.771411709 -0.183626788\n",
              " [656]  0.671433084 -1.023211230 -0.394675120 -1.630604320 -0.334631678\n",
              " [661] -0.732241586 -0.866445008  0.318403069 -2.264844687  0.430027082\n",
              " [666] -1.591517342  0.483375521 -0.700829885  0.296418639  0.198333471\n",
              " [671] -0.097177550 -1.318043061  0.438087948 -1.273884599 -0.156393358\n",
              " [676]  1.849406779  1.094682358 -0.755703530 -0.690493664  1.459499140\n",
              " [681] -1.793468062 -0.083156757 -0.197066216 -0.119370084 -1.325221002\n",
              " [686] -0.259202893  0.166115718  0.995041526  0.753924148 -0.212328715\n",
              " [691] -0.873629457 -1.218425008 -1.261998317  0.744282978  0.601424539\n",
              " [696] -1.373503486  1.324171693 -0.048442530 -1.678708521 -0.234440308\n",
              " [701]  0.166626057  0.146355248 -0.391663033 -0.439229410  0.710348580\n",
              " [706] -0.302812836 -0.580319248  0.974255157  0.954748151 -1.162393395\n",
              " [711]  2.299391302 -0.668803798 -1.039724103  0.145627852  3.702897189\n",
              " [716]  1.597186232  0.134875677  1.182015455  0.621120450  0.734745785\n",
              " [721]  2.174385126 -0.392926431  1.654195141 -0.530888303  0.254945224\n",
              " [726]  0.541256206 -0.932593383 -0.539213181  0.008471363  0.671770499\n",
              " [731]  1.625417309 -0.351746674 -0.098016912 -0.536627859 -0.804346022\n",
              " [736] -0.952241148  1.477833901 -1.423949192 -0.428304185 -1.629399914\n",
              " [741]  1.515272023 -0.565129931  0.316898167  0.413228293  1.484289297\n",
              " [746] -0.187745191  0.265401001  0.342340246 -0.060870203 -0.922735365\n",
              " [751]  2.402372346  0.437833065 -1.905052881 -1.095285076 -0.899853429\n",
              " [756]  0.395633908 -0.796129951  1.004445172 -0.411600619  1.713001020\n",
              " [761]  0.824532333  0.816860365  1.167121227  1.149171840  1.326912524\n",
              " [766] -0.720148538  0.639475844 -0.758063120 -3.166124967 -1.819485047\n",
              " [771]  0.792213509 -0.120985165  1.194771757  0.824178066  0.952711611\n",
              " [776] -0.651147519 -0.071850910  1.053052993 -1.128844487  0.040844307\n",
              " [781] -0.551386340 -0.807672957 -0.339836957  0.459104671 -2.274496969\n",
              " [786] -0.815526656  0.364786579 -0.044864157  0.732118951  0.208782016\n",
              " [791] -0.369937795  0.918172986 -0.832713717  0.303400115  1.878879104\n",
              " [796] -0.367866268 -1.292688616  0.184061699  0.604995708  1.860524143\n",
              " [801]  0.425669715  1.198995757 -0.013458160  0.805779466  0.707180757\n",
              " [806]  0.169702584 -1.224126773 -2.139346690  0.428906721 -1.476900896\n",
              " [811] -1.428220383  1.421660281 -0.420094089 -0.365233265 -1.464126166\n",
              " [816]  0.009673203 -1.261884197  2.615575469  0.605850664  0.237413248\n",
              " [821]  1.259791060  0.156169975  0.144639318 -2.135892492  1.380002260\n",
              " [826] -1.645715009 -0.350625215 -0.298120024 -0.408351733  0.341265568\n",
              " [831] -1.158665750  1.604648067  0.176826583  0.904245451 -0.644184192\n",
              " [836]  0.408392382 -0.561916641 -0.676296868  0.144429173  0.624872559\n",
              " [841] -1.026631052  0.717504571 -0.715600697 -0.249892254  0.968193608\n",
              " [846]  2.048377248 -0.549223525  0.125096729 -0.236164512 -0.043228397\n",
              " [851]  0.841018025  0.935485777 -0.067341780  1.340583379 -0.949878942\n",
              " [856] -0.311649426 -0.132976769  0.720067403 -0.115353104  0.524883441\n",
              " [861]  0.615910266  0.899236284  0.463824311  0.886643466 -0.757821124\n",
              " [866] -0.291296666  0.399461137 -0.441316639  2.069960541  0.505812829\n",
              " [871] -0.248003648 -0.946948769 -0.361160728 -0.764284009 -0.412060188\n",
              " [876]  0.288360601 -0.750810442 -0.254468079 -1.502189803 -0.163310356\n",
              " [881]  0.588561694  0.369177593 -0.180806185  0.767318435  0.232436910\n",
              " [886] -0.305392396  1.360428176 -0.779406865 -1.195436038  0.601954684\n",
              " [891]  1.613324834  2.104451560 -0.911457799 -0.010853851  1.003223621\n",
              " [896] -1.667767221  0.926708157  0.316613833  0.363073442 -0.848985258\n",
              " [901] -0.045900356  0.699807030  0.670930705  0.747717263 -1.265586174\n",
              " [906]  1.457731023  0.085679754  0.587607752 -0.346292985 -0.795267761\n",
              " [911] -1.001097170 -0.293160438  0.810199668  1.844567267 -1.659830176\n",
              " [916] -0.319559173 -1.234172658 -1.069283979  0.254688022 -0.964443546\n",
              " [921] -0.744870577  1.313564284  0.109292689  0.156326570 -0.560934023\n",
              " [926]  1.377530619 -0.739087510  0.431338216  0.925959665 -0.985049372\n",
              " [931] -0.807983403 -0.321637420  0.246342344  0.188852804 -0.526752546\n",
              " [936]  1.265609440 -0.848701210 -0.231175627  0.205595435 -1.529670928\n",
              " [941]  1.887966169 -0.674089159 -0.720920925 -1.374764399 -0.673948780\n",
              " [946]  0.413498838  2.746069575 -0.953356934 -0.712878737 -0.645625584\n",
              " [951]  0.656983357  0.332823424  0.824499501 -2.478183039 -0.056509982\n",
              " [956] -0.277729485  1.041963655 -1.499075234 -0.106446805  0.603565945\n",
              " [961] -1.200826137  0.347615338  0.839751406 -0.921265783  0.066759214\n",
              " [966] -0.129448406  0.438027962 -0.948026817  0.391051398 -0.107764375\n",
              " [971]  0.262360887  0.204945289  0.881384477 -0.398500992 -0.262975250\n",
              " [976]  1.068580790 -0.637842594 -1.483851848 -0.175861149  1.027317557\n",
              " [981] -1.721800639 -0.822869700 -0.883477629  1.287042098 -1.312281651\n",
              " [986] -0.571620267  1.184021313 -1.686202424 -1.387605000 -0.714399954\n",
              " [991]  2.476866361 -0.606808916 -0.258497817 -1.254709602  0.397663022\n",
              " [996] -0.159737147  1.687133113 -0.369313719  0.787083820 -0.925153239"
            ]
          },
          "metadata": {}
        }
      ]
    },
    {
      "cell_type": "code",
      "source": [
        "cond <- valores > 2"
      ],
      "metadata": {
        "id": "ydrpSQc7-h1Q"
      },
      "execution_count": 55,
      "outputs": []
    },
    {
      "cell_type": "code",
      "source": [
        "valores[cond]"
      ],
      "metadata": {
        "id": "Bnw_f_S3-0fK",
        "outputId": "b9105279-6b3f-46d7-c08c-3203deff0c40",
        "colab": {
          "base_uri": "https://localhost:8080/",
          "height": 69
        }
      },
      "execution_count": 56,
      "outputs": [
        {
          "output_type": "display_data",
          "data": {
            "text/html": [
              "<style>\n",
              ".list-inline {list-style: none; margin:0; padding: 0}\n",
              ".list-inline>li {display: inline-block}\n",
              ".list-inline>li:not(:last-child)::after {content: \"\\00b7\"; padding: 0 .5ex}\n",
              "</style>\n",
              "<ol class=list-inline><li>2.17436525195634</li><li>2.43537370755095</li><li>3.20163174713348</li><li>2.31415330907848</li><li>2.27468130126709</li><li>2.165942198712</li><li>2.66220102826044</li><li>2.19144032262333</li><li>2.4141390868032</li><li>2.20709994901934</li><li>2.53644430204527</li><li>2.23358861339317</li><li>2.32730150918775</li><li>2.2178806526851</li><li>2.60194541128938</li><li>2.06753839791582</li><li>2.29538231184331</li><li>2.21525265505284</li><li>2.44009223848198</li><li>2.45092699645</li><li>2.20485115211014</li><li>2.49774210427389</li><li>2.29939130160626</li><li>3.70289718936949</li><li>2.17438512587792</li><li>2.40237234578046</li><li>2.61557546892638</li><li>2.0483772484952</li><li>2.06996054100344</li><li>2.10445156017071</li><li>2.74606957538124</li><li>2.47686636050139</li></ol>\n"
            ],
            "text/markdown": "1. 2.17436525195634\n2. 2.43537370755095\n3. 3.20163174713348\n4. 2.31415330907848\n5. 2.27468130126709\n6. 2.165942198712\n7. 2.66220102826044\n8. 2.19144032262333\n9. 2.4141390868032\n10. 2.20709994901934\n11. 2.53644430204527\n12. 2.23358861339317\n13. 2.32730150918775\n14. 2.2178806526851\n15. 2.60194541128938\n16. 2.06753839791582\n17. 2.29538231184331\n18. 2.21525265505284\n19. 2.44009223848198\n20. 2.45092699645\n21. 2.20485115211014\n22. 2.49774210427389\n23. 2.29939130160626\n24. 3.70289718936949\n25. 2.17438512587792\n26. 2.40237234578046\n27. 2.61557546892638\n28. 2.0483772484952\n29. 2.06996054100344\n30. 2.10445156017071\n31. 2.74606957538124\n32. 2.47686636050139\n\n\n",
            "text/latex": "\\begin{enumerate*}\n\\item 2.17436525195634\n\\item 2.43537370755095\n\\item 3.20163174713348\n\\item 2.31415330907848\n\\item 2.27468130126709\n\\item 2.165942198712\n\\item 2.66220102826044\n\\item 2.19144032262333\n\\item 2.4141390868032\n\\item 2.20709994901934\n\\item 2.53644430204527\n\\item 2.23358861339317\n\\item 2.32730150918775\n\\item 2.2178806526851\n\\item 2.60194541128938\n\\item 2.06753839791582\n\\item 2.29538231184331\n\\item 2.21525265505284\n\\item 2.44009223848198\n\\item 2.45092699645\n\\item 2.20485115211014\n\\item 2.49774210427389\n\\item 2.29939130160626\n\\item 3.70289718936949\n\\item 2.17438512587792\n\\item 2.40237234578046\n\\item 2.61557546892638\n\\item 2.0483772484952\n\\item 2.06996054100344\n\\item 2.10445156017071\n\\item 2.74606957538124\n\\item 2.47686636050139\n\\end{enumerate*}\n",
            "text/plain": [
              " [1] 2.174365 2.435374 3.201632 2.314153 2.274681 2.165942 2.662201 2.191440\n",
              " [9] 2.414139 2.207100 2.536444 2.233589 2.327302 2.217881 2.601945 2.067538\n",
              "[17] 2.295382 2.215253 2.440092 2.450927 2.204851 2.497742 2.299391 3.702897\n",
              "[25] 2.174385 2.402372 2.615575 2.048377 2.069961 2.104452 2.746070 2.476866"
            ]
          },
          "metadata": {}
        }
      ]
    },
    {
      "cell_type": "code",
      "source": [
        "valores[valores > 2]"
      ],
      "metadata": {
        "id": "kUXmtV0N-6cx",
        "outputId": "01b331dc-a2a4-41ba-ece6-6e60d073855f",
        "colab": {
          "base_uri": "https://localhost:8080/",
          "height": 69
        }
      },
      "execution_count": 57,
      "outputs": [
        {
          "output_type": "display_data",
          "data": {
            "text/html": [
              "<style>\n",
              ".list-inline {list-style: none; margin:0; padding: 0}\n",
              ".list-inline>li {display: inline-block}\n",
              ".list-inline>li:not(:last-child)::after {content: \"\\00b7\"; padding: 0 .5ex}\n",
              "</style>\n",
              "<ol class=list-inline><li>2.17436525195634</li><li>2.43537370755095</li><li>3.20163174713348</li><li>2.31415330907848</li><li>2.27468130126709</li><li>2.165942198712</li><li>2.66220102826044</li><li>2.19144032262333</li><li>2.4141390868032</li><li>2.20709994901934</li><li>2.53644430204527</li><li>2.23358861339317</li><li>2.32730150918775</li><li>2.2178806526851</li><li>2.60194541128938</li><li>2.06753839791582</li><li>2.29538231184331</li><li>2.21525265505284</li><li>2.44009223848198</li><li>2.45092699645</li><li>2.20485115211014</li><li>2.49774210427389</li><li>2.29939130160626</li><li>3.70289718936949</li><li>2.17438512587792</li><li>2.40237234578046</li><li>2.61557546892638</li><li>2.0483772484952</li><li>2.06996054100344</li><li>2.10445156017071</li><li>2.74606957538124</li><li>2.47686636050139</li></ol>\n"
            ],
            "text/markdown": "1. 2.17436525195634\n2. 2.43537370755095\n3. 3.20163174713348\n4. 2.31415330907848\n5. 2.27468130126709\n6. 2.165942198712\n7. 2.66220102826044\n8. 2.19144032262333\n9. 2.4141390868032\n10. 2.20709994901934\n11. 2.53644430204527\n12. 2.23358861339317\n13. 2.32730150918775\n14. 2.2178806526851\n15. 2.60194541128938\n16. 2.06753839791582\n17. 2.29538231184331\n18. 2.21525265505284\n19. 2.44009223848198\n20. 2.45092699645\n21. 2.20485115211014\n22. 2.49774210427389\n23. 2.29939130160626\n24. 3.70289718936949\n25. 2.17438512587792\n26. 2.40237234578046\n27. 2.61557546892638\n28. 2.0483772484952\n29. 2.06996054100344\n30. 2.10445156017071\n31. 2.74606957538124\n32. 2.47686636050139\n\n\n",
            "text/latex": "\\begin{enumerate*}\n\\item 2.17436525195634\n\\item 2.43537370755095\n\\item 3.20163174713348\n\\item 2.31415330907848\n\\item 2.27468130126709\n\\item 2.165942198712\n\\item 2.66220102826044\n\\item 2.19144032262333\n\\item 2.4141390868032\n\\item 2.20709994901934\n\\item 2.53644430204527\n\\item 2.23358861339317\n\\item 2.32730150918775\n\\item 2.2178806526851\n\\item 2.60194541128938\n\\item 2.06753839791582\n\\item 2.29538231184331\n\\item 2.21525265505284\n\\item 2.44009223848198\n\\item 2.45092699645\n\\item 2.20485115211014\n\\item 2.49774210427389\n\\item 2.29939130160626\n\\item 3.70289718936949\n\\item 2.17438512587792\n\\item 2.40237234578046\n\\item 2.61557546892638\n\\item 2.0483772484952\n\\item 2.06996054100344\n\\item 2.10445156017071\n\\item 2.74606957538124\n\\item 2.47686636050139\n\\end{enumerate*}\n",
            "text/plain": [
              " [1] 2.174365 2.435374 3.201632 2.314153 2.274681 2.165942 2.662201 2.191440\n",
              " [9] 2.414139 2.207100 2.536444 2.233589 2.327302 2.217881 2.601945 2.067538\n",
              "[17] 2.295382 2.215253 2.440092 2.450927 2.204851 2.497742 2.299391 3.702897\n",
              "[25] 2.174385 2.402372 2.615575 2.048377 2.069961 2.104452 2.746070 2.476866"
            ]
          },
          "metadata": {}
        }
      ]
    },
    {
      "cell_type": "code",
      "metadata": {
        "id": "bj-wjeddIgvl"
      },
      "source": [
        "# con esta idea en mente podríamos, por ejemplo, rescatar las edades con valor mayor o igual a 18 años\n"
      ],
      "execution_count": null,
      "outputs": []
    },
    {
      "cell_type": "code",
      "metadata": {
        "id": "fvq5tBXVIgvm"
      },
      "source": [
        "# podríamos guardar el vector de T o F's en una variable para luego referenciarla\n",
        "\n"
      ],
      "execution_count": null,
      "outputs": []
    },
    {
      "cell_type": "code",
      "metadata": {
        "id": "ioUJy8UEIgvz"
      },
      "source": [
        "#?which.max\n",
        "#podemos rescatar el valor mediante el índice guardado\n",
        "\n"
      ],
      "execution_count": null,
      "outputs": []
    },
    {
      "cell_type": "code",
      "metadata": {
        "id": "_8-SMxfWIgv0"
      },
      "source": [
        "# Operador %in%\n",
        "# vector_a %in% vector_b (qué elementos del vector a están en el vector b)\n",
        "# retorna un  vector de TRUE's y FALSE's del largo del primer vector(a) (izquierda)\n"
      ],
      "execution_count": null,
      "outputs": []
    },
    {
      "cell_type": "code",
      "metadata": {
        "id": "s9bYOQ4GIgv2"
      },
      "source": [
        "# podemos utilizar la función all() para evaluar si todos los elementos de un vector son TRUE.\n"
      ],
      "execution_count": null,
      "outputs": []
    },
    {
      "cell_type": "code",
      "metadata": {
        "id": "Wd-mSv3PIgv4"
      },
      "source": [
        "# si quisiéramos evaluar que todos los elementos de la izq. estén en la derecha,\n",
        "# podemos utilizar la función all()."
      ],
      "execution_count": null,
      "outputs": []
    },
    {
      "cell_type": "code",
      "metadata": {
        "id": "Zn85mjGmIgv5"
      },
      "source": [],
      "execution_count": null,
      "outputs": []
    },
    {
      "cell_type": "code",
      "metadata": {
        "id": "1YGnzt1zIgv7"
      },
      "source": [
        "# aritmética con vectores\n",
        "# operación de vectore de igual largo\n"
      ],
      "execution_count": null,
      "outputs": []
    },
    {
      "cell_type": "code",
      "metadata": {
        "id": "Bw8lX76XIgv8"
      },
      "source": [
        "#ponderaciones por escalares\n"
      ],
      "execution_count": null,
      "outputs": []
    },
    {
      "cell_type": "code",
      "metadata": {
        "id": "syufc9_OIgv_"
      },
      "source": [
        "#CUIDADO: Si se operan vectores de dstinto largo se reciclan los valores del vector más pequeño\n"
      ],
      "execution_count": null,
      "outputs": []
    },
    {
      "cell_type": "code",
      "metadata": {
        "id": "9kfbx6J4IgwC"
      },
      "source": [
        "# NOTA:\n",
        "# podemos determinar el largo de un vector mediante la función length()\n"
      ],
      "execution_count": null,
      "outputs": []
    },
    {
      "cell_type": "markdown",
      "metadata": {
        "id": "LIr-IFowIgwD"
      },
      "source": [
        "**Secuencias**\n",
        "\n",
        "En R es posible generar de manera rápida y sencilla algunas secuencias numéricas y almacenarlas en un vector.\n",
        "\n",
        "Ejemplo de estas funciones son :\n",
        "\n",
        "    rep()\n",
        "    seq()\n",
        "    \n",
        "Más adelante veremos como generar números aleatorios siguiendo alguna función de distribución de interés.\n",
        "\n"
      ]
    },
    {
      "cell_type": "code",
      "metadata": {
        "id": "wk0fB_gWIgwE"
      },
      "source": [
        "# a vimos que fácilmente ppodemos generar vectores de enteros consecutivos vía \":\"\n"
      ],
      "execution_count": null,
      "outputs": []
    },
    {
      "cell_type": "code",
      "metadata": {
        "id": "rG-Q3PmhIgwG"
      },
      "source": [
        "# Ejemplo de secuencia con rep (utilice distintos tipos de datos)\n"
      ],
      "execution_count": null,
      "outputs": []
    },
    {
      "cell_type": "code",
      "metadata": {
        "id": "PpEgoWDXIgwI"
      },
      "source": [
        "# podemos controlar el largo del vector resultante con el parámetro length.out\n"
      ],
      "execution_count": null,
      "outputs": []
    },
    {
      "cell_type": "code",
      "metadata": {
        "id": "gGkgGylnIgwK"
      },
      "source": [
        "# ejemplo de función seq (utilice argumento by, y otro ejemplo con argumento length.out)\n"
      ],
      "execution_count": null,
      "outputs": []
    },
    {
      "cell_type": "code",
      "metadata": {
        "id": "psRswQHBIgwO"
      },
      "source": [
        "# ejemplo de vector aleatorio siguiendo una determinada distribución\n",
        "\n",
        "# distribución uniforme\n",
        "# distribución normal\n",
        "\n",
        "\n",
        "\n",
        "\n",
        "\n"
      ],
      "execution_count": null,
      "outputs": []
    },
    {
      "cell_type": "markdown",
      "metadata": {
        "id": "TlnEINwUIgwP"
      },
      "source": [
        "### 3.2 Funciones (primera parte)\n",
        "\n",
        "#### 3.2.1 Funciones vectorizadas y operaciones con vectores\n",
        "\n",
        "R es un lenguaje funcional, en el sentido de que prácticamente cada llamada a R corresponde a una función que puede (o no) recibir argumentos de entrada.\n",
        "Una de las ventajas es que existe una amplia, muy amplia,... verdaderamente amplia!, variedad de funciones disponibles, tanto en las librerías que vienen con la instalación por defecto como las librerías disponibles en CRAN o en toda la comunidad R.\n",
        "\n",
        "En R, una función $f$ se dice vectorizada si dado un vector $\\mathbf{x}=(x_1,x_2,\\dots,x_n)$, se tiene que $f(\\mathbf{x})=(f(x_1),f(x_2),\\dots,f(x_n))$.\n",
        "Esto hace que, por ejemplo, la aritmética de vectores se más sencilla de implentar y con un menor tiempo de cómputo . Gran parte de las funciones disponibles en la librerías (bibliotecas o *packages*) de R corresponden a funciones vectorizadas.\n",
        "A modo de ejemplo, a cotinuación se muestran algunas funciones (de las más básicas) aritméticas, y funciones para trabajar con texto:\n",
        "    \n",
        "    +,-,*,/\n",
        "    abs()\n",
        "    sqrt()\n",
        "    cos()\n",
        "    sin()\n",
        "    tan()\n",
        "    nchar()\n",
        "    susbtr()\n",
        "    grepl()\n",
        "    gsub()\n",
        "    \n",
        "   \n",
        "   \n",
        "   "
      ]
    },
    {
      "cell_type": "code",
      "metadata": {
        "id": "tO3oB1bnIgwP"
      },
      "source": [
        "# 3.2. Funciones (primera parte) ------------\n",
        "# 3.2.1 Funciones vectorizadas\n",
        "# Ejemplos básicos de funciones(vectorizadas)\n"
      ],
      "execution_count": null,
      "outputs": []
    },
    {
      "cell_type": "code",
      "metadata": {
        "id": "Z8L-KeGnIgwS"
      },
      "source": [],
      "execution_count": null,
      "outputs": []
    },
    {
      "cell_type": "code",
      "metadata": {
        "id": "NivskO3jIgwT"
      },
      "source": [
        "# funciones para manipular texto\n",
        " #cantidad de caracteres\n",
        "\n",
        "\n"
      ],
      "execution_count": null,
      "outputs": []
    },
    {
      "cell_type": "code",
      "metadata": {
        "id": "tA55foL1IgwX"
      },
      "source": [
        "# substring substr()\n",
        "\n"
      ],
      "execution_count": null,
      "outputs": []
    },
    {
      "cell_type": "code",
      "metadata": {
        "id": "vjRwdUbiIgwY"
      },
      "source": [
        "# grepl() evlaúa si un  caracter está contenido en otro. (LIKE)\n",
        "#?grepl()\n",
        "grepl(\"ala\", \"palabra\")\n",
        "grepl(\"alo\", \"palabra\")\n",
        "\n",
        "\n",
        "#gsub() reemblaza un substring por otro\n",
        "#?gsub\n",
        "\n",
        "# si reemplazamos en un vector de palabras\n",
        "\n"
      ],
      "execution_count": null,
      "outputs": []
    },
    {
      "cell_type": "code",
      "metadata": {
        "id": "0j9kKUbzIgwZ"
      },
      "source": [
        "#gsub() reemplaza caracteres dentro de un texto\n",
        "#https://www.tidytextmining.com/\n"
      ],
      "execution_count": null,
      "outputs": []
    }
  ]
}