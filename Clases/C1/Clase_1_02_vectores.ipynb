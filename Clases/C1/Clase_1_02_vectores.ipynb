{
  "nbformat": 4,
  "nbformat_minor": 0,
  "metadata": {
    "colab": {
      "provenance": [],
      "include_colab_link": true
    },
    "kernelspec": {
      "name": "ir",
      "display_name": "R"
    }
  },
  "cells": [
    {
      "cell_type": "markdown",
      "metadata": {
        "id": "view-in-github",
        "colab_type": "text"
      },
      "source": [
        "<a href=\"https://colab.research.google.com/github/majorquev/DBDC_202404_Programacion_en_R_para_ciencia_de_datos/blob/main/Clases/C1/Clase_1_02_vectores.ipynb\" target=\"_parent\"><img src=\"https://colab.research.google.com/assets/colab-badge.svg\" alt=\"Open In Colab\"/></a>"
      ]
    },
    {
      "cell_type": "markdown",
      "metadata": {
        "collapsed": true,
        "id": "Yb2RXjL2Igun"
      },
      "source": [
        "# Parte 1: Introducción a R (continuación)\n",
        "\n",
        "**Autor:** Miguel Jorquera Viguera<br>\n",
        "**E-mail:** majorquev@gmail.com<br>\n",
        "**Ayudante:** Rodrigo Morales <br>\n",
        "**E-mail ayudante:** rumorale1@gmail.com\n",
        "\n"
      ]
    },
    {
      "cell_type": "markdown",
      "metadata": {
        "id": "d_bHZs66Iguo"
      },
      "source": [
        "## 3. Vectores y matrices\n",
        "\n",
        "### 3.1 Vectores\n",
        "\n",
        "En R, así como en la mayoría de los lenguajes de programación, uno de los objetos más usuales para almacenar información son los vectores, los que corresponden a arreglos unidimensionales que almacenan un mismo tipo de dato en cada una de sus entradas.\n",
        "\n",
        "Todo vector en R se puede declarar con la letra \"c\" seguido de los elementos que lo componen entre paréntesis y separados por comas."
      ]
    },
    {
      "cell_type": "code",
      "metadata": {
        "id": "ljQ0JcsTIgup"
      },
      "source": [
        "# Declaración de dos vectores\n",
        "v1 <- c(1,1,2,3,5,8)\n",
        "v2 <- c(10,11,12,13,14,15)\n",
        "p1 <- c(\"hola\", \"soy\", \"miguel\")\n",
        "p2 <- c(\"x\",\"y\",\"z\")"
      ],
      "execution_count": 1,
      "outputs": []
    },
    {
      "cell_type": "code",
      "source": [
        "v1\n",
        "v2\n",
        "p1\n",
        "p2"
      ],
      "metadata": {
        "id": "IO1ESjZb292k",
        "outputId": "c160c1e7-6b82-41d1-ee9c-4e4e24a9ebd7",
        "colab": {
          "base_uri": "https://localhost:8080/",
          "height": 86
        }
      },
      "execution_count": 2,
      "outputs": [
        {
          "output_type": "display_data",
          "data": {
            "text/html": [
              "<style>\n",
              ".list-inline {list-style: none; margin:0; padding: 0}\n",
              ".list-inline>li {display: inline-block}\n",
              ".list-inline>li:not(:last-child)::after {content: \"\\00b7\"; padding: 0 .5ex}\n",
              "</style>\n",
              "<ol class=list-inline><li>1</li><li>1</li><li>2</li><li>3</li><li>5</li><li>8</li></ol>\n"
            ],
            "text/markdown": "1. 1\n2. 1\n3. 2\n4. 3\n5. 5\n6. 8\n\n\n",
            "text/latex": "\\begin{enumerate*}\n\\item 1\n\\item 1\n\\item 2\n\\item 3\n\\item 5\n\\item 8\n\\end{enumerate*}\n",
            "text/plain": [
              "[1] 1 1 2 3 5 8"
            ]
          },
          "metadata": {}
        },
        {
          "output_type": "display_data",
          "data": {
            "text/html": [
              "<style>\n",
              ".list-inline {list-style: none; margin:0; padding: 0}\n",
              ".list-inline>li {display: inline-block}\n",
              ".list-inline>li:not(:last-child)::after {content: \"\\00b7\"; padding: 0 .5ex}\n",
              "</style>\n",
              "<ol class=list-inline><li>10</li><li>11</li><li>12</li><li>13</li><li>14</li><li>15</li></ol>\n"
            ],
            "text/markdown": "1. 10\n2. 11\n3. 12\n4. 13\n5. 14\n6. 15\n\n\n",
            "text/latex": "\\begin{enumerate*}\n\\item 10\n\\item 11\n\\item 12\n\\item 13\n\\item 14\n\\item 15\n\\end{enumerate*}\n",
            "text/plain": [
              "[1] 10 11 12 13 14 15"
            ]
          },
          "metadata": {}
        },
        {
          "output_type": "display_data",
          "data": {
            "text/html": [
              "<style>\n",
              ".list-inline {list-style: none; margin:0; padding: 0}\n",
              ".list-inline>li {display: inline-block}\n",
              ".list-inline>li:not(:last-child)::after {content: \"\\00b7\"; padding: 0 .5ex}\n",
              "</style>\n",
              "<ol class=list-inline><li>'hola'</li><li>'soy'</li><li>'miguel'</li></ol>\n"
            ],
            "text/markdown": "1. 'hola'\n2. 'soy'\n3. 'miguel'\n\n\n",
            "text/latex": "\\begin{enumerate*}\n\\item 'hola'\n\\item 'soy'\n\\item 'miguel'\n\\end{enumerate*}\n",
            "text/plain": [
              "[1] \"hola\"   \"soy\"    \"miguel\""
            ]
          },
          "metadata": {}
        },
        {
          "output_type": "display_data",
          "data": {
            "text/html": [
              "<style>\n",
              ".list-inline {list-style: none; margin:0; padding: 0}\n",
              ".list-inline>li {display: inline-block}\n",
              ".list-inline>li:not(:last-child)::after {content: \"\\00b7\"; padding: 0 .5ex}\n",
              "</style>\n",
              "<ol class=list-inline><li>'x'</li><li>'y'</li><li>'z'</li></ol>\n"
            ],
            "text/markdown": "1. 'x'\n2. 'y'\n3. 'z'\n\n\n",
            "text/latex": "\\begin{enumerate*}\n\\item 'x'\n\\item 'y'\n\\item 'z'\n\\end{enumerate*}\n",
            "text/plain": [
              "[1] \"x\" \"y\" \"z\""
            ]
          },
          "metadata": {}
        }
      ]
    },
    {
      "cell_type": "code",
      "metadata": {
        "id": "GxHhDdS4Iguy",
        "outputId": "e682c187-e9b2-49ff-a6ca-1c7dde6d813e",
        "colab": {
          "base_uri": "https://localhost:8080/",
          "height": 69
        }
      },
      "source": [
        "# clase y tipo de dato\n",
        "class(v1)\n",
        "class(v2)\n",
        "class(p1)"
      ],
      "execution_count": 3,
      "outputs": [
        {
          "output_type": "display_data",
          "data": {
            "text/html": [
              "'numeric'"
            ],
            "text/markdown": "'numeric'",
            "text/latex": "'numeric'",
            "text/plain": [
              "[1] \"numeric\""
            ]
          },
          "metadata": {}
        },
        {
          "output_type": "display_data",
          "data": {
            "text/html": [
              "'numeric'"
            ],
            "text/markdown": "'numeric'",
            "text/latex": "'numeric'",
            "text/plain": [
              "[1] \"numeric\""
            ]
          },
          "metadata": {}
        },
        {
          "output_type": "display_data",
          "data": {
            "text/html": [
              "'character'"
            ],
            "text/markdown": "'character'",
            "text/latex": "'character'",
            "text/plain": [
              "[1] \"character\""
            ]
          },
          "metadata": {}
        }
      ]
    },
    {
      "cell_type": "code",
      "metadata": {
        "id": "FUBvbIN9Igu4"
      },
      "source": [
        "# vectores lógicos\n",
        "l1 <- c(T,F,T)\n"
      ],
      "execution_count": 4,
      "outputs": []
    },
    {
      "cell_type": "code",
      "metadata": {
        "id": "R88mjniaIgu_",
        "outputId": "c8831cfc-719c-4d2c-f065-1185d707f07e",
        "colab": {
          "base_uri": "https://localhost:8080/",
          "height": 34
        }
      },
      "source": [
        "# Nombres de las entradas de un vector\n",
        "v3 <- c(n1 = 50, n2 = 60, n3 = 70)\n",
        "v3"
      ],
      "execution_count": 5,
      "outputs": [
        {
          "output_type": "display_data",
          "data": {
            "text/html": [
              "<style>\n",
              ".dl-inline {width: auto; margin:0; padding: 0}\n",
              ".dl-inline>dt, .dl-inline>dd {float: none; width: auto; display: inline-block}\n",
              ".dl-inline>dt::after {content: \":\\0020\"; padding-right: .5ex}\n",
              ".dl-inline>dt:not(:first-of-type) {padding-left: .5ex}\n",
              "</style><dl class=dl-inline><dt>n1</dt><dd>50</dd><dt>n2</dt><dd>60</dd><dt>n3</dt><dd>70</dd></dl>\n"
            ],
            "text/markdown": "n1\n:   50n2\n:   60n3\n:   70\n\n",
            "text/latex": "\\begin{description*}\n\\item[n1] 50\n\\item[n2] 60\n\\item[n3] 70\n\\end{description*}\n",
            "text/plain": [
              "n1 n2 n3 \n",
              "50 60 70 "
            ]
          },
          "metadata": {}
        }
      ]
    },
    {
      "cell_type": "code",
      "metadata": {
        "id": "E6dxkyP5IgvF",
        "outputId": "29958b05-875a-4f07-8db1-41b878d1531f",
        "colab": {
          "base_uri": "https://localhost:8080/",
          "height": 52
        }
      },
      "source": [
        "# nombres de las entradas con la función, names()\n",
        "names(v3)\n",
        "names(p1)"
      ],
      "execution_count": 6,
      "outputs": [
        {
          "output_type": "display_data",
          "data": {
            "text/html": [
              "<style>\n",
              ".list-inline {list-style: none; margin:0; padding: 0}\n",
              ".list-inline>li {display: inline-block}\n",
              ".list-inline>li:not(:last-child)::after {content: \"\\00b7\"; padding: 0 .5ex}\n",
              "</style>\n",
              "<ol class=list-inline><li>'n1'</li><li>'n2'</li><li>'n3'</li></ol>\n"
            ],
            "text/markdown": "1. 'n1'\n2. 'n2'\n3. 'n3'\n\n\n",
            "text/latex": "\\begin{enumerate*}\n\\item 'n1'\n\\item 'n2'\n\\item 'n3'\n\\end{enumerate*}\n",
            "text/plain": [
              "[1] \"n1\" \"n2\" \"n3\""
            ]
          },
          "metadata": {}
        },
        {
          "output_type": "display_data",
          "data": {
            "text/plain": [
              "NULL"
            ]
          },
          "metadata": {}
        }
      ]
    },
    {
      "cell_type": "code",
      "metadata": {
        "id": "OAhPpN3vIgvB"
      },
      "source": [
        "# podemos asignar los nombres a vector 1\n",
        "names(p1) <- c(\"pal1\", \"pal2\", \"pal3\")"
      ],
      "execution_count": 7,
      "outputs": []
    },
    {
      "cell_type": "code",
      "source": [
        "p1"
      ],
      "metadata": {
        "id": "oBne2NTd4obR",
        "outputId": "3fd32c10-0ec4-4518-d2f8-91fe60dcd7b4",
        "colab": {
          "base_uri": "https://localhost:8080/",
          "height": 34
        }
      },
      "execution_count": 8,
      "outputs": [
        {
          "output_type": "display_data",
          "data": {
            "text/html": [
              "<style>\n",
              ".dl-inline {width: auto; margin:0; padding: 0}\n",
              ".dl-inline>dt, .dl-inline>dd {float: none; width: auto; display: inline-block}\n",
              ".dl-inline>dt::after {content: \":\\0020\"; padding-right: .5ex}\n",
              ".dl-inline>dt:not(:first-of-type) {padding-left: .5ex}\n",
              "</style><dl class=dl-inline><dt>pal1</dt><dd>'hola'</dd><dt>pal2</dt><dd>'soy'</dd><dt>pal3</dt><dd>'miguel'</dd></dl>\n"
            ],
            "text/markdown": "pal1\n:   'hola'pal2\n:   'soy'pal3\n:   'miguel'\n\n",
            "text/latex": "\\begin{description*}\n\\item[pal1] 'hola'\n\\item[pal2] 'soy'\n\\item[pal3] 'miguel'\n\\end{description*}\n",
            "text/plain": [
              "    pal1     pal2     pal3 \n",
              "  \"hola\"    \"soy\" \"miguel\" "
            ]
          },
          "metadata": {}
        }
      ]
    },
    {
      "cell_type": "code",
      "metadata": {
        "id": "7Ayre5BlIgvH"
      },
      "source": [
        "#NOTA: R coerciona los elementos a la menor jerarquia posible de tipo de dato\n",
        "x <- c(1,2,\"A\")"
      ],
      "execution_count": 9,
      "outputs": []
    },
    {
      "cell_type": "code",
      "source": [
        "x"
      ],
      "metadata": {
        "id": "TxFPPzFA5Gsl",
        "outputId": "ddc43024-c6c6-41d5-d6ad-855ac16bed43",
        "colab": {
          "base_uri": "https://localhost:8080/",
          "height": 34
        }
      },
      "execution_count": 10,
      "outputs": [
        {
          "output_type": "display_data",
          "data": {
            "text/html": [
              "<style>\n",
              ".list-inline {list-style: none; margin:0; padding: 0}\n",
              ".list-inline>li {display: inline-block}\n",
              ".list-inline>li:not(:last-child)::after {content: \"\\00b7\"; padding: 0 .5ex}\n",
              "</style>\n",
              "<ol class=list-inline><li>'1'</li><li>'2'</li><li>'A'</li></ol>\n"
            ],
            "text/markdown": "1. '1'\n2. '2'\n3. 'A'\n\n\n",
            "text/latex": "\\begin{enumerate*}\n\\item '1'\n\\item '2'\n\\item 'A'\n\\end{enumerate*}\n",
            "text/plain": [
              "[1] \"1\" \"2\" \"A\""
            ]
          },
          "metadata": {}
        }
      ]
    },
    {
      "cell_type": "code",
      "source": [
        "c(v1, v2)"
      ],
      "metadata": {
        "id": "AL3kZyn45aen",
        "outputId": "e3b76708-a980-425e-86aa-52386208177d",
        "colab": {
          "base_uri": "https://localhost:8080/",
          "height": 34
        }
      },
      "execution_count": 11,
      "outputs": [
        {
          "output_type": "display_data",
          "data": {
            "text/html": [
              "<style>\n",
              ".list-inline {list-style: none; margin:0; padding: 0}\n",
              ".list-inline>li {display: inline-block}\n",
              ".list-inline>li:not(:last-child)::after {content: \"\\00b7\"; padding: 0 .5ex}\n",
              "</style>\n",
              "<ol class=list-inline><li>1</li><li>1</li><li>2</li><li>3</li><li>5</li><li>8</li><li>10</li><li>11</li><li>12</li><li>13</li><li>14</li><li>15</li></ol>\n"
            ],
            "text/markdown": "1. 1\n2. 1\n3. 2\n4. 3\n5. 5\n6. 8\n7. 10\n8. 11\n9. 12\n10. 13\n11. 14\n12. 15\n\n\n",
            "text/latex": "\\begin{enumerate*}\n\\item 1\n\\item 1\n\\item 2\n\\item 3\n\\item 5\n\\item 8\n\\item 10\n\\item 11\n\\item 12\n\\item 13\n\\item 14\n\\item 15\n\\end{enumerate*}\n",
            "text/plain": [
              " [1]  1  1  2  3  5  8 10 11 12 13 14 15"
            ]
          },
          "metadata": {}
        }
      ]
    },
    {
      "cell_type": "code",
      "metadata": {
        "id": "QETBghXxIgvI"
      },
      "source": [
        "# c : es una abreviación de \"combine\"\n"
      ],
      "execution_count": 12,
      "outputs": []
    },
    {
      "cell_type": "markdown",
      "metadata": {
        "id": "MX35j24_IgvN"
      },
      "source": [
        "#### 3.1.1 Acceso a los elementos de un vector\n",
        "\n",
        "El acceso a los elementos de un vector se puede llevar acabo indicando la posición del elemento (los naturales parten en 1!), el nombre de la casilla que lo contiene, o bien mediante sentencias lógicas que retornen \"TRUE\" en la posición deseada.\n",
        "\n"
      ]
    },
    {
      "cell_type": "code",
      "source": [
        "v1"
      ],
      "metadata": {
        "id": "f7VS3UtV5usE",
        "outputId": "21b922fd-fdcc-4615-85e7-f9aa39d93bb3",
        "colab": {
          "base_uri": "https://localhost:8080/",
          "height": 34
        }
      },
      "execution_count": 13,
      "outputs": [
        {
          "output_type": "display_data",
          "data": {
            "text/html": [
              "<style>\n",
              ".list-inline {list-style: none; margin:0; padding: 0}\n",
              ".list-inline>li {display: inline-block}\n",
              ".list-inline>li:not(:last-child)::after {content: \"\\00b7\"; padding: 0 .5ex}\n",
              "</style>\n",
              "<ol class=list-inline><li>1</li><li>1</li><li>2</li><li>3</li><li>5</li><li>8</li></ol>\n"
            ],
            "text/markdown": "1. 1\n2. 1\n3. 2\n4. 3\n5. 5\n6. 8\n\n\n",
            "text/latex": "\\begin{enumerate*}\n\\item 1\n\\item 1\n\\item 2\n\\item 3\n\\item 5\n\\item 8\n\\end{enumerate*}\n",
            "text/plain": [
              "[1] 1 1 2 3 5 8"
            ]
          },
          "metadata": {}
        }
      ]
    },
    {
      "cell_type": "code",
      "metadata": {
        "id": "zW2_TzKxIgvN",
        "outputId": "9386310a-29a3-41af-fc00-8de26001a4a1",
        "colab": {
          "base_uri": "https://localhost:8080/",
          "height": 34
        }
      },
      "source": [
        "# Mediante posición\n",
        "v1[3]"
      ],
      "execution_count": 14,
      "outputs": [
        {
          "output_type": "display_data",
          "data": {
            "text/html": [
              "2"
            ],
            "text/markdown": "2",
            "text/latex": "2",
            "text/plain": [
              "[1] 2"
            ]
          },
          "metadata": {}
        }
      ]
    },
    {
      "cell_type": "code",
      "metadata": {
        "id": "XWL1ZIyMIgvR",
        "outputId": "42d8d9b6-9fd5-4208-f80d-a4c1588ffb88",
        "colab": {
          "base_uri": "https://localhost:8080/",
          "height": 34
        }
      },
      "source": [
        "# retorna los elementos de las casillas 1  y 4 de v1\n",
        "v1[c(1,4)] #se debe ingresar un vector de posiciones"
      ],
      "execution_count": 15,
      "outputs": [
        {
          "output_type": "display_data",
          "data": {
            "text/html": [
              "<style>\n",
              ".list-inline {list-style: none; margin:0; padding: 0}\n",
              ".list-inline>li {display: inline-block}\n",
              ".list-inline>li:not(:last-child)::after {content: \"\\00b7\"; padding: 0 .5ex}\n",
              "</style>\n",
              "<ol class=list-inline><li>1</li><li>3</li></ol>\n"
            ],
            "text/markdown": "1. 1\n2. 3\n\n\n",
            "text/latex": "\\begin{enumerate*}\n\\item 1\n\\item 3\n\\end{enumerate*}\n",
            "text/plain": [
              "[1] 1 3"
            ]
          },
          "metadata": {}
        }
      ]
    },
    {
      "cell_type": "code",
      "source": [
        "# NO ES LO MISMO\n",
        "v1[1,4]"
      ],
      "metadata": {
        "id": "cdQ4TXGk6COv",
        "outputId": "17dcdb82-8e77-44d5-bd15-8855cf95e4b1",
        "colab": {
          "base_uri": "https://localhost:8080/",
          "height": 72
        }
      },
      "execution_count": 16,
      "outputs": [
        {
          "output_type": "error",
          "ename": "ERROR",
          "evalue": "Error in v1[1, 4]: incorrect number of dimensions\n",
          "traceback": [
            "Error in v1[1, 4]: incorrect number of dimensions\nTraceback:\n"
          ]
        }
      ]
    },
    {
      "cell_type": "code",
      "source": [
        "3:5"
      ],
      "metadata": {
        "id": "Bf6KiS1C6pz5"
      },
      "execution_count": null,
      "outputs": []
    },
    {
      "cell_type": "code",
      "source": [
        "-3:6"
      ],
      "metadata": {
        "id": "_ZXVd8_u6rr1"
      },
      "execution_count": null,
      "outputs": []
    },
    {
      "cell_type": "code",
      "metadata": {
        "id": "uBqEKq1aIgvT"
      },
      "source": [
        "#NOTA 3:5, R lo interpreta como c(3,4,5)\n",
        "v1[c(3,4,5)]\n",
        "v1[3:5]"
      ],
      "execution_count": null,
      "outputs": []
    },
    {
      "cell_type": "code",
      "metadata": {
        "id": "XIuQSfvKIgvV"
      },
      "source": [
        "# podemos acceder a los elmentos mediante el nombre\n",
        "p1[\"pal2\"]# le damos el nombre de la casilla\n",
        "p1[c(\"pal2\", \"pal1\")] # le damos el vector con los nombres de las casillas a consultar"
      ],
      "execution_count": null,
      "outputs": []
    },
    {
      "cell_type": "code",
      "metadata": {
        "id": "IHjnaSSyIgvX"
      },
      "source": [
        "# cambiar una entrada de un vector o cambiar un nombre\n",
        "v1"
      ],
      "execution_count": null,
      "outputs": []
    },
    {
      "cell_type": "code",
      "source": [
        "# Quiero cambiar el elmento de pos 4 de v1 por un 99"
      ],
      "metadata": {
        "id": "qiH44pVK7af-"
      },
      "execution_count": null,
      "outputs": []
    },
    {
      "cell_type": "code",
      "metadata": {
        "id": "KCKDbYtRIgvZ"
      },
      "source": [
        "v1[4] <- 99"
      ],
      "execution_count": null,
      "outputs": []
    },
    {
      "cell_type": "code",
      "source": [
        "v1"
      ],
      "metadata": {
        "id": "9EQO82A27nKe"
      },
      "execution_count": null,
      "outputs": []
    },
    {
      "cell_type": "code",
      "source": [
        "names(p1)"
      ],
      "metadata": {
        "id": "2EVp5y8v8bAx"
      },
      "execution_count": null,
      "outputs": []
    },
    {
      "cell_type": "code",
      "metadata": {
        "id": "cVzhj4ASIgvb"
      },
      "source": [
        "# podemos cambiar uno de los nombres (ej, queremos cambiar el tercer nombre de p1, por \"palabra_3\")\n",
        "names(p1)[3] <- \"palabra_3\""
      ],
      "execution_count": null,
      "outputs": []
    },
    {
      "cell_type": "code",
      "source": [
        "#Es lo mismo?\n",
        "names(p1[2]) <- \"palabra_2\""
      ],
      "metadata": {
        "id": "MwjkSVBL8s_g"
      },
      "execution_count": null,
      "outputs": []
    },
    {
      "cell_type": "code",
      "source": [
        "p1[2]"
      ],
      "metadata": {
        "id": "xIh7HFQK9DXF"
      },
      "execution_count": null,
      "outputs": []
    },
    {
      "cell_type": "code",
      "source": [
        "p1[2]"
      ],
      "metadata": {
        "id": "3G9PHQMl9OQ1",
        "outputId": "7a256b74-17ad-4abf-ca85-bf8c78c4b4e2",
        "colab": {
          "base_uri": "https://localhost:8080/",
          "height": 34
        }
      },
      "execution_count": 17,
      "outputs": [
        {
          "output_type": "display_data",
          "data": {
            "text/html": [
              "<strong>pal2:</strong> 'soy'"
            ],
            "text/markdown": "**pal2:** 'soy'",
            "text/latex": "\\textbf{pal2:} 'soy'",
            "text/plain": [
              " pal2 \n",
              "\"soy\" "
            ]
          },
          "metadata": {}
        }
      ]
    },
    {
      "cell_type": "code",
      "metadata": {
        "id": "b6oqx_D4Igvd"
      },
      "source": [
        "# podemos modificar varias posiciones a la vez\n",
        "# queremos re-asignar los valores \"XX\" y \"ZZ\" en las posiciones 3 y 7 respecivamente\n"
      ],
      "execution_count": 18,
      "outputs": []
    },
    {
      "cell_type": "markdown",
      "metadata": {
        "id": "XzyIBLZxIgvg"
      },
      "source": [
        "**Algunas sentencias de utilidad**\n",
        "\n",
        "También es posible acceder a los alementos de un vector mediante sentencias lógicas que retornen \"TRUE\" en la posición deseada. Para ello algunas funciones que son de utilidad son las siguientes.\n",
        "\n",
        "   **Conectores lógicos**\n",
        "\n",
        "    &                        : conector y\n",
        "    |                        : conector o\n",
        "    ==                       : igual\n",
        "    !                        : negación\n",
        "    !=                       : distinto\n",
        "    >, >=                    : mayor que, mayor o igual que\n",
        "    <,<=                     : menor que, menor o igual que\n",
        "    is.na()                  : es NA?\n",
        "    which()                  : en qué posición es verdadera la expresión evaluada?\n",
        "    which.min(), which.max() : en qué posición se alcanza el mínimi/máximo\n",
        "    %in%                     : los elementos están en?\n",
        "    \n",
        "    "
      ]
    },
    {
      "cell_type": "code",
      "metadata": {
        "id": "NhZPJo56Igvh",
        "outputId": "1946012d-2135-4f11-f4f6-28c01204bda1",
        "colab": {
          "base_uri": "https://localhost:8080/",
          "height": 34
        }
      },
      "source": [
        "# para acceder a elementos de un vector tenemos:\n",
        "# 1. por posicion\n",
        "# 2. por nombre\n",
        "# 3. por indicatrices lógicas (un vector con TRUE (T) o FALSE (F) del mismo largo del que quiero consultar y con TRUEs en las casillas que quiero rescatar)\n",
        "\n",
        "# Ej si queremos los  elementos 1 y 3\n",
        "\n",
        "p2[c(T,F,T)]\n",
        "\n",
        "\n",
        "\n",
        "\n",
        "\n"
      ],
      "execution_count": 19,
      "outputs": [
        {
          "output_type": "display_data",
          "data": {
            "text/html": [
              "<style>\n",
              ".list-inline {list-style: none; margin:0; padding: 0}\n",
              ".list-inline>li {display: inline-block}\n",
              ".list-inline>li:not(:last-child)::after {content: \"\\00b7\"; padding: 0 .5ex}\n",
              "</style>\n",
              "<ol class=list-inline><li>'x'</li><li>'z'</li></ol>\n"
            ],
            "text/markdown": "1. 'x'\n2. 'z'\n\n\n",
            "text/latex": "\\begin{enumerate*}\n\\item 'x'\n\\item 'z'\n\\end{enumerate*}\n",
            "text/plain": [
              "[1] \"x\" \"z\""
            ]
          },
          "metadata": {}
        }
      ]
    },
    {
      "cell_type": "code",
      "metadata": {
        "id": "5C4hDsvSIgvj"
      },
      "source": [
        "# Esto facilita la búsqueda dentro de un un vector. Ej: retornar los elementos mayores aun valor dado\n",
        "set.seed(2020)\n",
        "valores <- rnorm(1000)"
      ],
      "execution_count": 20,
      "outputs": []
    },
    {
      "cell_type": "code",
      "source": [
        "head(valores)"
      ],
      "metadata": {
        "id": "BTprvih0-Xp7",
        "outputId": "2ddc29f2-20bb-419f-f5aa-7dc72121f43e",
        "colab": {
          "base_uri": "https://localhost:8080/",
          "height": 52
        }
      },
      "execution_count": 21,
      "outputs": [
        {
          "output_type": "display_data",
          "data": {
            "text/html": [
              "<style>\n",
              ".list-inline {list-style: none; margin:0; padding: 0}\n",
              ".list-inline>li {display: inline-block}\n",
              ".list-inline>li:not(:last-child)::after {content: \"\\00b7\"; padding: 0 .5ex}\n",
              "</style>\n",
              "<ol class=list-inline><li>0.376972124936433</li><li>0.301548373935665</li><li>-1.0980231706536</li><li>-1.13040590360378</li><li>-2.79653431987176</li><li>0.720573498411587</li></ol>\n"
            ],
            "text/markdown": "1. 0.376972124936433\n2. 0.301548373935665\n3. -1.0980231706536\n4. -1.13040590360378\n5. -2.79653431987176\n6. 0.720573498411587\n\n\n",
            "text/latex": "\\begin{enumerate*}\n\\item 0.376972124936433\n\\item 0.301548373935665\n\\item -1.0980231706536\n\\item -1.13040590360378\n\\item -2.79653431987176\n\\item 0.720573498411587\n\\end{enumerate*}\n",
            "text/plain": [
              "[1]  0.3769721  0.3015484 -1.0980232 -1.1304059 -2.7965343  0.7205735"
            ]
          },
          "metadata": {}
        }
      ]
    },
    {
      "cell_type": "code",
      "source": [
        "valores"
      ],
      "metadata": {
        "id": "iDXrpnHA-eBk",
        "outputId": "186eb37b-0450-4fe5-c88d-bb8782f30cf1",
        "colab": {
          "base_uri": "https://localhost:8080/",
          "height": 1000
        }
      },
      "execution_count": 22,
      "outputs": [
        {
          "output_type": "display_data",
          "data": {
            "text/html": [
              "<style>\n",
              ".list-inline {list-style: none; margin:0; padding: 0}\n",
              ".list-inline>li {display: inline-block}\n",
              ".list-inline>li:not(:last-child)::after {content: \"\\00b7\"; padding: 0 .5ex}\n",
              "</style>\n",
              "<ol class=list-inline><li>0.376972124936433</li><li>0.301548373935665</li><li>-1.0980231706536</li><li>-1.13040590360378</li><li>-2.79653431987176</li><li>0.720573498411587</li><li>0.93912102300901</li><li>-0.229377746707471</li><li>1.75913134696347</li><li>0.117366786802848</li><li>-0.853122822287008</li><li>0.909259181618213</li><li>1.19637295955276</li><li>-0.371583903741348</li><li>-0.123260233287436</li><li>1.80004311672545</li><li>1.70399587729432</li><li>-3.03876460529759</li><li>-2.28897494991878</li><li>0.0583034949929225</li><li>2.17436525195634</li><li>1.09818265352131</li><li>0.318220322390854</li><li>-0.0731475581637693</li><li>0.834268741278827</li><li>0.198750636733429</li><li>1.29784138432631</li><li>0.936718306241348</li><li>-0.147433193833294</li><li>0.110431994640128</li><li>-0.812504663900505</li><li>-0.743702167768748</li><li>1.09534507180741</li><li>2.43537370755095</li><li>0.38811846676708</li><li>0.290627670295127</li><li>-0.285598287083935</li><li>0.0760147178373681</li><li>-0.560298603759627</li><li>0.447188372143361</li><li>0.908501134499943</li><li>-0.505059597708343</li><li>-0.301004012157305</li><li>-0.726035976548133</li><li>-1.18007702699501</li><li>0.253074712637114</li><li>-0.370711296884049</li><li>0.0221795637601637</li><li>0.660044122429767</li><li>0.48879363533552</li><li>-0.188789916535184</li><li>0.601359521079468</li><li>-0.673760052798442</li><li>0.476050240589567</li><li>0.11875322760149</li><li>0.121226282897226</li><li>-0.186046794338354</li><li>-1.32827118862704</li><li>-0.566922950886732</li><li>0.578833932915478</li><li>1.90903723141847</li><li>0.250757042672234</li><li>-1.59831505850908</li><li>3.20163174713348</li><li>0.955235375464122</li><li>0.368644616042278</li><li>0.922919067503503</li><li>-0.205521345710334</li><li>0.092966700547165</li><li>0.168262180233182</li><li>0.795839125287755</li><li>1.64600560721094</li><li>-1.71692431635025</li><li>-0.318343105944291</li><li>-0.904139971986906</li><li>-0.703992796667782</li><li>-1.77809946183924</li><li>-0.722255162624973</li><li>0.046154209553832</li><li>0.243658020687582</li><li>0.628331305782283</li><li>-0.0246385822796227</li><li>2.31415330907848</li><li>0.177210257260106</li><li>-1.02441476674678</li><li>2.27468130126709</li><li>-1.88905666491974</li><li>1.09395160103067</li><li>1.84616702732198</li><li>0.521032673520017</li><li>-1.53296210764592</li><li>-1.93936496927842</li><li>0.486916538104755</li><li>1.24523669065827</li><li>-0.217273426334712</li><li>-0.779593114501295</li><li>0.348874499707459</li><li>0.681724250015865</li><li>-0.531461387381673</li><li>-0.677393421473375</li><li>-1.72878394060979</li><li>-0.991260991589561</li><li>-0.585505561701735</li><li>0.38352174799264</li><li>0.746664919683157</li><li>-0.928420911757998</li><li>-0.338176296656827</li><li>1.54511401517901</li><li>0.266508877832155</li><li>0.299533932427615</li><li>-0.322802019550316</li><li>1.43534743310469</li><li>1.00652720383307</li><li>-1.71941363621868</li><li>0.298920461719989</li><li>-0.82472563598933</li><li>-1.19958983276379</li><li>-1.27638711730102</li><li>-0.123178066690284</li><li>2.165942198712</li><li>-0.312282974901684</li><li>0.367439225093845</li><li>1.26943926051528</li><li>-2.26485383914805</li><li>-1.28984990955812</li><li>0.187885938135046</li><li>0.751642855208785</li><li>1.78468133578688</li><li>1.50827173622253</li><li>-0.953161708543949</li><li>0.103422740369036</li><li>-0.605560497823519</li><li>-0.0976006255037022</li><li>-0.123448106810115</li><li>-1.04467951686894</li><li>-0.0748703402582222</li><li>1.76013533299962</li><li>-1.43211958660216</li><li>2.66220102826044</li><li>-1.2911915324806</li><li>0.0151017743611424</li><li>-0.0396805717025272</li><li>2.19144032262333</li><li>-1.97643754960617</li><li>0.463665664991729</li><li>-0.262212156963516</li><li>-1.1357145060917</li><li>0.211299481262918</li><li>0.099427927814971</li><li>-3.05668365235951</li><li>-0.347136653568049</li><li>-1.94662615826816</li><li>-0.216076646275867</li><li>-1.44919647850568</li><li>0.34543406073839</li><li>0.18820239366655</li><li>-1.12785278296396</li><li>0.0504503430104355</li><li>-0.682699091648469</li><li>0.648053817001419</li><li>0.610364486575726</li><li>-0.512656933375823</li><li>0.754405890685482</li><li>0.188104972368124</li><li>-1.92828563104951</li><li>1.23582136018889</li><li>0.328277313420236</li><li>-0.854914489250545</li><li>-1.89568821641824</li><li>0.846692414981603</li><li>1.2440251070401</li><li>0.236259956958241</li><li>-0.760693539302844</li><li>0.772220957293784</li><li>0.661556753620863</li><li>-1.59373336735277</li><li>-2.19034691482371</li><li>-1.17675395596723</li><li>1.05000512774126</li><li>-0.00570307873571396</li><li>-0.27601232711464</li><li>0.848521292386336</li><li>-1.04893465799499</li><li>-1.733586337092</li><li>2.4141390868032</li><li>-0.195641766782138</li><li>0.926786956027277</li><li>-0.713463632284985</li><li>-1.2997417149422</li><li>0.884296403693231</li><li>1.20064152073226</li><li>-1.17033977647403</li><li>0.761471885477129</li><li>0.870090238099867</li><li>-0.727242710372547</li><li>0.626620728897496</li><li>-1.09144272809162</li><li>-0.516094526339504</li><li>0.0169339634064014</li><li>0.660990688881105</li><li>⋯</li><li>0.425669715058102</li><li>1.19899575713223</li><li>-0.0134581601508863</li><li>0.805779466120444</li><li>0.70718075721415</li><li>0.169702583950107</li><li>-1.22412677258123</li><li>-2.13934668954574</li><li>0.428906720707015</li><li>-1.47690089590572</li><li>-1.4282203827002</li><li>1.42166028063166</li><li>-0.420094088998626</li><li>-0.365233265422307</li><li>-1.46412616611978</li><li>0.00967320309713926</li><li>-1.26188419718869</li><li>2.61557546892638</li><li>0.60585066398594</li><li>0.237413247909264</li><li>1.25979105975697</li><li>0.15616997476928</li><li>0.144639317821713</li><li>-2.13589249188865</li><li>1.38000225971493</li><li>-1.64571500944935</li><li>-0.350625215261919</li><li>-0.298120023863699</li><li>-0.408351732627366</li><li>0.341265568348934</li><li>-1.1586657498936</li><li>1.60464806652853</li><li>0.176826582607288</li><li>0.904245450641328</li><li>-0.644184192498819</li><li>0.408392381545024</li><li>-0.561916640844269</li><li>-0.676296868216586</li><li>0.144429172737175</li><li>0.624872559402806</li><li>-1.02663105206912</li><li>0.717504571224808</li><li>-0.715600696806326</li><li>-0.249892253698099</li><li>0.968193608180057</li><li>2.0483772484952</li><li>-0.549223525202248</li><li>0.125096728971635</li><li>-0.236164512029828</li><li>-0.0432283965075839</li><li>0.841018025205719</li><li>0.935485777451835</li><li>-0.0673417797681394</li><li>1.34058337929368</li><li>-0.94987894204516</li><li>-0.311649425723984</li><li>-0.132976768735049</li><li>0.720067403439722</li><li>-0.11535310353148</li><li>0.524883441103795</li><li>0.615910265946243</li><li>0.899236284314325</li><li>0.463824311198001</li><li>0.886643465852954</li><li>-0.757821124492292</li><li>-0.291296665601701</li><li>0.399461136802808</li><li>-0.441316639226426</li><li>2.06996054100344</li><li>0.505812829455352</li><li>-0.248003648105123</li><li>-0.946948768811056</li><li>-0.361160727704715</li><li>-0.764284008746748</li><li>-0.41206018803097</li><li>0.288360600652346</li><li>-0.750810442494489</li><li>-0.254468078625007</li><li>-1.50218980337831</li><li>-0.163310355804175</li><li>0.588561693982085</li><li>0.369177593353017</li><li>-0.180806184607647</li><li>0.767318435144036</li><li>0.232436910416811</li><li>-0.305392395934866</li><li>1.36042817575474</li><li>-0.779406864876399</li><li>-1.19543603834664</li><li>0.601954683792871</li><li>1.61332483402266</li><li>2.10445156017071</li><li>-0.911457798650316</li><li>-0.0108538511024813</li><li>1.00322362061648</li><li>-1.66776722055578</li><li>0.926708156500203</li><li>0.316613833342232</li><li>0.36307344151907</li><li>-0.848985258412963</li><li>-0.045900355842822</li><li>0.699807029512603</li><li>0.670930704753396</li><li>0.747717263174528</li><li>-1.26558617362577</li><li>1.45773102292554</li><li>0.0856797543498194</li><li>0.587607751881637</li><li>-0.346292985382676</li><li>-0.795267760817528</li><li>-1.00109717028655</li><li>-0.293160438053027</li><li>0.810199667823475</li><li>1.84456726671247</li><li>-1.6598301758156</li><li>-0.319559173249119</li><li>-1.23417265828795</li><li>-1.06928397871608</li><li>0.254688022152829</li><li>-0.964443546111326</li><li>-0.744870576523281</li><li>1.31356428426846</li><li>0.109292689355613</li><li>0.15632657002152</li><li>-0.560934022698006</li><li>1.37753061898822</li><li>-0.739087510321392</li><li>0.431338215502984</li><li>0.925959665373708</li><li>-0.985049371764452</li><li>-0.807983402832432</li><li>-0.321637419546169</li><li>0.246342343571332</li><li>0.188852804271405</li><li>-0.526752545531557</li><li>1.26560944024245</li><li>-0.848701210304458</li><li>-0.231175627100421</li><li>0.205595434657498</li><li>-1.52967092781758</li><li>1.88796616886602</li><li>-0.674089159318319</li><li>-0.720920925437182</li><li>-1.37476439941088</li><li>-0.673948779656739</li><li>0.413498837678694</li><li>2.74606957538124</li><li>-0.953356933502289</li><li>-0.712878737321251</li><li>-0.645625584334318</li><li>0.65698335661185</li><li>0.332823424411556</li><li>0.824499501208224</li><li>-2.47818303865282</li><li>-0.0565099824563386</li><li>-0.277729484830605</li><li>1.04196365476518</li><li>-1.49907523359584</li><li>-0.106446804648631</li><li>0.603565944716699</li><li>-1.20082613745065</li><li>0.34761533800723</li><li>0.839751406498873</li><li>-0.921265783300224</li><li>0.0667592141036352</li><li>-0.129448406344101</li><li>0.438027962436474</li><li>-0.948026816598753</li><li>0.391051397679863</li><li>-0.107764375125618</li><li>0.262360887064151</li><li>0.20494528883771</li><li>0.881384477382213</li><li>-0.398500991665301</li><li>-0.262975250216534</li><li>1.0685807899044</li><li>-0.637842594157145</li><li>-1.48385184843436</li><li>-0.175861148749322</li><li>1.02731755699761</li><li>-1.72180063897249</li><li>-0.82286970007884</li><li>-0.883477628966077</li><li>1.28704209816118</li><li>-1.31228165062984</li><li>-0.571620267494027</li><li>1.18402131287979</li><li>-1.68620242384711</li><li>-1.38760499972523</li><li>-0.714399954172373</li><li>2.47686636050139</li><li>-0.606808915790383</li><li>-0.258497817084373</li><li>-1.25470960231148</li><li>0.397663022286196</li><li>-0.159737146630274</li><li>1.6871331127624</li><li>-0.369313718840147</li><li>0.787083819815713</li><li>-0.925153238507452</li></ol>\n"
            ],
            "text/markdown": "1. 0.376972124936433\n2. 0.301548373935665\n3. -1.0980231706536\n4. -1.13040590360378\n5. -2.79653431987176\n6. 0.720573498411587\n7. 0.93912102300901\n8. -0.229377746707471\n9. 1.75913134696347\n10. 0.117366786802848\n11. -0.853122822287008\n12. 0.909259181618213\n13. 1.19637295955276\n14. -0.371583903741348\n15. -0.123260233287436\n16. 1.80004311672545\n17. 1.70399587729432\n18. -3.03876460529759\n19. -2.28897494991878\n20. 0.0583034949929225\n21. 2.17436525195634\n22. 1.09818265352131\n23. 0.318220322390854\n24. -0.0731475581637693\n25. 0.834268741278827\n26. 0.198750636733429\n27. 1.29784138432631\n28. 0.936718306241348\n29. -0.147433193833294\n30. 0.110431994640128\n31. -0.812504663900505\n32. -0.743702167768748\n33. 1.09534507180741\n34. 2.43537370755095\n35. 0.38811846676708\n36. 0.290627670295127\n37. -0.285598287083935\n38. 0.0760147178373681\n39. -0.560298603759627\n40. 0.447188372143361\n41. 0.908501134499943\n42. -0.505059597708343\n43. -0.301004012157305\n44. -0.726035976548133\n45. -1.18007702699501\n46. 0.253074712637114\n47. -0.370711296884049\n48. 0.0221795637601637\n49. 0.660044122429767\n50. 0.48879363533552\n51. -0.188789916535184\n52. 0.601359521079468\n53. -0.673760052798442\n54. 0.476050240589567\n55. 0.11875322760149\n56. 0.121226282897226\n57. -0.186046794338354\n58. -1.32827118862704\n59. -0.566922950886732\n60. 0.578833932915478\n61. 1.90903723141847\n62. 0.250757042672234\n63. -1.59831505850908\n64. 3.20163174713348\n65. 0.955235375464122\n66. 0.368644616042278\n67. 0.922919067503503\n68. -0.205521345710334\n69. 0.092966700547165\n70. 0.168262180233182\n71. 0.795839125287755\n72. 1.64600560721094\n73. -1.71692431635025\n74. -0.318343105944291\n75. -0.904139971986906\n76. -0.703992796667782\n77. -1.77809946183924\n78. -0.722255162624973\n79. 0.046154209553832\n80. 0.243658020687582\n81. 0.628331305782283\n82. -0.0246385822796227\n83. 2.31415330907848\n84. 0.177210257260106\n85. -1.02441476674678\n86. 2.27468130126709\n87. -1.88905666491974\n88. 1.09395160103067\n89. 1.84616702732198\n90. 0.521032673520017\n91. -1.53296210764592\n92. -1.93936496927842\n93. 0.486916538104755\n94. 1.24523669065827\n95. -0.217273426334712\n96. -0.779593114501295\n97. 0.348874499707459\n98. 0.681724250015865\n99. -0.531461387381673\n100. -0.677393421473375\n101. -1.72878394060979\n102. -0.991260991589561\n103. -0.585505561701735\n104. 0.38352174799264\n105. 0.746664919683157\n106. -0.928420911757998\n107. -0.338176296656827\n108. 1.54511401517901\n109. 0.266508877832155\n110. 0.299533932427615\n111. -0.322802019550316\n112. 1.43534743310469\n113. 1.00652720383307\n114. -1.71941363621868\n115. 0.298920461719989\n116. -0.82472563598933\n117. -1.19958983276379\n118. -1.27638711730102\n119. -0.123178066690284\n120. 2.165942198712\n121. -0.312282974901684\n122. 0.367439225093845\n123. 1.26943926051528\n124. -2.26485383914805\n125. -1.28984990955812\n126. 0.187885938135046\n127. 0.751642855208785\n128. 1.78468133578688\n129. 1.50827173622253\n130. -0.953161708543949\n131. 0.103422740369036\n132. -0.605560497823519\n133. -0.0976006255037022\n134. -0.123448106810115\n135. -1.04467951686894\n136. -0.0748703402582222\n137. 1.76013533299962\n138. -1.43211958660216\n139. 2.66220102826044\n140. -1.2911915324806\n141. 0.0151017743611424\n142. -0.0396805717025272\n143. 2.19144032262333\n144. -1.97643754960617\n145. 0.463665664991729\n146. -0.262212156963516\n147. -1.1357145060917\n148. 0.211299481262918\n149. 0.099427927814971\n150. -3.05668365235951\n151. -0.347136653568049\n152. -1.94662615826816\n153. -0.216076646275867\n154. -1.44919647850568\n155. 0.34543406073839\n156. 0.18820239366655\n157. -1.12785278296396\n158. 0.0504503430104355\n159. -0.682699091648469\n160. 0.648053817001419\n161. 0.610364486575726\n162. -0.512656933375823\n163. 0.754405890685482\n164. 0.188104972368124\n165. -1.92828563104951\n166. 1.23582136018889\n167. 0.328277313420236\n168. -0.854914489250545\n169. -1.89568821641824\n170. 0.846692414981603\n171. 1.2440251070401\n172. 0.236259956958241\n173. -0.760693539302844\n174. 0.772220957293784\n175. 0.661556753620863\n176. -1.59373336735277\n177. -2.19034691482371\n178. -1.17675395596723\n179. 1.05000512774126\n180. -0.00570307873571396\n181. -0.27601232711464\n182. 0.848521292386336\n183. -1.04893465799499\n184. -1.733586337092\n185. 2.4141390868032\n186. -0.195641766782138\n187. 0.926786956027277\n188. -0.713463632284985\n189. -1.2997417149422\n190. 0.884296403693231\n191. 1.20064152073226\n192. -1.17033977647403\n193. 0.761471885477129\n194. 0.870090238099867\n195. -0.727242710372547\n196. 0.626620728897496\n197. -1.09144272809162\n198. -0.516094526339504\n199. 0.0169339634064014\n200. 0.660990688881105\n201. ⋯\n202. 0.425669715058102\n203. 1.19899575713223\n204. -0.0134581601508863\n205. 0.805779466120444\n206. 0.70718075721415\n207. 0.169702583950107\n208. -1.22412677258123\n209. -2.13934668954574\n210. 0.428906720707015\n211. -1.47690089590572\n212. -1.4282203827002\n213. 1.42166028063166\n214. -0.420094088998626\n215. -0.365233265422307\n216. -1.46412616611978\n217. 0.00967320309713926\n218. -1.26188419718869\n219. 2.61557546892638\n220. 0.60585066398594\n221. 0.237413247909264\n222. 1.25979105975697\n223. 0.15616997476928\n224. 0.144639317821713\n225. -2.13589249188865\n226. 1.38000225971493\n227. -1.64571500944935\n228. -0.350625215261919\n229. -0.298120023863699\n230. -0.408351732627366\n231. 0.341265568348934\n232. -1.1586657498936\n233. 1.60464806652853\n234. 0.176826582607288\n235. 0.904245450641328\n236. -0.644184192498819\n237. 0.408392381545024\n238. -0.561916640844269\n239. -0.676296868216586\n240. 0.144429172737175\n241. 0.624872559402806\n242. -1.02663105206912\n243. 0.717504571224808\n244. -0.715600696806326\n245. -0.249892253698099\n246. 0.968193608180057\n247. 2.0483772484952\n248. -0.549223525202248\n249. 0.125096728971635\n250. -0.236164512029828\n251. -0.0432283965075839\n252. 0.841018025205719\n253. 0.935485777451835\n254. -0.0673417797681394\n255. 1.34058337929368\n256. -0.94987894204516\n257. -0.311649425723984\n258. -0.132976768735049\n259. 0.720067403439722\n260. -0.11535310353148\n261. 0.524883441103795\n262. 0.615910265946243\n263. 0.899236284314325\n264. 0.463824311198001\n265. 0.886643465852954\n266. -0.757821124492292\n267. -0.291296665601701\n268. 0.399461136802808\n269. -0.441316639226426\n270. 2.06996054100344\n271. 0.505812829455352\n272. -0.248003648105123\n273. -0.946948768811056\n274. -0.361160727704715\n275. -0.764284008746748\n276. -0.41206018803097\n277. 0.288360600652346\n278. -0.750810442494489\n279. -0.254468078625007\n280. -1.50218980337831\n281. -0.163310355804175\n282. 0.588561693982085\n283. 0.369177593353017\n284. -0.180806184607647\n285. 0.767318435144036\n286. 0.232436910416811\n287. -0.305392395934866\n288. 1.36042817575474\n289. -0.779406864876399\n290. -1.19543603834664\n291. 0.601954683792871\n292. 1.61332483402266\n293. 2.10445156017071\n294. -0.911457798650316\n295. -0.0108538511024813\n296. 1.00322362061648\n297. -1.66776722055578\n298. 0.926708156500203\n299. 0.316613833342232\n300. 0.36307344151907\n301. -0.848985258412963\n302. -0.045900355842822\n303. 0.699807029512603\n304. 0.670930704753396\n305. 0.747717263174528\n306. -1.26558617362577\n307. 1.45773102292554\n308. 0.0856797543498194\n309. 0.587607751881637\n310. -0.346292985382676\n311. -0.795267760817528\n312. -1.00109717028655\n313. -0.293160438053027\n314. 0.810199667823475\n315. 1.84456726671247\n316. -1.6598301758156\n317. -0.319559173249119\n318. -1.23417265828795\n319. -1.06928397871608\n320. 0.254688022152829\n321. -0.964443546111326\n322. -0.744870576523281\n323. 1.31356428426846\n324. 0.109292689355613\n325. 0.15632657002152\n326. -0.560934022698006\n327. 1.37753061898822\n328. -0.739087510321392\n329. 0.431338215502984\n330. 0.925959665373708\n331. -0.985049371764452\n332. -0.807983402832432\n333. -0.321637419546169\n334. 0.246342343571332\n335. 0.188852804271405\n336. -0.526752545531557\n337. 1.26560944024245\n338. -0.848701210304458\n339. -0.231175627100421\n340. 0.205595434657498\n341. -1.52967092781758\n342. 1.88796616886602\n343. -0.674089159318319\n344. -0.720920925437182\n345. -1.37476439941088\n346. -0.673948779656739\n347. 0.413498837678694\n348. 2.74606957538124\n349. -0.953356933502289\n350. -0.712878737321251\n351. -0.645625584334318\n352. 0.65698335661185\n353. 0.332823424411556\n354. 0.824499501208224\n355. -2.47818303865282\n356. -0.0565099824563386\n357. -0.277729484830605\n358. 1.04196365476518\n359. -1.49907523359584\n360. -0.106446804648631\n361. 0.603565944716699\n362. -1.20082613745065\n363. 0.34761533800723\n364. 0.839751406498873\n365. -0.921265783300224\n366. 0.0667592141036352\n367. -0.129448406344101\n368. 0.438027962436474\n369. -0.948026816598753\n370. 0.391051397679863\n371. -0.107764375125618\n372. 0.262360887064151\n373. 0.20494528883771\n374. 0.881384477382213\n375. -0.398500991665301\n376. -0.262975250216534\n377. 1.0685807899044\n378. -0.637842594157145\n379. -1.48385184843436\n380. -0.175861148749322\n381. 1.02731755699761\n382. -1.72180063897249\n383. -0.82286970007884\n384. -0.883477628966077\n385. 1.28704209816118\n386. -1.31228165062984\n387. -0.571620267494027\n388. 1.18402131287979\n389. -1.68620242384711\n390. -1.38760499972523\n391. -0.714399954172373\n392. 2.47686636050139\n393. -0.606808915790383\n394. -0.258497817084373\n395. -1.25470960231148\n396. 0.397663022286196\n397. -0.159737146630274\n398. 1.6871331127624\n399. -0.369313718840147\n400. 0.787083819815713\n401. -0.925153238507452\n\n\n",
            "text/latex": "\\begin{enumerate*}\n\\item 0.376972124936433\n\\item 0.301548373935665\n\\item -1.0980231706536\n\\item -1.13040590360378\n\\item -2.79653431987176\n\\item 0.720573498411587\n\\item 0.93912102300901\n\\item -0.229377746707471\n\\item 1.75913134696347\n\\item 0.117366786802848\n\\item -0.853122822287008\n\\item 0.909259181618213\n\\item 1.19637295955276\n\\item -0.371583903741348\n\\item -0.123260233287436\n\\item 1.80004311672545\n\\item 1.70399587729432\n\\item -3.03876460529759\n\\item -2.28897494991878\n\\item 0.0583034949929225\n\\item 2.17436525195634\n\\item 1.09818265352131\n\\item 0.318220322390854\n\\item -0.0731475581637693\n\\item 0.834268741278827\n\\item 0.198750636733429\n\\item 1.29784138432631\n\\item 0.936718306241348\n\\item -0.147433193833294\n\\item 0.110431994640128\n\\item -0.812504663900505\n\\item -0.743702167768748\n\\item 1.09534507180741\n\\item 2.43537370755095\n\\item 0.38811846676708\n\\item 0.290627670295127\n\\item -0.285598287083935\n\\item 0.0760147178373681\n\\item -0.560298603759627\n\\item 0.447188372143361\n\\item 0.908501134499943\n\\item -0.505059597708343\n\\item -0.301004012157305\n\\item -0.726035976548133\n\\item -1.18007702699501\n\\item 0.253074712637114\n\\item -0.370711296884049\n\\item 0.0221795637601637\n\\item 0.660044122429767\n\\item 0.48879363533552\n\\item -0.188789916535184\n\\item 0.601359521079468\n\\item -0.673760052798442\n\\item 0.476050240589567\n\\item 0.11875322760149\n\\item 0.121226282897226\n\\item -0.186046794338354\n\\item -1.32827118862704\n\\item -0.566922950886732\n\\item 0.578833932915478\n\\item 1.90903723141847\n\\item 0.250757042672234\n\\item -1.59831505850908\n\\item 3.20163174713348\n\\item 0.955235375464122\n\\item 0.368644616042278\n\\item 0.922919067503503\n\\item -0.205521345710334\n\\item 0.092966700547165\n\\item 0.168262180233182\n\\item 0.795839125287755\n\\item 1.64600560721094\n\\item -1.71692431635025\n\\item -0.318343105944291\n\\item -0.904139971986906\n\\item -0.703992796667782\n\\item -1.77809946183924\n\\item -0.722255162624973\n\\item 0.046154209553832\n\\item 0.243658020687582\n\\item 0.628331305782283\n\\item -0.0246385822796227\n\\item 2.31415330907848\n\\item 0.177210257260106\n\\item -1.02441476674678\n\\item 2.27468130126709\n\\item -1.88905666491974\n\\item 1.09395160103067\n\\item 1.84616702732198\n\\item 0.521032673520017\n\\item -1.53296210764592\n\\item -1.93936496927842\n\\item 0.486916538104755\n\\item 1.24523669065827\n\\item -0.217273426334712\n\\item -0.779593114501295\n\\item 0.348874499707459\n\\item 0.681724250015865\n\\item -0.531461387381673\n\\item -0.677393421473375\n\\item -1.72878394060979\n\\item -0.991260991589561\n\\item -0.585505561701735\n\\item 0.38352174799264\n\\item 0.746664919683157\n\\item -0.928420911757998\n\\item -0.338176296656827\n\\item 1.54511401517901\n\\item 0.266508877832155\n\\item 0.299533932427615\n\\item -0.322802019550316\n\\item 1.43534743310469\n\\item 1.00652720383307\n\\item -1.71941363621868\n\\item 0.298920461719989\n\\item -0.82472563598933\n\\item -1.19958983276379\n\\item -1.27638711730102\n\\item -0.123178066690284\n\\item 2.165942198712\n\\item -0.312282974901684\n\\item 0.367439225093845\n\\item 1.26943926051528\n\\item -2.26485383914805\n\\item -1.28984990955812\n\\item 0.187885938135046\n\\item 0.751642855208785\n\\item 1.78468133578688\n\\item 1.50827173622253\n\\item -0.953161708543949\n\\item 0.103422740369036\n\\item -0.605560497823519\n\\item -0.0976006255037022\n\\item -0.123448106810115\n\\item -1.04467951686894\n\\item -0.0748703402582222\n\\item 1.76013533299962\n\\item -1.43211958660216\n\\item 2.66220102826044\n\\item -1.2911915324806\n\\item 0.0151017743611424\n\\item -0.0396805717025272\n\\item 2.19144032262333\n\\item -1.97643754960617\n\\item 0.463665664991729\n\\item -0.262212156963516\n\\item -1.1357145060917\n\\item 0.211299481262918\n\\item 0.099427927814971\n\\item -3.05668365235951\n\\item -0.347136653568049\n\\item -1.94662615826816\n\\item -0.216076646275867\n\\item -1.44919647850568\n\\item 0.34543406073839\n\\item 0.18820239366655\n\\item -1.12785278296396\n\\item 0.0504503430104355\n\\item -0.682699091648469\n\\item 0.648053817001419\n\\item 0.610364486575726\n\\item -0.512656933375823\n\\item 0.754405890685482\n\\item 0.188104972368124\n\\item -1.92828563104951\n\\item 1.23582136018889\n\\item 0.328277313420236\n\\item -0.854914489250545\n\\item -1.89568821641824\n\\item 0.846692414981603\n\\item 1.2440251070401\n\\item 0.236259956958241\n\\item -0.760693539302844\n\\item 0.772220957293784\n\\item 0.661556753620863\n\\item -1.59373336735277\n\\item -2.19034691482371\n\\item -1.17675395596723\n\\item 1.05000512774126\n\\item -0.00570307873571396\n\\item -0.27601232711464\n\\item 0.848521292386336\n\\item -1.04893465799499\n\\item -1.733586337092\n\\item 2.4141390868032\n\\item -0.195641766782138\n\\item 0.926786956027277\n\\item -0.713463632284985\n\\item -1.2997417149422\n\\item 0.884296403693231\n\\item 1.20064152073226\n\\item -1.17033977647403\n\\item 0.761471885477129\n\\item 0.870090238099867\n\\item -0.727242710372547\n\\item 0.626620728897496\n\\item -1.09144272809162\n\\item -0.516094526339504\n\\item 0.0169339634064014\n\\item 0.660990688881105\n\\item ⋯\n\\item 0.425669715058102\n\\item 1.19899575713223\n\\item -0.0134581601508863\n\\item 0.805779466120444\n\\item 0.70718075721415\n\\item 0.169702583950107\n\\item -1.22412677258123\n\\item -2.13934668954574\n\\item 0.428906720707015\n\\item -1.47690089590572\n\\item -1.4282203827002\n\\item 1.42166028063166\n\\item -0.420094088998626\n\\item -0.365233265422307\n\\item -1.46412616611978\n\\item 0.00967320309713926\n\\item -1.26188419718869\n\\item 2.61557546892638\n\\item 0.60585066398594\n\\item 0.237413247909264\n\\item 1.25979105975697\n\\item 0.15616997476928\n\\item 0.144639317821713\n\\item -2.13589249188865\n\\item 1.38000225971493\n\\item -1.64571500944935\n\\item -0.350625215261919\n\\item -0.298120023863699\n\\item -0.408351732627366\n\\item 0.341265568348934\n\\item -1.1586657498936\n\\item 1.60464806652853\n\\item 0.176826582607288\n\\item 0.904245450641328\n\\item -0.644184192498819\n\\item 0.408392381545024\n\\item -0.561916640844269\n\\item -0.676296868216586\n\\item 0.144429172737175\n\\item 0.624872559402806\n\\item -1.02663105206912\n\\item 0.717504571224808\n\\item -0.715600696806326\n\\item -0.249892253698099\n\\item 0.968193608180057\n\\item 2.0483772484952\n\\item -0.549223525202248\n\\item 0.125096728971635\n\\item -0.236164512029828\n\\item -0.0432283965075839\n\\item 0.841018025205719\n\\item 0.935485777451835\n\\item -0.0673417797681394\n\\item 1.34058337929368\n\\item -0.94987894204516\n\\item -0.311649425723984\n\\item -0.132976768735049\n\\item 0.720067403439722\n\\item -0.11535310353148\n\\item 0.524883441103795\n\\item 0.615910265946243\n\\item 0.899236284314325\n\\item 0.463824311198001\n\\item 0.886643465852954\n\\item -0.757821124492292\n\\item -0.291296665601701\n\\item 0.399461136802808\n\\item -0.441316639226426\n\\item 2.06996054100344\n\\item 0.505812829455352\n\\item -0.248003648105123\n\\item -0.946948768811056\n\\item -0.361160727704715\n\\item -0.764284008746748\n\\item -0.41206018803097\n\\item 0.288360600652346\n\\item -0.750810442494489\n\\item -0.254468078625007\n\\item -1.50218980337831\n\\item -0.163310355804175\n\\item 0.588561693982085\n\\item 0.369177593353017\n\\item -0.180806184607647\n\\item 0.767318435144036\n\\item 0.232436910416811\n\\item -0.305392395934866\n\\item 1.36042817575474\n\\item -0.779406864876399\n\\item -1.19543603834664\n\\item 0.601954683792871\n\\item 1.61332483402266\n\\item 2.10445156017071\n\\item -0.911457798650316\n\\item -0.0108538511024813\n\\item 1.00322362061648\n\\item -1.66776722055578\n\\item 0.926708156500203\n\\item 0.316613833342232\n\\item 0.36307344151907\n\\item -0.848985258412963\n\\item -0.045900355842822\n\\item 0.699807029512603\n\\item 0.670930704753396\n\\item 0.747717263174528\n\\item -1.26558617362577\n\\item 1.45773102292554\n\\item 0.0856797543498194\n\\item 0.587607751881637\n\\item -0.346292985382676\n\\item -0.795267760817528\n\\item -1.00109717028655\n\\item -0.293160438053027\n\\item 0.810199667823475\n\\item 1.84456726671247\n\\item -1.6598301758156\n\\item -0.319559173249119\n\\item -1.23417265828795\n\\item -1.06928397871608\n\\item 0.254688022152829\n\\item -0.964443546111326\n\\item -0.744870576523281\n\\item 1.31356428426846\n\\item 0.109292689355613\n\\item 0.15632657002152\n\\item -0.560934022698006\n\\item 1.37753061898822\n\\item -0.739087510321392\n\\item 0.431338215502984\n\\item 0.925959665373708\n\\item -0.985049371764452\n\\item -0.807983402832432\n\\item -0.321637419546169\n\\item 0.246342343571332\n\\item 0.188852804271405\n\\item -0.526752545531557\n\\item 1.26560944024245\n\\item -0.848701210304458\n\\item -0.231175627100421\n\\item 0.205595434657498\n\\item -1.52967092781758\n\\item 1.88796616886602\n\\item -0.674089159318319\n\\item -0.720920925437182\n\\item -1.37476439941088\n\\item -0.673948779656739\n\\item 0.413498837678694\n\\item 2.74606957538124\n\\item -0.953356933502289\n\\item -0.712878737321251\n\\item -0.645625584334318\n\\item 0.65698335661185\n\\item 0.332823424411556\n\\item 0.824499501208224\n\\item -2.47818303865282\n\\item -0.0565099824563386\n\\item -0.277729484830605\n\\item 1.04196365476518\n\\item -1.49907523359584\n\\item -0.106446804648631\n\\item 0.603565944716699\n\\item -1.20082613745065\n\\item 0.34761533800723\n\\item 0.839751406498873\n\\item -0.921265783300224\n\\item 0.0667592141036352\n\\item -0.129448406344101\n\\item 0.438027962436474\n\\item -0.948026816598753\n\\item 0.391051397679863\n\\item -0.107764375125618\n\\item 0.262360887064151\n\\item 0.20494528883771\n\\item 0.881384477382213\n\\item -0.398500991665301\n\\item -0.262975250216534\n\\item 1.0685807899044\n\\item -0.637842594157145\n\\item -1.48385184843436\n\\item -0.175861148749322\n\\item 1.02731755699761\n\\item -1.72180063897249\n\\item -0.82286970007884\n\\item -0.883477628966077\n\\item 1.28704209816118\n\\item -1.31228165062984\n\\item -0.571620267494027\n\\item 1.18402131287979\n\\item -1.68620242384711\n\\item -1.38760499972523\n\\item -0.714399954172373\n\\item 2.47686636050139\n\\item -0.606808915790383\n\\item -0.258497817084373\n\\item -1.25470960231148\n\\item 0.397663022286196\n\\item -0.159737146630274\n\\item 1.6871331127624\n\\item -0.369313718840147\n\\item 0.787083819815713\n\\item -0.925153238507452\n\\end{enumerate*}\n",
            "text/plain": [
              "   [1]  0.376972125  0.301548374 -1.098023171 -1.130405904 -2.796534320\n",
              "   [6]  0.720573498  0.939121023 -0.229377747  1.759131347  0.117366787\n",
              "  [11] -0.853122822  0.909259182  1.196372960 -0.371583904 -0.123260233\n",
              "  [16]  1.800043117  1.703995877 -3.038764605 -2.288974950  0.058303495\n",
              "  [21]  2.174365252  1.098182654  0.318220322 -0.073147558  0.834268741\n",
              "  [26]  0.198750637  1.297841384  0.936718306 -0.147433194  0.110431995\n",
              "  [31] -0.812504664 -0.743702168  1.095345072  2.435373708  0.388118467\n",
              "  [36]  0.290627670 -0.285598287  0.076014718 -0.560298604  0.447188372\n",
              "  [41]  0.908501134 -0.505059598 -0.301004012 -0.726035977 -1.180077027\n",
              "  [46]  0.253074713 -0.370711297  0.022179564  0.660044122  0.488793635\n",
              "  [51] -0.188789917  0.601359521 -0.673760053  0.476050241  0.118753228\n",
              "  [56]  0.121226283 -0.186046794 -1.328271189 -0.566922951  0.578833933\n",
              "  [61]  1.909037231  0.250757043 -1.598315059  3.201631747  0.955235375\n",
              "  [66]  0.368644616  0.922919068 -0.205521346  0.092966701  0.168262180\n",
              "  [71]  0.795839125  1.646005607 -1.716924316 -0.318343106 -0.904139972\n",
              "  [76] -0.703992797 -1.778099462 -0.722255163  0.046154210  0.243658021\n",
              "  [81]  0.628331306 -0.024638582  2.314153309  0.177210257 -1.024414767\n",
              "  [86]  2.274681301 -1.889056665  1.093951601  1.846167027  0.521032674\n",
              "  [91] -1.532962108 -1.939364969  0.486916538  1.245236691 -0.217273426\n",
              "  [96] -0.779593115  0.348874500  0.681724250 -0.531461387 -0.677393421\n",
              " [101] -1.728783941 -0.991260992 -0.585505562  0.383521748  0.746664920\n",
              " [106] -0.928420912 -0.338176297  1.545114015  0.266508878  0.299533932\n",
              " [111] -0.322802020  1.435347433  1.006527204 -1.719413636  0.298920462\n",
              " [116] -0.824725636 -1.199589833 -1.276387117 -0.123178067  2.165942199\n",
              " [121] -0.312282975  0.367439225  1.269439261 -2.264853839 -1.289849910\n",
              " [126]  0.187885938  0.751642855  1.784681336  1.508271736 -0.953161709\n",
              " [131]  0.103422740 -0.605560498 -0.097600626 -0.123448107 -1.044679517\n",
              " [136] -0.074870340  1.760135333 -1.432119587  2.662201028 -1.291191532\n",
              " [141]  0.015101774 -0.039680572  2.191440323 -1.976437550  0.463665665\n",
              " [146] -0.262212157 -1.135714506  0.211299481  0.099427928 -3.056683652\n",
              " [151] -0.347136654 -1.946626158 -0.216076646 -1.449196479  0.345434061\n",
              " [156]  0.188202394 -1.127852783  0.050450343 -0.682699092  0.648053817\n",
              " [161]  0.610364487 -0.512656933  0.754405891  0.188104972 -1.928285631\n",
              " [166]  1.235821360  0.328277313 -0.854914489 -1.895688216  0.846692415\n",
              " [171]  1.244025107  0.236259957 -0.760693539  0.772220957  0.661556754\n",
              " [176] -1.593733367 -2.190346915 -1.176753956  1.050005128 -0.005703079\n",
              " [181] -0.276012327  0.848521292 -1.048934658 -1.733586337  2.414139087\n",
              " [186] -0.195641767  0.926786956 -0.713463632 -1.299741715  0.884296404\n",
              " [191]  1.200641521 -1.170339776  0.761471885  0.870090238 -0.727242710\n",
              " [196]  0.626620729 -1.091442728 -0.516094526  0.016933963  0.660990689\n",
              " [201] -0.729533119  0.851377390 -0.396491586  0.406678577 -1.038553441\n",
              " [206] -1.255881298  1.157021721  1.038676501 -0.095238350 -1.098293567\n",
              " [211]  0.560354247 -0.253028826  2.207099949 -0.743042912  0.446359483\n",
              " [216]  0.105695458 -1.020131230  0.923959483 -1.105849220 -0.543743767\n",
              " [221]  0.564328438 -1.400062336 -0.140257227 -0.144279321 -0.768024961\n",
              " [226]  0.638247893  1.118718603  0.445859167 -1.908159180 -0.013976084\n",
              " [231]  0.506316456  0.450355908 -1.662524109  1.669814349 -2.606412017\n",
              " [236]  0.797569744  0.486691425  0.679352270  0.138366622  1.694979940\n",
              " [241]  0.044443447  0.031860780  2.536444302  1.595981634  0.132513470\n",
              " [246] -0.250488099 -2.007869054  1.467110509 -0.328111968 -0.794531843\n",
              " [251] -0.001966592 -0.605914074  1.543317408 -1.130233169 -1.268981349\n",
              " [256] -0.714985307  1.243998073  0.152626608  0.478865156  0.786200597\n",
              " [261] -1.014418320 -1.659458742 -0.195951493  0.560557340 -0.159776422\n",
              " [266] -1.358666297 -1.503450015 -0.097277754  0.967261272 -0.301355047\n",
              " [271] -2.415218005 -1.225755542 -0.624915696 -0.975643477 -2.386713167\n",
              " [276]  2.233588613  0.891844519  0.219182143 -0.844743359 -1.361339387\n",
              " [281]  0.147861385 -2.776647590  0.757798512 -0.815071122  1.050232012\n",
              " [286] -0.392532410  0.010553532  0.982542661  0.882051994 -2.130501218\n",
              " [291] -3.111715349 -0.616748946  1.258498886 -0.227339885  0.324269816\n",
              " [296] -0.691110540 -0.521513270  1.821983512 -0.950082234 -0.573950579\n",
              " [301]  0.916675941 -0.226899176  1.182202984  1.521487102  1.437977258\n",
              " [306]  2.327301509  2.217880653  0.848202895  0.103037738 -0.179709305\n",
              " [311]  0.065454492  0.031464085  0.232599884  0.420827386 -0.064089820\n",
              " [316] -0.444804485 -0.227451429 -1.211833044 -0.504110465  0.506541941\n",
              " [321]  0.129626070 -0.508744274 -0.290440967  0.804996380  0.698234567\n",
              " [326]  0.043861983 -2.009618331  0.108587604  0.902152644  1.722595903\n",
              " [331] -0.326744869  0.809744232 -0.475962999 -1.462078780 -2.069704197\n",
              " [336]  1.841708057  0.042215598 -0.975208953 -0.422612098 -0.505261901\n",
              " [341] -1.328623352 -0.753124525 -1.033269914  0.105942840  0.723089401\n",
              " [346] -1.106627105  0.226105956 -0.157706694  0.143077844 -0.645308878\n",
              " [351] -0.873452175 -0.154068616  0.566110733 -0.430547955 -0.314809756\n",
              " [356] -0.108190265 -0.677640442 -2.045264123  1.651501313 -0.650823483\n",
              " [361]  1.106209791 -2.555831741 -1.228208156 -0.121742901  0.680122253\n",
              " [366] -0.069918542  2.601945411 -0.147343096  0.508787012 -1.918744724\n",
              " [371]  1.006248248 -0.408413407  0.192344493  0.383532239 -0.027867225\n",
              " [376]  0.468777641  2.067538398 -0.643277974 -0.969874305 -1.089046033\n",
              " [381]  1.896568357 -0.133319791 -0.637464793  1.141888484 -1.115848398\n",
              " [386]  0.572237412 -1.591799923 -1.232320439  1.185887111 -0.621531924\n",
              " [391]  0.635521893  0.445156479  0.018197540 -0.243847008 -0.256180253\n",
              " [396]  0.958500230  1.778931862 -0.726831528 -0.213022096 -1.110106522\n",
              " [401] -1.944935016  0.325472703  1.046399024 -0.371799115 -0.254347232\n",
              " [406] -0.278631132  0.185173447 -2.268001789 -0.705729917 -0.202690846\n",
              " [411] -0.377431359  0.292362544 -0.340095897  0.312682337 -0.183150276\n",
              " [416] -0.118694793  1.083713626 -0.649629043 -1.361665914 -0.278021567\n",
              " [421]  0.917852353 -1.881316030  0.084320041  0.042132064  0.369371694\n",
              " [426] -0.282545961 -1.185350617  0.001909278 -0.290922731 -0.554976530\n",
              " [431]  0.538722441 -0.607530998  0.829538861 -1.028604737  1.009804889\n",
              " [436]  0.327657462 -0.167261000  0.161301347 -0.870196091 -0.338636164\n",
              " [441] -0.698575816  0.043314098 -1.651102082  1.553717512  0.627448277\n",
              " [446] -0.288202465 -0.619231383 -1.049460707  1.460968822 -0.526045018\n",
              " [451] -0.603763753  0.953438236 -0.326810666 -0.174928244 -0.060338938\n",
              " [456] -0.299170389  0.066282874 -0.788424377 -0.035497276 -0.010709157\n",
              " [461]  1.336372495  0.210465399  0.309150922  1.261489004 -0.540177198\n",
              " [466]  1.230357261  0.546255793 -1.633071600 -0.557525492 -0.359032028\n",
              " [471] -0.130804245 -1.824719458 -0.262764860 -0.501875208  0.328787925\n",
              " [476] -0.814541464 -0.113439825 -1.907963880  1.566451145  0.208683040\n",
              " [481] -0.944613519  0.688053076 -0.172389243 -0.179589408 -0.227420717\n",
              " [486]  0.661717577  1.410056634 -0.050247439 -1.467969062 -0.120351518\n",
              " [491] -0.938451949  1.541218088 -0.454929494  0.386983449 -1.560503363\n",
              " [496] -0.012303664 -0.360577138 -0.799755985 -0.003243808  2.295382312\n",
              " [501]  1.206787614 -0.022097775  1.190601241  0.106871912  1.541057471\n",
              " [506] -0.878105446 -0.420724718 -2.662457600 -1.632304555  1.006986180\n",
              " [511] -1.961584450  1.445417795  0.048237555  0.578647033 -0.697163462\n",
              " [516] -0.240305539 -0.124634445  0.089483366  0.027681691 -0.054766005\n",
              " [521]  0.100055030  0.514809803 -0.489176533 -0.133608326 -0.876563738\n",
              " [526] -1.325115161 -1.474085141  0.410566715  0.803360025  0.265624111\n",
              " [531]  1.631329717  1.220605678  0.713247402  0.535507226 -0.314506725\n",
              " [536] -1.701614481 -0.057899842 -0.428421790 -0.577490344 -0.268533392\n",
              " [541] -0.616670710 -0.804567453  0.323049566 -0.149036460  2.215252655\n",
              " [546] -0.843722235 -0.413386938 -0.118708399  0.908833037 -0.057160218\n",
              " [551]  0.675410709 -0.676768707 -0.287115499 -1.255707337  0.589825743\n",
              " [556] -0.433548330  1.662003962  1.006885349 -0.198081925  0.179037076\n",
              " [561] -1.425486440 -1.220038055 -0.608706967  0.100821553  0.529973930\n",
              " [566]  1.549298504 -0.123452639  0.593737063  2.440092238 -0.806541636\n",
              " [571] -0.494402414  0.609676385  0.395423370  0.915498573 -1.303242505\n",
              " [576] -1.632699011  2.450926996  0.458212668 -1.287830658 -1.520063080\n",
              " [581] -0.665383524  1.922990036 -0.027104596 -0.254295233  0.521770910\n",
              " [586] -1.063023298  0.412290332  0.516387696 -0.375216801 -0.326616717\n",
              " [591] -2.034221846 -0.352522180  1.212660942  0.347439185  0.214392395\n",
              " [596] -0.022007836 -0.486282205 -1.566658155  0.934461578  1.315122393\n",
              " [601]  0.238163850  2.204851152  0.239252579 -1.355661200  0.342297568\n",
              " [606]  0.986316201 -0.542898587  0.664734764 -0.169545432  0.026842613\n",
              " [611]  0.487848396  0.330506258 -1.085710774  1.922843824 -0.843683865\n",
              " [616]  0.840079601  0.448690088  1.547980400 -0.151137503  0.445747966\n",
              " [621]  1.807243652 -0.847986859  0.122269307  0.875578568 -1.112293003\n",
              " [626]  0.801385694  0.068025883 -1.786047033  0.467907382 -0.074956663\n",
              " [631]  0.259759862 -0.496885388 -1.691526648  1.071047055 -0.259077952\n",
              " [636] -0.346504483 -2.116574300 -1.123154644  0.261696922 -1.170288109\n",
              " [641]  0.522876516  1.117782757 -0.215173639 -0.548985826  0.380165403\n",
              " [646] -0.337116969  1.292908482  2.497742104  0.818192174 -0.019107938\n",
              " [651] -1.529474469 -0.340003358 -1.380967228  1.771411709 -0.183626788\n",
              " [656]  0.671433084 -1.023211230 -0.394675120 -1.630604320 -0.334631678\n",
              " [661] -0.732241586 -0.866445008  0.318403069 -2.264844687  0.430027082\n",
              " [666] -1.591517342  0.483375521 -0.700829885  0.296418639  0.198333471\n",
              " [671] -0.097177550 -1.318043061  0.438087948 -1.273884599 -0.156393358\n",
              " [676]  1.849406779  1.094682358 -0.755703530 -0.690493664  1.459499140\n",
              " [681] -1.793468062 -0.083156757 -0.197066216 -0.119370084 -1.325221002\n",
              " [686] -0.259202893  0.166115718  0.995041526  0.753924148 -0.212328715\n",
              " [691] -0.873629457 -1.218425008 -1.261998317  0.744282978  0.601424539\n",
              " [696] -1.373503486  1.324171693 -0.048442530 -1.678708521 -0.234440308\n",
              " [701]  0.166626057  0.146355248 -0.391663033 -0.439229410  0.710348580\n",
              " [706] -0.302812836 -0.580319248  0.974255157  0.954748151 -1.162393395\n",
              " [711]  2.299391302 -0.668803798 -1.039724103  0.145627852  3.702897189\n",
              " [716]  1.597186232  0.134875677  1.182015455  0.621120450  0.734745785\n",
              " [721]  2.174385126 -0.392926431  1.654195141 -0.530888303  0.254945224\n",
              " [726]  0.541256206 -0.932593383 -0.539213181  0.008471363  0.671770499\n",
              " [731]  1.625417309 -0.351746674 -0.098016912 -0.536627859 -0.804346022\n",
              " [736] -0.952241148  1.477833901 -1.423949192 -0.428304185 -1.629399914\n",
              " [741]  1.515272023 -0.565129931  0.316898167  0.413228293  1.484289297\n",
              " [746] -0.187745191  0.265401001  0.342340246 -0.060870203 -0.922735365\n",
              " [751]  2.402372346  0.437833065 -1.905052881 -1.095285076 -0.899853429\n",
              " [756]  0.395633908 -0.796129951  1.004445172 -0.411600619  1.713001020\n",
              " [761]  0.824532333  0.816860365  1.167121227  1.149171840  1.326912524\n",
              " [766] -0.720148538  0.639475844 -0.758063120 -3.166124967 -1.819485047\n",
              " [771]  0.792213509 -0.120985165  1.194771757  0.824178066  0.952711611\n",
              " [776] -0.651147519 -0.071850910  1.053052993 -1.128844487  0.040844307\n",
              " [781] -0.551386340 -0.807672957 -0.339836957  0.459104671 -2.274496969\n",
              " [786] -0.815526656  0.364786579 -0.044864157  0.732118951  0.208782016\n",
              " [791] -0.369937795  0.918172986 -0.832713717  0.303400115  1.878879104\n",
              " [796] -0.367866268 -1.292688616  0.184061699  0.604995708  1.860524143\n",
              " [801]  0.425669715  1.198995757 -0.013458160  0.805779466  0.707180757\n",
              " [806]  0.169702584 -1.224126773 -2.139346690  0.428906721 -1.476900896\n",
              " [811] -1.428220383  1.421660281 -0.420094089 -0.365233265 -1.464126166\n",
              " [816]  0.009673203 -1.261884197  2.615575469  0.605850664  0.237413248\n",
              " [821]  1.259791060  0.156169975  0.144639318 -2.135892492  1.380002260\n",
              " [826] -1.645715009 -0.350625215 -0.298120024 -0.408351733  0.341265568\n",
              " [831] -1.158665750  1.604648067  0.176826583  0.904245451 -0.644184192\n",
              " [836]  0.408392382 -0.561916641 -0.676296868  0.144429173  0.624872559\n",
              " [841] -1.026631052  0.717504571 -0.715600697 -0.249892254  0.968193608\n",
              " [846]  2.048377248 -0.549223525  0.125096729 -0.236164512 -0.043228397\n",
              " [851]  0.841018025  0.935485777 -0.067341780  1.340583379 -0.949878942\n",
              " [856] -0.311649426 -0.132976769  0.720067403 -0.115353104  0.524883441\n",
              " [861]  0.615910266  0.899236284  0.463824311  0.886643466 -0.757821124\n",
              " [866] -0.291296666  0.399461137 -0.441316639  2.069960541  0.505812829\n",
              " [871] -0.248003648 -0.946948769 -0.361160728 -0.764284009 -0.412060188\n",
              " [876]  0.288360601 -0.750810442 -0.254468079 -1.502189803 -0.163310356\n",
              " [881]  0.588561694  0.369177593 -0.180806185  0.767318435  0.232436910\n",
              " [886] -0.305392396  1.360428176 -0.779406865 -1.195436038  0.601954684\n",
              " [891]  1.613324834  2.104451560 -0.911457799 -0.010853851  1.003223621\n",
              " [896] -1.667767221  0.926708157  0.316613833  0.363073442 -0.848985258\n",
              " [901] -0.045900356  0.699807030  0.670930705  0.747717263 -1.265586174\n",
              " [906]  1.457731023  0.085679754  0.587607752 -0.346292985 -0.795267761\n",
              " [911] -1.001097170 -0.293160438  0.810199668  1.844567267 -1.659830176\n",
              " [916] -0.319559173 -1.234172658 -1.069283979  0.254688022 -0.964443546\n",
              " [921] -0.744870577  1.313564284  0.109292689  0.156326570 -0.560934023\n",
              " [926]  1.377530619 -0.739087510  0.431338216  0.925959665 -0.985049372\n",
              " [931] -0.807983403 -0.321637420  0.246342344  0.188852804 -0.526752546\n",
              " [936]  1.265609440 -0.848701210 -0.231175627  0.205595435 -1.529670928\n",
              " [941]  1.887966169 -0.674089159 -0.720920925 -1.374764399 -0.673948780\n",
              " [946]  0.413498838  2.746069575 -0.953356934 -0.712878737 -0.645625584\n",
              " [951]  0.656983357  0.332823424  0.824499501 -2.478183039 -0.056509982\n",
              " [956] -0.277729485  1.041963655 -1.499075234 -0.106446805  0.603565945\n",
              " [961] -1.200826137  0.347615338  0.839751406 -0.921265783  0.066759214\n",
              " [966] -0.129448406  0.438027962 -0.948026817  0.391051398 -0.107764375\n",
              " [971]  0.262360887  0.204945289  0.881384477 -0.398500992 -0.262975250\n",
              " [976]  1.068580790 -0.637842594 -1.483851848 -0.175861149  1.027317557\n",
              " [981] -1.721800639 -0.822869700 -0.883477629  1.287042098 -1.312281651\n",
              " [986] -0.571620267  1.184021313 -1.686202424 -1.387605000 -0.714399954\n",
              " [991]  2.476866361 -0.606808916 -0.258497817 -1.254709602  0.397663022\n",
              " [996] -0.159737147  1.687133113 -0.369313719  0.787083820 -0.925153239"
            ]
          },
          "metadata": {}
        }
      ]
    },
    {
      "cell_type": "code",
      "source": [
        "cond <- valores > 2"
      ],
      "metadata": {
        "id": "ydrpSQc7-h1Q"
      },
      "execution_count": 24,
      "outputs": []
    },
    {
      "cell_type": "code",
      "source": [
        "# podríamos guardar el vector de T o F's en una variable para luego referenciarla\n",
        "valores[cond]"
      ],
      "metadata": {
        "id": "Bnw_f_S3-0fK",
        "outputId": "b9105279-6b3f-46d7-c08c-3203deff0c40",
        "colab": {
          "base_uri": "https://localhost:8080/",
          "height": 69
        }
      },
      "execution_count": null,
      "outputs": [
        {
          "output_type": "display_data",
          "data": {
            "text/html": [
              "<style>\n",
              ".list-inline {list-style: none; margin:0; padding: 0}\n",
              ".list-inline>li {display: inline-block}\n",
              ".list-inline>li:not(:last-child)::after {content: \"\\00b7\"; padding: 0 .5ex}\n",
              "</style>\n",
              "<ol class=list-inline><li>2.17436525195634</li><li>2.43537370755095</li><li>3.20163174713348</li><li>2.31415330907848</li><li>2.27468130126709</li><li>2.165942198712</li><li>2.66220102826044</li><li>2.19144032262333</li><li>2.4141390868032</li><li>2.20709994901934</li><li>2.53644430204527</li><li>2.23358861339317</li><li>2.32730150918775</li><li>2.2178806526851</li><li>2.60194541128938</li><li>2.06753839791582</li><li>2.29538231184331</li><li>2.21525265505284</li><li>2.44009223848198</li><li>2.45092699645</li><li>2.20485115211014</li><li>2.49774210427389</li><li>2.29939130160626</li><li>3.70289718936949</li><li>2.17438512587792</li><li>2.40237234578046</li><li>2.61557546892638</li><li>2.0483772484952</li><li>2.06996054100344</li><li>2.10445156017071</li><li>2.74606957538124</li><li>2.47686636050139</li></ol>\n"
            ],
            "text/markdown": "1. 2.17436525195634\n2. 2.43537370755095\n3. 3.20163174713348\n4. 2.31415330907848\n5. 2.27468130126709\n6. 2.165942198712\n7. 2.66220102826044\n8. 2.19144032262333\n9. 2.4141390868032\n10. 2.20709994901934\n11. 2.53644430204527\n12. 2.23358861339317\n13. 2.32730150918775\n14. 2.2178806526851\n15. 2.60194541128938\n16. 2.06753839791582\n17. 2.29538231184331\n18. 2.21525265505284\n19. 2.44009223848198\n20. 2.45092699645\n21. 2.20485115211014\n22. 2.49774210427389\n23. 2.29939130160626\n24. 3.70289718936949\n25. 2.17438512587792\n26. 2.40237234578046\n27. 2.61557546892638\n28. 2.0483772484952\n29. 2.06996054100344\n30. 2.10445156017071\n31. 2.74606957538124\n32. 2.47686636050139\n\n\n",
            "text/latex": "\\begin{enumerate*}\n\\item 2.17436525195634\n\\item 2.43537370755095\n\\item 3.20163174713348\n\\item 2.31415330907848\n\\item 2.27468130126709\n\\item 2.165942198712\n\\item 2.66220102826044\n\\item 2.19144032262333\n\\item 2.4141390868032\n\\item 2.20709994901934\n\\item 2.53644430204527\n\\item 2.23358861339317\n\\item 2.32730150918775\n\\item 2.2178806526851\n\\item 2.60194541128938\n\\item 2.06753839791582\n\\item 2.29538231184331\n\\item 2.21525265505284\n\\item 2.44009223848198\n\\item 2.45092699645\n\\item 2.20485115211014\n\\item 2.49774210427389\n\\item 2.29939130160626\n\\item 3.70289718936949\n\\item 2.17438512587792\n\\item 2.40237234578046\n\\item 2.61557546892638\n\\item 2.0483772484952\n\\item 2.06996054100344\n\\item 2.10445156017071\n\\item 2.74606957538124\n\\item 2.47686636050139\n\\end{enumerate*}\n",
            "text/plain": [
              " [1] 2.174365 2.435374 3.201632 2.314153 2.274681 2.165942 2.662201 2.191440\n",
              " [9] 2.414139 2.207100 2.536444 2.233589 2.327302 2.217881 2.601945 2.067538\n",
              "[17] 2.295382 2.215253 2.440092 2.450927 2.204851 2.497742 2.299391 3.702897\n",
              "[25] 2.174385 2.402372 2.615575 2.048377 2.069961 2.104452 2.746070 2.476866"
            ]
          },
          "metadata": {}
        }
      ]
    },
    {
      "cell_type": "code",
      "source": [
        "valores[valores > 2]"
      ],
      "metadata": {
        "id": "kUXmtV0N-6cx",
        "outputId": "c622d98f-ba20-4f8c-9859-1dc8e1d93a53",
        "colab": {
          "base_uri": "https://localhost:8080/",
          "height": 121
        }
      },
      "execution_count": 25,
      "outputs": [
        {
          "output_type": "display_data",
          "data": {
            "text/html": [
              "<style>\n",
              ".list-inline {list-style: none; margin:0; padding: 0}\n",
              ".list-inline>li {display: inline-block}\n",
              ".list-inline>li:not(:last-child)::after {content: \"\\00b7\"; padding: 0 .5ex}\n",
              "</style>\n",
              "<ol class=list-inline><li>2.17436525195634</li><li>2.43537370755095</li><li>3.20163174713348</li><li>2.31415330907848</li><li>2.27468130126709</li><li>2.165942198712</li><li>2.66220102826044</li><li>2.19144032262333</li><li>2.4141390868032</li><li>2.20709994901934</li><li>2.53644430204527</li><li>2.23358861339317</li><li>2.32730150918775</li><li>2.2178806526851</li><li>2.60194541128938</li><li>2.06753839791582</li><li>2.29538231184331</li><li>2.21525265505284</li><li>2.44009223848198</li><li>2.45092699645</li><li>2.20485115211014</li><li>2.49774210427389</li><li>2.29939130160626</li><li>3.70289718936949</li><li>2.17438512587792</li><li>2.40237234578046</li><li>2.61557546892638</li><li>2.0483772484952</li><li>2.06996054100344</li><li>2.10445156017071</li><li>2.74606957538124</li><li>2.47686636050139</li></ol>\n"
            ],
            "text/markdown": "1. 2.17436525195634\n2. 2.43537370755095\n3. 3.20163174713348\n4. 2.31415330907848\n5. 2.27468130126709\n6. 2.165942198712\n7. 2.66220102826044\n8. 2.19144032262333\n9. 2.4141390868032\n10. 2.20709994901934\n11. 2.53644430204527\n12. 2.23358861339317\n13. 2.32730150918775\n14. 2.2178806526851\n15. 2.60194541128938\n16. 2.06753839791582\n17. 2.29538231184331\n18. 2.21525265505284\n19. 2.44009223848198\n20. 2.45092699645\n21. 2.20485115211014\n22. 2.49774210427389\n23. 2.29939130160626\n24. 3.70289718936949\n25. 2.17438512587792\n26. 2.40237234578046\n27. 2.61557546892638\n28. 2.0483772484952\n29. 2.06996054100344\n30. 2.10445156017071\n31. 2.74606957538124\n32. 2.47686636050139\n\n\n",
            "text/latex": "\\begin{enumerate*}\n\\item 2.17436525195634\n\\item 2.43537370755095\n\\item 3.20163174713348\n\\item 2.31415330907848\n\\item 2.27468130126709\n\\item 2.165942198712\n\\item 2.66220102826044\n\\item 2.19144032262333\n\\item 2.4141390868032\n\\item 2.20709994901934\n\\item 2.53644430204527\n\\item 2.23358861339317\n\\item 2.32730150918775\n\\item 2.2178806526851\n\\item 2.60194541128938\n\\item 2.06753839791582\n\\item 2.29538231184331\n\\item 2.21525265505284\n\\item 2.44009223848198\n\\item 2.45092699645\n\\item 2.20485115211014\n\\item 2.49774210427389\n\\item 2.29939130160626\n\\item 3.70289718936949\n\\item 2.17438512587792\n\\item 2.40237234578046\n\\item 2.61557546892638\n\\item 2.0483772484952\n\\item 2.06996054100344\n\\item 2.10445156017071\n\\item 2.74606957538124\n\\item 2.47686636050139\n\\end{enumerate*}\n",
            "text/plain": [
              " [1] 2.174365 2.435374 3.201632 2.314153 2.274681 2.165942 2.662201 2.191440\n",
              " [9] 2.414139 2.207100 2.536444 2.233589 2.327302 2.217881 2.601945 2.067538\n",
              "[17] 2.295382 2.215253 2.440092 2.450927 2.204851 2.497742 2.299391 3.702897\n",
              "[25] 2.174385 2.402372 2.615575 2.048377 2.069961 2.104452 2.746070 2.476866"
            ]
          },
          "metadata": {}
        }
      ]
    },
    {
      "cell_type": "code",
      "source": [
        "#Si buscamos los elementos que NO cumplen la condición, podemos negar la misma.\n",
        "valores[!cond]"
      ],
      "metadata": {
        "id": "laLtOVzsaMWm",
        "outputId": "0be384b1-7538-48dd-c81c-a90ba05e33b6",
        "colab": {
          "base_uri": "https://localhost:8080/",
          "height": 1000
        }
      },
      "execution_count": 27,
      "outputs": [
        {
          "output_type": "display_data",
          "data": {
            "text/html": [
              "<style>\n",
              ".list-inline {list-style: none; margin:0; padding: 0}\n",
              ".list-inline>li {display: inline-block}\n",
              ".list-inline>li:not(:last-child)::after {content: \"\\00b7\"; padding: 0 .5ex}\n",
              "</style>\n",
              "<ol class=list-inline><li>0.376972124936433</li><li>0.301548373935665</li><li>-1.0980231706536</li><li>-1.13040590360378</li><li>-2.79653431987176</li><li>0.720573498411587</li><li>0.93912102300901</li><li>-0.229377746707471</li><li>1.75913134696347</li><li>0.117366786802848</li><li>-0.853122822287008</li><li>0.909259181618213</li><li>1.19637295955276</li><li>-0.371583903741348</li><li>-0.123260233287436</li><li>1.80004311672545</li><li>1.70399587729432</li><li>-3.03876460529759</li><li>-2.28897494991878</li><li>0.0583034949929225</li><li>1.09818265352131</li><li>0.318220322390854</li><li>-0.0731475581637693</li><li>0.834268741278827</li><li>0.198750636733429</li><li>1.29784138432631</li><li>0.936718306241348</li><li>-0.147433193833294</li><li>0.110431994640128</li><li>-0.812504663900505</li><li>-0.743702167768748</li><li>1.09534507180741</li><li>0.38811846676708</li><li>0.290627670295127</li><li>-0.285598287083935</li><li>0.0760147178373681</li><li>-0.560298603759627</li><li>0.447188372143361</li><li>0.908501134499943</li><li>-0.505059597708343</li><li>-0.301004012157305</li><li>-0.726035976548133</li><li>-1.18007702699501</li><li>0.253074712637114</li><li>-0.370711296884049</li><li>0.0221795637601637</li><li>0.660044122429767</li><li>0.48879363533552</li><li>-0.188789916535184</li><li>0.601359521079468</li><li>-0.673760052798442</li><li>0.476050240589567</li><li>0.11875322760149</li><li>0.121226282897226</li><li>-0.186046794338354</li><li>-1.32827118862704</li><li>-0.566922950886732</li><li>0.578833932915478</li><li>1.90903723141847</li><li>0.250757042672234</li><li>-1.59831505850908</li><li>0.955235375464122</li><li>0.368644616042278</li><li>0.922919067503503</li><li>-0.205521345710334</li><li>0.092966700547165</li><li>0.168262180233182</li><li>0.795839125287755</li><li>1.64600560721094</li><li>-1.71692431635025</li><li>-0.318343105944291</li><li>-0.904139971986906</li><li>-0.703992796667782</li><li>-1.77809946183924</li><li>-0.722255162624973</li><li>0.046154209553832</li><li>0.243658020687582</li><li>0.628331305782283</li><li>-0.0246385822796227</li><li>0.177210257260106</li><li>-1.02441476674678</li><li>-1.88905666491974</li><li>1.09395160103067</li><li>1.84616702732198</li><li>0.521032673520017</li><li>-1.53296210764592</li><li>-1.93936496927842</li><li>0.486916538104755</li><li>1.24523669065827</li><li>-0.217273426334712</li><li>-0.779593114501295</li><li>0.348874499707459</li><li>0.681724250015865</li><li>-0.531461387381673</li><li>-0.677393421473375</li><li>-1.72878394060979</li><li>-0.991260991589561</li><li>-0.585505561701735</li><li>0.38352174799264</li><li>0.746664919683157</li><li>-0.928420911757998</li><li>-0.338176296656827</li><li>1.54511401517901</li><li>0.266508877832155</li><li>0.299533932427615</li><li>-0.322802019550316</li><li>1.43534743310469</li><li>1.00652720383307</li><li>-1.71941363621868</li><li>0.298920461719989</li><li>-0.82472563598933</li><li>-1.19958983276379</li><li>-1.27638711730102</li><li>-0.123178066690284</li><li>-0.312282974901684</li><li>0.367439225093845</li><li>1.26943926051528</li><li>-2.26485383914805</li><li>-1.28984990955812</li><li>0.187885938135046</li><li>0.751642855208785</li><li>1.78468133578688</li><li>1.50827173622253</li><li>-0.953161708543949</li><li>0.103422740369036</li><li>-0.605560497823519</li><li>-0.0976006255037022</li><li>-0.123448106810115</li><li>-1.04467951686894</li><li>-0.0748703402582222</li><li>1.76013533299962</li><li>-1.43211958660216</li><li>-1.2911915324806</li><li>0.0151017743611424</li><li>-0.0396805717025272</li><li>-1.97643754960617</li><li>0.463665664991729</li><li>-0.262212156963516</li><li>-1.1357145060917</li><li>0.211299481262918</li><li>0.099427927814971</li><li>-3.05668365235951</li><li>-0.347136653568049</li><li>-1.94662615826816</li><li>-0.216076646275867</li><li>-1.44919647850568</li><li>0.34543406073839</li><li>0.18820239366655</li><li>-1.12785278296396</li><li>0.0504503430104355</li><li>-0.682699091648469</li><li>0.648053817001419</li><li>0.610364486575726</li><li>-0.512656933375823</li><li>0.754405890685482</li><li>0.188104972368124</li><li>-1.92828563104951</li><li>1.23582136018889</li><li>0.328277313420236</li><li>-0.854914489250545</li><li>-1.89568821641824</li><li>0.846692414981603</li><li>1.2440251070401</li><li>0.236259956958241</li><li>-0.760693539302844</li><li>0.772220957293784</li><li>0.661556753620863</li><li>-1.59373336735277</li><li>-2.19034691482371</li><li>-1.17675395596723</li><li>1.05000512774126</li><li>-0.00570307873571396</li><li>-0.27601232711464</li><li>0.848521292386336</li><li>-1.04893465799499</li><li>-1.733586337092</li><li>-0.195641766782138</li><li>0.926786956027277</li><li>-0.713463632284985</li><li>-1.2997417149422</li><li>0.884296403693231</li><li>1.20064152073226</li><li>-1.17033977647403</li><li>0.761471885477129</li><li>0.870090238099867</li><li>-0.727242710372547</li><li>0.626620728897496</li><li>-1.09144272809162</li><li>-0.516094526339504</li><li>0.0169339634064014</li><li>0.660990688881105</li><li>-0.729533119131649</li><li>0.851377390323856</li><li>-0.396491586249498</li><li>0.406678577050341</li><li>-1.03855344133331</li><li>-1.25588129819282</li><li>1.15702172120683</li><li>1.03867650075342</li><li>-0.0952383502101764</li><li>⋯</li><li>1.87887910415359</li><li>-0.367866268487568</li><li>-1.29268861551335</li><li>0.184061699042906</li><li>0.604995708118937</li><li>1.86052414306683</li><li>0.425669715058102</li><li>1.19899575713223</li><li>-0.0134581601508863</li><li>0.805779466120444</li><li>0.70718075721415</li><li>0.169702583950107</li><li>-1.22412677258123</li><li>-2.13934668954574</li><li>0.428906720707015</li><li>-1.47690089590572</li><li>-1.4282203827002</li><li>1.42166028063166</li><li>-0.420094088998626</li><li>-0.365233265422307</li><li>-1.46412616611978</li><li>0.00967320309713926</li><li>-1.26188419718869</li><li>0.60585066398594</li><li>0.237413247909264</li><li>1.25979105975697</li><li>0.15616997476928</li><li>0.144639317821713</li><li>-2.13589249188865</li><li>1.38000225971493</li><li>-1.64571500944935</li><li>-0.350625215261919</li><li>-0.298120023863699</li><li>-0.408351732627366</li><li>0.341265568348934</li><li>-1.1586657498936</li><li>1.60464806652853</li><li>0.176826582607288</li><li>0.904245450641328</li><li>-0.644184192498819</li><li>0.408392381545024</li><li>-0.561916640844269</li><li>-0.676296868216586</li><li>0.144429172737175</li><li>0.624872559402806</li><li>-1.02663105206912</li><li>0.717504571224808</li><li>-0.715600696806326</li><li>-0.249892253698099</li><li>0.968193608180057</li><li>-0.549223525202248</li><li>0.125096728971635</li><li>-0.236164512029828</li><li>-0.0432283965075839</li><li>0.841018025205719</li><li>0.935485777451835</li><li>-0.0673417797681394</li><li>1.34058337929368</li><li>-0.94987894204516</li><li>-0.311649425723984</li><li>-0.132976768735049</li><li>0.720067403439722</li><li>-0.11535310353148</li><li>0.524883441103795</li><li>0.615910265946243</li><li>0.899236284314325</li><li>0.463824311198001</li><li>0.886643465852954</li><li>-0.757821124492292</li><li>-0.291296665601701</li><li>0.399461136802808</li><li>-0.441316639226426</li><li>0.505812829455352</li><li>-0.248003648105123</li><li>-0.946948768811056</li><li>-0.361160727704715</li><li>-0.764284008746748</li><li>-0.41206018803097</li><li>0.288360600652346</li><li>-0.750810442494489</li><li>-0.254468078625007</li><li>-1.50218980337831</li><li>-0.163310355804175</li><li>0.588561693982085</li><li>0.369177593353017</li><li>-0.180806184607647</li><li>0.767318435144036</li><li>0.232436910416811</li><li>-0.305392395934866</li><li>1.36042817575474</li><li>-0.779406864876399</li><li>-1.19543603834664</li><li>0.601954683792871</li><li>1.61332483402266</li><li>-0.911457798650316</li><li>-0.0108538511024813</li><li>1.00322362061648</li><li>-1.66776722055578</li><li>0.926708156500203</li><li>0.316613833342232</li><li>0.36307344151907</li><li>-0.848985258412963</li><li>-0.045900355842822</li><li>0.699807029512603</li><li>0.670930704753396</li><li>0.747717263174528</li><li>-1.26558617362577</li><li>1.45773102292554</li><li>0.0856797543498194</li><li>0.587607751881637</li><li>-0.346292985382676</li><li>-0.795267760817528</li><li>-1.00109717028655</li><li>-0.293160438053027</li><li>0.810199667823475</li><li>1.84456726671247</li><li>-1.6598301758156</li><li>-0.319559173249119</li><li>-1.23417265828795</li><li>-1.06928397871608</li><li>0.254688022152829</li><li>-0.964443546111326</li><li>-0.744870576523281</li><li>1.31356428426846</li><li>0.109292689355613</li><li>0.15632657002152</li><li>-0.560934022698006</li><li>1.37753061898822</li><li>-0.739087510321392</li><li>0.431338215502984</li><li>0.925959665373708</li><li>-0.985049371764452</li><li>-0.807983402832432</li><li>-0.321637419546169</li><li>0.246342343571332</li><li>0.188852804271405</li><li>-0.526752545531557</li><li>1.26560944024245</li><li>-0.848701210304458</li><li>-0.231175627100421</li><li>0.205595434657498</li><li>-1.52967092781758</li><li>1.88796616886602</li><li>-0.674089159318319</li><li>-0.720920925437182</li><li>-1.37476439941088</li><li>-0.673948779656739</li><li>0.413498837678694</li><li>-0.953356933502289</li><li>-0.712878737321251</li><li>-0.645625584334318</li><li>0.65698335661185</li><li>0.332823424411556</li><li>0.824499501208224</li><li>-2.47818303865282</li><li>-0.0565099824563386</li><li>-0.277729484830605</li><li>1.04196365476518</li><li>-1.49907523359584</li><li>-0.106446804648631</li><li>0.603565944716699</li><li>-1.20082613745065</li><li>0.34761533800723</li><li>0.839751406498873</li><li>-0.921265783300224</li><li>0.0667592141036352</li><li>-0.129448406344101</li><li>0.438027962436474</li><li>-0.948026816598753</li><li>0.391051397679863</li><li>-0.107764375125618</li><li>0.262360887064151</li><li>0.20494528883771</li><li>0.881384477382213</li><li>-0.398500991665301</li><li>-0.262975250216534</li><li>1.0685807899044</li><li>-0.637842594157145</li><li>-1.48385184843436</li><li>-0.175861148749322</li><li>1.02731755699761</li><li>-1.72180063897249</li><li>-0.82286970007884</li><li>-0.883477628966077</li><li>1.28704209816118</li><li>-1.31228165062984</li><li>-0.571620267494027</li><li>1.18402131287979</li><li>-1.68620242384711</li><li>-1.38760499972523</li><li>-0.714399954172373</li><li>-0.606808915790383</li><li>-0.258497817084373</li><li>-1.25470960231148</li><li>0.397663022286196</li><li>-0.159737146630274</li><li>1.6871331127624</li><li>-0.369313718840147</li><li>0.787083819815713</li><li>-0.925153238507452</li></ol>\n"
            ],
            "text/markdown": "1. 0.376972124936433\n2. 0.301548373935665\n3. -1.0980231706536\n4. -1.13040590360378\n5. -2.79653431987176\n6. 0.720573498411587\n7. 0.93912102300901\n8. -0.229377746707471\n9. 1.75913134696347\n10. 0.117366786802848\n11. -0.853122822287008\n12. 0.909259181618213\n13. 1.19637295955276\n14. -0.371583903741348\n15. -0.123260233287436\n16. 1.80004311672545\n17. 1.70399587729432\n18. -3.03876460529759\n19. -2.28897494991878\n20. 0.0583034949929225\n21. 1.09818265352131\n22. 0.318220322390854\n23. -0.0731475581637693\n24. 0.834268741278827\n25. 0.198750636733429\n26. 1.29784138432631\n27. 0.936718306241348\n28. -0.147433193833294\n29. 0.110431994640128\n30. -0.812504663900505\n31. -0.743702167768748\n32. 1.09534507180741\n33. 0.38811846676708\n34. 0.290627670295127\n35. -0.285598287083935\n36. 0.0760147178373681\n37. -0.560298603759627\n38. 0.447188372143361\n39. 0.908501134499943\n40. -0.505059597708343\n41. -0.301004012157305\n42. -0.726035976548133\n43. -1.18007702699501\n44. 0.253074712637114\n45. -0.370711296884049\n46. 0.0221795637601637\n47. 0.660044122429767\n48. 0.48879363533552\n49. -0.188789916535184\n50. 0.601359521079468\n51. -0.673760052798442\n52. 0.476050240589567\n53. 0.11875322760149\n54. 0.121226282897226\n55. -0.186046794338354\n56. -1.32827118862704\n57. -0.566922950886732\n58. 0.578833932915478\n59. 1.90903723141847\n60. 0.250757042672234\n61. -1.59831505850908\n62. 0.955235375464122\n63. 0.368644616042278\n64. 0.922919067503503\n65. -0.205521345710334\n66. 0.092966700547165\n67. 0.168262180233182\n68. 0.795839125287755\n69. 1.64600560721094\n70. -1.71692431635025\n71. -0.318343105944291\n72. -0.904139971986906\n73. -0.703992796667782\n74. -1.77809946183924\n75. -0.722255162624973\n76. 0.046154209553832\n77. 0.243658020687582\n78. 0.628331305782283\n79. -0.0246385822796227\n80. 0.177210257260106\n81. -1.02441476674678\n82. -1.88905666491974\n83. 1.09395160103067\n84. 1.84616702732198\n85. 0.521032673520017\n86. -1.53296210764592\n87. -1.93936496927842\n88. 0.486916538104755\n89. 1.24523669065827\n90. -0.217273426334712\n91. -0.779593114501295\n92. 0.348874499707459\n93. 0.681724250015865\n94. -0.531461387381673\n95. -0.677393421473375\n96. -1.72878394060979\n97. -0.991260991589561\n98. -0.585505561701735\n99. 0.38352174799264\n100. 0.746664919683157\n101. -0.928420911757998\n102. -0.338176296656827\n103. 1.54511401517901\n104. 0.266508877832155\n105. 0.299533932427615\n106. -0.322802019550316\n107. 1.43534743310469\n108. 1.00652720383307\n109. -1.71941363621868\n110. 0.298920461719989\n111. -0.82472563598933\n112. -1.19958983276379\n113. -1.27638711730102\n114. -0.123178066690284\n115. -0.312282974901684\n116. 0.367439225093845\n117. 1.26943926051528\n118. -2.26485383914805\n119. -1.28984990955812\n120. 0.187885938135046\n121. 0.751642855208785\n122. 1.78468133578688\n123. 1.50827173622253\n124. -0.953161708543949\n125. 0.103422740369036\n126. -0.605560497823519\n127. -0.0976006255037022\n128. -0.123448106810115\n129. -1.04467951686894\n130. -0.0748703402582222\n131. 1.76013533299962\n132. -1.43211958660216\n133. -1.2911915324806\n134. 0.0151017743611424\n135. -0.0396805717025272\n136. -1.97643754960617\n137. 0.463665664991729\n138. -0.262212156963516\n139. -1.1357145060917\n140. 0.211299481262918\n141. 0.099427927814971\n142. -3.05668365235951\n143. -0.347136653568049\n144. -1.94662615826816\n145. -0.216076646275867\n146. -1.44919647850568\n147. 0.34543406073839\n148. 0.18820239366655\n149. -1.12785278296396\n150. 0.0504503430104355\n151. -0.682699091648469\n152. 0.648053817001419\n153. 0.610364486575726\n154. -0.512656933375823\n155. 0.754405890685482\n156. 0.188104972368124\n157. -1.92828563104951\n158. 1.23582136018889\n159. 0.328277313420236\n160. -0.854914489250545\n161. -1.89568821641824\n162. 0.846692414981603\n163. 1.2440251070401\n164. 0.236259956958241\n165. -0.760693539302844\n166. 0.772220957293784\n167. 0.661556753620863\n168. -1.59373336735277\n169. -2.19034691482371\n170. -1.17675395596723\n171. 1.05000512774126\n172. -0.00570307873571396\n173. -0.27601232711464\n174. 0.848521292386336\n175. -1.04893465799499\n176. -1.733586337092\n177. -0.195641766782138\n178. 0.926786956027277\n179. -0.713463632284985\n180. -1.2997417149422\n181. 0.884296403693231\n182. 1.20064152073226\n183. -1.17033977647403\n184. 0.761471885477129\n185. 0.870090238099867\n186. -0.727242710372547\n187. 0.626620728897496\n188. -1.09144272809162\n189. -0.516094526339504\n190. 0.0169339634064014\n191. 0.660990688881105\n192. -0.729533119131649\n193. 0.851377390323856\n194. -0.396491586249498\n195. 0.406678577050341\n196. -1.03855344133331\n197. -1.25588129819282\n198. 1.15702172120683\n199. 1.03867650075342\n200. -0.0952383502101764\n201. ⋯\n202. 1.87887910415359\n203. -0.367866268487568\n204. -1.29268861551335\n205. 0.184061699042906\n206. 0.604995708118937\n207. 1.86052414306683\n208. 0.425669715058102\n209. 1.19899575713223\n210. -0.0134581601508863\n211. 0.805779466120444\n212. 0.70718075721415\n213. 0.169702583950107\n214. -1.22412677258123\n215. -2.13934668954574\n216. 0.428906720707015\n217. -1.47690089590572\n218. -1.4282203827002\n219. 1.42166028063166\n220. -0.420094088998626\n221. -0.365233265422307\n222. -1.46412616611978\n223. 0.00967320309713926\n224. -1.26188419718869\n225. 0.60585066398594\n226. 0.237413247909264\n227. 1.25979105975697\n228. 0.15616997476928\n229. 0.144639317821713\n230. -2.13589249188865\n231. 1.38000225971493\n232. -1.64571500944935\n233. -0.350625215261919\n234. -0.298120023863699\n235. -0.408351732627366\n236. 0.341265568348934\n237. -1.1586657498936\n238. 1.60464806652853\n239. 0.176826582607288\n240. 0.904245450641328\n241. -0.644184192498819\n242. 0.408392381545024\n243. -0.561916640844269\n244. -0.676296868216586\n245. 0.144429172737175\n246. 0.624872559402806\n247. -1.02663105206912\n248. 0.717504571224808\n249. -0.715600696806326\n250. -0.249892253698099\n251. 0.968193608180057\n252. -0.549223525202248\n253. 0.125096728971635\n254. -0.236164512029828\n255. -0.0432283965075839\n256. 0.841018025205719\n257. 0.935485777451835\n258. -0.0673417797681394\n259. 1.34058337929368\n260. -0.94987894204516\n261. -0.311649425723984\n262. -0.132976768735049\n263. 0.720067403439722\n264. -0.11535310353148\n265. 0.524883441103795\n266. 0.615910265946243\n267. 0.899236284314325\n268. 0.463824311198001\n269. 0.886643465852954\n270. -0.757821124492292\n271. -0.291296665601701\n272. 0.399461136802808\n273. -0.441316639226426\n274. 0.505812829455352\n275. -0.248003648105123\n276. -0.946948768811056\n277. -0.361160727704715\n278. -0.764284008746748\n279. -0.41206018803097\n280. 0.288360600652346\n281. -0.750810442494489\n282. -0.254468078625007\n283. -1.50218980337831\n284. -0.163310355804175\n285. 0.588561693982085\n286. 0.369177593353017\n287. -0.180806184607647\n288. 0.767318435144036\n289. 0.232436910416811\n290. -0.305392395934866\n291. 1.36042817575474\n292. -0.779406864876399\n293. -1.19543603834664\n294. 0.601954683792871\n295. 1.61332483402266\n296. -0.911457798650316\n297. -0.0108538511024813\n298. 1.00322362061648\n299. -1.66776722055578\n300. 0.926708156500203\n301. 0.316613833342232\n302. 0.36307344151907\n303. -0.848985258412963\n304. -0.045900355842822\n305. 0.699807029512603\n306. 0.670930704753396\n307. 0.747717263174528\n308. -1.26558617362577\n309. 1.45773102292554\n310. 0.0856797543498194\n311. 0.587607751881637\n312. -0.346292985382676\n313. -0.795267760817528\n314. -1.00109717028655\n315. -0.293160438053027\n316. 0.810199667823475\n317. 1.84456726671247\n318. -1.6598301758156\n319. -0.319559173249119\n320. -1.23417265828795\n321. -1.06928397871608\n322. 0.254688022152829\n323. -0.964443546111326\n324. -0.744870576523281\n325. 1.31356428426846\n326. 0.109292689355613\n327. 0.15632657002152\n328. -0.560934022698006\n329. 1.37753061898822\n330. -0.739087510321392\n331. 0.431338215502984\n332. 0.925959665373708\n333. -0.985049371764452\n334. -0.807983402832432\n335. -0.321637419546169\n336. 0.246342343571332\n337. 0.188852804271405\n338. -0.526752545531557\n339. 1.26560944024245\n340. -0.848701210304458\n341. -0.231175627100421\n342. 0.205595434657498\n343. -1.52967092781758\n344. 1.88796616886602\n345. -0.674089159318319\n346. -0.720920925437182\n347. -1.37476439941088\n348. -0.673948779656739\n349. 0.413498837678694\n350. -0.953356933502289\n351. -0.712878737321251\n352. -0.645625584334318\n353. 0.65698335661185\n354. 0.332823424411556\n355. 0.824499501208224\n356. -2.47818303865282\n357. -0.0565099824563386\n358. -0.277729484830605\n359. 1.04196365476518\n360. -1.49907523359584\n361. -0.106446804648631\n362. 0.603565944716699\n363. -1.20082613745065\n364. 0.34761533800723\n365. 0.839751406498873\n366. -0.921265783300224\n367. 0.0667592141036352\n368. -0.129448406344101\n369. 0.438027962436474\n370. -0.948026816598753\n371. 0.391051397679863\n372. -0.107764375125618\n373. 0.262360887064151\n374. 0.20494528883771\n375. 0.881384477382213\n376. -0.398500991665301\n377. -0.262975250216534\n378. 1.0685807899044\n379. -0.637842594157145\n380. -1.48385184843436\n381. -0.175861148749322\n382. 1.02731755699761\n383. -1.72180063897249\n384. -0.82286970007884\n385. -0.883477628966077\n386. 1.28704209816118\n387. -1.31228165062984\n388. -0.571620267494027\n389. 1.18402131287979\n390. -1.68620242384711\n391. -1.38760499972523\n392. -0.714399954172373\n393. -0.606808915790383\n394. -0.258497817084373\n395. -1.25470960231148\n396. 0.397663022286196\n397. -0.159737146630274\n398. 1.6871331127624\n399. -0.369313718840147\n400. 0.787083819815713\n401. -0.925153238507452\n\n\n",
            "text/latex": "\\begin{enumerate*}\n\\item 0.376972124936433\n\\item 0.301548373935665\n\\item -1.0980231706536\n\\item -1.13040590360378\n\\item -2.79653431987176\n\\item 0.720573498411587\n\\item 0.93912102300901\n\\item -0.229377746707471\n\\item 1.75913134696347\n\\item 0.117366786802848\n\\item -0.853122822287008\n\\item 0.909259181618213\n\\item 1.19637295955276\n\\item -0.371583903741348\n\\item -0.123260233287436\n\\item 1.80004311672545\n\\item 1.70399587729432\n\\item -3.03876460529759\n\\item -2.28897494991878\n\\item 0.0583034949929225\n\\item 1.09818265352131\n\\item 0.318220322390854\n\\item -0.0731475581637693\n\\item 0.834268741278827\n\\item 0.198750636733429\n\\item 1.29784138432631\n\\item 0.936718306241348\n\\item -0.147433193833294\n\\item 0.110431994640128\n\\item -0.812504663900505\n\\item -0.743702167768748\n\\item 1.09534507180741\n\\item 0.38811846676708\n\\item 0.290627670295127\n\\item -0.285598287083935\n\\item 0.0760147178373681\n\\item -0.560298603759627\n\\item 0.447188372143361\n\\item 0.908501134499943\n\\item -0.505059597708343\n\\item -0.301004012157305\n\\item -0.726035976548133\n\\item -1.18007702699501\n\\item 0.253074712637114\n\\item -0.370711296884049\n\\item 0.0221795637601637\n\\item 0.660044122429767\n\\item 0.48879363533552\n\\item -0.188789916535184\n\\item 0.601359521079468\n\\item -0.673760052798442\n\\item 0.476050240589567\n\\item 0.11875322760149\n\\item 0.121226282897226\n\\item -0.186046794338354\n\\item -1.32827118862704\n\\item -0.566922950886732\n\\item 0.578833932915478\n\\item 1.90903723141847\n\\item 0.250757042672234\n\\item -1.59831505850908\n\\item 0.955235375464122\n\\item 0.368644616042278\n\\item 0.922919067503503\n\\item -0.205521345710334\n\\item 0.092966700547165\n\\item 0.168262180233182\n\\item 0.795839125287755\n\\item 1.64600560721094\n\\item -1.71692431635025\n\\item -0.318343105944291\n\\item -0.904139971986906\n\\item -0.703992796667782\n\\item -1.77809946183924\n\\item -0.722255162624973\n\\item 0.046154209553832\n\\item 0.243658020687582\n\\item 0.628331305782283\n\\item -0.0246385822796227\n\\item 0.177210257260106\n\\item -1.02441476674678\n\\item -1.88905666491974\n\\item 1.09395160103067\n\\item 1.84616702732198\n\\item 0.521032673520017\n\\item -1.53296210764592\n\\item -1.93936496927842\n\\item 0.486916538104755\n\\item 1.24523669065827\n\\item -0.217273426334712\n\\item -0.779593114501295\n\\item 0.348874499707459\n\\item 0.681724250015865\n\\item -0.531461387381673\n\\item -0.677393421473375\n\\item -1.72878394060979\n\\item -0.991260991589561\n\\item -0.585505561701735\n\\item 0.38352174799264\n\\item 0.746664919683157\n\\item -0.928420911757998\n\\item -0.338176296656827\n\\item 1.54511401517901\n\\item 0.266508877832155\n\\item 0.299533932427615\n\\item -0.322802019550316\n\\item 1.43534743310469\n\\item 1.00652720383307\n\\item -1.71941363621868\n\\item 0.298920461719989\n\\item -0.82472563598933\n\\item -1.19958983276379\n\\item -1.27638711730102\n\\item -0.123178066690284\n\\item -0.312282974901684\n\\item 0.367439225093845\n\\item 1.26943926051528\n\\item -2.26485383914805\n\\item -1.28984990955812\n\\item 0.187885938135046\n\\item 0.751642855208785\n\\item 1.78468133578688\n\\item 1.50827173622253\n\\item -0.953161708543949\n\\item 0.103422740369036\n\\item -0.605560497823519\n\\item -0.0976006255037022\n\\item -0.123448106810115\n\\item -1.04467951686894\n\\item -0.0748703402582222\n\\item 1.76013533299962\n\\item -1.43211958660216\n\\item -1.2911915324806\n\\item 0.0151017743611424\n\\item -0.0396805717025272\n\\item -1.97643754960617\n\\item 0.463665664991729\n\\item -0.262212156963516\n\\item -1.1357145060917\n\\item 0.211299481262918\n\\item 0.099427927814971\n\\item -3.05668365235951\n\\item -0.347136653568049\n\\item -1.94662615826816\n\\item -0.216076646275867\n\\item -1.44919647850568\n\\item 0.34543406073839\n\\item 0.18820239366655\n\\item -1.12785278296396\n\\item 0.0504503430104355\n\\item -0.682699091648469\n\\item 0.648053817001419\n\\item 0.610364486575726\n\\item -0.512656933375823\n\\item 0.754405890685482\n\\item 0.188104972368124\n\\item -1.92828563104951\n\\item 1.23582136018889\n\\item 0.328277313420236\n\\item -0.854914489250545\n\\item -1.89568821641824\n\\item 0.846692414981603\n\\item 1.2440251070401\n\\item 0.236259956958241\n\\item -0.760693539302844\n\\item 0.772220957293784\n\\item 0.661556753620863\n\\item -1.59373336735277\n\\item -2.19034691482371\n\\item -1.17675395596723\n\\item 1.05000512774126\n\\item -0.00570307873571396\n\\item -0.27601232711464\n\\item 0.848521292386336\n\\item -1.04893465799499\n\\item -1.733586337092\n\\item -0.195641766782138\n\\item 0.926786956027277\n\\item -0.713463632284985\n\\item -1.2997417149422\n\\item 0.884296403693231\n\\item 1.20064152073226\n\\item -1.17033977647403\n\\item 0.761471885477129\n\\item 0.870090238099867\n\\item -0.727242710372547\n\\item 0.626620728897496\n\\item -1.09144272809162\n\\item -0.516094526339504\n\\item 0.0169339634064014\n\\item 0.660990688881105\n\\item -0.729533119131649\n\\item 0.851377390323856\n\\item -0.396491586249498\n\\item 0.406678577050341\n\\item -1.03855344133331\n\\item -1.25588129819282\n\\item 1.15702172120683\n\\item 1.03867650075342\n\\item -0.0952383502101764\n\\item ⋯\n\\item 1.87887910415359\n\\item -0.367866268487568\n\\item -1.29268861551335\n\\item 0.184061699042906\n\\item 0.604995708118937\n\\item 1.86052414306683\n\\item 0.425669715058102\n\\item 1.19899575713223\n\\item -0.0134581601508863\n\\item 0.805779466120444\n\\item 0.70718075721415\n\\item 0.169702583950107\n\\item -1.22412677258123\n\\item -2.13934668954574\n\\item 0.428906720707015\n\\item -1.47690089590572\n\\item -1.4282203827002\n\\item 1.42166028063166\n\\item -0.420094088998626\n\\item -0.365233265422307\n\\item -1.46412616611978\n\\item 0.00967320309713926\n\\item -1.26188419718869\n\\item 0.60585066398594\n\\item 0.237413247909264\n\\item 1.25979105975697\n\\item 0.15616997476928\n\\item 0.144639317821713\n\\item -2.13589249188865\n\\item 1.38000225971493\n\\item -1.64571500944935\n\\item -0.350625215261919\n\\item -0.298120023863699\n\\item -0.408351732627366\n\\item 0.341265568348934\n\\item -1.1586657498936\n\\item 1.60464806652853\n\\item 0.176826582607288\n\\item 0.904245450641328\n\\item -0.644184192498819\n\\item 0.408392381545024\n\\item -0.561916640844269\n\\item -0.676296868216586\n\\item 0.144429172737175\n\\item 0.624872559402806\n\\item -1.02663105206912\n\\item 0.717504571224808\n\\item -0.715600696806326\n\\item -0.249892253698099\n\\item 0.968193608180057\n\\item -0.549223525202248\n\\item 0.125096728971635\n\\item -0.236164512029828\n\\item -0.0432283965075839\n\\item 0.841018025205719\n\\item 0.935485777451835\n\\item -0.0673417797681394\n\\item 1.34058337929368\n\\item -0.94987894204516\n\\item -0.311649425723984\n\\item -0.132976768735049\n\\item 0.720067403439722\n\\item -0.11535310353148\n\\item 0.524883441103795\n\\item 0.615910265946243\n\\item 0.899236284314325\n\\item 0.463824311198001\n\\item 0.886643465852954\n\\item -0.757821124492292\n\\item -0.291296665601701\n\\item 0.399461136802808\n\\item -0.441316639226426\n\\item 0.505812829455352\n\\item -0.248003648105123\n\\item -0.946948768811056\n\\item -0.361160727704715\n\\item -0.764284008746748\n\\item -0.41206018803097\n\\item 0.288360600652346\n\\item -0.750810442494489\n\\item -0.254468078625007\n\\item -1.50218980337831\n\\item -0.163310355804175\n\\item 0.588561693982085\n\\item 0.369177593353017\n\\item -0.180806184607647\n\\item 0.767318435144036\n\\item 0.232436910416811\n\\item -0.305392395934866\n\\item 1.36042817575474\n\\item -0.779406864876399\n\\item -1.19543603834664\n\\item 0.601954683792871\n\\item 1.61332483402266\n\\item -0.911457798650316\n\\item -0.0108538511024813\n\\item 1.00322362061648\n\\item -1.66776722055578\n\\item 0.926708156500203\n\\item 0.316613833342232\n\\item 0.36307344151907\n\\item -0.848985258412963\n\\item -0.045900355842822\n\\item 0.699807029512603\n\\item 0.670930704753396\n\\item 0.747717263174528\n\\item -1.26558617362577\n\\item 1.45773102292554\n\\item 0.0856797543498194\n\\item 0.587607751881637\n\\item -0.346292985382676\n\\item -0.795267760817528\n\\item -1.00109717028655\n\\item -0.293160438053027\n\\item 0.810199667823475\n\\item 1.84456726671247\n\\item -1.6598301758156\n\\item -0.319559173249119\n\\item -1.23417265828795\n\\item -1.06928397871608\n\\item 0.254688022152829\n\\item -0.964443546111326\n\\item -0.744870576523281\n\\item 1.31356428426846\n\\item 0.109292689355613\n\\item 0.15632657002152\n\\item -0.560934022698006\n\\item 1.37753061898822\n\\item -0.739087510321392\n\\item 0.431338215502984\n\\item 0.925959665373708\n\\item -0.985049371764452\n\\item -0.807983402832432\n\\item -0.321637419546169\n\\item 0.246342343571332\n\\item 0.188852804271405\n\\item -0.526752545531557\n\\item 1.26560944024245\n\\item -0.848701210304458\n\\item -0.231175627100421\n\\item 0.205595434657498\n\\item -1.52967092781758\n\\item 1.88796616886602\n\\item -0.674089159318319\n\\item -0.720920925437182\n\\item -1.37476439941088\n\\item -0.673948779656739\n\\item 0.413498837678694\n\\item -0.953356933502289\n\\item -0.712878737321251\n\\item -0.645625584334318\n\\item 0.65698335661185\n\\item 0.332823424411556\n\\item 0.824499501208224\n\\item -2.47818303865282\n\\item -0.0565099824563386\n\\item -0.277729484830605\n\\item 1.04196365476518\n\\item -1.49907523359584\n\\item -0.106446804648631\n\\item 0.603565944716699\n\\item -1.20082613745065\n\\item 0.34761533800723\n\\item 0.839751406498873\n\\item -0.921265783300224\n\\item 0.0667592141036352\n\\item -0.129448406344101\n\\item 0.438027962436474\n\\item -0.948026816598753\n\\item 0.391051397679863\n\\item -0.107764375125618\n\\item 0.262360887064151\n\\item 0.20494528883771\n\\item 0.881384477382213\n\\item -0.398500991665301\n\\item -0.262975250216534\n\\item 1.0685807899044\n\\item -0.637842594157145\n\\item -1.48385184843436\n\\item -0.175861148749322\n\\item 1.02731755699761\n\\item -1.72180063897249\n\\item -0.82286970007884\n\\item -0.883477628966077\n\\item 1.28704209816118\n\\item -1.31228165062984\n\\item -0.571620267494027\n\\item 1.18402131287979\n\\item -1.68620242384711\n\\item -1.38760499972523\n\\item -0.714399954172373\n\\item -0.606808915790383\n\\item -0.258497817084373\n\\item -1.25470960231148\n\\item 0.397663022286196\n\\item -0.159737146630274\n\\item 1.6871331127624\n\\item -0.369313718840147\n\\item 0.787083819815713\n\\item -0.925153238507452\n\\end{enumerate*}\n",
            "text/plain": [
              "  [1]  0.376972125  0.301548374 -1.098023171 -1.130405904 -2.796534320\n",
              "  [6]  0.720573498  0.939121023 -0.229377747  1.759131347  0.117366787\n",
              " [11] -0.853122822  0.909259182  1.196372960 -0.371583904 -0.123260233\n",
              " [16]  1.800043117  1.703995877 -3.038764605 -2.288974950  0.058303495\n",
              " [21]  1.098182654  0.318220322 -0.073147558  0.834268741  0.198750637\n",
              " [26]  1.297841384  0.936718306 -0.147433194  0.110431995 -0.812504664\n",
              " [31] -0.743702168  1.095345072  0.388118467  0.290627670 -0.285598287\n",
              " [36]  0.076014718 -0.560298604  0.447188372  0.908501134 -0.505059598\n",
              " [41] -0.301004012 -0.726035977 -1.180077027  0.253074713 -0.370711297\n",
              " [46]  0.022179564  0.660044122  0.488793635 -0.188789917  0.601359521\n",
              " [51] -0.673760053  0.476050241  0.118753228  0.121226283 -0.186046794\n",
              " [56] -1.328271189 -0.566922951  0.578833933  1.909037231  0.250757043\n",
              " [61] -1.598315059  0.955235375  0.368644616  0.922919068 -0.205521346\n",
              " [66]  0.092966701  0.168262180  0.795839125  1.646005607 -1.716924316\n",
              " [71] -0.318343106 -0.904139972 -0.703992797 -1.778099462 -0.722255163\n",
              " [76]  0.046154210  0.243658021  0.628331306 -0.024638582  0.177210257\n",
              " [81] -1.024414767 -1.889056665  1.093951601  1.846167027  0.521032674\n",
              " [86] -1.532962108 -1.939364969  0.486916538  1.245236691 -0.217273426\n",
              " [91] -0.779593115  0.348874500  0.681724250 -0.531461387 -0.677393421\n",
              " [96] -1.728783941 -0.991260992 -0.585505562  0.383521748  0.746664920\n",
              "[101] -0.928420912 -0.338176297  1.545114015  0.266508878  0.299533932\n",
              "[106] -0.322802020  1.435347433  1.006527204 -1.719413636  0.298920462\n",
              "[111] -0.824725636 -1.199589833 -1.276387117 -0.123178067 -0.312282975\n",
              "[116]  0.367439225  1.269439261 -2.264853839 -1.289849910  0.187885938\n",
              "[121]  0.751642855  1.784681336  1.508271736 -0.953161709  0.103422740\n",
              "[126] -0.605560498 -0.097600626 -0.123448107 -1.044679517 -0.074870340\n",
              "[131]  1.760135333 -1.432119587 -1.291191532  0.015101774 -0.039680572\n",
              "[136] -1.976437550  0.463665665 -0.262212157 -1.135714506  0.211299481\n",
              "[141]  0.099427928 -3.056683652 -0.347136654 -1.946626158 -0.216076646\n",
              "[146] -1.449196479  0.345434061  0.188202394 -1.127852783  0.050450343\n",
              "[151] -0.682699092  0.648053817  0.610364487 -0.512656933  0.754405891\n",
              "[156]  0.188104972 -1.928285631  1.235821360  0.328277313 -0.854914489\n",
              "[161] -1.895688216  0.846692415  1.244025107  0.236259957 -0.760693539\n",
              "[166]  0.772220957  0.661556754 -1.593733367 -2.190346915 -1.176753956\n",
              "[171]  1.050005128 -0.005703079 -0.276012327  0.848521292 -1.048934658\n",
              "[176] -1.733586337 -0.195641767  0.926786956 -0.713463632 -1.299741715\n",
              "[181]  0.884296404  1.200641521 -1.170339776  0.761471885  0.870090238\n",
              "[186] -0.727242710  0.626620729 -1.091442728 -0.516094526  0.016933963\n",
              "[191]  0.660990689 -0.729533119  0.851377390 -0.396491586  0.406678577\n",
              "[196] -1.038553441 -1.255881298  1.157021721  1.038676501 -0.095238350\n",
              "[201] -1.098293567  0.560354247 -0.253028826 -0.743042912  0.446359483\n",
              "[206]  0.105695458 -1.020131230  0.923959483 -1.105849220 -0.543743767\n",
              "[211]  0.564328438 -1.400062336 -0.140257227 -0.144279321 -0.768024961\n",
              "[216]  0.638247893  1.118718603  0.445859167 -1.908159180 -0.013976084\n",
              "[221]  0.506316456  0.450355908 -1.662524109  1.669814349 -2.606412017\n",
              "[226]  0.797569744  0.486691425  0.679352270  0.138366622  1.694979940\n",
              "[231]  0.044443447  0.031860780  1.595981634  0.132513470 -0.250488099\n",
              "[236] -2.007869054  1.467110509 -0.328111968 -0.794531843 -0.001966592\n",
              "[241] -0.605914074  1.543317408 -1.130233169 -1.268981349 -0.714985307\n",
              "[246]  1.243998073  0.152626608  0.478865156  0.786200597 -1.014418320\n",
              "[251] -1.659458742 -0.195951493  0.560557340 -0.159776422 -1.358666297\n",
              "[256] -1.503450015 -0.097277754  0.967261272 -0.301355047 -2.415218005\n",
              "[261] -1.225755542 -0.624915696 -0.975643477 -2.386713167  0.891844519\n",
              "[266]  0.219182143 -0.844743359 -1.361339387  0.147861385 -2.776647590\n",
              "[271]  0.757798512 -0.815071122  1.050232012 -0.392532410  0.010553532\n",
              "[276]  0.982542661  0.882051994 -2.130501218 -3.111715349 -0.616748946\n",
              "[281]  1.258498886 -0.227339885  0.324269816 -0.691110540 -0.521513270\n",
              "[286]  1.821983512 -0.950082234 -0.573950579  0.916675941 -0.226899176\n",
              "[291]  1.182202984  1.521487102  1.437977258  0.848202895  0.103037738\n",
              "[296] -0.179709305  0.065454492  0.031464085  0.232599884  0.420827386\n",
              "[301] -0.064089820 -0.444804485 -0.227451429 -1.211833044 -0.504110465\n",
              "[306]  0.506541941  0.129626070 -0.508744274 -0.290440967  0.804996380\n",
              "[311]  0.698234567  0.043861983 -2.009618331  0.108587604  0.902152644\n",
              "[316]  1.722595903 -0.326744869  0.809744232 -0.475962999 -1.462078780\n",
              "[321] -2.069704197  1.841708057  0.042215598 -0.975208953 -0.422612098\n",
              "[326] -0.505261901 -1.328623352 -0.753124525 -1.033269914  0.105942840\n",
              "[331]  0.723089401 -1.106627105  0.226105956 -0.157706694  0.143077844\n",
              "[336] -0.645308878 -0.873452175 -0.154068616  0.566110733 -0.430547955\n",
              "[341] -0.314809756 -0.108190265 -0.677640442 -2.045264123  1.651501313\n",
              "[346] -0.650823483  1.106209791 -2.555831741 -1.228208156 -0.121742901\n",
              "[351]  0.680122253 -0.069918542 -0.147343096  0.508787012 -1.918744724\n",
              "[356]  1.006248248 -0.408413407  0.192344493  0.383532239 -0.027867225\n",
              "[361]  0.468777641 -0.643277974 -0.969874305 -1.089046033  1.896568357\n",
              "[366] -0.133319791 -0.637464793  1.141888484 -1.115848398  0.572237412\n",
              "[371] -1.591799923 -1.232320439  1.185887111 -0.621531924  0.635521893\n",
              "[376]  0.445156479  0.018197540 -0.243847008 -0.256180253  0.958500230\n",
              "[381]  1.778931862 -0.726831528 -0.213022096 -1.110106522 -1.944935016\n",
              "[386]  0.325472703  1.046399024 -0.371799115 -0.254347232 -0.278631132\n",
              "[391]  0.185173447 -2.268001789 -0.705729917 -0.202690846 -0.377431359\n",
              "[396]  0.292362544 -0.340095897  0.312682337 -0.183150276 -0.118694793\n",
              "[401]  1.083713626 -0.649629043 -1.361665914 -0.278021567  0.917852353\n",
              "[406] -1.881316030  0.084320041  0.042132064  0.369371694 -0.282545961\n",
              "[411] -1.185350617  0.001909278 -0.290922731 -0.554976530  0.538722441\n",
              "[416] -0.607530998  0.829538861 -1.028604737  1.009804889  0.327657462\n",
              "[421] -0.167261000  0.161301347 -0.870196091 -0.338636164 -0.698575816\n",
              "[426]  0.043314098 -1.651102082  1.553717512  0.627448277 -0.288202465\n",
              "[431] -0.619231383 -1.049460707  1.460968822 -0.526045018 -0.603763753\n",
              "[436]  0.953438236 -0.326810666 -0.174928244 -0.060338938 -0.299170389\n",
              "[441]  0.066282874 -0.788424377 -0.035497276 -0.010709157  1.336372495\n",
              "[446]  0.210465399  0.309150922  1.261489004 -0.540177198  1.230357261\n",
              "[451]  0.546255793 -1.633071600 -0.557525492 -0.359032028 -0.130804245\n",
              "[456] -1.824719458 -0.262764860 -0.501875208  0.328787925 -0.814541464\n",
              "[461] -0.113439825 -1.907963880  1.566451145  0.208683040 -0.944613519\n",
              "[466]  0.688053076 -0.172389243 -0.179589408 -0.227420717  0.661717577\n",
              "[471]  1.410056634 -0.050247439 -1.467969062 -0.120351518 -0.938451949\n",
              "[476]  1.541218088 -0.454929494  0.386983449 -1.560503363 -0.012303664\n",
              "[481] -0.360577138 -0.799755985 -0.003243808  1.206787614 -0.022097775\n",
              "[486]  1.190601241  0.106871912  1.541057471 -0.878105446 -0.420724718\n",
              "[491] -2.662457600 -1.632304555  1.006986180 -1.961584450  1.445417795\n",
              "[496]  0.048237555  0.578647033 -0.697163462 -0.240305539 -0.124634445\n",
              "[501]  0.089483366  0.027681691 -0.054766005  0.100055030  0.514809803\n",
              "[506] -0.489176533 -0.133608326 -0.876563738 -1.325115161 -1.474085141\n",
              "[511]  0.410566715  0.803360025  0.265624111  1.631329717  1.220605678\n",
              "[516]  0.713247402  0.535507226 -0.314506725 -1.701614481 -0.057899842\n",
              "[521] -0.428421790 -0.577490344 -0.268533392 -0.616670710 -0.804567453\n",
              "[526]  0.323049566 -0.149036460 -0.843722235 -0.413386938 -0.118708399\n",
              "[531]  0.908833037 -0.057160218  0.675410709 -0.676768707 -0.287115499\n",
              "[536] -1.255707337  0.589825743 -0.433548330  1.662003962  1.006885349\n",
              "[541] -0.198081925  0.179037076 -1.425486440 -1.220038055 -0.608706967\n",
              "[546]  0.100821553  0.529973930  1.549298504 -0.123452639  0.593737063\n",
              "[551] -0.806541636 -0.494402414  0.609676385  0.395423370  0.915498573\n",
              "[556] -1.303242505 -1.632699011  0.458212668 -1.287830658 -1.520063080\n",
              "[561] -0.665383524  1.922990036 -0.027104596 -0.254295233  0.521770910\n",
              "[566] -1.063023298  0.412290332  0.516387696 -0.375216801 -0.326616717\n",
              "[571] -2.034221846 -0.352522180  1.212660942  0.347439185  0.214392395\n",
              "[576] -0.022007836 -0.486282205 -1.566658155  0.934461578  1.315122393\n",
              "[581]  0.238163850  0.239252579 -1.355661200  0.342297568  0.986316201\n",
              "[586] -0.542898587  0.664734764 -0.169545432  0.026842613  0.487848396\n",
              "[591]  0.330506258 -1.085710774  1.922843824 -0.843683865  0.840079601\n",
              "[596]  0.448690088  1.547980400 -0.151137503  0.445747966  1.807243652\n",
              "[601] -0.847986859  0.122269307  0.875578568 -1.112293003  0.801385694\n",
              "[606]  0.068025883 -1.786047033  0.467907382 -0.074956663  0.259759862\n",
              "[611] -0.496885388 -1.691526648  1.071047055 -0.259077952 -0.346504483\n",
              "[616] -2.116574300 -1.123154644  0.261696922 -1.170288109  0.522876516\n",
              "[621]  1.117782757 -0.215173639 -0.548985826  0.380165403 -0.337116969\n",
              "[626]  1.292908482  0.818192174 -0.019107938 -1.529474469 -0.340003358\n",
              "[631] -1.380967228  1.771411709 -0.183626788  0.671433084 -1.023211230\n",
              "[636] -0.394675120 -1.630604320 -0.334631678 -0.732241586 -0.866445008\n",
              "[641]  0.318403069 -2.264844687  0.430027082 -1.591517342  0.483375521\n",
              "[646] -0.700829885  0.296418639  0.198333471 -0.097177550 -1.318043061\n",
              "[651]  0.438087948 -1.273884599 -0.156393358  1.849406779  1.094682358\n",
              "[656] -0.755703530 -0.690493664  1.459499140 -1.793468062 -0.083156757\n",
              "[661] -0.197066216 -0.119370084 -1.325221002 -0.259202893  0.166115718\n",
              "[666]  0.995041526  0.753924148 -0.212328715 -0.873629457 -1.218425008\n",
              "[671] -1.261998317  0.744282978  0.601424539 -1.373503486  1.324171693\n",
              "[676] -0.048442530 -1.678708521 -0.234440308  0.166626057  0.146355248\n",
              "[681] -0.391663033 -0.439229410  0.710348580 -0.302812836 -0.580319248\n",
              "[686]  0.974255157  0.954748151 -1.162393395 -0.668803798 -1.039724103\n",
              "[691]  0.145627852  1.597186232  0.134875677  1.182015455  0.621120450\n",
              "[696]  0.734745785 -0.392926431  1.654195141 -0.530888303  0.254945224\n",
              "[701]  0.541256206 -0.932593383 -0.539213181  0.008471363  0.671770499\n",
              "[706]  1.625417309 -0.351746674 -0.098016912 -0.536627859 -0.804346022\n",
              "[711] -0.952241148  1.477833901 -1.423949192 -0.428304185 -1.629399914\n",
              "[716]  1.515272023 -0.565129931  0.316898167  0.413228293  1.484289297\n",
              "[721] -0.187745191  0.265401001  0.342340246 -0.060870203 -0.922735365\n",
              "[726]  0.437833065 -1.905052881 -1.095285076 -0.899853429  0.395633908\n",
              "[731] -0.796129951  1.004445172 -0.411600619  1.713001020  0.824532333\n",
              "[736]  0.816860365  1.167121227  1.149171840  1.326912524 -0.720148538\n",
              "[741]  0.639475844 -0.758063120 -3.166124967 -1.819485047  0.792213509\n",
              "[746] -0.120985165  1.194771757  0.824178066  0.952711611 -0.651147519\n",
              "[751] -0.071850910  1.053052993 -1.128844487  0.040844307 -0.551386340\n",
              "[756] -0.807672957 -0.339836957  0.459104671 -2.274496969 -0.815526656\n",
              "[761]  0.364786579 -0.044864157  0.732118951  0.208782016 -0.369937795\n",
              "[766]  0.918172986 -0.832713717  0.303400115  1.878879104 -0.367866268\n",
              "[771] -1.292688616  0.184061699  0.604995708  1.860524143  0.425669715\n",
              "[776]  1.198995757 -0.013458160  0.805779466  0.707180757  0.169702584\n",
              "[781] -1.224126773 -2.139346690  0.428906721 -1.476900896 -1.428220383\n",
              "[786]  1.421660281 -0.420094089 -0.365233265 -1.464126166  0.009673203\n",
              "[791] -1.261884197  0.605850664  0.237413248  1.259791060  0.156169975\n",
              "[796]  0.144639318 -2.135892492  1.380002260 -1.645715009 -0.350625215\n",
              "[801] -0.298120024 -0.408351733  0.341265568 -1.158665750  1.604648067\n",
              "[806]  0.176826583  0.904245451 -0.644184192  0.408392382 -0.561916641\n",
              "[811] -0.676296868  0.144429173  0.624872559 -1.026631052  0.717504571\n",
              "[816] -0.715600697 -0.249892254  0.968193608 -0.549223525  0.125096729\n",
              "[821] -0.236164512 -0.043228397  0.841018025  0.935485777 -0.067341780\n",
              "[826]  1.340583379 -0.949878942 -0.311649426 -0.132976769  0.720067403\n",
              "[831] -0.115353104  0.524883441  0.615910266  0.899236284  0.463824311\n",
              "[836]  0.886643466 -0.757821124 -0.291296666  0.399461137 -0.441316639\n",
              "[841]  0.505812829 -0.248003648 -0.946948769 -0.361160728 -0.764284009\n",
              "[846] -0.412060188  0.288360601 -0.750810442 -0.254468079 -1.502189803\n",
              "[851] -0.163310356  0.588561694  0.369177593 -0.180806185  0.767318435\n",
              "[856]  0.232436910 -0.305392396  1.360428176 -0.779406865 -1.195436038\n",
              "[861]  0.601954684  1.613324834 -0.911457799 -0.010853851  1.003223621\n",
              "[866] -1.667767221  0.926708157  0.316613833  0.363073442 -0.848985258\n",
              "[871] -0.045900356  0.699807030  0.670930705  0.747717263 -1.265586174\n",
              "[876]  1.457731023  0.085679754  0.587607752 -0.346292985 -0.795267761\n",
              "[881] -1.001097170 -0.293160438  0.810199668  1.844567267 -1.659830176\n",
              "[886] -0.319559173 -1.234172658 -1.069283979  0.254688022 -0.964443546\n",
              "[891] -0.744870577  1.313564284  0.109292689  0.156326570 -0.560934023\n",
              "[896]  1.377530619 -0.739087510  0.431338216  0.925959665 -0.985049372\n",
              "[901] -0.807983403 -0.321637420  0.246342344  0.188852804 -0.526752546\n",
              "[906]  1.265609440 -0.848701210 -0.231175627  0.205595435 -1.529670928\n",
              "[911]  1.887966169 -0.674089159 -0.720920925 -1.374764399 -0.673948780\n",
              "[916]  0.413498838 -0.953356934 -0.712878737 -0.645625584  0.656983357\n",
              "[921]  0.332823424  0.824499501 -2.478183039 -0.056509982 -0.277729485\n",
              "[926]  1.041963655 -1.499075234 -0.106446805  0.603565945 -1.200826137\n",
              "[931]  0.347615338  0.839751406 -0.921265783  0.066759214 -0.129448406\n",
              "[936]  0.438027962 -0.948026817  0.391051398 -0.107764375  0.262360887\n",
              "[941]  0.204945289  0.881384477 -0.398500992 -0.262975250  1.068580790\n",
              "[946] -0.637842594 -1.483851848 -0.175861149  1.027317557 -1.721800639\n",
              "[951] -0.822869700 -0.883477629  1.287042098 -1.312281651 -0.571620267\n",
              "[956]  1.184021313 -1.686202424 -1.387605000 -0.714399954 -0.606808916\n",
              "[961] -0.258497817 -1.254709602  0.397663022 -0.159737147  1.687133113\n",
              "[966] -0.369313719  0.787083820 -0.925153239"
            ]
          },
          "metadata": {}
        }
      ]
    },
    {
      "cell_type": "code",
      "source": [
        "#Recordar:\n",
        "!c(T,T,F)"
      ],
      "metadata": {
        "id": "AnzbIPPTaZkb",
        "outputId": "f40ae21b-8129-42d4-fd22-9220478962b5",
        "colab": {
          "base_uri": "https://localhost:8080/",
          "height": 34
        }
      },
      "execution_count": 29,
      "outputs": [
        {
          "output_type": "display_data",
          "data": {
            "text/html": [
              "<style>\n",
              ".list-inline {list-style: none; margin:0; padding: 0}\n",
              ".list-inline>li {display: inline-block}\n",
              ".list-inline>li:not(:last-child)::after {content: \"\\00b7\"; padding: 0 .5ex}\n",
              "</style>\n",
              "<ol class=list-inline><li>FALSE</li><li>FALSE</li><li>TRUE</li></ol>\n"
            ],
            "text/markdown": "1. FALSE\n2. FALSE\n3. TRUE\n\n\n",
            "text/latex": "\\begin{enumerate*}\n\\item FALSE\n\\item FALSE\n\\item TRUE\n\\end{enumerate*}\n",
            "text/plain": [
              "[1] FALSE FALSE  TRUE"
            ]
          },
          "metadata": {}
        }
      ]
    },
    {
      "cell_type": "code",
      "metadata": {
        "id": "ioUJy8UEIgvz",
        "outputId": "c026b90d-596e-450e-800f-44573cd88d9f",
        "colab": {
          "base_uri": "https://localhost:8080/",
          "height": 52
        }
      },
      "source": [
        "#?which, nos gustaría saber en qué posiciones el vector valores, tiene un número entre 2 y 2.4\n",
        "\n",
        "which(valores > 2 & valores < 2.4)\n",
        "\n",
        "#Ej:\n",
        "valores[c(21,83,86)]"
      ],
      "execution_count": 31,
      "outputs": [
        {
          "output_type": "display_data",
          "data": {
            "text/html": [
              "<style>\n",
              ".list-inline {list-style: none; margin:0; padding: 0}\n",
              ".list-inline>li {display: inline-block}\n",
              ".list-inline>li:not(:last-child)::after {content: \"\\00b7\"; padding: 0 .5ex}\n",
              "</style>\n",
              "<ol class=list-inline><li>21</li><li>83</li><li>86</li><li>120</li><li>143</li><li>213</li><li>276</li><li>306</li><li>307</li><li>377</li><li>500</li><li>545</li><li>602</li><li>711</li><li>721</li><li>846</li><li>869</li><li>892</li></ol>\n"
            ],
            "text/markdown": "1. 21\n2. 83\n3. 86\n4. 120\n5. 143\n6. 213\n7. 276\n8. 306\n9. 307\n10. 377\n11. 500\n12. 545\n13. 602\n14. 711\n15. 721\n16. 846\n17. 869\n18. 892\n\n\n",
            "text/latex": "\\begin{enumerate*}\n\\item 21\n\\item 83\n\\item 86\n\\item 120\n\\item 143\n\\item 213\n\\item 276\n\\item 306\n\\item 307\n\\item 377\n\\item 500\n\\item 545\n\\item 602\n\\item 711\n\\item 721\n\\item 846\n\\item 869\n\\item 892\n\\end{enumerate*}\n",
            "text/plain": [
              " [1]  21  83  86 120 143 213 276 306 307 377 500 545 602 711 721 846 869 892"
            ]
          },
          "metadata": {}
        },
        {
          "output_type": "display_data",
          "data": {
            "text/html": [
              "<style>\n",
              ".list-inline {list-style: none; margin:0; padding: 0}\n",
              ".list-inline>li {display: inline-block}\n",
              ".list-inline>li:not(:last-child)::after {content: \"\\00b7\"; padding: 0 .5ex}\n",
              "</style>\n",
              "<ol class=list-inline><li>2.17436525195634</li><li>2.31415330907848</li><li>2.27468130126709</li></ol>\n"
            ],
            "text/markdown": "1. 2.17436525195634\n2. 2.31415330907848\n3. 2.27468130126709\n\n\n",
            "text/latex": "\\begin{enumerate*}\n\\item 2.17436525195634\n\\item 2.31415330907848\n\\item 2.27468130126709\n\\end{enumerate*}\n",
            "text/plain": [
              "[1] 2.174365 2.314153 2.274681"
            ]
          },
          "metadata": {}
        }
      ]
    },
    {
      "cell_type": "code",
      "source": [
        "valores[which(valores > 2 & valores < 2.4)]"
      ],
      "metadata": {
        "id": "U-_GSfQ8bur1",
        "outputId": "10df20bb-5d41-4adf-fe6d-ddab21e380ad",
        "colab": {
          "base_uri": "https://localhost:8080/",
          "height": 69
        }
      },
      "execution_count": 32,
      "outputs": [
        {
          "output_type": "display_data",
          "data": {
            "text/html": [
              "<style>\n",
              ".list-inline {list-style: none; margin:0; padding: 0}\n",
              ".list-inline>li {display: inline-block}\n",
              ".list-inline>li:not(:last-child)::after {content: \"\\00b7\"; padding: 0 .5ex}\n",
              "</style>\n",
              "<ol class=list-inline><li>2.17436525195634</li><li>2.31415330907848</li><li>2.27468130126709</li><li>2.165942198712</li><li>2.19144032262333</li><li>2.20709994901934</li><li>2.23358861339317</li><li>2.32730150918775</li><li>2.2178806526851</li><li>2.06753839791582</li><li>2.29538231184331</li><li>2.21525265505284</li><li>2.20485115211014</li><li>2.29939130160626</li><li>2.17438512587792</li><li>2.0483772484952</li><li>2.06996054100344</li><li>2.10445156017071</li></ol>\n"
            ],
            "text/markdown": "1. 2.17436525195634\n2. 2.31415330907848\n3. 2.27468130126709\n4. 2.165942198712\n5. 2.19144032262333\n6. 2.20709994901934\n7. 2.23358861339317\n8. 2.32730150918775\n9. 2.2178806526851\n10. 2.06753839791582\n11. 2.29538231184331\n12. 2.21525265505284\n13. 2.20485115211014\n14. 2.29939130160626\n15. 2.17438512587792\n16. 2.0483772484952\n17. 2.06996054100344\n18. 2.10445156017071\n\n\n",
            "text/latex": "\\begin{enumerate*}\n\\item 2.17436525195634\n\\item 2.31415330907848\n\\item 2.27468130126709\n\\item 2.165942198712\n\\item 2.19144032262333\n\\item 2.20709994901934\n\\item 2.23358861339317\n\\item 2.32730150918775\n\\item 2.2178806526851\n\\item 2.06753839791582\n\\item 2.29538231184331\n\\item 2.21525265505284\n\\item 2.20485115211014\n\\item 2.29939130160626\n\\item 2.17438512587792\n\\item 2.0483772484952\n\\item 2.06996054100344\n\\item 2.10445156017071\n\\end{enumerate*}\n",
            "text/plain": [
              " [1] 2.174365 2.314153 2.274681 2.165942 2.191440 2.207100 2.233589 2.327302\n",
              " [9] 2.217881 2.067538 2.295382 2.215253 2.204851 2.299391 2.174385 2.048377\n",
              "[17] 2.069961 2.104452"
            ]
          },
          "metadata": {}
        }
      ]
    },
    {
      "cell_type": "code",
      "source": [
        "#Guardar las posiciones y luego referenciarlas\n",
        "pos_buscadas <- which(valores > 2 & valores < 2.4)\n",
        "valores[pos_buscadas]"
      ],
      "metadata": {
        "id": "fp3m-deCbjYE",
        "outputId": "c892f5f1-7fb9-408c-caa0-89c4206cf0dc",
        "colab": {
          "base_uri": "https://localhost:8080/",
          "height": 69
        }
      },
      "execution_count": 33,
      "outputs": [
        {
          "output_type": "display_data",
          "data": {
            "text/html": [
              "<style>\n",
              ".list-inline {list-style: none; margin:0; padding: 0}\n",
              ".list-inline>li {display: inline-block}\n",
              ".list-inline>li:not(:last-child)::after {content: \"\\00b7\"; padding: 0 .5ex}\n",
              "</style>\n",
              "<ol class=list-inline><li>2.17436525195634</li><li>2.31415330907848</li><li>2.27468130126709</li><li>2.165942198712</li><li>2.19144032262333</li><li>2.20709994901934</li><li>2.23358861339317</li><li>2.32730150918775</li><li>2.2178806526851</li><li>2.06753839791582</li><li>2.29538231184331</li><li>2.21525265505284</li><li>2.20485115211014</li><li>2.29939130160626</li><li>2.17438512587792</li><li>2.0483772484952</li><li>2.06996054100344</li><li>2.10445156017071</li></ol>\n"
            ],
            "text/markdown": "1. 2.17436525195634\n2. 2.31415330907848\n3. 2.27468130126709\n4. 2.165942198712\n5. 2.19144032262333\n6. 2.20709994901934\n7. 2.23358861339317\n8. 2.32730150918775\n9. 2.2178806526851\n10. 2.06753839791582\n11. 2.29538231184331\n12. 2.21525265505284\n13. 2.20485115211014\n14. 2.29939130160626\n15. 2.17438512587792\n16. 2.0483772484952\n17. 2.06996054100344\n18. 2.10445156017071\n\n\n",
            "text/latex": "\\begin{enumerate*}\n\\item 2.17436525195634\n\\item 2.31415330907848\n\\item 2.27468130126709\n\\item 2.165942198712\n\\item 2.19144032262333\n\\item 2.20709994901934\n\\item 2.23358861339317\n\\item 2.32730150918775\n\\item 2.2178806526851\n\\item 2.06753839791582\n\\item 2.29538231184331\n\\item 2.21525265505284\n\\item 2.20485115211014\n\\item 2.29939130160626\n\\item 2.17438512587792\n\\item 2.0483772484952\n\\item 2.06996054100344\n\\item 2.10445156017071\n\\end{enumerate*}\n",
            "text/plain": [
              " [1] 2.174365 2.314153 2.274681 2.165942 2.191440 2.207100 2.233589 2.327302\n",
              " [9] 2.217881 2.067538 2.295382 2.215253 2.204851 2.299391 2.174385 2.048377\n",
              "[17] 2.069961 2.104452"
            ]
          },
          "metadata": {}
        }
      ]
    },
    {
      "cell_type": "code",
      "source": [
        "#NOTA:\n",
        "length(valores)\n",
        "length(valores[pos_buscadas]) # 18 valores que cumpln esta condición"
      ],
      "metadata": {
        "id": "vmHIN6X-b6NV",
        "outputId": "0f469fc0-bb1e-4f3e-e42b-5a08417b28ea",
        "colab": {
          "base_uri": "https://localhost:8080/",
          "height": 52
        }
      },
      "execution_count": 35,
      "outputs": [
        {
          "output_type": "display_data",
          "data": {
            "text/html": [
              "1000"
            ],
            "text/markdown": "1000",
            "text/latex": "1000",
            "text/plain": [
              "[1] 1000"
            ]
          },
          "metadata": {}
        },
        {
          "output_type": "display_data",
          "data": {
            "text/html": [
              "18"
            ],
            "text/markdown": "18",
            "text/latex": "18",
            "text/plain": [
              "[1] 18"
            ]
          },
          "metadata": {}
        }
      ]
    },
    {
      "cell_type": "code",
      "source": [
        "#NOTA: Podemos aplicar funciones aritméticas a los vectores\n",
        "sum(valores)\n",
        "mean(valores)\n",
        "max(valores)\n",
        "min(valores)\n",
        "sd(valores)\n",
        "var(valores)"
      ],
      "metadata": {
        "id": "7UK0SxLgcN71",
        "outputId": "49555442-7be5-4823-c7ac-b3a045aab5a6",
        "colab": {
          "base_uri": "https://localhost:8080/",
          "height": 121
        }
      },
      "execution_count": 37,
      "outputs": [
        {
          "output_type": "display_data",
          "data": {
            "text/html": [
              "-26.6779094356214"
            ],
            "text/markdown": "-26.6779094356214",
            "text/latex": "-26.6779094356214",
            "text/plain": [
              "[1] -26.67791"
            ]
          },
          "metadata": {}
        },
        {
          "output_type": "display_data",
          "data": {
            "text/html": [
              "-0.0266779094356214"
            ],
            "text/markdown": "-0.0266779094356214",
            "text/latex": "-0.0266779094356214",
            "text/plain": [
              "[1] -0.02667791"
            ]
          },
          "metadata": {}
        },
        {
          "output_type": "display_data",
          "data": {
            "text/html": [
              "3.70289718936949"
            ],
            "text/markdown": "3.70289718936949",
            "text/latex": "3.70289718936949",
            "text/plain": [
              "[1] 3.702897"
            ]
          },
          "metadata": {}
        },
        {
          "output_type": "display_data",
          "data": {
            "text/html": [
              "-3.1661249674788"
            ],
            "text/markdown": "-3.1661249674788",
            "text/latex": "-3.1661249674788",
            "text/plain": [
              "[1] -3.166125"
            ]
          },
          "metadata": {}
        },
        {
          "output_type": "display_data",
          "data": {
            "text/html": [
              "1.03696530662007"
            ],
            "text/markdown": "1.03696530662007",
            "text/latex": "1.03696530662007",
            "text/plain": [
              "[1] 1.036965"
            ]
          },
          "metadata": {}
        },
        {
          "output_type": "display_data",
          "data": {
            "text/html": [
              "1.07529704713365"
            ],
            "text/markdown": "1.07529704713365",
            "text/latex": "1.07529704713365",
            "text/plain": [
              "[1] 1.075297"
            ]
          },
          "metadata": {}
        }
      ]
    },
    {
      "cell_type": "code",
      "source": [
        "vect <- c(2,3,5,9)\n",
        "vect^2"
      ],
      "metadata": {
        "id": "js88I3pNcgVf",
        "outputId": "2f8da2a8-5987-41e6-95be-2f9bccabd725",
        "colab": {
          "base_uri": "https://localhost:8080/",
          "height": 34
        }
      },
      "execution_count": 38,
      "outputs": [
        {
          "output_type": "display_data",
          "data": {
            "text/html": [
              "<style>\n",
              ".list-inline {list-style: none; margin:0; padding: 0}\n",
              ".list-inline>li {display: inline-block}\n",
              ".list-inline>li:not(:last-child)::after {content: \"\\00b7\"; padding: 0 .5ex}\n",
              "</style>\n",
              "<ol class=list-inline><li>4</li><li>9</li><li>25</li><li>81</li></ol>\n"
            ],
            "text/markdown": "1. 4\n2. 9\n3. 25\n4. 81\n\n\n",
            "text/latex": "\\begin{enumerate*}\n\\item 4\n\\item 9\n\\item 25\n\\item 81\n\\end{enumerate*}\n",
            "text/plain": [
              "[1]  4  9 25 81"
            ]
          },
          "metadata": {}
        }
      ]
    },
    {
      "cell_type": "code",
      "source": [
        "which.max(valores) # OJO: Retorna la posición del primer máximo.\n",
        "valores[715]"
      ],
      "metadata": {
        "id": "9ZFYX59rcpeI",
        "outputId": "0298d71f-959b-4498-bc86-9fbf3eb6bfe2",
        "colab": {
          "base_uri": "https://localhost:8080/",
          "height": 52
        }
      },
      "execution_count": 40,
      "outputs": [
        {
          "output_type": "display_data",
          "data": {
            "text/html": [
              "715"
            ],
            "text/markdown": "715",
            "text/latex": "715",
            "text/plain": [
              "[1] 715"
            ]
          },
          "metadata": {}
        },
        {
          "output_type": "display_data",
          "data": {
            "text/html": [
              "3.70289718936949"
            ],
            "text/markdown": "3.70289718936949",
            "text/latex": "3.70289718936949",
            "text/plain": [
              "[1] 3.702897"
            ]
          },
          "metadata": {}
        }
      ]
    },
    {
      "cell_type": "code",
      "source": [
        "ej2 <- c(1,2,7,5,3,7)\n",
        "which.max(ej2)# Este vector alcanza su maximo en las pos 3  y 6\n",
        "\n"
      ],
      "metadata": {
        "id": "JFJwOW_Ac6w1",
        "outputId": "72f492cf-d74d-411d-f9f7-a8bb91bf2de2",
        "colab": {
          "base_uri": "https://localhost:8080/",
          "height": 34
        }
      },
      "execution_count": 42,
      "outputs": [
        {
          "output_type": "display_data",
          "data": {
            "text/html": [
              "3"
            ],
            "text/markdown": "3",
            "text/latex": "3",
            "text/plain": [
              "[1] 3"
            ]
          },
          "metadata": {}
        }
      ]
    },
    {
      "cell_type": "code",
      "source": [
        "#Considerando el uso de las funciones which() y max() ¿Còmo podríamos obtener las dos posiciones?\n",
        "# la pregunta a \"programar\" es ¿Dónde el vector ej2 es igual al máximo de ej2?\n",
        "which(ej2 == max(ej2))"
      ],
      "metadata": {
        "id": "TTTfFZ_XdO2Y",
        "outputId": "ec66960e-daa8-496f-9883-df52d1b42bb6",
        "colab": {
          "base_uri": "https://localhost:8080/",
          "height": 34
        }
      },
      "execution_count": 44,
      "outputs": [
        {
          "output_type": "display_data",
          "data": {
            "text/html": [
              "<style>\n",
              ".list-inline {list-style: none; margin:0; padding: 0}\n",
              ".list-inline>li {display: inline-block}\n",
              ".list-inline>li:not(:last-child)::after {content: \"\\00b7\"; padding: 0 .5ex}\n",
              "</style>\n",
              "<ol class=list-inline><li>3</li><li>6</li></ol>\n"
            ],
            "text/markdown": "1. 3\n2. 6\n\n\n",
            "text/latex": "\\begin{enumerate*}\n\\item 3\n\\item 6\n\\end{enumerate*}\n",
            "text/plain": [
              "[1] 3 6"
            ]
          },
          "metadata": {}
        }
      ]
    },
    {
      "cell_type": "code",
      "metadata": {
        "id": "_8-SMxfWIgv0",
        "outputId": "15f6d7de-872c-406e-daab-111c2411a4af",
        "colab": {
          "base_uri": "https://localhost:8080/",
          "height": 34
        }
      },
      "source": [
        "# Operador %in%\n",
        "# vector_a %in% vector_b (qué elementos del vector a están en el vector b)\n",
        "# retorna un  vector de TRUE's y FALSE's del largo del primer vector(a) (izquierda)\n",
        "c(1,3,5,7) %in% c(8,7,9,1)"
      ],
      "execution_count": 47,
      "outputs": [
        {
          "output_type": "display_data",
          "data": {
            "text/html": [
              "<style>\n",
              ".list-inline {list-style: none; margin:0; padding: 0}\n",
              ".list-inline>li {display: inline-block}\n",
              ".list-inline>li:not(:last-child)::after {content: \"\\00b7\"; padding: 0 .5ex}\n",
              "</style>\n",
              "<ol class=list-inline><li>TRUE</li><li>FALSE</li><li>FALSE</li><li>TRUE</li></ol>\n"
            ],
            "text/markdown": "1. TRUE\n2. FALSE\n3. FALSE\n4. TRUE\n\n\n",
            "text/latex": "\\begin{enumerate*}\n\\item TRUE\n\\item FALSE\n\\item FALSE\n\\item TRUE\n\\end{enumerate*}\n",
            "text/plain": [
              "[1]  TRUE FALSE FALSE  TRUE"
            ]
          },
          "metadata": {}
        }
      ]
    },
    {
      "cell_type": "code",
      "metadata": {
        "id": "s9bYOQ4GIgv2",
        "outputId": "3294dd48-c052-444d-ecaa-cf430137ceb7",
        "colab": {
          "base_uri": "https://localhost:8080/",
          "height": 52
        }
      },
      "source": [
        "# podemos utilizar la función all() para evaluar si todos los elementos de un vector son TRUE.\n",
        "all(c(T,F,T))\n",
        "all(c(T,T,T))"
      ],
      "execution_count": 49,
      "outputs": [
        {
          "output_type": "display_data",
          "data": {
            "text/html": [
              "FALSE"
            ],
            "text/markdown": "FALSE",
            "text/latex": "FALSE",
            "text/plain": [
              "[1] FALSE"
            ]
          },
          "metadata": {}
        },
        {
          "output_type": "display_data",
          "data": {
            "text/html": [
              "TRUE"
            ],
            "text/markdown": "TRUE",
            "text/latex": "TRUE",
            "text/plain": [
              "[1] TRUE"
            ]
          },
          "metadata": {}
        }
      ]
    },
    {
      "cell_type": "code",
      "metadata": {
        "id": "Wd-mSv3PIgv4",
        "outputId": "4fdd242c-1d7f-4c27-80f3-19ca399eb1ca",
        "colab": {
          "base_uri": "https://localhost:8080/",
          "height": 34
        }
      },
      "source": [
        "# si quisiéramos evaluar que todos los elementos de la izq. estén en la derecha,\n",
        "# podemos utilizar la función all().\n",
        "all(c(1,3,5,7) %in% c(8,7,9,1))"
      ],
      "execution_count": 50,
      "outputs": [
        {
          "output_type": "display_data",
          "data": {
            "text/html": [
              "FALSE"
            ],
            "text/markdown": "FALSE",
            "text/latex": "FALSE",
            "text/plain": [
              "[1] FALSE"
            ]
          },
          "metadata": {}
        }
      ]
    },
    {
      "cell_type": "code",
      "metadata": {
        "id": "1YGnzt1zIgv7",
        "outputId": "604e7334-4fe2-49bb-f156-e9599900f1e2",
        "colab": {
          "base_uri": "https://localhost:8080/",
          "height": 69
        }
      },
      "source": [
        "# aritmética con vectores\n",
        "# operación de vectores de igual largo\n",
        "c(1,3,5,7) + c(8,7,9,1)\n",
        "c(1,3,5,7) * c(8,7,9,1)\n",
        "c(1,3,5,7) - c(8,7,9,1)"
      ],
      "execution_count": 53,
      "outputs": [
        {
          "output_type": "display_data",
          "data": {
            "text/html": [
              "<style>\n",
              ".list-inline {list-style: none; margin:0; padding: 0}\n",
              ".list-inline>li {display: inline-block}\n",
              ".list-inline>li:not(:last-child)::after {content: \"\\00b7\"; padding: 0 .5ex}\n",
              "</style>\n",
              "<ol class=list-inline><li>9</li><li>10</li><li>14</li><li>8</li></ol>\n"
            ],
            "text/markdown": "1. 9\n2. 10\n3. 14\n4. 8\n\n\n",
            "text/latex": "\\begin{enumerate*}\n\\item 9\n\\item 10\n\\item 14\n\\item 8\n\\end{enumerate*}\n",
            "text/plain": [
              "[1]  9 10 14  8"
            ]
          },
          "metadata": {}
        },
        {
          "output_type": "display_data",
          "data": {
            "text/html": [
              "<style>\n",
              ".list-inline {list-style: none; margin:0; padding: 0}\n",
              ".list-inline>li {display: inline-block}\n",
              ".list-inline>li:not(:last-child)::after {content: \"\\00b7\"; padding: 0 .5ex}\n",
              "</style>\n",
              "<ol class=list-inline><li>8</li><li>21</li><li>45</li><li>7</li></ol>\n"
            ],
            "text/markdown": "1. 8\n2. 21\n3. 45\n4. 7\n\n\n",
            "text/latex": "\\begin{enumerate*}\n\\item 8\n\\item 21\n\\item 45\n\\item 7\n\\end{enumerate*}\n",
            "text/plain": [
              "[1]  8 21 45  7"
            ]
          },
          "metadata": {}
        },
        {
          "output_type": "display_data",
          "data": {
            "text/html": [
              "<style>\n",
              ".list-inline {list-style: none; margin:0; padding: 0}\n",
              ".list-inline>li {display: inline-block}\n",
              ".list-inline>li:not(:last-child)::after {content: \"\\00b7\"; padding: 0 .5ex}\n",
              "</style>\n",
              "<ol class=list-inline><li>-7</li><li>-4</li><li>-4</li><li>6</li></ol>\n"
            ],
            "text/markdown": "1. -7\n2. -4\n3. -4\n4. 6\n\n\n",
            "text/latex": "\\begin{enumerate*}\n\\item -7\n\\item -4\n\\item -4\n\\item 6\n\\end{enumerate*}\n",
            "text/plain": [
              "[1] -7 -4 -4  6"
            ]
          },
          "metadata": {}
        }
      ]
    },
    {
      "cell_type": "code",
      "metadata": {
        "id": "Bw8lX76XIgv8",
        "outputId": "7166d4d7-72b1-4204-e210-001ab4ef6f1b",
        "colab": {
          "base_uri": "https://localhost:8080/",
          "height": 52
        }
      },
      "source": [
        "#ponderaciones por escalares\n",
        "c(1,3,5,7)*2\n",
        "c(1,3,5,7) + 1"
      ],
      "execution_count": 55,
      "outputs": [
        {
          "output_type": "display_data",
          "data": {
            "text/html": [
              "<style>\n",
              ".list-inline {list-style: none; margin:0; padding: 0}\n",
              ".list-inline>li {display: inline-block}\n",
              ".list-inline>li:not(:last-child)::after {content: \"\\00b7\"; padding: 0 .5ex}\n",
              "</style>\n",
              "<ol class=list-inline><li>2</li><li>6</li><li>10</li><li>14</li></ol>\n"
            ],
            "text/markdown": "1. 2\n2. 6\n3. 10\n4. 14\n\n\n",
            "text/latex": "\\begin{enumerate*}\n\\item 2\n\\item 6\n\\item 10\n\\item 14\n\\end{enumerate*}\n",
            "text/plain": [
              "[1]  2  6 10 14"
            ]
          },
          "metadata": {}
        },
        {
          "output_type": "display_data",
          "data": {
            "text/html": [
              "<style>\n",
              ".list-inline {list-style: none; margin:0; padding: 0}\n",
              ".list-inline>li {display: inline-block}\n",
              ".list-inline>li:not(:last-child)::after {content: \"\\00b7\"; padding: 0 .5ex}\n",
              "</style>\n",
              "<ol class=list-inline><li>2</li><li>4</li><li>6</li><li>8</li></ol>\n"
            ],
            "text/markdown": "1. 2\n2. 4\n3. 6\n4. 8\n\n\n",
            "text/latex": "\\begin{enumerate*}\n\\item 2\n\\item 4\n\\item 6\n\\item 8\n\\end{enumerate*}\n",
            "text/plain": [
              "[1] 2 4 6 8"
            ]
          },
          "metadata": {}
        }
      ]
    },
    {
      "cell_type": "code",
      "metadata": {
        "id": "syufc9_OIgv_",
        "outputId": "333cc105-6494-499a-bb90-216a35181e6c",
        "colab": {
          "base_uri": "https://localhost:8080/",
          "height": 34
        }
      },
      "source": [
        "#CUIDADO: Si se operan vectores de dstinto largo se reciclan los valores del vector más pequeño\n",
        "c(1,3,5,7) + c(10,11)"
      ],
      "execution_count": 56,
      "outputs": [
        {
          "output_type": "display_data",
          "data": {
            "text/html": [
              "<style>\n",
              ".list-inline {list-style: none; margin:0; padding: 0}\n",
              ".list-inline>li {display: inline-block}\n",
              ".list-inline>li:not(:last-child)::after {content: \"\\00b7\"; padding: 0 .5ex}\n",
              "</style>\n",
              "<ol class=list-inline><li>11</li><li>14</li><li>15</li><li>18</li></ol>\n"
            ],
            "text/markdown": "1. 11\n2. 14\n3. 15\n4. 18\n\n\n",
            "text/latex": "\\begin{enumerate*}\n\\item 11\n\\item 14\n\\item 15\n\\item 18\n\\end{enumerate*}\n",
            "text/plain": [
              "[1] 11 14 15 18"
            ]
          },
          "metadata": {}
        }
      ]
    },
    {
      "cell_type": "code",
      "source": [
        "c(1,3,5,7) + c(10,11,1)"
      ],
      "metadata": {
        "id": "pKBicablhQYk",
        "outputId": "6fca07e8-e50a-4d12-b699-13ddd7eedc81",
        "colab": {
          "base_uri": "https://localhost:8080/",
          "height": 69
        }
      },
      "execution_count": 58,
      "outputs": [
        {
          "output_type": "stream",
          "name": "stderr",
          "text": [
            "Warning message in c(1, 3, 5, 7) + c(10, 11, 1):\n",
            "“longer object length is not a multiple of shorter object length”\n"
          ]
        },
        {
          "output_type": "display_data",
          "data": {
            "text/html": [
              "<style>\n",
              ".list-inline {list-style: none; margin:0; padding: 0}\n",
              ".list-inline>li {display: inline-block}\n",
              ".list-inline>li:not(:last-child)::after {content: \"\\00b7\"; padding: 0 .5ex}\n",
              "</style>\n",
              "<ol class=list-inline><li>11</li><li>14</li><li>6</li><li>17</li></ol>\n"
            ],
            "text/markdown": "1. 11\n2. 14\n3. 6\n4. 17\n\n\n",
            "text/latex": "\\begin{enumerate*}\n\\item 11\n\\item 14\n\\item 6\n\\item 17\n\\end{enumerate*}\n",
            "text/plain": [
              "[1] 11 14  6 17"
            ]
          },
          "metadata": {}
        }
      ]
    },
    {
      "cell_type": "markdown",
      "metadata": {
        "id": "LIr-IFowIgwD"
      },
      "source": [
        "**Secuencias**\n",
        "\n",
        "En R es posible generar de manera rápida y sencilla algunas secuencias numéricas y almacenarlas en un vector.\n",
        "\n",
        "Ejemplo de estas funciones son :\n",
        "\n",
        "    rep()\n",
        "    seq()\n",
        "    \n",
        "Más adelante veremos como generar números aleatorios siguiendo alguna función de distribución de interés.\n",
        "\n"
      ]
    },
    {
      "cell_type": "code",
      "source": [
        "-5:10"
      ],
      "metadata": {
        "id": "yCcofLIahrCO",
        "outputId": "b6b2c982-62f0-4dcd-f0b8-43e7bdfc1a4e",
        "colab": {
          "base_uri": "https://localhost:8080/",
          "height": 34
        }
      },
      "execution_count": 59,
      "outputs": [
        {
          "output_type": "display_data",
          "data": {
            "text/html": [
              "<style>\n",
              ".list-inline {list-style: none; margin:0; padding: 0}\n",
              ".list-inline>li {display: inline-block}\n",
              ".list-inline>li:not(:last-child)::after {content: \"\\00b7\"; padding: 0 .5ex}\n",
              "</style>\n",
              "<ol class=list-inline><li>-5</li><li>-4</li><li>-3</li><li>-2</li><li>-1</li><li>0</li><li>1</li><li>2</li><li>3</li><li>4</li><li>5</li><li>6</li><li>7</li><li>8</li><li>9</li><li>10</li></ol>\n"
            ],
            "text/markdown": "1. -5\n2. -4\n3. -3\n4. -2\n5. -1\n6. 0\n7. 1\n8. 2\n9. 3\n10. 4\n11. 5\n12. 6\n13. 7\n14. 8\n15. 9\n16. 10\n\n\n",
            "text/latex": "\\begin{enumerate*}\n\\item -5\n\\item -4\n\\item -3\n\\item -2\n\\item -1\n\\item 0\n\\item 1\n\\item 2\n\\item 3\n\\item 4\n\\item 5\n\\item 6\n\\item 7\n\\item 8\n\\item 9\n\\item 10\n\\end{enumerate*}\n",
            "text/plain": [
              " [1] -5 -4 -3 -2 -1  0  1  2  3  4  5  6  7  8  9 10"
            ]
          },
          "metadata": {}
        }
      ]
    },
    {
      "cell_type": "code",
      "metadata": {
        "id": "wk0fB_gWIgwE"
      },
      "source": [
        "# a vimos que fácilmente ppodemos generar vectores de enteros consecutivos vía \":\"\n"
      ],
      "execution_count": null,
      "outputs": []
    },
    {
      "cell_type": "code",
      "metadata": {
        "id": "rG-Q3PmhIgwG"
      },
      "source": [
        "# Ejemplo de secuencia con rep (utilice distintos tipos de datos)\n",
        "?rep\n"
      ],
      "execution_count": 60,
      "outputs": []
    },
    {
      "cell_type": "code",
      "source": [
        "rep(x = 2, times = 3)\n",
        "rep(x = c(1,2,3), times = 3)\n"
      ],
      "metadata": {
        "id": "trjzS1qDich8",
        "outputId": "882dc30d-ef09-4055-8f62-5dbe1dedd003",
        "colab": {
          "base_uri": "https://localhost:8080/",
          "height": 52
        }
      },
      "execution_count": 62,
      "outputs": [
        {
          "output_type": "display_data",
          "data": {
            "text/html": [
              "<style>\n",
              ".list-inline {list-style: none; margin:0; padding: 0}\n",
              ".list-inline>li {display: inline-block}\n",
              ".list-inline>li:not(:last-child)::after {content: \"\\00b7\"; padding: 0 .5ex}\n",
              "</style>\n",
              "<ol class=list-inline><li>2</li><li>2</li><li>2</li></ol>\n"
            ],
            "text/markdown": "1. 2\n2. 2\n3. 2\n\n\n",
            "text/latex": "\\begin{enumerate*}\n\\item 2\n\\item 2\n\\item 2\n\\end{enumerate*}\n",
            "text/plain": [
              "[1] 2 2 2"
            ]
          },
          "metadata": {}
        },
        {
          "output_type": "display_data",
          "data": {
            "text/html": [
              "<style>\n",
              ".list-inline {list-style: none; margin:0; padding: 0}\n",
              ".list-inline>li {display: inline-block}\n",
              ".list-inline>li:not(:last-child)::after {content: \"\\00b7\"; padding: 0 .5ex}\n",
              "</style>\n",
              "<ol class=list-inline><li>1</li><li>2</li><li>3</li><li>1</li><li>2</li><li>3</li><li>1</li><li>2</li><li>3</li></ol>\n"
            ],
            "text/markdown": "1. 1\n2. 2\n3. 3\n4. 1\n5. 2\n6. 3\n7. 1\n8. 2\n9. 3\n\n\n",
            "text/latex": "\\begin{enumerate*}\n\\item 1\n\\item 2\n\\item 3\n\\item 1\n\\item 2\n\\item 3\n\\item 1\n\\item 2\n\\item 3\n\\end{enumerate*}\n",
            "text/plain": [
              "[1] 1 2 3 1 2 3 1 2 3"
            ]
          },
          "metadata": {}
        }
      ]
    },
    {
      "cell_type": "code",
      "source": [
        "#rep(x = ej2, times = 3)"
      ],
      "metadata": {
        "id": "6CSOBqzZi3KI",
        "outputId": "614880c1-8e98-487b-a9b2-966b7f74da43",
        "colab": {
          "base_uri": "https://localhost:8080/",
          "height": 34
        }
      },
      "execution_count": 64,
      "outputs": [
        {
          "output_type": "display_data",
          "data": {
            "text/html": [
              "<style>\n",
              ".list-inline {list-style: none; margin:0; padding: 0}\n",
              ".list-inline>li {display: inline-block}\n",
              ".list-inline>li:not(:last-child)::after {content: \"\\00b7\"; padding: 0 .5ex}\n",
              "</style>\n",
              "<ol class=list-inline><li>1</li><li>2</li><li>7</li><li>5</li><li>3</li><li>7</li><li>1</li><li>2</li><li>7</li><li>5</li><li>3</li><li>7</li><li>1</li><li>2</li><li>7</li><li>5</li><li>3</li><li>7</li></ol>\n"
            ],
            "text/markdown": "1. 1\n2. 2\n3. 7\n4. 5\n5. 3\n6. 7\n7. 1\n8. 2\n9. 7\n10. 5\n11. 3\n12. 7\n13. 1\n14. 2\n15. 7\n16. 5\n17. 3\n18. 7\n\n\n",
            "text/latex": "\\begin{enumerate*}\n\\item 1\n\\item 2\n\\item 7\n\\item 5\n\\item 3\n\\item 7\n\\item 1\n\\item 2\n\\item 7\n\\item 5\n\\item 3\n\\item 7\n\\item 1\n\\item 2\n\\item 7\n\\item 5\n\\item 3\n\\item 7\n\\end{enumerate*}\n",
            "text/plain": [
              " [1] 1 2 7 5 3 7 1 2 7 5 3 7 1 2 7 5 3 7"
            ]
          },
          "metadata": {}
        }
      ]
    },
    {
      "cell_type": "code",
      "source": [
        "times <- 4"
      ],
      "metadata": {
        "id": "Z6_J-0Yaj5QV"
      },
      "execution_count": 75,
      "outputs": []
    },
    {
      "cell_type": "code",
      "metadata": {
        "id": "PpEgoWDXIgwI",
        "outputId": "3216c6e6-1fcd-4cfe-d306-81e5d01c84dd",
        "colab": {
          "base_uri": "https://localhost:8080/",
          "height": 52
        }
      },
      "source": [
        "# podemos controlar el largo del vector resultante con el parámetro length.out\n",
        "rep(x = c(1,2,3), length.out = 11)\n",
        "rep(x = c(1,2,3), times = times, each = 2)"
      ],
      "execution_count": 76,
      "outputs": [
        {
          "output_type": "display_data",
          "data": {
            "text/html": [
              "<style>\n",
              ".list-inline {list-style: none; margin:0; padding: 0}\n",
              ".list-inline>li {display: inline-block}\n",
              ".list-inline>li:not(:last-child)::after {content: \"\\00b7\"; padding: 0 .5ex}\n",
              "</style>\n",
              "<ol class=list-inline><li>1</li><li>2</li><li>3</li><li>1</li><li>2</li><li>3</li><li>1</li><li>2</li><li>3</li><li>1</li><li>2</li></ol>\n"
            ],
            "text/markdown": "1. 1\n2. 2\n3. 3\n4. 1\n5. 2\n6. 3\n7. 1\n8. 2\n9. 3\n10. 1\n11. 2\n\n\n",
            "text/latex": "\\begin{enumerate*}\n\\item 1\n\\item 2\n\\item 3\n\\item 1\n\\item 2\n\\item 3\n\\item 1\n\\item 2\n\\item 3\n\\item 1\n\\item 2\n\\end{enumerate*}\n",
            "text/plain": [
              " [1] 1 2 3 1 2 3 1 2 3 1 2"
            ]
          },
          "metadata": {}
        },
        {
          "output_type": "display_data",
          "data": {
            "text/html": [
              "<style>\n",
              ".list-inline {list-style: none; margin:0; padding: 0}\n",
              ".list-inline>li {display: inline-block}\n",
              ".list-inline>li:not(:last-child)::after {content: \"\\00b7\"; padding: 0 .5ex}\n",
              "</style>\n",
              "<ol class=list-inline><li>1</li><li>1</li><li>2</li><li>2</li><li>3</li><li>3</li><li>1</li><li>1</li><li>2</li><li>2</li><li>3</li><li>3</li><li>1</li><li>1</li><li>2</li><li>2</li><li>3</li><li>3</li><li>1</li><li>1</li><li>2</li><li>2</li><li>3</li><li>3</li></ol>\n"
            ],
            "text/markdown": "1. 1\n2. 1\n3. 2\n4. 2\n5. 3\n6. 3\n7. 1\n8. 1\n9. 2\n10. 2\n11. 3\n12. 3\n13. 1\n14. 1\n15. 2\n16. 2\n17. 3\n18. 3\n19. 1\n20. 1\n21. 2\n22. 2\n23. 3\n24. 3\n\n\n",
            "text/latex": "\\begin{enumerate*}\n\\item 1\n\\item 1\n\\item 2\n\\item 2\n\\item 3\n\\item 3\n\\item 1\n\\item 1\n\\item 2\n\\item 2\n\\item 3\n\\item 3\n\\item 1\n\\item 1\n\\item 2\n\\item 2\n\\item 3\n\\item 3\n\\item 1\n\\item 1\n\\item 2\n\\item 2\n\\item 3\n\\item 3\n\\end{enumerate*}\n",
            "text/plain": [
              " [1] 1 1 2 2 3 3 1 1 2 2 3 3 1 1 2 2 3 3 1 1 2 2 3 3"
            ]
          },
          "metadata": {}
        }
      ]
    },
    {
      "cell_type": "code",
      "metadata": {
        "id": "gGkgGylnIgwK",
        "outputId": "98ea9d79-6f2c-4a0c-c453-2a66adcb6c60",
        "colab": {
          "base_uri": "https://localhost:8080/",
          "height": 434
        }
      },
      "source": [
        "# ejemplo de función seq (utilice argumento by, y otro ejemplo con argumento length.out)\n",
        "seq(from = -1, to = 2, by = 0.2)\n",
        "seq(from = -1, to = 2, length.out = 120)"
      ],
      "execution_count": 79,
      "outputs": [
        {
          "output_type": "display_data",
          "data": {
            "text/html": [
              "<style>\n",
              ".list-inline {list-style: none; margin:0; padding: 0}\n",
              ".list-inline>li {display: inline-block}\n",
              ".list-inline>li:not(:last-child)::after {content: \"\\00b7\"; padding: 0 .5ex}\n",
              "</style>\n",
              "<ol class=list-inline><li>-1</li><li>-0.8</li><li>-0.6</li><li>-0.4</li><li>-0.2</li><li>0</li><li>0.2</li><li>0.4</li><li>0.6</li><li>0.8</li><li>1</li><li>1.2</li><li>1.4</li><li>1.6</li><li>1.8</li><li>2</li></ol>\n"
            ],
            "text/markdown": "1. -1\n2. -0.8\n3. -0.6\n4. -0.4\n5. -0.2\n6. 0\n7. 0.2\n8. 0.4\n9. 0.6\n10. 0.8\n11. 1\n12. 1.2\n13. 1.4\n14. 1.6\n15. 1.8\n16. 2\n\n\n",
            "text/latex": "\\begin{enumerate*}\n\\item -1\n\\item -0.8\n\\item -0.6\n\\item -0.4\n\\item -0.2\n\\item 0\n\\item 0.2\n\\item 0.4\n\\item 0.6\n\\item 0.8\n\\item 1\n\\item 1.2\n\\item 1.4\n\\item 1.6\n\\item 1.8\n\\item 2\n\\end{enumerate*}\n",
            "text/plain": [
              " [1] -1.0 -0.8 -0.6 -0.4 -0.2  0.0  0.2  0.4  0.6  0.8  1.0  1.2  1.4  1.6  1.8\n",
              "[16]  2.0"
            ]
          },
          "metadata": {}
        },
        {
          "output_type": "display_data",
          "data": {
            "text/html": [
              "<style>\n",
              ".list-inline {list-style: none; margin:0; padding: 0}\n",
              ".list-inline>li {display: inline-block}\n",
              ".list-inline>li:not(:last-child)::after {content: \"\\00b7\"; padding: 0 .5ex}\n",
              "</style>\n",
              "<ol class=list-inline><li>-1</li><li>-0.974789915966387</li><li>-0.949579831932773</li><li>-0.92436974789916</li><li>-0.899159663865546</li><li>-0.873949579831933</li><li>-0.848739495798319</li><li>-0.823529411764706</li><li>-0.798319327731092</li><li>-0.773109243697479</li><li>-0.747899159663866</li><li>-0.722689075630252</li><li>-0.697478991596639</li><li>-0.672268907563025</li><li>-0.647058823529412</li><li>-0.621848739495798</li><li>-0.596638655462185</li><li>-0.571428571428571</li><li>-0.546218487394958</li><li>-0.521008403361344</li><li>-0.495798319327731</li><li>-0.470588235294118</li><li>-0.445378151260504</li><li>-0.420168067226891</li><li>-0.394957983193277</li><li>-0.369747899159664</li><li>-0.34453781512605</li><li>-0.319327731092437</li><li>-0.294117647058823</li><li>-0.26890756302521</li><li>-0.243697478991597</li><li>-0.218487394957983</li><li>-0.19327731092437</li><li>-0.168067226890756</li><li>-0.142857142857143</li><li>-0.117647058823529</li><li>-0.092436974789916</li><li>-0.0672268907563025</li><li>-0.042016806722689</li><li>-0.0168067226890756</li><li>0.00840336134453779</li><li>0.0336134453781514</li><li>0.0588235294117647</li><li>0.0840336134453781</li><li>0.109243697478992</li><li>0.134453781512605</li><li>0.159663865546219</li><li>0.184873949579832</li><li>0.210084033613446</li><li>0.235294117647059</li><li>0.260504201680672</li><li>0.285714285714286</li><li>0.310924369747899</li><li>0.336134453781513</li><li>0.361344537815126</li><li>0.386554621848739</li><li>0.411764705882353</li><li>0.436974789915966</li><li>0.46218487394958</li><li>0.487394957983193</li><li>0.512605042016807</li><li>0.53781512605042</li><li>0.563025210084034</li><li>0.588235294117647</li><li>0.613445378151261</li><li>0.638655462184874</li><li>0.663865546218487</li><li>0.689075630252101</li><li>0.714285714285714</li><li>0.739495798319328</li><li>0.764705882352941</li><li>0.789915966386555</li><li>0.815126050420168</li><li>0.840336134453782</li><li>0.865546218487395</li><li>0.890756302521008</li><li>0.915966386554622</li><li>0.941176470588235</li><li>0.966386554621849</li><li>0.991596638655462</li><li>1.01680672268908</li><li>1.04201680672269</li><li>1.0672268907563</li><li>1.09243697478992</li><li>1.11764705882353</li><li>1.14285714285714</li><li>1.16806722689076</li><li>1.19327731092437</li><li>1.21848739495798</li><li>1.2436974789916</li><li>1.26890756302521</li><li>1.29411764705882</li><li>1.31932773109244</li><li>1.34453781512605</li><li>1.36974789915966</li><li>1.39495798319328</li><li>1.42016806722689</li><li>1.4453781512605</li><li>1.47058823529412</li><li>1.49579831932773</li><li>1.52100840336134</li><li>1.54621848739496</li><li>1.57142857142857</li><li>1.59663865546218</li><li>1.6218487394958</li><li>1.64705882352941</li><li>1.67226890756303</li><li>1.69747899159664</li><li>1.72268907563025</li><li>1.74789915966387</li><li>1.77310924369748</li><li>1.79831932773109</li><li>1.82352941176471</li><li>1.84873949579832</li><li>1.87394957983193</li><li>1.89915966386555</li><li>1.92436974789916</li><li>1.94957983193277</li><li>1.97478991596639</li><li>2</li></ol>\n"
            ],
            "text/markdown": "1. -1\n2. -0.974789915966387\n3. -0.949579831932773\n4. -0.92436974789916\n5. -0.899159663865546\n6. -0.873949579831933\n7. -0.848739495798319\n8. -0.823529411764706\n9. -0.798319327731092\n10. -0.773109243697479\n11. -0.747899159663866\n12. -0.722689075630252\n13. -0.697478991596639\n14. -0.672268907563025\n15. -0.647058823529412\n16. -0.621848739495798\n17. -0.596638655462185\n18. -0.571428571428571\n19. -0.546218487394958\n20. -0.521008403361344\n21. -0.495798319327731\n22. -0.470588235294118\n23. -0.445378151260504\n24. -0.420168067226891\n25. -0.394957983193277\n26. -0.369747899159664\n27. -0.34453781512605\n28. -0.319327731092437\n29. -0.294117647058823\n30. -0.26890756302521\n31. -0.243697478991597\n32. -0.218487394957983\n33. -0.19327731092437\n34. -0.168067226890756\n35. -0.142857142857143\n36. -0.117647058823529\n37. -0.092436974789916\n38. -0.0672268907563025\n39. -0.042016806722689\n40. -0.0168067226890756\n41. 0.00840336134453779\n42. 0.0336134453781514\n43. 0.0588235294117647\n44. 0.0840336134453781\n45. 0.109243697478992\n46. 0.134453781512605\n47. 0.159663865546219\n48. 0.184873949579832\n49. 0.210084033613446\n50. 0.235294117647059\n51. 0.260504201680672\n52. 0.285714285714286\n53. 0.310924369747899\n54. 0.336134453781513\n55. 0.361344537815126\n56. 0.386554621848739\n57. 0.411764705882353\n58. 0.436974789915966\n59. 0.46218487394958\n60. 0.487394957983193\n61. 0.512605042016807\n62. 0.53781512605042\n63. 0.563025210084034\n64. 0.588235294117647\n65. 0.613445378151261\n66. 0.638655462184874\n67. 0.663865546218487\n68. 0.689075630252101\n69. 0.714285714285714\n70. 0.739495798319328\n71. 0.764705882352941\n72. 0.789915966386555\n73. 0.815126050420168\n74. 0.840336134453782\n75. 0.865546218487395\n76. 0.890756302521008\n77. 0.915966386554622\n78. 0.941176470588235\n79. 0.966386554621849\n80. 0.991596638655462\n81. 1.01680672268908\n82. 1.04201680672269\n83. 1.0672268907563\n84. 1.09243697478992\n85. 1.11764705882353\n86. 1.14285714285714\n87. 1.16806722689076\n88. 1.19327731092437\n89. 1.21848739495798\n90. 1.2436974789916\n91. 1.26890756302521\n92. 1.29411764705882\n93. 1.31932773109244\n94. 1.34453781512605\n95. 1.36974789915966\n96. 1.39495798319328\n97. 1.42016806722689\n98. 1.4453781512605\n99. 1.47058823529412\n100. 1.49579831932773\n101. 1.52100840336134\n102. 1.54621848739496\n103. 1.57142857142857\n104. 1.59663865546218\n105. 1.6218487394958\n106. 1.64705882352941\n107. 1.67226890756303\n108. 1.69747899159664\n109. 1.72268907563025\n110. 1.74789915966387\n111. 1.77310924369748\n112. 1.79831932773109\n113. 1.82352941176471\n114. 1.84873949579832\n115. 1.87394957983193\n116. 1.89915966386555\n117. 1.92436974789916\n118. 1.94957983193277\n119. 1.97478991596639\n120. 2\n\n\n",
            "text/latex": "\\begin{enumerate*}\n\\item -1\n\\item -0.974789915966387\n\\item -0.949579831932773\n\\item -0.92436974789916\n\\item -0.899159663865546\n\\item -0.873949579831933\n\\item -0.848739495798319\n\\item -0.823529411764706\n\\item -0.798319327731092\n\\item -0.773109243697479\n\\item -0.747899159663866\n\\item -0.722689075630252\n\\item -0.697478991596639\n\\item -0.672268907563025\n\\item -0.647058823529412\n\\item -0.621848739495798\n\\item -0.596638655462185\n\\item -0.571428571428571\n\\item -0.546218487394958\n\\item -0.521008403361344\n\\item -0.495798319327731\n\\item -0.470588235294118\n\\item -0.445378151260504\n\\item -0.420168067226891\n\\item -0.394957983193277\n\\item -0.369747899159664\n\\item -0.34453781512605\n\\item -0.319327731092437\n\\item -0.294117647058823\n\\item -0.26890756302521\n\\item -0.243697478991597\n\\item -0.218487394957983\n\\item -0.19327731092437\n\\item -0.168067226890756\n\\item -0.142857142857143\n\\item -0.117647058823529\n\\item -0.092436974789916\n\\item -0.0672268907563025\n\\item -0.042016806722689\n\\item -0.0168067226890756\n\\item 0.00840336134453779\n\\item 0.0336134453781514\n\\item 0.0588235294117647\n\\item 0.0840336134453781\n\\item 0.109243697478992\n\\item 0.134453781512605\n\\item 0.159663865546219\n\\item 0.184873949579832\n\\item 0.210084033613446\n\\item 0.235294117647059\n\\item 0.260504201680672\n\\item 0.285714285714286\n\\item 0.310924369747899\n\\item 0.336134453781513\n\\item 0.361344537815126\n\\item 0.386554621848739\n\\item 0.411764705882353\n\\item 0.436974789915966\n\\item 0.46218487394958\n\\item 0.487394957983193\n\\item 0.512605042016807\n\\item 0.53781512605042\n\\item 0.563025210084034\n\\item 0.588235294117647\n\\item 0.613445378151261\n\\item 0.638655462184874\n\\item 0.663865546218487\n\\item 0.689075630252101\n\\item 0.714285714285714\n\\item 0.739495798319328\n\\item 0.764705882352941\n\\item 0.789915966386555\n\\item 0.815126050420168\n\\item 0.840336134453782\n\\item 0.865546218487395\n\\item 0.890756302521008\n\\item 0.915966386554622\n\\item 0.941176470588235\n\\item 0.966386554621849\n\\item 0.991596638655462\n\\item 1.01680672268908\n\\item 1.04201680672269\n\\item 1.0672268907563\n\\item 1.09243697478992\n\\item 1.11764705882353\n\\item 1.14285714285714\n\\item 1.16806722689076\n\\item 1.19327731092437\n\\item 1.21848739495798\n\\item 1.2436974789916\n\\item 1.26890756302521\n\\item 1.29411764705882\n\\item 1.31932773109244\n\\item 1.34453781512605\n\\item 1.36974789915966\n\\item 1.39495798319328\n\\item 1.42016806722689\n\\item 1.4453781512605\n\\item 1.47058823529412\n\\item 1.49579831932773\n\\item 1.52100840336134\n\\item 1.54621848739496\n\\item 1.57142857142857\n\\item 1.59663865546218\n\\item 1.6218487394958\n\\item 1.64705882352941\n\\item 1.67226890756303\n\\item 1.69747899159664\n\\item 1.72268907563025\n\\item 1.74789915966387\n\\item 1.77310924369748\n\\item 1.79831932773109\n\\item 1.82352941176471\n\\item 1.84873949579832\n\\item 1.87394957983193\n\\item 1.89915966386555\n\\item 1.92436974789916\n\\item 1.94957983193277\n\\item 1.97478991596639\n\\item 2\n\\end{enumerate*}\n",
            "text/plain": [
              "  [1] -1.000000000 -0.974789916 -0.949579832 -0.924369748 -0.899159664\n",
              "  [6] -0.873949580 -0.848739496 -0.823529412 -0.798319328 -0.773109244\n",
              " [11] -0.747899160 -0.722689076 -0.697478992 -0.672268908 -0.647058824\n",
              " [16] -0.621848739 -0.596638655 -0.571428571 -0.546218487 -0.521008403\n",
              " [21] -0.495798319 -0.470588235 -0.445378151 -0.420168067 -0.394957983\n",
              " [26] -0.369747899 -0.344537815 -0.319327731 -0.294117647 -0.268907563\n",
              " [31] -0.243697479 -0.218487395 -0.193277311 -0.168067227 -0.142857143\n",
              " [36] -0.117647059 -0.092436975 -0.067226891 -0.042016807 -0.016806723\n",
              " [41]  0.008403361  0.033613445  0.058823529  0.084033613  0.109243697\n",
              " [46]  0.134453782  0.159663866  0.184873950  0.210084034  0.235294118\n",
              " [51]  0.260504202  0.285714286  0.310924370  0.336134454  0.361344538\n",
              " [56]  0.386554622  0.411764706  0.436974790  0.462184874  0.487394958\n",
              " [61]  0.512605042  0.537815126  0.563025210  0.588235294  0.613445378\n",
              " [66]  0.638655462  0.663865546  0.689075630  0.714285714  0.739495798\n",
              " [71]  0.764705882  0.789915966  0.815126050  0.840336134  0.865546218\n",
              " [76]  0.890756303  0.915966387  0.941176471  0.966386555  0.991596639\n",
              " [81]  1.016806723  1.042016807  1.067226891  1.092436975  1.117647059\n",
              " [86]  1.142857143  1.168067227  1.193277311  1.218487395  1.243697479\n",
              " [91]  1.268907563  1.294117647  1.319327731  1.344537815  1.369747899\n",
              " [96]  1.394957983  1.420168067  1.445378151  1.470588235  1.495798319\n",
              "[101]  1.521008403  1.546218487  1.571428571  1.596638655  1.621848739\n",
              "[106]  1.647058824  1.672268908  1.697478992  1.722689076  1.747899160\n",
              "[111]  1.773109244  1.798319328  1.823529412  1.848739496  1.873949580\n",
              "[116]  1.899159664  1.924369748  1.949579832  1.974789916  2.000000000"
            ]
          },
          "metadata": {}
        }
      ]
    },
    {
      "cell_type": "code",
      "metadata": {
        "id": "psRswQHBIgwO",
        "outputId": "9fc0f1d0-41b3-4f53-f54a-8020b035a53a",
        "colab": {
          "base_uri": "https://localhost:8080/",
          "height": 607
        }
      },
      "source": [
        "# ejemplo de vector aleatorio siguiendo una determinada distribución\n",
        "# distribución uniforme\n",
        "# distribución normal\n",
        "\n",
        "muestra_norm <- rnorm(200, sd = 2, mean = 5)\n",
        "muestra_norm\n",
        "\n",
        "\n",
        "\n"
      ],
      "execution_count": 81,
      "outputs": [
        {
          "output_type": "display_data",
          "data": {
            "text/html": [
              "<style>\n",
              ".list-inline {list-style: none; margin:0; padding: 0}\n",
              ".list-inline>li {display: inline-block}\n",
              ".list-inline>li:not(:last-child)::after {content: \"\\00b7\"; padding: 0 .5ex}\n",
              "</style>\n",
              "<ol class=list-inline><li>5.74620739696147</li><li>2.52029133719193</li><li>5.94728295823793</li><li>6.42168308276078</li><li>1.16932809232762</li><li>7.69474517368533</li><li>8.57171167844951</li><li>4.27942502508635</li><li>2.35617707468133</li><li>6.65900404117383</li><li>8.25365156929544</li><li>6.82369938207353</li><li>2.7678018376919</li><li>3.0259816393848</li><li>-0.700763565213637</li><li>5.71229901228807</li><li>4.62467379648443</li><li>4.51195135017931</li><li>6.29190733669317</li><li>3.867459605899</li><li>6.16625803905213</li><li>4.57165614832398</li><li>3.49807656655135</li><li>4.81400659531266</li><li>6.11728870476522</li><li>5.47342444565808</li><li>6.76510541422027</li><li>5.62905429462363</li><li>3.94471501299073</li><li>6.68982137869734</li><li>9.45485726349153</li><li>4.02632566591773</li><li>6.06519297331379</li><li>1.84542433875958</li><li>5.38611726115049</li><li>3.82180598992993</li><li>3.18206191602819</li><li>4.51165221220215</li><li>6.25893199523785</li><li>6.18389595142231</li><li>0.289365749030697</li><li>1.99815884085573</li><li>2.32399569713598</li><li>10.5962294207486</li><li>7.37066613808549</li><li>9.09619203711183</li><li>6.75526705792928</li><li>7.25533706930262</li><li>7.81898319092799</li><li>4.45600816922599</li><li>6.19272328387588</li><li>2.44513168371473</li><li>7.12566205216586</li><li>3.89940206376276</li><li>2.98519879476713</li><li>4.64293351137182</li><li>6.42952300857527</li><li>2.72114153913822</li><li>7.41318564725648</li><li>4.77517083816741</li><li>5.98057404886462</li><li>7.00416936158172</li><li>3.62815047451417</li><li>-1.93614016537456</li><li>5.06652610118391</li><li>7.19653258613638</li><li>8.38065132930497</li><li>5.73944571712876</li><li>7.82416184327939</li><li>3.16463330470251</li><li>9.95236069180804</li><li>0.957978273812276</li><li>1.23658742570884</li><li>2.92006876948882</li><li>8.4758713090497</li><li>4.60028069609681</li><li>3.08040113165266</li><li>6.06270819514066</li><li>4.13913501190145</li><li>4.35375710079674</li><li>8.0282258399636</li><li>3.48121257071632</li><li>6.35034594869374</li><li>8.88109773522879</li><li>5.44130701156695</li><li>3.99347135413082</li><li>6.94460064114737</li><li>4.88594519727311</li><li>4.43956972717978</li><li>2.24130519042624</li><li>4.10739046104046</li><li>5.76255028101229</li><li>7.34910801622922</li><li>4.96344864234204</li><li>5.51922129132323</li><li>0.705278367150098</li><li>3.10555483001702</li><li>5.41118350087411</li><li>8.08463320329112</li><li>4.80388529643081</li><li>3.6277643981726</li><li>2.33991705428382</li><li>7.25541347030547</li><li>4.05471061789809</li><li>8.5417862332443</li><li>4.72764120475309</li><li>4.60755775200696</li><li>1.76514763459424</li><li>3.27578880632071</li><li>1.54910248427906</li><li>5.00802557594346</li><li>7.64772813138141</li><li>5.39453099302663</li><li>4.88021761990204</li><li>2.67257517107746</li><li>5.28451634101988</li><li>1.96267757196087</li><li>8.21934687187364</li><li>1.65051961311551</li><li>6.50255869411225</li><li>3.80252831483803</li><li>5.01603018770428</li><li>3.57567287142278</li><li>2.94816408949114</li><li>1.72647351329567</li><li>4.19283872416486</li><li>3.61575110113694</li><li>5.85562250166049</li><li>4.37301121398563</li><li>4.12255499493683</li><li>1.83684593031418</li><li>3.74278779941391</li><li>5.55573146032703</li><li>5.08753606776348</li><li>6.1266040007336</li><li>1.3052500936602</li><li>5.70841230112302</li><li>5.66682390704616</li><li>3.80300442041353</li><li>5.22917454649767</li><li>4.45667030190623</li><li>7.70694380741134</li><li>4.45893476118948</li><li>7.05121479130674</li><li>1.27371864254201</li><li>4.55219165656328</li><li>4.52105738743214</li><li>3.98842838661919</li><li>5.2217577977146</li><li>4.37872029982362</li><li>4.89266072472471</li><li>4.90193400373404</li><li>3.83145644067084</li><li>2.81729505279919</li><li>4.62693990651214</li><li>8.04968737425607</li><li>6.29596361793461</li><li>4.8354922598629</li><li>7.8654756618495</li><li>2.39349620402738</li><li>6.71999453990547</li><li>3.31008340990073</li><li>4.8700314309876</li><li>6.19738573374562</li><li>4.33071418071852</li><li>7.50355761134722</li><li>3.79759561540446</li><li>6.47746143222397</li><li>9.46860497635754</li><li>4.50625954162216</li><li>6.43148703272869</li><li>8.33938687335791</li><li>6.9278068514226</li><li>3.04293367875457</li><li>1.84542297776073</li><li>7.34147689180865</li><li>5.59318706216747</li><li>7.4018487533399</li><li>4.34238818664284</li><li>5.9672901685566</li><li>4.36476813466638</li><li>5.03578032563622</li><li>5.93694594842181</li><li>6.56231004705745</li><li>3.24968334753121</li><li>5.23082896473418</li><li>4.7161969973648</li><li>6.63451749097325</li><li>4.42070991517576</li><li>5.59340676810803</li><li>6.86347148148638</li><li>3.70477528035978</li><li>2.91095450324914</li><li>1.6888988965433</li><li>5.56746994469465</li><li>5.12056177077069</li><li>7.17843899686381</li><li>4.56339227906126</li><li>5.73629497164789</li><li>3.9587173560807</li></ol>\n"
            ],
            "text/markdown": "1. 5.74620739696147\n2. 2.52029133719193\n3. 5.94728295823793\n4. 6.42168308276078\n5. 1.16932809232762\n6. 7.69474517368533\n7. 8.57171167844951\n8. 4.27942502508635\n9. 2.35617707468133\n10. 6.65900404117383\n11. 8.25365156929544\n12. 6.82369938207353\n13. 2.7678018376919\n14. 3.0259816393848\n15. -0.700763565213637\n16. 5.71229901228807\n17. 4.62467379648443\n18. 4.51195135017931\n19. 6.29190733669317\n20. 3.867459605899\n21. 6.16625803905213\n22. 4.57165614832398\n23. 3.49807656655135\n24. 4.81400659531266\n25. 6.11728870476522\n26. 5.47342444565808\n27. 6.76510541422027\n28. 5.62905429462363\n29. 3.94471501299073\n30. 6.68982137869734\n31. 9.45485726349153\n32. 4.02632566591773\n33. 6.06519297331379\n34. 1.84542433875958\n35. 5.38611726115049\n36. 3.82180598992993\n37. 3.18206191602819\n38. 4.51165221220215\n39. 6.25893199523785\n40. 6.18389595142231\n41. 0.289365749030697\n42. 1.99815884085573\n43. 2.32399569713598\n44. 10.5962294207486\n45. 7.37066613808549\n46. 9.09619203711183\n47. 6.75526705792928\n48. 7.25533706930262\n49. 7.81898319092799\n50. 4.45600816922599\n51. 6.19272328387588\n52. 2.44513168371473\n53. 7.12566205216586\n54. 3.89940206376276\n55. 2.98519879476713\n56. 4.64293351137182\n57. 6.42952300857527\n58. 2.72114153913822\n59. 7.41318564725648\n60. 4.77517083816741\n61. 5.98057404886462\n62. 7.00416936158172\n63. 3.62815047451417\n64. -1.93614016537456\n65. 5.06652610118391\n66. 7.19653258613638\n67. 8.38065132930497\n68. 5.73944571712876\n69. 7.82416184327939\n70. 3.16463330470251\n71. 9.95236069180804\n72. 0.957978273812276\n73. 1.23658742570884\n74. 2.92006876948882\n75. 8.4758713090497\n76. 4.60028069609681\n77. 3.08040113165266\n78. 6.06270819514066\n79. 4.13913501190145\n80. 4.35375710079674\n81. 8.0282258399636\n82. 3.48121257071632\n83. 6.35034594869374\n84. 8.88109773522879\n85. 5.44130701156695\n86. 3.99347135413082\n87. 6.94460064114737\n88. 4.88594519727311\n89. 4.43956972717978\n90. 2.24130519042624\n91. 4.10739046104046\n92. 5.76255028101229\n93. 7.34910801622922\n94. 4.96344864234204\n95. 5.51922129132323\n96. 0.705278367150098\n97. 3.10555483001702\n98. 5.41118350087411\n99. 8.08463320329112\n100. 4.80388529643081\n101. 3.6277643981726\n102. 2.33991705428382\n103. 7.25541347030547\n104. 4.05471061789809\n105. 8.5417862332443\n106. 4.72764120475309\n107. 4.60755775200696\n108. 1.76514763459424\n109. 3.27578880632071\n110. 1.54910248427906\n111. 5.00802557594346\n112. 7.64772813138141\n113. 5.39453099302663\n114. 4.88021761990204\n115. 2.67257517107746\n116. 5.28451634101988\n117. 1.96267757196087\n118. 8.21934687187364\n119. 1.65051961311551\n120. 6.50255869411225\n121. 3.80252831483803\n122. 5.01603018770428\n123. 3.57567287142278\n124. 2.94816408949114\n125. 1.72647351329567\n126. 4.19283872416486\n127. 3.61575110113694\n128. 5.85562250166049\n129. 4.37301121398563\n130. 4.12255499493683\n131. 1.83684593031418\n132. 3.74278779941391\n133. 5.55573146032703\n134. 5.08753606776348\n135. 6.1266040007336\n136. 1.3052500936602\n137. 5.70841230112302\n138. 5.66682390704616\n139. 3.80300442041353\n140. 5.22917454649767\n141. 4.45667030190623\n142. 7.70694380741134\n143. 4.45893476118948\n144. 7.05121479130674\n145. 1.27371864254201\n146. 4.55219165656328\n147. 4.52105738743214\n148. 3.98842838661919\n149. 5.2217577977146\n150. 4.37872029982362\n151. 4.89266072472471\n152. 4.90193400373404\n153. 3.83145644067084\n154. 2.81729505279919\n155. 4.62693990651214\n156. 8.04968737425607\n157. 6.29596361793461\n158. 4.8354922598629\n159. 7.8654756618495\n160. 2.39349620402738\n161. 6.71999453990547\n162. 3.31008340990073\n163. 4.8700314309876\n164. 6.19738573374562\n165. 4.33071418071852\n166. 7.50355761134722\n167. 3.79759561540446\n168. 6.47746143222397\n169. 9.46860497635754\n170. 4.50625954162216\n171. 6.43148703272869\n172. 8.33938687335791\n173. 6.9278068514226\n174. 3.04293367875457\n175. 1.84542297776073\n176. 7.34147689180865\n177. 5.59318706216747\n178. 7.4018487533399\n179. 4.34238818664284\n180. 5.9672901685566\n181. 4.36476813466638\n182. 5.03578032563622\n183. 5.93694594842181\n184. 6.56231004705745\n185. 3.24968334753121\n186. 5.23082896473418\n187. 4.7161969973648\n188. 6.63451749097325\n189. 4.42070991517576\n190. 5.59340676810803\n191. 6.86347148148638\n192. 3.70477528035978\n193. 2.91095450324914\n194. 1.6888988965433\n195. 5.56746994469465\n196. 5.12056177077069\n197. 7.17843899686381\n198. 4.56339227906126\n199. 5.73629497164789\n200. 3.9587173560807\n\n\n",
            "text/latex": "\\begin{enumerate*}\n\\item 5.74620739696147\n\\item 2.52029133719193\n\\item 5.94728295823793\n\\item 6.42168308276078\n\\item 1.16932809232762\n\\item 7.69474517368533\n\\item 8.57171167844951\n\\item 4.27942502508635\n\\item 2.35617707468133\n\\item 6.65900404117383\n\\item 8.25365156929544\n\\item 6.82369938207353\n\\item 2.7678018376919\n\\item 3.0259816393848\n\\item -0.700763565213637\n\\item 5.71229901228807\n\\item 4.62467379648443\n\\item 4.51195135017931\n\\item 6.29190733669317\n\\item 3.867459605899\n\\item 6.16625803905213\n\\item 4.57165614832398\n\\item 3.49807656655135\n\\item 4.81400659531266\n\\item 6.11728870476522\n\\item 5.47342444565808\n\\item 6.76510541422027\n\\item 5.62905429462363\n\\item 3.94471501299073\n\\item 6.68982137869734\n\\item 9.45485726349153\n\\item 4.02632566591773\n\\item 6.06519297331379\n\\item 1.84542433875958\n\\item 5.38611726115049\n\\item 3.82180598992993\n\\item 3.18206191602819\n\\item 4.51165221220215\n\\item 6.25893199523785\n\\item 6.18389595142231\n\\item 0.289365749030697\n\\item 1.99815884085573\n\\item 2.32399569713598\n\\item 10.5962294207486\n\\item 7.37066613808549\n\\item 9.09619203711183\n\\item 6.75526705792928\n\\item 7.25533706930262\n\\item 7.81898319092799\n\\item 4.45600816922599\n\\item 6.19272328387588\n\\item 2.44513168371473\n\\item 7.12566205216586\n\\item 3.89940206376276\n\\item 2.98519879476713\n\\item 4.64293351137182\n\\item 6.42952300857527\n\\item 2.72114153913822\n\\item 7.41318564725648\n\\item 4.77517083816741\n\\item 5.98057404886462\n\\item 7.00416936158172\n\\item 3.62815047451417\n\\item -1.93614016537456\n\\item 5.06652610118391\n\\item 7.19653258613638\n\\item 8.38065132930497\n\\item 5.73944571712876\n\\item 7.82416184327939\n\\item 3.16463330470251\n\\item 9.95236069180804\n\\item 0.957978273812276\n\\item 1.23658742570884\n\\item 2.92006876948882\n\\item 8.4758713090497\n\\item 4.60028069609681\n\\item 3.08040113165266\n\\item 6.06270819514066\n\\item 4.13913501190145\n\\item 4.35375710079674\n\\item 8.0282258399636\n\\item 3.48121257071632\n\\item 6.35034594869374\n\\item 8.88109773522879\n\\item 5.44130701156695\n\\item 3.99347135413082\n\\item 6.94460064114737\n\\item 4.88594519727311\n\\item 4.43956972717978\n\\item 2.24130519042624\n\\item 4.10739046104046\n\\item 5.76255028101229\n\\item 7.34910801622922\n\\item 4.96344864234204\n\\item 5.51922129132323\n\\item 0.705278367150098\n\\item 3.10555483001702\n\\item 5.41118350087411\n\\item 8.08463320329112\n\\item 4.80388529643081\n\\item 3.6277643981726\n\\item 2.33991705428382\n\\item 7.25541347030547\n\\item 4.05471061789809\n\\item 8.5417862332443\n\\item 4.72764120475309\n\\item 4.60755775200696\n\\item 1.76514763459424\n\\item 3.27578880632071\n\\item 1.54910248427906\n\\item 5.00802557594346\n\\item 7.64772813138141\n\\item 5.39453099302663\n\\item 4.88021761990204\n\\item 2.67257517107746\n\\item 5.28451634101988\n\\item 1.96267757196087\n\\item 8.21934687187364\n\\item 1.65051961311551\n\\item 6.50255869411225\n\\item 3.80252831483803\n\\item 5.01603018770428\n\\item 3.57567287142278\n\\item 2.94816408949114\n\\item 1.72647351329567\n\\item 4.19283872416486\n\\item 3.61575110113694\n\\item 5.85562250166049\n\\item 4.37301121398563\n\\item 4.12255499493683\n\\item 1.83684593031418\n\\item 3.74278779941391\n\\item 5.55573146032703\n\\item 5.08753606776348\n\\item 6.1266040007336\n\\item 1.3052500936602\n\\item 5.70841230112302\n\\item 5.66682390704616\n\\item 3.80300442041353\n\\item 5.22917454649767\n\\item 4.45667030190623\n\\item 7.70694380741134\n\\item 4.45893476118948\n\\item 7.05121479130674\n\\item 1.27371864254201\n\\item 4.55219165656328\n\\item 4.52105738743214\n\\item 3.98842838661919\n\\item 5.2217577977146\n\\item 4.37872029982362\n\\item 4.89266072472471\n\\item 4.90193400373404\n\\item 3.83145644067084\n\\item 2.81729505279919\n\\item 4.62693990651214\n\\item 8.04968737425607\n\\item 6.29596361793461\n\\item 4.8354922598629\n\\item 7.8654756618495\n\\item 2.39349620402738\n\\item 6.71999453990547\n\\item 3.31008340990073\n\\item 4.8700314309876\n\\item 6.19738573374562\n\\item 4.33071418071852\n\\item 7.50355761134722\n\\item 3.79759561540446\n\\item 6.47746143222397\n\\item 9.46860497635754\n\\item 4.50625954162216\n\\item 6.43148703272869\n\\item 8.33938687335791\n\\item 6.9278068514226\n\\item 3.04293367875457\n\\item 1.84542297776073\n\\item 7.34147689180865\n\\item 5.59318706216747\n\\item 7.4018487533399\n\\item 4.34238818664284\n\\item 5.9672901685566\n\\item 4.36476813466638\n\\item 5.03578032563622\n\\item 5.93694594842181\n\\item 6.56231004705745\n\\item 3.24968334753121\n\\item 5.23082896473418\n\\item 4.7161969973648\n\\item 6.63451749097325\n\\item 4.42070991517576\n\\item 5.59340676810803\n\\item 6.86347148148638\n\\item 3.70477528035978\n\\item 2.91095450324914\n\\item 1.6888988965433\n\\item 5.56746994469465\n\\item 5.12056177077069\n\\item 7.17843899686381\n\\item 4.56339227906126\n\\item 5.73629497164789\n\\item 3.9587173560807\n\\end{enumerate*}\n",
            "text/plain": [
              "  [1]  5.7462074  2.5202913  5.9472830  6.4216831  1.1693281  7.6947452\n",
              "  [7]  8.5717117  4.2794250  2.3561771  6.6590040  8.2536516  6.8236994\n",
              " [13]  2.7678018  3.0259816 -0.7007636  5.7122990  4.6246738  4.5119514\n",
              " [19]  6.2919073  3.8674596  6.1662580  4.5716561  3.4980766  4.8140066\n",
              " [25]  6.1172887  5.4734244  6.7651054  5.6290543  3.9447150  6.6898214\n",
              " [31]  9.4548573  4.0263257  6.0651930  1.8454243  5.3861173  3.8218060\n",
              " [37]  3.1820619  4.5116522  6.2589320  6.1838960  0.2893657  1.9981588\n",
              " [43]  2.3239957 10.5962294  7.3706661  9.0961920  6.7552671  7.2553371\n",
              " [49]  7.8189832  4.4560082  6.1927233  2.4451317  7.1256621  3.8994021\n",
              " [55]  2.9851988  4.6429335  6.4295230  2.7211415  7.4131856  4.7751708\n",
              " [61]  5.9805740  7.0041694  3.6281505 -1.9361402  5.0665261  7.1965326\n",
              " [67]  8.3806513  5.7394457  7.8241618  3.1646333  9.9523607  0.9579783\n",
              " [73]  1.2365874  2.9200688  8.4758713  4.6002807  3.0804011  6.0627082\n",
              " [79]  4.1391350  4.3537571  8.0282258  3.4812126  6.3503459  8.8810977\n",
              " [85]  5.4413070  3.9934714  6.9446006  4.8859452  4.4395697  2.2413052\n",
              " [91]  4.1073905  5.7625503  7.3491080  4.9634486  5.5192213  0.7052784\n",
              " [97]  3.1055548  5.4111835  8.0846332  4.8038853  3.6277644  2.3399171\n",
              "[103]  7.2554135  4.0547106  8.5417862  4.7276412  4.6075578  1.7651476\n",
              "[109]  3.2757888  1.5491025  5.0080256  7.6477281  5.3945310  4.8802176\n",
              "[115]  2.6725752  5.2845163  1.9626776  8.2193469  1.6505196  6.5025587\n",
              "[121]  3.8025283  5.0160302  3.5756729  2.9481641  1.7264735  4.1928387\n",
              "[127]  3.6157511  5.8556225  4.3730112  4.1225550  1.8368459  3.7427878\n",
              "[133]  5.5557315  5.0875361  6.1266040  1.3052501  5.7084123  5.6668239\n",
              "[139]  3.8030044  5.2291745  4.4566703  7.7069438  4.4589348  7.0512148\n",
              "[145]  1.2737186  4.5521917  4.5210574  3.9884284  5.2217578  4.3787203\n",
              "[151]  4.8926607  4.9019340  3.8314564  2.8172951  4.6269399  8.0496874\n",
              "[157]  6.2959636  4.8354923  7.8654757  2.3934962  6.7199945  3.3100834\n",
              "[163]  4.8700314  6.1973857  4.3307142  7.5035576  3.7975956  6.4774614\n",
              "[169]  9.4686050  4.5062595  6.4314870  8.3393869  6.9278069  3.0429337\n",
              "[175]  1.8454230  7.3414769  5.5931871  7.4018488  4.3423882  5.9672902\n",
              "[181]  4.3647681  5.0357803  5.9369459  6.5623100  3.2496833  5.2308290\n",
              "[187]  4.7161970  6.6345175  4.4207099  5.5934068  6.8634715  3.7047753\n",
              "[193]  2.9109545  1.6888989  5.5674699  5.1205618  7.1784390  4.5633923\n",
              "[199]  5.7362950  3.9587174"
            ]
          },
          "metadata": {}
        }
      ]
    },
    {
      "cell_type": "code",
      "source": [
        "mean(muestra_norm)\n",
        "sd(muestra_norm)\n",
        "hist(muestra_norm)"
      ],
      "metadata": {
        "id": "HhaGS1tHomen",
        "outputId": "4b71f01a-f61b-404a-93ad-8127c0b44fc1",
        "colab": {
          "base_uri": "https://localhost:8080/",
          "height": 472
        }
      },
      "execution_count": 84,
      "outputs": [
        {
          "output_type": "display_data",
          "data": {
            "text/html": [
              "4.97849538913103"
            ],
            "text/markdown": "4.97849538913103",
            "text/latex": "4.97849538913103",
            "text/plain": [
              "[1] 4.978495"
            ]
          },
          "metadata": {}
        },
        {
          "output_type": "display_data",
          "data": {
            "text/html": [
              "2.09925920103165"
            ],
            "text/markdown": "2.09925920103165",
            "text/latex": "2.09925920103165",
            "text/plain": [
              "[1] 2.099259"
            ]
          },
          "metadata": {}
        },
        {
          "output_type": "display_data",
          "data": {
            "text/plain": [
              "Plot with title “Histogram of muestra_norm”"
            ],
            "image/png": "[encoded data removed]"
          },
          "metadata": {
            "image/png": {
              "width": 420,
              "height": 420
            }
          }
        }
      ]
    },
    {
      "cell_type": "code",
      "source": [
        "muestra_unif <- runif(200, 1,3)"
      ],
      "metadata": {
        "id": "K-QVIA_vou1q"
      },
      "execution_count": 85,
      "outputs": []
    },
    {
      "cell_type": "code",
      "source": [
        "muestra_unif"
      ],
      "metadata": {
        "id": "_lVqawTbo0qc",
        "outputId": "8142a55a-329d-4215-ba9d-2fe2de5241ee",
        "colab": {
          "base_uri": "https://localhost:8080/",
          "height": 607
        }
      },
      "execution_count": 86,
      "outputs": [
        {
          "output_type": "display_data",
          "data": {
            "text/html": [
              "<style>\n",
              ".list-inline {list-style: none; margin:0; padding: 0}\n",
              ".list-inline>li {display: inline-block}\n",
              ".list-inline>li:not(:last-child)::after {content: \"\\00b7\"; padding: 0 .5ex}\n",
              "</style>\n",
              "<ol class=list-inline><li>1.80102261947468</li><li>2.99607952404767</li><li>1.68367235455662</li><li>1.14312639879063</li><li>1.33484953409061</li><li>2.782963658683</li><li>2.23170964373276</li><li>2.76961570046842</li><li>2.4144524903968</li><li>1.18106525437906</li><li>2.21136994007975</li><li>2.65675676800311</li><li>2.12372784921899</li><li>1.29725020425394</li><li>2.88527431478724</li><li>1.4908482497558</li><li>2.5130781903863</li><li>1.28589120926335</li><li>1.83763933787122</li><li>1.31249287398532</li><li>1.63303660228848</li><li>1.3259478318505</li><li>1.75201682234183</li><li>2.20492597715929</li><li>1.61315277591348</li><li>2.0476591149345</li><li>2.97998616658151</li><li>2.43819263344631</li><li>2.01999418949708</li><li>1.6067017596215</li><li>1.46766552329063</li><li>2.43715344136581</li><li>2.41443108161911</li><li>2.35776241775602</li><li>1.94730174122378</li><li>1.63709773262963</li><li>2.00234069861472</li><li>2.74415157595649</li><li>2.54538900405169</li><li>1.86145511409268</li><li>1.44018028955907</li><li>2.20735391834751</li><li>2.98658187314868</li><li>2.58574867760763</li><li>1.7897727927193</li><li>2.13646031171083</li><li>1.59412583056837</li><li>1.11597846122459</li><li>2.69545674929395</li><li>2.25439730426297</li><li>2.28023437550291</li><li>2.41483826842159</li><li>1.53773988643661</li><li>2.76872039632872</li><li>2.76635389961302</li><li>1.68936178227887</li><li>2.99720331653953</li><li>1.04706984898075</li><li>1.48823871975765</li><li>2.34287674492225</li><li>1.59061240823939</li><li>1.13156624045223</li><li>1.58177021797746</li><li>1.12327192584053</li><li>2.87921660020947</li><li>1.93386362819001</li><li>1.90234933840111</li><li>2.43732616119087</li><li>1.48960290849209</li><li>2.79600671865046</li><li>1.24711044598371</li><li>1.4649365064688</li><li>2.17544741509482</li><li>2.78472849121317</li><li>1.02793677197769</li><li>1.77939243102446</li><li>2.36812767060474</li><li>1.16842209175229</li><li>2.07752051204443</li><li>2.69754772260785</li><li>1.72612535022199</li><li>2.27484074700624</li><li>2.04673553351313</li><li>2.99299995694309</li><li>1.52313382877037</li><li>1.25347134843469</li><li>2.11754351807758</li><li>1.05593708902597</li><li>2.83606420969591</li><li>1.85622553061694</li><li>2.34280567802489</li><li>1.08839022507891</li><li>2.44702223828062</li><li>1.57322760950774</li><li>2.99251528223976</li><li>2.41778353136033</li><li>2.75153822591528</li><li>2.48311479296535</li><li>1.57796807726845</li><li>1.45176389021799</li><li>1.62316749012098</li><li>2.82689677458256</li><li>2.03293578978628</li><li>2.10616868920624</li><li>1.62273968104273</li><li>2.69786611711606</li><li>2.3537626164034</li><li>1.18998594069853</li><li>1.06543268635869</li><li>2.34479186683893</li><li>2.14939237991348</li><li>2.03038738155738</li><li>2.01066150469705</li><li>1.34683249983937</li><li>1.06262943148613</li><li>2.4511941857636</li><li>2.89214603975415</li><li>2.57220327528194</li><li>1.19500474445522</li><li>1.39279577275738</li><li>1.10421711485833</li><li>1.9549471354112</li><li>1.75167030794546</li><li>2.42101507680491</li><li>1.40976544329897</li><li>1.52184324292466</li><li>2.56622498342767</li><li>1.83828588295728</li><li>1.88999364012852</li><li>1.4216665555723</li><li>2.98791423067451</li><li>2.91350518725812</li><li>2.23192440345883</li><li>1.60397792607546</li><li>2.75060876179487</li><li>2.5287175886333</li><li>2.05605334043503</li><li>2.95339156594127</li><li>2.54004804883152</li><li>1.98548273602501</li><li>1.33470873394981</li><li>1.69892859505489</li><li>2.9168820544146</li><li>1.15225562918931</li><li>1.48593180906028</li><li>2.43349751736969</li><li>2.40139288036153</li><li>2.53979553235695</li><li>2.22580729518086</li><li>1.13571314001456</li><li>1.23759583476931</li><li>1.03363673062995</li><li>2.80562199139968</li><li>2.05461109802127</li><li>1.53313416847959</li><li>1.00730898510665</li><li>2.75330541422591</li><li>2.53027614625171</li><li>1.84565677121282</li><li>1.01452139019966</li><li>1.74612924689427</li><li>2.52679320704192</li><li>2.31889983266592</li><li>1.57017271174118</li><li>2.06883545406163</li><li>2.36291093705222</li><li>2.92304740147665</li><li>1.14756646146998</li><li>2.45046298392117</li><li>2.73622521432117</li><li>2.26277797296643</li><li>2.52369304513559</li><li>2.47645434737206</li><li>2.82935659121722</li><li>1.36554649611935</li><li>2.06229722313583</li><li>2.67944262269884</li><li>1.11432484071702</li><li>1.89735125750303</li><li>2.09667102992535</li><li>2.60101898061112</li><li>1.00943140964955</li><li>2.35863191867247</li><li>1.10263749118894</li><li>1.17981691099703</li><li>2.53028582036495</li><li>1.58756855549291</li><li>1.31770328246057</li><li>1.9729470051825</li><li>1.27009281236678</li><li>2.88832069421187</li><li>1.40169202536345</li><li>2.99111626204103</li><li>1.3483428475447</li><li>1.64738759072497</li><li>1.95343242073432</li><li>1.79318914422765</li><li>1.97777723940089</li><li>2.54543927591294</li><li>1.33121414948255</li></ol>\n"
            ],
            "text/markdown": "1. 1.80102261947468\n2. 2.99607952404767\n3. 1.68367235455662\n4. 1.14312639879063\n5. 1.33484953409061\n6. 2.782963658683\n7. 2.23170964373276\n8. 2.76961570046842\n9. 2.4144524903968\n10. 1.18106525437906\n11. 2.21136994007975\n12. 2.65675676800311\n13. 2.12372784921899\n14. 1.29725020425394\n15. 2.88527431478724\n16. 1.4908482497558\n17. 2.5130781903863\n18. 1.28589120926335\n19. 1.83763933787122\n20. 1.31249287398532\n21. 1.63303660228848\n22. 1.3259478318505\n23. 1.75201682234183\n24. 2.20492597715929\n25. 1.61315277591348\n26. 2.0476591149345\n27. 2.97998616658151\n28. 2.43819263344631\n29. 2.01999418949708\n30. 1.6067017596215\n31. 1.46766552329063\n32. 2.43715344136581\n33. 2.41443108161911\n34. 2.35776241775602\n35. 1.94730174122378\n36. 1.63709773262963\n37. 2.00234069861472\n38. 2.74415157595649\n39. 2.54538900405169\n40. 1.86145511409268\n41. 1.44018028955907\n42. 2.20735391834751\n43. 2.98658187314868\n44. 2.58574867760763\n45. 1.7897727927193\n46. 2.13646031171083\n47. 1.59412583056837\n48. 1.11597846122459\n49. 2.69545674929395\n50. 2.25439730426297\n51. 2.28023437550291\n52. 2.41483826842159\n53. 1.53773988643661\n54. 2.76872039632872\n55. 2.76635389961302\n56. 1.68936178227887\n57. 2.99720331653953\n58. 1.04706984898075\n59. 1.48823871975765\n60. 2.34287674492225\n61. 1.59061240823939\n62. 1.13156624045223\n63. 1.58177021797746\n64. 1.12327192584053\n65. 2.87921660020947\n66. 1.93386362819001\n67. 1.90234933840111\n68. 2.43732616119087\n69. 1.48960290849209\n70. 2.79600671865046\n71. 1.24711044598371\n72. 1.4649365064688\n73. 2.17544741509482\n74. 2.78472849121317\n75. 1.02793677197769\n76. 1.77939243102446\n77. 2.36812767060474\n78. 1.16842209175229\n79. 2.07752051204443\n80. 2.69754772260785\n81. 1.72612535022199\n82. 2.27484074700624\n83. 2.04673553351313\n84. 2.99299995694309\n85. 1.52313382877037\n86. 1.25347134843469\n87. 2.11754351807758\n88. 1.05593708902597\n89. 2.83606420969591\n90. 1.85622553061694\n91. 2.34280567802489\n92. 1.08839022507891\n93. 2.44702223828062\n94. 1.57322760950774\n95. 2.99251528223976\n96. 2.41778353136033\n97. 2.75153822591528\n98. 2.48311479296535\n99. 1.57796807726845\n100. 1.45176389021799\n101. 1.62316749012098\n102. 2.82689677458256\n103. 2.03293578978628\n104. 2.10616868920624\n105. 1.62273968104273\n106. 2.69786611711606\n107. 2.3537626164034\n108. 1.18998594069853\n109. 1.06543268635869\n110. 2.34479186683893\n111. 2.14939237991348\n112. 2.03038738155738\n113. 2.01066150469705\n114. 1.34683249983937\n115. 1.06262943148613\n116. 2.4511941857636\n117. 2.89214603975415\n118. 2.57220327528194\n119. 1.19500474445522\n120. 1.39279577275738\n121. 1.10421711485833\n122. 1.9549471354112\n123. 1.75167030794546\n124. 2.42101507680491\n125. 1.40976544329897\n126. 1.52184324292466\n127. 2.56622498342767\n128. 1.83828588295728\n129. 1.88999364012852\n130. 1.4216665555723\n131. 2.98791423067451\n132. 2.91350518725812\n133. 2.23192440345883\n134. 1.60397792607546\n135. 2.75060876179487\n136. 2.5287175886333\n137. 2.05605334043503\n138. 2.95339156594127\n139. 2.54004804883152\n140. 1.98548273602501\n141. 1.33470873394981\n142. 1.69892859505489\n143. 2.9168820544146\n144. 1.15225562918931\n145. 1.48593180906028\n146. 2.43349751736969\n147. 2.40139288036153\n148. 2.53979553235695\n149. 2.22580729518086\n150. 1.13571314001456\n151. 1.23759583476931\n152. 1.03363673062995\n153. 2.80562199139968\n154. 2.05461109802127\n155. 1.53313416847959\n156. 1.00730898510665\n157. 2.75330541422591\n158. 2.53027614625171\n159. 1.84565677121282\n160. 1.01452139019966\n161. 1.74612924689427\n162. 2.52679320704192\n163. 2.31889983266592\n164. 1.57017271174118\n165. 2.06883545406163\n166. 2.36291093705222\n167. 2.92304740147665\n168. 1.14756646146998\n169. 2.45046298392117\n170. 2.73622521432117\n171. 2.26277797296643\n172. 2.52369304513559\n173. 2.47645434737206\n174. 2.82935659121722\n175. 1.36554649611935\n176. 2.06229722313583\n177. 2.67944262269884\n178. 1.11432484071702\n179. 1.89735125750303\n180. 2.09667102992535\n181. 2.60101898061112\n182. 1.00943140964955\n183. 2.35863191867247\n184. 1.10263749118894\n185. 1.17981691099703\n186. 2.53028582036495\n187. 1.58756855549291\n188. 1.31770328246057\n189. 1.9729470051825\n190. 1.27009281236678\n191. 2.88832069421187\n192. 1.40169202536345\n193. 2.99111626204103\n194. 1.3483428475447\n195. 1.64738759072497\n196. 1.95343242073432\n197. 1.79318914422765\n198. 1.97777723940089\n199. 2.54543927591294\n200. 1.33121414948255\n\n\n",
            "text/latex": "\\begin{enumerate*}\n\\item 1.80102261947468\n\\item 2.99607952404767\n\\item 1.68367235455662\n\\item 1.14312639879063\n\\item 1.33484953409061\n\\item 2.782963658683\n\\item 2.23170964373276\n\\item 2.76961570046842\n\\item 2.4144524903968\n\\item 1.18106525437906\n\\item 2.21136994007975\n\\item 2.65675676800311\n\\item 2.12372784921899\n\\item 1.29725020425394\n\\item 2.88527431478724\n\\item 1.4908482497558\n\\item 2.5130781903863\n\\item 1.28589120926335\n\\item 1.83763933787122\n\\item 1.31249287398532\n\\item 1.63303660228848\n\\item 1.3259478318505\n\\item 1.75201682234183\n\\item 2.20492597715929\n\\item 1.61315277591348\n\\item 2.0476591149345\n\\item 2.97998616658151\n\\item 2.43819263344631\n\\item 2.01999418949708\n\\item 1.6067017596215\n\\item 1.46766552329063\n\\item 2.43715344136581\n\\item 2.41443108161911\n\\item 2.35776241775602\n\\item 1.94730174122378\n\\item 1.63709773262963\n\\item 2.00234069861472\n\\item 2.74415157595649\n\\item 2.54538900405169\n\\item 1.86145511409268\n\\item 1.44018028955907\n\\item 2.20735391834751\n\\item 2.98658187314868\n\\item 2.58574867760763\n\\item 1.7897727927193\n\\item 2.13646031171083\n\\item 1.59412583056837\n\\item 1.11597846122459\n\\item 2.69545674929395\n\\item 2.25439730426297\n\\item 2.28023437550291\n\\item 2.41483826842159\n\\item 1.53773988643661\n\\item 2.76872039632872\n\\item 2.76635389961302\n\\item 1.68936178227887\n\\item 2.99720331653953\n\\item 1.04706984898075\n\\item 1.48823871975765\n\\item 2.34287674492225\n\\item 1.59061240823939\n\\item 1.13156624045223\n\\item 1.58177021797746\n\\item 1.12327192584053\n\\item 2.87921660020947\n\\item 1.93386362819001\n\\item 1.90234933840111\n\\item 2.43732616119087\n\\item 1.48960290849209\n\\item 2.79600671865046\n\\item 1.24711044598371\n\\item 1.4649365064688\n\\item 2.17544741509482\n\\item 2.78472849121317\n\\item 1.02793677197769\n\\item 1.77939243102446\n\\item 2.36812767060474\n\\item 1.16842209175229\n\\item 2.07752051204443\n\\item 2.69754772260785\n\\item 1.72612535022199\n\\item 2.27484074700624\n\\item 2.04673553351313\n\\item 2.99299995694309\n\\item 1.52313382877037\n\\item 1.25347134843469\n\\item 2.11754351807758\n\\item 1.05593708902597\n\\item 2.83606420969591\n\\item 1.85622553061694\n\\item 2.34280567802489\n\\item 1.08839022507891\n\\item 2.44702223828062\n\\item 1.57322760950774\n\\item 2.99251528223976\n\\item 2.41778353136033\n\\item 2.75153822591528\n\\item 2.48311479296535\n\\item 1.57796807726845\n\\item 1.45176389021799\n\\item 1.62316749012098\n\\item 2.82689677458256\n\\item 2.03293578978628\n\\item 2.10616868920624\n\\item 1.62273968104273\n\\item 2.69786611711606\n\\item 2.3537626164034\n\\item 1.18998594069853\n\\item 1.06543268635869\n\\item 2.34479186683893\n\\item 2.14939237991348\n\\item 2.03038738155738\n\\item 2.01066150469705\n\\item 1.34683249983937\n\\item 1.06262943148613\n\\item 2.4511941857636\n\\item 2.89214603975415\n\\item 2.57220327528194\n\\item 1.19500474445522\n\\item 1.39279577275738\n\\item 1.10421711485833\n\\item 1.9549471354112\n\\item 1.75167030794546\n\\item 2.42101507680491\n\\item 1.40976544329897\n\\item 1.52184324292466\n\\item 2.56622498342767\n\\item 1.83828588295728\n\\item 1.88999364012852\n\\item 1.4216665555723\n\\item 2.98791423067451\n\\item 2.91350518725812\n\\item 2.23192440345883\n\\item 1.60397792607546\n\\item 2.75060876179487\n\\item 2.5287175886333\n\\item 2.05605334043503\n\\item 2.95339156594127\n\\item 2.54004804883152\n\\item 1.98548273602501\n\\item 1.33470873394981\n\\item 1.69892859505489\n\\item 2.9168820544146\n\\item 1.15225562918931\n\\item 1.48593180906028\n\\item 2.43349751736969\n\\item 2.40139288036153\n\\item 2.53979553235695\n\\item 2.22580729518086\n\\item 1.13571314001456\n\\item 1.23759583476931\n\\item 1.03363673062995\n\\item 2.80562199139968\n\\item 2.05461109802127\n\\item 1.53313416847959\n\\item 1.00730898510665\n\\item 2.75330541422591\n\\item 2.53027614625171\n\\item 1.84565677121282\n\\item 1.01452139019966\n\\item 1.74612924689427\n\\item 2.52679320704192\n\\item 2.31889983266592\n\\item 1.57017271174118\n\\item 2.06883545406163\n\\item 2.36291093705222\n\\item 2.92304740147665\n\\item 1.14756646146998\n\\item 2.45046298392117\n\\item 2.73622521432117\n\\item 2.26277797296643\n\\item 2.52369304513559\n\\item 2.47645434737206\n\\item 2.82935659121722\n\\item 1.36554649611935\n\\item 2.06229722313583\n\\item 2.67944262269884\n\\item 1.11432484071702\n\\item 1.89735125750303\n\\item 2.09667102992535\n\\item 2.60101898061112\n\\item 1.00943140964955\n\\item 2.35863191867247\n\\item 1.10263749118894\n\\item 1.17981691099703\n\\item 2.53028582036495\n\\item 1.58756855549291\n\\item 1.31770328246057\n\\item 1.9729470051825\n\\item 1.27009281236678\n\\item 2.88832069421187\n\\item 1.40169202536345\n\\item 2.99111626204103\n\\item 1.3483428475447\n\\item 1.64738759072497\n\\item 1.95343242073432\n\\item 1.79318914422765\n\\item 1.97777723940089\n\\item 2.54543927591294\n\\item 1.33121414948255\n\\end{enumerate*}\n",
            "text/plain": [
              "  [1] 1.801023 2.996080 1.683672 1.143126 1.334850 2.782964 2.231710 2.769616\n",
              "  [9] 2.414452 1.181065 2.211370 2.656757 2.123728 1.297250 2.885274 1.490848\n",
              " [17] 2.513078 1.285891 1.837639 1.312493 1.633037 1.325948 1.752017 2.204926\n",
              " [25] 1.613153 2.047659 2.979986 2.438193 2.019994 1.606702 1.467666 2.437153\n",
              " [33] 2.414431 2.357762 1.947302 1.637098 2.002341 2.744152 2.545389 1.861455\n",
              " [41] 1.440180 2.207354 2.986582 2.585749 1.789773 2.136460 1.594126 1.115978\n",
              " [49] 2.695457 2.254397 2.280234 2.414838 1.537740 2.768720 2.766354 1.689362\n",
              " [57] 2.997203 1.047070 1.488239 2.342877 1.590612 1.131566 1.581770 1.123272\n",
              " [65] 2.879217 1.933864 1.902349 2.437326 1.489603 2.796007 1.247110 1.464937\n",
              " [73] 2.175447 2.784728 1.027937 1.779392 2.368128 1.168422 2.077521 2.697548\n",
              " [81] 1.726125 2.274841 2.046736 2.993000 1.523134 1.253471 2.117544 1.055937\n",
              " [89] 2.836064 1.856226 2.342806 1.088390 2.447022 1.573228 2.992515 2.417784\n",
              " [97] 2.751538 2.483115 1.577968 1.451764 1.623167 2.826897 2.032936 2.106169\n",
              "[105] 1.622740 2.697866 2.353763 1.189986 1.065433 2.344792 2.149392 2.030387\n",
              "[113] 2.010662 1.346832 1.062629 2.451194 2.892146 2.572203 1.195005 1.392796\n",
              "[121] 1.104217 1.954947 1.751670 2.421015 1.409765 1.521843 2.566225 1.838286\n",
              "[129] 1.889994 1.421667 2.987914 2.913505 2.231924 1.603978 2.750609 2.528718\n",
              "[137] 2.056053 2.953392 2.540048 1.985483 1.334709 1.698929 2.916882 1.152256\n",
              "[145] 1.485932 2.433498 2.401393 2.539796 2.225807 1.135713 1.237596 1.033637\n",
              "[153] 2.805622 2.054611 1.533134 1.007309 2.753305 2.530276 1.845657 1.014521\n",
              "[161] 1.746129 2.526793 2.318900 1.570173 2.068835 2.362911 2.923047 1.147566\n",
              "[169] 2.450463 2.736225 2.262778 2.523693 2.476454 2.829357 1.365546 2.062297\n",
              "[177] 2.679443 1.114325 1.897351 2.096671 2.601019 1.009431 2.358632 1.102637\n",
              "[185] 1.179817 2.530286 1.587569 1.317703 1.972947 1.270093 2.888321 1.401692\n",
              "[193] 2.991116 1.348343 1.647388 1.953432 1.793189 1.977777 2.545439 1.331214"
            ]
          },
          "metadata": {}
        }
      ]
    },
    {
      "cell_type": "code",
      "source": [
        "mean(muestra_unif)\n",
        "sd(muestra_unif)# desviación estandar\n",
        "min(muestra_unif)\n",
        "max(muestra_unif)\n",
        "hist(muestra_unif)"
      ],
      "metadata": {
        "id": "MHRgCoNXo3LR",
        "outputId": "19e92dd6-c388-417b-d23e-1609f2ac38de",
        "colab": {
          "base_uri": "https://localhost:8080/",
          "height": 506
        }
      },
      "execution_count": 88,
      "outputs": [
        {
          "output_type": "display_data",
          "data": {
            "text/html": [
              "2.0004986955435"
            ],
            "text/markdown": "2.0004986955435",
            "text/latex": "2.0004986955435",
            "text/plain": [
              "[1] 2.000499"
            ]
          },
          "metadata": {}
        },
        {
          "output_type": "display_data",
          "data": {
            "text/html": [
              "0.592879492910518"
            ],
            "text/markdown": "0.592879492910518",
            "text/latex": "0.592879492910518",
            "text/plain": [
              "[1] 0.5928795"
            ]
          },
          "metadata": {}
        },
        {
          "output_type": "display_data",
          "data": {
            "text/html": [
              "1.00730898510665"
            ],
            "text/markdown": "1.00730898510665",
            "text/latex": "1.00730898510665",
            "text/plain": [
              "[1] 1.007309"
            ]
          },
          "metadata": {}
        },
        {
          "output_type": "display_data",
          "data": {
            "text/html": [
              "2.99720331653953"
            ],
            "text/markdown": "2.99720331653953",
            "text/latex": "2.99720331653953",
            "text/plain": [
              "[1] 2.997203"
            ]
          },
          "metadata": {}
        },
        {
          "output_type": "display_data",
          "data": {
            "text/plain": [
              "Plot with title “Histogram of muestra_unif”"
            ],
            "image/png": "[encoded data removed]"
          },
          "metadata": {
            "image/png": {
              "width": 420,
              "height": 420
            }
          }
        }
      ]
    },
    {
      "cell_type": "markdown",
      "metadata": {
        "id": "TlnEINwUIgwP"
      },
      "source": [
        "### 3.2 Funciones (primera parte)\n",
        "\n",
        "#### 3.2.1 Funciones vectorizadas y operaciones con vectores\n",
        "\n",
        "R es un lenguaje funcional, en el sentido de que prácticamente cada llamada a R corresponde a una función que puede (o no) recibir argumentos de entrada.\n",
        "Una de las ventajas es que existe una amplia, muy amplia,... verdaderamente amplia!, variedad de funciones disponibles, tanto en las librerías que vienen con la instalación por defecto como las librerías disponibles en CRAN o en toda la comunidad R.\n",
        "\n",
        "En R, una función $f$ se dice vectorizada si dado un vector $\\mathbf{x}=(x_1,x_2,\\dots,x_n)$, se tiene que $f(\\mathbf{x})=(f(x_1),f(x_2),\\dots,f(x_n))$.\n",
        "Esto hace que, por ejemplo, la aritmética de vectores se más sencilla de implentar y con un menor tiempo de cómputo . Gran parte de las funciones disponibles en la librerías (bibliotecas o *packages*) de R corresponden a funciones vectorizadas.\n",
        "A modo de ejemplo, a cotinuación se muestran algunas funciones (de las más básicas) aritméticas, y funciones para trabajar con texto:\n",
        "    \n",
        "    +,-,*,/\n",
        "    abs()\n",
        "    sqrt()\n",
        "    cos()\n",
        "    sin()\n",
        "    tan()\n",
        "    nchar()\n",
        "    susbtr()\n",
        "    grepl()\n",
        "    gsub()\n",
        "    \n",
        "   \n",
        "   \n",
        "   "
      ]
    },
    {
      "cell_type": "code",
      "metadata": {
        "id": "tO3oB1bnIgwP",
        "outputId": "6547a23b-76a0-4f07-b05c-e16a71806cb8",
        "colab": {
          "base_uri": "https://localhost:8080/",
          "height": 69
        }
      },
      "source": [
        "# 3.2. Funciones (primera parte) ------------\n",
        "# 3.2.1 Funciones vectorizadas\n",
        "# Ejemplos básicos de funciones(vectorizadas)\n",
        "sqrt(c(25,4,9,-1,NA,3))"
      ],
      "execution_count": 91,
      "outputs": [
        {
          "output_type": "stream",
          "name": "stderr",
          "text": [
            "Warning message in sqrt(c(25, 4, 9, -1, NA, 3)):\n",
            "“NaNs produced”\n"
          ]
        },
        {
          "output_type": "display_data",
          "data": {
            "text/html": [
              "<style>\n",
              ".list-inline {list-style: none; margin:0; padding: 0}\n",
              ".list-inline>li {display: inline-block}\n",
              ".list-inline>li:not(:last-child)::after {content: \"\\00b7\"; padding: 0 .5ex}\n",
              "</style>\n",
              "<ol class=list-inline><li>5</li><li>2</li><li>3</li><li>NaN</li><li>&lt;NA&gt;</li><li>1.73205080756888</li></ol>\n"
            ],
            "text/markdown": "1. 5\n2. 2\n3. 3\n4. NaN\n5. &lt;NA&gt;\n6. 1.73205080756888\n\n\n",
            "text/latex": "\\begin{enumerate*}\n\\item 5\n\\item 2\n\\item 3\n\\item NaN\n\\item <NA>\n\\item 1.73205080756888\n\\end{enumerate*}\n",
            "text/plain": [
              "[1] 5.000000 2.000000 3.000000      NaN       NA 1.732051"
            ]
          },
          "metadata": {}
        }
      ]
    },
    {
      "cell_type": "code",
      "metadata": {
        "id": "Z8L-KeGnIgwS"
      },
      "source": [],
      "execution_count": null,
      "outputs": []
    },
    {
      "cell_type": "code",
      "metadata": {
        "id": "NivskO3jIgwT",
        "outputId": "0bde4027-70c8-470d-8767-ce29f2d7910f",
        "colab": {
          "base_uri": "https://localhost:8080/",
          "height": 34
        }
      },
      "source": [
        "# funciones para manipular texto\n",
        " #cantidad de caracteres\n",
        "nchar(\"hola \")\n",
        "\n"
      ],
      "execution_count": 101,
      "outputs": [
        {
          "output_type": "display_data",
          "data": {
            "text/html": [
              "5"
            ],
            "text/markdown": "5",
            "text/latex": "5",
            "text/plain": [
              "[1] 5"
            ]
          },
          "metadata": {}
        }
      ]
    },
    {
      "cell_type": "code",
      "source": [
        "nchar(\"      Miguel \")\n",
        "trimws(\"      Miguel  \")\n",
        "trimws(\"      Miguel  \", which = \"left\")"
      ],
      "metadata": {
        "id": "Mmlp_Ftaq_jS",
        "outputId": "74e8e5bd-53e7-4d51-ff4d-5489f6528881",
        "colab": {
          "base_uri": "https://localhost:8080/",
          "height": 69
        }
      },
      "execution_count": 107,
      "outputs": [
        {
          "output_type": "display_data",
          "data": {
            "text/html": [
              "13"
            ],
            "text/markdown": "13",
            "text/latex": "13",
            "text/plain": [
              "[1] 13"
            ]
          },
          "metadata": {}
        },
        {
          "output_type": "display_data",
          "data": {
            "text/html": [
              "'Miguel'"
            ],
            "text/markdown": "'Miguel'",
            "text/latex": "'Miguel'",
            "text/plain": [
              "[1] \"Miguel\""
            ]
          },
          "metadata": {}
        },
        {
          "output_type": "display_data",
          "data": {
            "text/html": [
              "<span style=white-space:pre-wrap>'Miguel  '</span>"
            ],
            "text/markdown": "<span style=white-space:pre-wrap>'Miguel  '</span>",
            "text/latex": "'Miguel  '",
            "text/plain": [
              "[1] \"Miguel  \""
            ]
          },
          "metadata": {}
        }
      ]
    },
    {
      "cell_type": "code",
      "source": [
        "?trimws"
      ],
      "metadata": {
        "id": "HdksF2k-rOis"
      },
      "execution_count": 104,
      "outputs": []
    },
    {
      "cell_type": "code",
      "metadata": {
        "id": "tA55foL1IgwX",
        "outputId": "766b6912-877c-4b01-e25e-b616c40aae68",
        "colab": {
          "base_uri": "https://localhost:8080/",
          "height": 52
        }
      },
      "source": [
        "# substring substr()\n",
        "substr(\"Mi nombre es Miguel\", 4,9)\n",
        "substr(x = \"Mi nombre es Miguel\", start = 4, stop = 9)"
      ],
      "execution_count": 99,
      "outputs": [
        {
          "output_type": "display_data",
          "data": {
            "text/html": [
              "'nombre'"
            ],
            "text/markdown": "'nombre'",
            "text/latex": "'nombre'",
            "text/plain": [
              "[1] \"nombre\""
            ]
          },
          "metadata": {}
        },
        {
          "output_type": "display_data",
          "data": {
            "text/html": [
              "'nombre'"
            ],
            "text/markdown": "'nombre'",
            "text/latex": "'nombre'",
            "text/plain": [
              "[1] \"nombre\""
            ]
          },
          "metadata": {}
        }
      ]
    },
    {
      "cell_type": "code",
      "source": [],
      "metadata": {
        "id": "3fm9oKa5r3QY"
      },
      "execution_count": null,
      "outputs": []
    },
    {
      "cell_type": "code",
      "source": [
        "texto <- \"Mi nombre es Miguel\"\n",
        "substr(texto, 14, nchar(texto))"
      ],
      "metadata": {
        "id": "7rxSJVWFq3kd",
        "outputId": "c12aac7d-11e0-493e-e034-b1c26ba4d29c",
        "colab": {
          "base_uri": "https://localhost:8080/",
          "height": 34
        }
      },
      "execution_count": 109,
      "outputs": [
        {
          "output_type": "display_data",
          "data": {
            "text/html": [
              "'Miguel'"
            ],
            "text/markdown": "'Miguel'",
            "text/latex": "'Miguel'",
            "text/plain": [
              "[1] \"Miguel\""
            ]
          },
          "metadata": {}
        }
      ]
    },
    {
      "cell_type": "code",
      "source": [
        "?substr"
      ],
      "metadata": {
        "id": "1QD3K65DqnfK"
      },
      "execution_count": 98,
      "outputs": []
    },
    {
      "cell_type": "code",
      "metadata": {
        "id": "vjRwdUbiIgwY",
        "outputId": "86d13590-2a59-4857-a21e-c9c89d13fdd3",
        "colab": {
          "base_uri": "https://localhost:8080/",
          "height": 69
        }
      },
      "source": [
        "# grepl() evlaúa si un  caracter está contenido en otro. (LIKE)\n",
        "#?grepl()\n",
        "grepl(\"ala\", \"palabra\")\n",
        "grepl(\"alo\", \"palabra\")\n",
        "\n",
        "\n",
        "#gsub() reemblaza un substring por otro\n",
        "#?gsub\n",
        "\n",
        "# si reemplazamos en un vector de palabras\n",
        "\n",
        "grepl(\"lo\", c(\"palabra\", \"palas\",\"hilos\", \"obras\"))"
      ],
      "execution_count": 112,
      "outputs": [
        {
          "output_type": "display_data",
          "data": {
            "text/html": [
              "TRUE"
            ],
            "text/markdown": "TRUE",
            "text/latex": "TRUE",
            "text/plain": [
              "[1] TRUE"
            ]
          },
          "metadata": {}
        },
        {
          "output_type": "display_data",
          "data": {
            "text/html": [
              "FALSE"
            ],
            "text/markdown": "FALSE",
            "text/latex": "FALSE",
            "text/plain": [
              "[1] FALSE"
            ]
          },
          "metadata": {}
        },
        {
          "output_type": "display_data",
          "data": {
            "text/html": [
              "<style>\n",
              ".list-inline {list-style: none; margin:0; padding: 0}\n",
              ".list-inline>li {display: inline-block}\n",
              ".list-inline>li:not(:last-child)::after {content: \"\\00b7\"; padding: 0 .5ex}\n",
              "</style>\n",
              "<ol class=list-inline><li>FALSE</li><li>FALSE</li><li>TRUE</li><li>FALSE</li></ol>\n"
            ],
            "text/markdown": "1. FALSE\n2. FALSE\n3. TRUE\n4. FALSE\n\n\n",
            "text/latex": "\\begin{enumerate*}\n\\item FALSE\n\\item FALSE\n\\item TRUE\n\\item FALSE\n\\end{enumerate*}\n",
            "text/plain": [
              "[1] FALSE FALSE  TRUE FALSE"
            ]
          },
          "metadata": {}
        }
      ]
    },
    {
      "cell_type": "code",
      "metadata": {
        "id": "0j9kKUbzIgwZ"
      },
      "source": [
        "#gsub() reemplaza caracteres dentro de un texto\n",
        "#https://www.tidytextmining.com/\n",
        "#Para manipular texto\n",
        "#https://stringr.tidyverse.org/"
      ],
      "execution_count": null,
      "outputs": []
    }
  ]
}