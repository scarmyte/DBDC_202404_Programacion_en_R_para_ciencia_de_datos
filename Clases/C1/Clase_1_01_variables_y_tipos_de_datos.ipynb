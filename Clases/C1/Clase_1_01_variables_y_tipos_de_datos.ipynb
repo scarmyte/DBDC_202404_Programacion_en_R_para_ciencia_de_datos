{
  "nbformat": 4,
  "nbformat_minor": 0,
  "metadata": {
    "colab": {
      "provenance": [],
      "include_colab_link": true
    },
    "kernelspec": {
      "name": "ir",
      "display_name": "R"
    }
  },
  "cells": [
    {
      "cell_type": "markdown",
      "metadata": {
        "id": "view-in-github",
        "colab_type": "text"
      },
      "source": [
        "<a href=\"https://colab.research.google.com/github/majorquev/DBDC_202404_Programacion_en_R_para_ciencia_de_datos/blob/main/Clases/C1/Clase_1_01_variables_y_tipos_de_datos.ipynb\" target=\"_parent\"><img src=\"https://colab.research.google.com/assets/colab-badge.svg\" alt=\"Open In Colab\"/></a>"
      ]
    },
    {
      "cell_type": "markdown",
      "metadata": {
        "collapsed": true,
        "id": "Kc2ORhjSySMx"
      },
      "source": [
        "# Parte 1: Introducción a R\n",
        "\n",
        "**Autor:** Miguel Jorquera Viguera<br>\n",
        "**E-mail:** majorquev@gmail.com<br>\n",
        "\n",
        "**Ayudante:** Rodrigo Morales <br>\n",
        "**E-mail ayudante:** rumorale1@gmail.com\n",
        "\n",
        "## Conociendo R\n",
        "\n",
        "### Conociendo R de nuevo\n",
        " R es un lenguaje funcional orientado principalmente al análisis de datos. Fue desarrollado por Ross Ihaka y Robert Gentleman, cuyas iniciales de sus nombres dieron origen al nombre de este software.\n",
        "\n",
        "Hoy existen varias maneras de ejecutar R, una de ellas es de manera local, para lo cual es posible descargar la última versión (disponible para Windows, Linux y OSX), desde el repositorio CRAN (https://cran.r-project.org/) .\n",
        "Otra manera es mediante la utilización de Google Colab, los que permiten la ejecución de R de manera remota, sin la necesidad de instalar R.\n",
        "\n",
        "En un notebook podemos añadir info.\n",
        "Podemos editar esto...\n",
        "\n",
        "# Puedo añadir otro  título\n",
        "## Subtítulo\n",
        "### Etc..\n",
        "\n",
        "Generar listas\n",
        "\n",
        "   * Hola\n",
        "   * Otra opción\n",
        "   * opcion 2\n",
        "\n",
        "Código en latex $\\sum\\limits_{i=1}^n x_i$ $\\lim_{x \\rightarrow 1}$\n"
      ]
    },
    {
      "cell_type": "markdown",
      "metadata": {
        "id": "Z4TXkSy6ySMy"
      },
      "source": [
        "## 1. R... Una gran calculadora\n",
        "\n",
        "En R es posible ejecutar directamente en consola sentencias aritméticas simples, junto con la evaluación de una gran cantidad de funciones disponibles por defecto.\n",
        "\n",
        "    - + , -, /,* ,^ , %%, %*%.\n",
        "    - Logaritmo natural: log()\n",
        "    - Funciones trigonométricas: sin() , cos(), tan(), asin() ,acos(), atan()\n",
        "    - Función exponencial: exp()\n",
        "    - Raiz cuadrada: sqrt().\n",
        "    - Valor absoluto: abs()\n",
        "    - parte entera: floor()\n",
        "    - Truncar: trunc()\n",
        "    - Redondear: round(,)\n",
        "    - Factorial: factorial()\n",
        "    - Número combinatorio: choose(n,k)\n"
      ]
    },
    {
      "cell_type": "code",
      "metadata": {
        "id": "O4E1j5ngySMz",
        "colab": {
          "base_uri": "https://localhost:8080/",
          "height": 34
        },
        "outputId": "e3e2b310-da5e-447b-cee4-dec4678961bc"
      },
      "source": [
        "# En estas celdas pueden ejecutar código R. Las líneas que comiencen con '#' corresponden a comentarios y por ende no son ejecutables\n",
        "# Shift + Enter : ejecuta el código de la celda y pasan a la celda siguiente.\n",
        "1+1\n"
      ],
      "execution_count": 1,
      "outputs": [
        {
          "output_type": "display_data",
          "data": {
            "text/html": [
              "2"
            ],
            "text/markdown": "2",
            "text/latex": "2",
            "text/plain": [
              "[1] 2"
            ]
          },
          "metadata": {}
        }
      ]
    },
    {
      "cell_type": "code",
      "source": [],
      "metadata": {
        "id": "GnpsivPLj-sf"
      },
      "execution_count": null,
      "outputs": []
    },
    {
      "cell_type": "code",
      "source": [
        "round(3.78956,2)\n",
        "trunc(3.78956)\n",
        "floor(3.78956) # El entero menor mas cercano\n",
        "ceiling(3.78956) # Entero mayor mas cercano"
      ],
      "metadata": {
        "id": "-arfMNXNjh8E",
        "outputId": "3298a7c9-5ffa-466a-9536-f1c9cf22b8ae",
        "colab": {
          "base_uri": "https://localhost:8080/",
          "height": 86
        }
      },
      "execution_count": 8,
      "outputs": [
        {
          "output_type": "display_data",
          "data": {
            "text/html": [
              "3.79"
            ],
            "text/markdown": "3.79",
            "text/latex": "3.79",
            "text/plain": [
              "[1] 3.79"
            ]
          },
          "metadata": {}
        },
        {
          "output_type": "display_data",
          "data": {
            "text/html": [
              "3"
            ],
            "text/markdown": "3",
            "text/latex": "3",
            "text/plain": [
              "[1] 3"
            ]
          },
          "metadata": {}
        },
        {
          "output_type": "display_data",
          "data": {
            "text/html": [
              "3"
            ],
            "text/markdown": "3",
            "text/latex": "3",
            "text/plain": [
              "[1] 3"
            ]
          },
          "metadata": {}
        },
        {
          "output_type": "display_data",
          "data": {
            "text/html": [
              "4"
            ],
            "text/markdown": "4",
            "text/latex": "4",
            "text/plain": [
              "[1] 4"
            ]
          },
          "metadata": {}
        }
      ]
    },
    {
      "cell_type": "markdown",
      "metadata": {
        "id": "fvcIxMW4ySM5"
      },
      "source": [
        "## 2. Variables y tipos de datos\n",
        "\n",
        "En R es posible distintos tipos de datos u objetos en símbolos llamados variables (en R todo es en esencia un objeto).<br>\n",
        "La manera más sencilla de asignar un objeto a una variable es mediante la función \"<-\". Los tipos de datos más utilizados en R corresponden a :\n",
        "    \n",
        "    integer   \n",
        "    double  \n",
        "    logical   \n",
        "    character\n",
        "    factor  \n",
        "    date\n",
        "\n",
        "A diferencia de otros lenguajes de programación, no es necesario declarar explicitamente el tipo de dato que almacenará una variable (R es inteligente!)"
      ]
    },
    {
      "cell_type": "code",
      "metadata": {
        "id": "LUgwYSvMySM5",
        "cellView": "both"
      },
      "source": [
        "# Podemos definir distintas variables\n",
        "a <- 3.15\n",
        "b <- 5\n"
      ],
      "execution_count": 9,
      "outputs": []
    },
    {
      "cell_type": "code",
      "source": [
        "a+b"
      ],
      "metadata": {
        "id": "9ApdL-D6krsF",
        "outputId": "27469b8a-7475-4122-bad4-351048f76926",
        "colab": {
          "base_uri": "https://localhost:8080/",
          "height": 34
        }
      },
      "execution_count": 10,
      "outputs": [
        {
          "output_type": "display_data",
          "data": {
            "text/html": [
              "8.15"
            ],
            "text/markdown": "8.15",
            "text/latex": "8.15",
            "text/plain": [
              "[1] 8.15"
            ]
          },
          "metadata": {}
        }
      ]
    },
    {
      "cell_type": "code",
      "source": [
        "p <- \"H\"\n",
        "p12 <- 'Hola'"
      ],
      "metadata": {
        "id": "Tqaatwztkwdq"
      },
      "execution_count": 11,
      "outputs": []
    },
    {
      "cell_type": "code",
      "source": [
        "p\n",
        "p12"
      ],
      "metadata": {
        "id": "hEmQZIcukp_U",
        "outputId": "af42f771-8b48-44bc-f414-1f333515fd5d",
        "colab": {
          "base_uri": "https://localhost:8080/",
          "height": 52
        }
      },
      "execution_count": 13,
      "outputs": [
        {
          "output_type": "display_data",
          "data": {
            "text/html": [
              "'H'"
            ],
            "text/markdown": "'H'",
            "text/latex": "'H'",
            "text/plain": [
              "[1] \"H\""
            ]
          },
          "metadata": {}
        },
        {
          "output_type": "display_data",
          "data": {
            "text/html": [
              "'Hola'"
            ],
            "text/markdown": "'Hola'",
            "text/latex": "'Hola'",
            "text/plain": [
              "[1] \"Hola\""
            ]
          },
          "metadata": {}
        }
      ]
    },
    {
      "cell_type": "code",
      "metadata": {
        "id": "2lqK4mChySM-"
      },
      "source": [
        "# strings(character)\n"
      ],
      "execution_count": null,
      "outputs": []
    },
    {
      "cell_type": "code",
      "metadata": {
        "id": "TvnfvFZFySNC",
        "outputId": "daa04941-55d7-49cd-b192-e52bb3d1fee4",
        "colab": {
          "base_uri": "https://localhost:8080/",
          "height": 52
        }
      },
      "source": [
        "# valores lógicos (logical)\n",
        "TRUE\n",
        "FALSE"
      ],
      "execution_count": 14,
      "outputs": [
        {
          "output_type": "display_data",
          "data": {
            "text/html": [
              "TRUE"
            ],
            "text/markdown": "TRUE",
            "text/latex": "TRUE",
            "text/plain": [
              "[1] TRUE"
            ]
          },
          "metadata": {}
        },
        {
          "output_type": "display_data",
          "data": {
            "text/html": [
              "FALSE"
            ],
            "text/markdown": "FALSE",
            "text/latex": "FALSE",
            "text/plain": [
              "[1] FALSE"
            ]
          },
          "metadata": {}
        }
      ]
    },
    {
      "cell_type": "code",
      "source": [
        "verdad <- TRUE # se puede abreviar como T\n",
        "falso <- F"
      ],
      "metadata": {
        "id": "MsOjTO0NlWE2"
      },
      "execution_count": 15,
      "outputs": []
    },
    {
      "cell_type": "code",
      "source": [
        "# & : conjunción \"y\"\n",
        "# | : Disyunción \"o\"\n",
        "\n"
      ],
      "metadata": {
        "id": "mGNspg2ulcil"
      },
      "execution_count": null,
      "outputs": []
    },
    {
      "cell_type": "code",
      "metadata": {
        "id": "n-cknpq2N1UO",
        "outputId": "7c7f238b-0c7e-4817-ec53-98566681c80a",
        "colab": {
          "base_uri": "https://localhost:8080/",
          "height": 34
        }
      },
      "source": [
        "verdad & falso\n"
      ],
      "execution_count": 16,
      "outputs": [
        {
          "output_type": "display_data",
          "data": {
            "text/html": [
              "FALSE"
            ],
            "text/markdown": "FALSE",
            "text/latex": "FALSE",
            "text/plain": [
              "[1] FALSE"
            ]
          },
          "metadata": {}
        }
      ]
    },
    {
      "cell_type": "code",
      "source": [
        "verdad | falso"
      ],
      "metadata": {
        "id": "VUTDZbKqlqOk",
        "outputId": "c37feb2b-ca81-4982-fbe2-c4a9ac9f8d4d",
        "colab": {
          "base_uri": "https://localhost:8080/",
          "height": 34
        }
      },
      "execution_count": 17,
      "outputs": [
        {
          "output_type": "display_data",
          "data": {
            "text/html": [
              "TRUE"
            ],
            "text/markdown": "TRUE",
            "text/latex": "TRUE",
            "text/plain": [
              "[1] TRUE"
            ]
          },
          "metadata": {}
        }
      ]
    },
    {
      "cell_type": "code",
      "metadata": {
        "id": "5TaXp2j8ySNK",
        "outputId": "0dce0988-be85-484b-e478-391b50d2534c",
        "colab": {
          "base_uri": "https://localhost:8080/",
          "height": 34
        }
      },
      "source": [
        "# Podemos comparar la igualdad lógica entre dos valores mendiante \"==\"\n",
        "\n",
        "T & F == F\n"
      ],
      "execution_count": 18,
      "outputs": [
        {
          "output_type": "display_data",
          "data": {
            "text/html": [
              "TRUE"
            ],
            "text/markdown": "TRUE",
            "text/latex": "TRUE",
            "text/plain": [
              "[1] TRUE"
            ]
          },
          "metadata": {}
        }
      ]
    },
    {
      "cell_type": "code",
      "source": [
        "10+1 == 11"
      ],
      "metadata": {
        "id": "zIbb1MNnmXmI",
        "outputId": "ab04a981-9a4f-44aa-f8f4-725015513755",
        "colab": {
          "base_uri": "https://localhost:8080/",
          "height": 34
        }
      },
      "execution_count": 19,
      "outputs": [
        {
          "output_type": "display_data",
          "data": {
            "text/html": [
              "TRUE"
            ],
            "text/markdown": "TRUE",
            "text/latex": "TRUE",
            "text/plain": [
              "[1] TRUE"
            ]
          },
          "metadata": {}
        }
      ]
    },
    {
      "cell_type": "code",
      "source": [
        "F|T == F"
      ],
      "metadata": {
        "id": "nPUQ2ZkpmaS3",
        "outputId": "0a897d9e-8171-458d-e52c-7e9a5d75928d",
        "colab": {
          "base_uri": "https://localhost:8080/",
          "height": 34
        }
      },
      "execution_count": 20,
      "outputs": [
        {
          "output_type": "display_data",
          "data": {
            "text/html": [
              "FALSE"
            ],
            "text/markdown": "FALSE",
            "text/latex": "FALSE",
            "text/plain": [
              "[1] FALSE"
            ]
          },
          "metadata": {}
        }
      ]
    },
    {
      "cell_type": "code",
      "source": [],
      "metadata": {
        "id": "XUX-SU_tmhPN"
      },
      "execution_count": null,
      "outputs": []
    },
    {
      "cell_type": "code",
      "metadata": {
        "id": "3mq1eAigySNN",
        "outputId": "3c19d10b-7cfd-4953-ceaf-ce6c47964ec6",
        "colab": {
          "base_uri": "https://localhost:8080/",
          "height": 52
        }
      },
      "source": [
        "# Podemos evaluar la no igualdad con \"!=\" (es distinto de)\n",
        "3 != 3\n",
        "\n",
        "2 != 1\n",
        "\n",
        "\n"
      ],
      "execution_count": 22,
      "outputs": [
        {
          "output_type": "display_data",
          "data": {
            "text/html": [
              "FALSE"
            ],
            "text/markdown": "FALSE",
            "text/latex": "FALSE",
            "text/plain": [
              "[1] FALSE"
            ]
          },
          "metadata": {}
        },
        {
          "output_type": "display_data",
          "data": {
            "text/html": [
              "TRUE"
            ],
            "text/markdown": "TRUE",
            "text/latex": "TRUE",
            "text/plain": [
              "[1] TRUE"
            ]
          },
          "metadata": {}
        }
      ]
    },
    {
      "cell_type": "code",
      "source": [
        "# Podemos asignar con la flechita en los dos sentidos\n",
        "var <- \"SOY MIGUEL\"\n",
        "\"JORQUERA VIGUERA\" -> var2 # No es una buena práctica"
      ],
      "metadata": {
        "id": "iDiMFRh0mu7z"
      },
      "execution_count": 24,
      "outputs": []
    },
    {
      "cell_type": "code",
      "source": [
        "var\n",
        "var2"
      ],
      "metadata": {
        "id": "JSK0CNxfm3t0",
        "outputId": "85d08481-bb72-47a6-cac3-ee7d55245837",
        "colab": {
          "base_uri": "https://localhost:8080/",
          "height": 52
        }
      },
      "execution_count": 25,
      "outputs": [
        {
          "output_type": "display_data",
          "data": {
            "text/html": [
              "'SOY MIGUEL'"
            ],
            "text/markdown": "'SOY MIGUEL'",
            "text/latex": "'SOY MIGUEL'",
            "text/plain": [
              "[1] \"SOY MIGUEL\""
            ]
          },
          "metadata": {}
        },
        {
          "output_type": "display_data",
          "data": {
            "text/html": [
              "'JORQUERA VIGUERA'"
            ],
            "text/markdown": "'JORQUERA VIGUERA'",
            "text/latex": "'JORQUERA VIGUERA'",
            "text/plain": [
              "[1] \"JORQUERA VIGUERA\""
            ]
          },
          "metadata": {}
        }
      ]
    },
    {
      "cell_type": "code",
      "source": [
        "?round"
      ],
      "metadata": {
        "id": "4ihmLgGbnNrt"
      },
      "execution_count": 26,
      "outputs": []
    },
    {
      "cell_type": "code",
      "source": [
        "round(x = 3.78956, digits = 2)"
      ],
      "metadata": {
        "id": "xpS3XTCrng3-",
        "outputId": "186090aa-c9d9-4801-c983-a4ab280b9ee0",
        "colab": {
          "base_uri": "https://localhost:8080/",
          "height": 34
        }
      },
      "execution_count": 27,
      "outputs": [
        {
          "output_type": "display_data",
          "data": {
            "text/html": [
              "3.79"
            ],
            "text/markdown": "3.79",
            "text/latex": "3.79",
            "text/plain": [
              "[1] 3.79"
            ]
          },
          "metadata": {}
        }
      ]
    },
    {
      "cell_type": "code",
      "source": [
        "round(3.78956, 2)"
      ],
      "metadata": {
        "id": "llfxoXshno11",
        "outputId": "069c5edc-95dc-4199-d65a-885030709deb",
        "colab": {
          "base_uri": "https://localhost:8080/",
          "height": 34
        }
      },
      "execution_count": 28,
      "outputs": [
        {
          "output_type": "display_data",
          "data": {
            "text/html": [
              "3.79"
            ],
            "text/markdown": "3.79",
            "text/latex": "3.79",
            "text/plain": [
              "[1] 3.79"
            ]
          },
          "metadata": {}
        }
      ]
    },
    {
      "cell_type": "code",
      "source": [
        "d1 <- 2"
      ],
      "metadata": {
        "id": "iUBW61EfoC_S"
      },
      "execution_count": 31,
      "outputs": []
    },
    {
      "cell_type": "code",
      "source": [
        "round(digits = d1, x = 3.78956)\n"
      ],
      "metadata": {
        "id": "HNu1GwTfnu5w",
        "outputId": "384494b9-e97f-439a-d60b-e313cf02578e",
        "colab": {
          "base_uri": "https://localhost:8080/",
          "height": 34
        }
      },
      "execution_count": 32,
      "outputs": [
        {
          "output_type": "display_data",
          "data": {
            "text/html": [
              "3.79"
            ],
            "text/markdown": "3.79",
            "text/latex": "3.79",
            "text/plain": [
              "[1] 3.79"
            ]
          },
          "metadata": {}
        }
      ]
    },
    {
      "cell_type": "code",
      "source": [
        "round(2,3.78956)"
      ],
      "metadata": {
        "id": "_ggbN2XQn1PM",
        "outputId": "4e61c854-4ffd-4dd2-f4af-11a4da64e531",
        "colab": {
          "base_uri": "https://localhost:8080/",
          "height": 34
        }
      },
      "execution_count": 33,
      "outputs": [
        {
          "output_type": "display_data",
          "data": {
            "text/html": [
              "2.1235"
            ],
            "text/markdown": "2.1235",
            "text/latex": "2.1235",
            "text/plain": [
              "[1] 2.1235"
            ]
          },
          "metadata": {}
        }
      ]
    },
    {
      "cell_type": "code",
      "source": [
        "variable <- round(x = 3.78956, digits = 2)"
      ],
      "metadata": {
        "id": "3_AMT7G5o3zr"
      },
      "execution_count": 42,
      "outputs": []
    },
    {
      "cell_type": "code",
      "metadata": {
        "id": "crOp1-6HySNP",
        "outputId": "924e60ea-96ac-434e-ef7b-b0bac909c24b",
        "colab": {
          "base_uri": "https://localhost:8080/",
          "height": 34
        }
      },
      "source": [
        "# podemos realizar comparaciones aritméticas\n",
        "3 > -10\n"
      ],
      "execution_count": 34,
      "outputs": [
        {
          "output_type": "display_data",
          "data": {
            "text/html": [
              "TRUE"
            ],
            "text/markdown": "TRUE",
            "text/latex": "TRUE",
            "text/plain": [
              "[1] TRUE"
            ]
          },
          "metadata": {}
        }
      ]
    },
    {
      "cell_type": "code",
      "source": [
        "1+1 >= 2"
      ],
      "metadata": {
        "id": "yKx6gGc-pVZl",
        "outputId": "004aa156-7f2f-4bc9-ff26-dddaa8ddcc2d",
        "colab": {
          "base_uri": "https://localhost:8080/",
          "height": 34
        }
      },
      "execution_count": 35,
      "outputs": [
        {
          "output_type": "display_data",
          "data": {
            "text/html": [
              "TRUE"
            ],
            "text/markdown": "TRUE",
            "text/latex": "TRUE",
            "text/plain": [
              "[1] TRUE"
            ]
          },
          "metadata": {}
        }
      ]
    },
    {
      "cell_type": "code",
      "source": [
        "10 > 5"
      ],
      "metadata": {
        "id": "zLqyjgJ2pXr1",
        "outputId": "dd81bd6e-8c51-467b-f7fa-976fdb42631a",
        "colab": {
          "base_uri": "https://localhost:8080/",
          "height": 34
        }
      },
      "execution_count": 36,
      "outputs": [
        {
          "output_type": "display_data",
          "data": {
            "text/html": [
              "TRUE"
            ],
            "text/markdown": "TRUE",
            "text/latex": "TRUE",
            "text/plain": [
              "[1] TRUE"
            ]
          },
          "metadata": {}
        }
      ]
    },
    {
      "cell_type": "code",
      "metadata": {
        "id": "HZ9EQNrQySNS",
        "outputId": "800e87ce-d9ec-40db-88a5-454ef2df1ce8",
        "colab": {
          "base_uri": "https://localhost:8080/",
          "height": 34
        }
      },
      "source": [
        "# NOTA:valor infinito\n",
        "\n",
        "Inf\n"
      ],
      "execution_count": 37,
      "outputs": [
        {
          "output_type": "display_data",
          "data": {
            "text/html": [
              "Inf"
            ],
            "text/markdown": "Inf",
            "text/latex": "Inf",
            "text/plain": [
              "[1] Inf"
            ]
          },
          "metadata": {}
        }
      ]
    },
    {
      "cell_type": "code",
      "source": [
        "Inf + Inf"
      ],
      "metadata": {
        "id": "hc8uVrMIpjlm",
        "outputId": "e757b4d0-db99-47a6-ae57-5775623a740e",
        "colab": {
          "base_uri": "https://localhost:8080/",
          "height": 34
        }
      },
      "execution_count": 38,
      "outputs": [
        {
          "output_type": "display_data",
          "data": {
            "text/html": [
              "Inf"
            ],
            "text/markdown": "Inf",
            "text/latex": "Inf",
            "text/plain": [
              "[1] Inf"
            ]
          },
          "metadata": {}
        }
      ]
    },
    {
      "cell_type": "code",
      "source": [
        "Inf*Inf"
      ],
      "metadata": {
        "id": "j20-6NaqpnD3",
        "outputId": "551c3d8a-4a0b-4a28-bedf-bef1960f5cd3",
        "colab": {
          "base_uri": "https://localhost:8080/",
          "height": 34
        }
      },
      "execution_count": 40,
      "outputs": [
        {
          "output_type": "display_data",
          "data": {
            "text/html": [
              "Inf"
            ],
            "text/markdown": "Inf",
            "text/latex": "Inf",
            "text/plain": [
              "[1] Inf"
            ]
          },
          "metadata": {}
        }
      ]
    },
    {
      "cell_type": "code",
      "metadata": {
        "id": "H8JAnUETySNc",
        "outputId": "95d77f72-db50-4a80-ae9d-9df619084319",
        "colab": {
          "base_uri": "https://localhost:8080/",
          "height": 34
        }
      },
      "source": [
        "variable\n"
      ],
      "execution_count": 43,
      "outputs": [
        {
          "output_type": "display_data",
          "data": {
            "text/html": [
              "3.79"
            ],
            "text/markdown": "3.79",
            "text/latex": "3.79",
            "text/plain": [
              "[1] 3.79"
            ]
          },
          "metadata": {}
        }
      ]
    },
    {
      "cell_type": "code",
      "source": [
        "8/0\n"
      ],
      "metadata": {
        "id": "4xWpIBTtp_pu",
        "outputId": "5486c8fc-4157-4c85-856a-b1467e605b81",
        "colab": {
          "base_uri": "https://localhost:8080/",
          "height": 34
        }
      },
      "execution_count": 46,
      "outputs": [
        {
          "output_type": "display_data",
          "data": {
            "text/html": [
              "Inf"
            ],
            "text/markdown": "Inf",
            "text/latex": "Inf",
            "text/plain": [
              "[1] Inf"
            ]
          },
          "metadata": {}
        }
      ]
    },
    {
      "cell_type": "code",
      "source": [
        "0/0 #Not a number"
      ],
      "metadata": {
        "id": "h2ndfOKvqHPq",
        "outputId": "c0295eb5-1a3d-4cbf-cd77-8d2247aa7dd5",
        "colab": {
          "base_uri": "https://localhost:8080/",
          "height": 34
        }
      },
      "execution_count": 47,
      "outputs": [
        {
          "output_type": "display_data",
          "data": {
            "text/html": [
              "NaN"
            ],
            "text/markdown": "NaN",
            "text/latex": "NaN",
            "text/plain": [
              "[1] NaN"
            ]
          },
          "metadata": {}
        }
      ]
    },
    {
      "cell_type": "code",
      "metadata": {
        "id": "ujQiJGcbySNe",
        "outputId": "cba98378-1f44-419a-98ec-03cdd7ba4acc",
        "colab": {
          "base_uri": "https://localhost:8080/",
          "height": 86
        }
      },
      "source": [
        "no_fecha <- \"2024-04-11\"\n",
        "no_fecha\n",
        "# date\n",
        "\n",
        "# NOTA: podemos preguntarnos por la clase del dato almacenado en una variable\n",
        "class(no_fecha)\n",
        "\n",
        "# coercionamos a clase date\n",
        "fecha <- as.Date(no_fecha)\n",
        "fecha\n",
        "\n",
        "class(fecha)\n"
      ],
      "execution_count": 53,
      "outputs": [
        {
          "output_type": "display_data",
          "data": {
            "text/html": [
              "'2024-04-11'"
            ],
            "text/markdown": "'2024-04-11'",
            "text/latex": "'2024-04-11'",
            "text/plain": [
              "[1] \"2024-04-11\""
            ]
          },
          "metadata": {}
        },
        {
          "output_type": "display_data",
          "data": {
            "text/html": [
              "'character'"
            ],
            "text/markdown": "'character'",
            "text/latex": "'character'",
            "text/plain": [
              "[1] \"character\""
            ]
          },
          "metadata": {}
        },
        {
          "output_type": "display_data",
          "data": {
            "text/html": [
              "<time datetime=\"2024-04-11\">2024-04-11</time>"
            ],
            "text/markdown": "2024-04-11",
            "text/latex": "2024-04-11",
            "text/plain": [
              "[1] \"2024-04-11\""
            ]
          },
          "metadata": {}
        },
        {
          "output_type": "display_data",
          "data": {
            "text/html": [
              "'Date'"
            ],
            "text/markdown": "'Date'",
            "text/latex": "'Date'",
            "text/plain": [
              "[1] \"Date\""
            ]
          },
          "metadata": {}
        }
      ]
    },
    {
      "cell_type": "code",
      "source": [
        "fecha + 30 # ya ganamos algo de lógica con este tipo de dato  podemos sumar días a la fecha."
      ],
      "metadata": {
        "id": "2bDnuDj-rp9S",
        "outputId": "d876d54f-16ec-43d3-90ef-1085ff0b36fd",
        "colab": {
          "base_uri": "https://localhost:8080/",
          "height": 34
        }
      },
      "execution_count": 55,
      "outputs": [
        {
          "output_type": "display_data",
          "data": {
            "text/html": [
              "<time datetime=\"2024-05-11\">2024-05-11</time>"
            ],
            "text/markdown": "2024-05-11",
            "text/latex": "2024-05-11",
            "text/plain": [
              "[1] \"2024-05-11\""
            ]
          },
          "metadata": {}
        }
      ]
    },
    {
      "cell_type": "code",
      "metadata": {
        "id": "IuoyidKOySNn",
        "outputId": "433381b7-2710-40d0-c8e1-9b96eab63e68",
        "colab": {
          "base_uri": "https://localhost:8080/",
          "height": 34
        }
      },
      "source": [
        "# Observación: Inmutabilidad de variables en R.\n",
        "(r <- 10)"
      ],
      "execution_count": 77,
      "outputs": [
        {
          "output_type": "display_data",
          "data": {
            "text/html": [
              "10"
            ],
            "text/markdown": "10",
            "text/latex": "10",
            "text/plain": [
              "[1] 10"
            ]
          },
          "metadata": {}
        }
      ]
    },
    {
      "cell_type": "code",
      "source": [
        "(y <- r + 1)"
      ],
      "metadata": {
        "id": "hzxGxYtosKzg",
        "outputId": "1d150817-df29-41b1-da0b-93bfe0869db6",
        "colab": {
          "base_uri": "https://localhost:8080/",
          "height": 34
        }
      },
      "execution_count": 78,
      "outputs": [
        {
          "output_type": "display_data",
          "data": {
            "text/html": [
              "11"
            ],
            "text/markdown": "11",
            "text/latex": "11",
            "text/plain": [
              "[1] 11"
            ]
          },
          "metadata": {}
        }
      ]
    },
    {
      "cell_type": "code",
      "source": [
        "(r <- 11)"
      ],
      "metadata": {
        "id": "NZC0QETLsQll",
        "outputId": "922238fa-f0b6-4b47-b70d-10b35927192c",
        "colab": {
          "base_uri": "https://localhost:8080/",
          "height": 34
        }
      },
      "execution_count": 79,
      "outputs": [
        {
          "output_type": "display_data",
          "data": {
            "text/html": [
              "11"
            ],
            "text/markdown": "11",
            "text/latex": "11",
            "text/plain": [
              "[1] 11"
            ]
          },
          "metadata": {}
        }
      ]
    },
    {
      "cell_type": "code",
      "metadata": {
        "id": "9Fao-xGlySNr",
        "outputId": "5497d532-17f4-4935-ca75-b56697b7fb36",
        "colab": {
          "base_uri": "https://localhost:8080/",
          "height": 34
        }
      },
      "source": [
        "# ¿Qué valor tiene y?\n",
        "y\n",
        "# en R las asignaciones por defecto se realizan por valor y no por referencia.\n",
        "\n",
        "\n",
        "\n"
      ],
      "execution_count": 80,
      "outputs": [
        {
          "output_type": "display_data",
          "data": {
            "text/html": [
              "11"
            ],
            "text/markdown": "11",
            "text/latex": "11",
            "text/plain": [
              "[1] 11"
            ]
          },
          "metadata": {}
        }
      ]
    },
    {
      "cell_type": "code",
      "source": [
        "y <- r + 1\n",
        "y"
      ],
      "metadata": {
        "id": "Ja0Yuj0gtwj7",
        "outputId": "9ff8ad0a-4d2e-4635-f244-dad94009f844",
        "colab": {
          "base_uri": "https://localhost:8080/",
          "height": 34
        }
      },
      "execution_count": 82,
      "outputs": [
        {
          "output_type": "display_data",
          "data": {
            "text/html": [
              "12"
            ],
            "text/markdown": "12",
            "text/latex": "12",
            "text/plain": [
              "[1] 12"
            ]
          },
          "metadata": {}
        }
      ]
    },
    {
      "cell_type": "code",
      "source": [
        "no_fecha\n",
        "#l1 # no_fecha funciona como string\n",
        "#l2 # no_fecha funciona como string\n",
        "#l3 # no_fecha funciona como string\n"
      ],
      "metadata": {
        "id": "ensn_wgmtCKO",
        "outputId": "07201d51-39ea-4048-e565-9d569e9c09ba",
        "colab": {
          "base_uri": "https://localhost:8080/",
          "height": 34
        }
      },
      "execution_count": 71,
      "outputs": [
        {
          "output_type": "display_data",
          "data": {
            "text/html": [
              "'2024-04-11'"
            ],
            "text/markdown": "'2024-04-11'",
            "text/latex": "'2024-04-11'",
            "text/plain": [
              "[1] \"2024-04-11\""
            ]
          },
          "metadata": {}
        }
      ]
    },
    {
      "cell_type": "code",
      "source": [
        "no_fecha <- as.Date(no_fecha)\n",
        "no_fecha\n",
        "#l4 #no_fecha funcione como Date\n",
        "#l5 #no_fecha funcione como Date\n",
        "#l6 #no_fecha funcione como Date"
      ],
      "metadata": {
        "id": "lCUmi3-qtzeZ",
        "outputId": "cf054b2b-d84b-4036-d271-c0286e46086f",
        "colab": {
          "base_uri": "https://localhost:8080/",
          "height": 34
        }
      },
      "execution_count": 72,
      "outputs": [
        {
          "output_type": "display_data",
          "data": {
            "text/html": [
              "<time datetime=\"2024-04-11\">2024-04-11</time>"
            ],
            "text/markdown": "2024-04-11",
            "text/latex": "2024-04-11",
            "text/plain": [
              "[1] \"2024-04-11\""
            ]
          },
          "metadata": {}
        }
      ]
    },
    {
      "cell_type": "code",
      "source": [
        "no_fecha <- as.character(no_fecha)\n",
        "no_fecha\n",
        "#l11 # no_fecha funciona como string\n",
        "#l12 # no_fecha funciona como string\n",
        "#l13 # no_fecha funciona como string"
      ],
      "metadata": {
        "id": "3a_NCXgNuABm",
        "outputId": "5fdabb24-37ac-442d-fed8-8f3468d45e4a",
        "colab": {
          "base_uri": "https://localhost:8080/",
          "height": 34
        }
      },
      "execution_count": 73,
      "outputs": [
        {
          "output_type": "display_data",
          "data": {
            "text/html": [
              "'2024-04-11'"
            ],
            "text/markdown": "'2024-04-11'",
            "text/latex": "'2024-04-11'",
            "text/plain": [
              "[1] \"2024-04-11\""
            ]
          },
          "metadata": {}
        }
      ]
    },
    {
      "cell_type": "code",
      "source": [
        "# NOTA\n",
        "?as.Date\n"
      ],
      "metadata": {
        "id": "2AssKgjwuOar"
      },
      "execution_count": 74,
      "outputs": []
    },
    {
      "cell_type": "code",
      "source": [],
      "metadata": {
        "id": "8JX-zRX5yR6D"
      },
      "execution_count": null,
      "outputs": []
    },
    {
      "cell_type": "code",
      "source": [
        "as.Date(\"02-2024/27\", format = \"%m-%Y/%d\")"
      ],
      "metadata": {
        "id": "KsUySrdsu6qv",
        "outputId": "fc16c476-f419-4a5e-eadf-ef572eff75fc",
        "colab": {
          "base_uri": "https://localhost:8080/",
          "height": 34
        }
      },
      "execution_count": 76,
      "outputs": [
        {
          "output_type": "display_data",
          "data": {
            "text/html": [
              "<time datetime=\"2024-02-27\">2024-02-27</time>"
            ],
            "text/markdown": "2024-02-27",
            "text/latex": "2024-02-27",
            "text/plain": [
              "[1] \"2024-02-27\""
            ]
          },
          "metadata": {}
        }
      ]
    },
    {
      "cell_type": "markdown",
      "metadata": {
        "id": "tDPGo6PyySNu"
      },
      "source": [
        "### Observación:\n",
        "\n",
        "   1. Cada vez que se define una variable en R, esta queda almacenada en memoria. Una manera de limpiar las variables que se han definido en memoria, es a través de la función rm().\n",
        "   2. Documentación de R. Cada vez que se quiera acceder a la documentación de una librería o función en particular, se puede tipear \"?\" o \"help()\".\n",
        "   3. Cada vez que se define una nueva variable con el mismo nombre, esta simplemente actualiza su valor.\n",
        "    "
      ]
    },
    {
      "cell_type": "code",
      "metadata": {
        "id": "EHevI0LlySNv",
        "outputId": "1e826f20-f298-4199-f0fa-5ce652845286",
        "colab": {
          "base_uri": "https://localhost:8080/",
          "height": 34
        }
      },
      "source": [
        "ls() # retorna un vector con los nombres de todas las variables definidas en el ambiente\n"
      ],
      "execution_count": 83,
      "outputs": [
        {
          "output_type": "display_data",
          "data": {
            "text/html": [
              "<style>\n",
              ".list-inline {list-style: none; margin:0; padding: 0}\n",
              ".list-inline>li {display: inline-block}\n",
              ".list-inline>li:not(:last-child)::after {content: \"\\00b7\"; padding: 0 .5ex}\n",
              "</style>\n",
              "<ol class=list-inline><li>'a'</li><li>'b'</li><li>'d1'</li><li>'falso'</li><li>'fecha'</li><li>'no_fecha'</li><li>'p'</li><li>'p12'</li><li>'r'</li><li>'var'</li><li>'var2'</li><li>'variable'</li><li>'verdad'</li><li>'y'</li></ol>\n"
            ],
            "text/markdown": "1. 'a'\n2. 'b'\n3. 'd1'\n4. 'falso'\n5. 'fecha'\n6. 'no_fecha'\n7. 'p'\n8. 'p12'\n9. 'r'\n10. 'var'\n11. 'var2'\n12. 'variable'\n13. 'verdad'\n14. 'y'\n\n\n",
            "text/latex": "\\begin{enumerate*}\n\\item 'a'\n\\item 'b'\n\\item 'd1'\n\\item 'falso'\n\\item 'fecha'\n\\item 'no\\_fecha'\n\\item 'p'\n\\item 'p12'\n\\item 'r'\n\\item 'var'\n\\item 'var2'\n\\item 'variable'\n\\item 'verdad'\n\\item 'y'\n\\end{enumerate*}\n",
            "text/plain": [
              " [1] \"a\"        \"b\"        \"d1\"       \"falso\"    \"fecha\"    \"no_fecha\"\n",
              " [7] \"p\"        \"p12\"      \"r\"        \"var\"      \"var2\"     \"variable\"\n",
              "[13] \"verdad\"   \"y\"       "
            ]
          },
          "metadata": {}
        }
      ]
    },
    {
      "cell_type": "code",
      "metadata": {
        "id": "UJq0dPSIySNx"
      },
      "source": [
        "# remueva algunas de las variables generadas anteriormente\n",
        "rm('no_fecha')"
      ],
      "execution_count": 84,
      "outputs": []
    },
    {
      "cell_type": "code",
      "source": [
        "ls()"
      ],
      "metadata": {
        "id": "tRFi2x-IyPaS",
        "outputId": "02c71280-8656-40aa-d2dc-be27ed5e6cc1",
        "colab": {
          "base_uri": "https://localhost:8080/",
          "height": 34
        }
      },
      "execution_count": 85,
      "outputs": [
        {
          "output_type": "display_data",
          "data": {
            "text/html": [
              "<style>\n",
              ".list-inline {list-style: none; margin:0; padding: 0}\n",
              ".list-inline>li {display: inline-block}\n",
              ".list-inline>li:not(:last-child)::after {content: \"\\00b7\"; padding: 0 .5ex}\n",
              "</style>\n",
              "<ol class=list-inline><li>'a'</li><li>'b'</li><li>'d1'</li><li>'falso'</li><li>'fecha'</li><li>'p'</li><li>'p12'</li><li>'r'</li><li>'var'</li><li>'var2'</li><li>'variable'</li><li>'verdad'</li><li>'y'</li></ol>\n"
            ],
            "text/markdown": "1. 'a'\n2. 'b'\n3. 'd1'\n4. 'falso'\n5. 'fecha'\n6. 'p'\n7. 'p12'\n8. 'r'\n9. 'var'\n10. 'var2'\n11. 'variable'\n12. 'verdad'\n13. 'y'\n\n\n",
            "text/latex": "\\begin{enumerate*}\n\\item 'a'\n\\item 'b'\n\\item 'd1'\n\\item 'falso'\n\\item 'fecha'\n\\item 'p'\n\\item 'p12'\n\\item 'r'\n\\item 'var'\n\\item 'var2'\n\\item 'variable'\n\\item 'verdad'\n\\item 'y'\n\\end{enumerate*}\n",
            "text/plain": [
              " [1] \"a\"        \"b\"        \"d1\"       \"falso\"    \"fecha\"    \"p\"       \n",
              " [7] \"p12\"      \"r\"        \"var\"      \"var2\"     \"variable\" \"verdad\"  \n",
              "[13] \"y\"       "
            ]
          },
          "metadata": {}
        }
      ]
    },
    {
      "cell_type": "code",
      "source": [
        "no_fecha"
      ],
      "metadata": {
        "id": "BuxI9bkuySt7",
        "outputId": "004d59b5-f92e-4cd8-98cc-ba2ddd7c56a9",
        "colab": {
          "base_uri": "https://localhost:8080/",
          "height": 72
        }
      },
      "execution_count": 86,
      "outputs": [
        {
          "output_type": "error",
          "ename": "ERROR",
          "evalue": "Error in eval(expr, envir, enclos): object 'no_fecha' not found\n",
          "traceback": [
            "Error in eval(expr, envir, enclos): object 'no_fecha' not found\nTraceback:\n"
          ]
        }
      ]
    },
    {
      "cell_type": "code",
      "source": [
        "rm(p12) # si se remueve solo una variable puede ser ingresada como string o no"
      ],
      "metadata": {
        "id": "qLlZnuGvyWPo"
      },
      "execution_count": 88,
      "outputs": []
    },
    {
      "cell_type": "code",
      "source": [
        "p12"
      ],
      "metadata": {
        "id": "yiXASneNymQV",
        "outputId": "614949b4-e471-403a-ceda-e0a4c1052f38",
        "colab": {
          "base_uri": "https://localhost:8080/",
          "height": 72
        }
      },
      "execution_count": 89,
      "outputs": [
        {
          "output_type": "error",
          "ename": "ERROR",
          "evalue": "Error in eval(expr, envir, enclos): object 'p12' not found\n",
          "traceback": [
            "Error in eval(expr, envir, enclos): object 'p12' not found\nTraceback:\n"
          ]
        }
      ]
    },
    {
      "cell_type": "code",
      "source": [
        "rm(list = c(\"variable\", \"verdad\",\"falso\"))"
      ],
      "metadata": {
        "id": "8GfWM7OUyqff"
      },
      "execution_count": 91,
      "outputs": []
    },
    {
      "cell_type": "code",
      "source": [
        "ls()"
      ],
      "metadata": {
        "id": "n-yIXCvhzCuQ",
        "outputId": "fa20f13d-1e66-46d4-da66-a3d9e3880ffc",
        "colab": {
          "base_uri": "https://localhost:8080/",
          "height": 34
        }
      },
      "execution_count": 92,
      "outputs": [
        {
          "output_type": "display_data",
          "data": {
            "text/html": [
              "<style>\n",
              ".list-inline {list-style: none; margin:0; padding: 0}\n",
              ".list-inline>li {display: inline-block}\n",
              ".list-inline>li:not(:last-child)::after {content: \"\\00b7\"; padding: 0 .5ex}\n",
              "</style>\n",
              "<ol class=list-inline><li>'a'</li><li>'b'</li><li>'d1'</li><li>'fecha'</li><li>'p'</li><li>'r'</li><li>'var'</li><li>'var2'</li><li>'y'</li></ol>\n"
            ],
            "text/markdown": "1. 'a'\n2. 'b'\n3. 'd1'\n4. 'fecha'\n5. 'p'\n6. 'r'\n7. 'var'\n8. 'var2'\n9. 'y'\n\n\n",
            "text/latex": "\\begin{enumerate*}\n\\item 'a'\n\\item 'b'\n\\item 'd1'\n\\item 'fecha'\n\\item 'p'\n\\item 'r'\n\\item 'var'\n\\item 'var2'\n\\item 'y'\n\\end{enumerate*}\n",
            "text/plain": [
              "[1] \"a\"     \"b\"     \"d1\"    \"fecha\" \"p\"     \"r\"     \"var\"   \"var2\"  \"y\"    "
            ]
          },
          "metadata": {}
        }
      ]
    },
    {
      "cell_type": "code",
      "source": [
        "rm(list = ls())"
      ],
      "metadata": {
        "id": "AlJVv83YzG5E"
      },
      "execution_count": 93,
      "outputs": []
    },
    {
      "cell_type": "code",
      "source": [
        "ls()"
      ],
      "metadata": {
        "id": "WfBmzAOwzP4S",
        "outputId": "6e88313f-3485-4fcd-8ea2-9f9e5df10433",
        "colab": {
          "base_uri": "https://localhost:8080/",
          "height": 17
        }
      },
      "execution_count": 94,
      "outputs": [
        {
          "output_type": "display_data",
          "data": {
            "text/html": [],
            "text/markdown": "",
            "text/latex": "",
            "text/plain": [
              "character(0)"
            ]
          },
          "metadata": {}
        }
      ]
    },
    {
      "cell_type": "markdown",
      "metadata": {
        "id": "qVG7GGScySN5"
      },
      "source": [
        "### 2.1. Missing values\n",
        "\n",
        "En R, existen tipos de datos especiales para caracterizar la ausencia o la no definición de una variable. Los valores especiales que maneja R son NA, NaN, Inf, -Inf."
      ]
    },
    {
      "cell_type": "code",
      "metadata": {
        "id": "o60_IFkbySN5"
      },
      "source": [
        "# 2.1. Missing Values ------------\n",
        "# Acá se explica la diferencia entre ellos y cómo reconocerlos.\n",
        "NA # Not available -- es el Blank de excel o el null de SQL .\n",
        "NaN # not a Number\n",
        "Inf\n",
        "\n",
        "\n"
      ],
      "execution_count": null,
      "outputs": []
    },
    {
      "cell_type": "code",
      "source": [
        "#filtra donde el apellido2 sea NA\n",
        "2 == NA"
      ],
      "metadata": {
        "id": "V0u6_kmHz6hB",
        "outputId": "fb0b3607-08c9-449b-8446-eb934adbffee",
        "colab": {
          "base_uri": "https://localhost:8080/",
          "height": 34
        }
      },
      "execution_count": 95,
      "outputs": [
        {
          "output_type": "display_data",
          "data": {
            "text/html": [
              "&lt;NA&gt;"
            ],
            "text/markdown": "&lt;NA&gt;",
            "text/latex": "<NA>",
            "text/plain": [
              "[1] NA"
            ]
          },
          "metadata": {}
        }
      ]
    },
    {
      "cell_type": "code",
      "source": [
        "NA == NA"
      ],
      "metadata": {
        "id": "7L-vQ_hT0S1X",
        "outputId": "5e079bfc-c927-4149-ce54-d91dbb0d91e3",
        "colab": {
          "base_uri": "https://localhost:8080/",
          "height": 34
        }
      },
      "execution_count": 96,
      "outputs": [
        {
          "output_type": "display_data",
          "data": {
            "text/html": [
              "&lt;NA&gt;"
            ],
            "text/markdown": "&lt;NA&gt;",
            "text/latex": "<NA>",
            "text/plain": [
              "[1] NA"
            ]
          },
          "metadata": {}
        }
      ]
    },
    {
      "cell_type": "code",
      "metadata": {
        "id": "_rbLuRSOZ7pM",
        "outputId": "f389ccca-5309-467b-bdd4-da9927c7c2b2",
        "colab": {
          "base_uri": "https://localhost:8080/",
          "height": 34
        }
      },
      "source": [
        "# para identificar un valor NA o NaN podemos utilizar la función is.na\n",
        "is.na(2)\n"
      ],
      "execution_count": 97,
      "outputs": [
        {
          "output_type": "display_data",
          "data": {
            "text/html": [
              "FALSE"
            ],
            "text/markdown": "FALSE",
            "text/latex": "FALSE",
            "text/plain": [
              "[1] FALSE"
            ]
          },
          "metadata": {}
        }
      ]
    },
    {
      "cell_type": "code",
      "source": [
        "is.na(NA)"
      ],
      "metadata": {
        "id": "dg-SU4qT0oJb",
        "outputId": "fb1f5841-98c9-402d-9a4a-bb241681c94c",
        "colab": {
          "base_uri": "https://localhost:8080/",
          "height": 34
        }
      },
      "execution_count": 98,
      "outputs": [
        {
          "output_type": "display_data",
          "data": {
            "text/html": [
              "TRUE"
            ],
            "text/markdown": "TRUE",
            "text/latex": "TRUE",
            "text/plain": [
              "[1] TRUE"
            ]
          },
          "metadata": {}
        }
      ]
    },
    {
      "cell_type": "code",
      "source": [
        "is.nan(2)"
      ],
      "metadata": {
        "id": "pEAdGfLU0s6J",
        "outputId": "0ec2e85e-e609-4afd-aafc-36578a866fab",
        "colab": {
          "base_uri": "https://localhost:8080/",
          "height": 34
        }
      },
      "execution_count": 99,
      "outputs": [
        {
          "output_type": "display_data",
          "data": {
            "text/html": [
              "FALSE"
            ],
            "text/markdown": "FALSE",
            "text/latex": "FALSE",
            "text/plain": [
              "[1] FALSE"
            ]
          },
          "metadata": {}
        }
      ]
    },
    {
      "cell_type": "code",
      "source": [
        "is.na(NaN)\n",
        "is.nan(NA)"
      ],
      "metadata": {
        "id": "CXBhDIMp0v3T",
        "outputId": "c199b635-68f2-4e4f-921f-d398c1f25fcb",
        "colab": {
          "base_uri": "https://localhost:8080/",
          "height": 52
        }
      },
      "execution_count": 101,
      "outputs": [
        {
          "output_type": "display_data",
          "data": {
            "text/html": [
              "TRUE"
            ],
            "text/markdown": "TRUE",
            "text/latex": "TRUE",
            "text/plain": [
              "[1] TRUE"
            ]
          },
          "metadata": {}
        },
        {
          "output_type": "display_data",
          "data": {
            "text/html": [
              "FALSE"
            ],
            "text/markdown": "FALSE",
            "text/latex": "FALSE",
            "text/plain": [
              "[1] FALSE"
            ]
          },
          "metadata": {}
        }
      ]
    }
  ]
}